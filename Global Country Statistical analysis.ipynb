{
 "cells": [
  {
   "cell_type": "markdown",
   "id": "1dad3685",
   "metadata": {},
   "source": [
    "# Global Country Analysis I"
   ]
  },
  {
   "cell_type": "markdown",
   "id": "dbb3c4ea",
   "metadata": {},
   "source": [
    "Welcome to our comprehensive data analysis of global statistics by country. This report explores a wide range of socio-economic indicators, revealing insightful global trends and patterns. Through data visualization using charts and graphs, we aim to present an objective view of the global landscape.\n",
    "\n",
    "Our analysis delves into population demographics, economic growth, health, and environmental factors. By identifying correlations and outliers, we seek to provide valuable insights for decision-makers, policymakers, and researchers.\n",
    "\n",
    "This data-driven exploration is vital for fostering international cooperation and addressing global challenges."
   ]
  },
  {
   "cell_type": "markdown",
   "id": "7bcaf688",
   "metadata": {},
   "source": [
    "In the table below, you can see the attributes available and a brief description on what kind of information they convey."
   ]
  },
  {
   "cell_type": "markdown",
   "id": "acf63495",
   "metadata": {},
   "source": [
    "| Attribute                                | Country                     |\n",
    "|-----------------------------|-----------------|\n",
    "| **Density (P/Km2)** | Population density measured in persons per square kilometer |\n",
    "| **Abbreviation**               | Abbreviation or code representing the country |\n",
    "| **Agricultural Land (%)**  | Percentage of land area used for agricultural purposes |\n",
    "| **Land Area (Km2)**        | Total land area of the country in square kilometers |\n",
    "| **Armed Forces Size**     | Size of the armed forces in the country |\n",
    "| **Birth Rate**                  | Number of births per 1,000 population per year |\n",
    "| **Calling Code**              | International calling code for the country |\n",
    "| **Capital/Major City**     | Name of the capital or major city |\n",
    "| **CO2 Emissions**          | Carbon dioxide emissions in tons |\n",
    "| **CPI**                             | Consumer Price Index, a measure of inflation and purchasing power |\n",
    "| **CPI Change (%)**        | Percentage change in the Consumer Price Index compared to the previous year |\n",
    "| **Currency_Code**          | Currency code used in the country |\n",
    "| **Fertility Rate**             | Average number of children born to a woman during her lifetime |\n",
    "| **Forested Area (%)**   | Percentage of land area covered by forests |\n",
    "| **Gasoline_Price**        | Price of gasoline per liter in local currency |\n",
    "| **GDP**                          | Gross Domestic Product, the total value of goods and services produced in the country |\n",
    "| **Gross Primary Education Enrollment (%)** | Gross enrollment ratio for primary education |\n",
    "| **Gross Tertiary Education Enrollment (%)** | Gross enrollment ratio for tertiary education |\n",
    "| **Infant Mortality**           | Number of deaths per 1,000 live births before reaching one year of age |\n",
    "| **Largest City**                | Name of the country's largest city |\n",
    "| **Life Expectancy**            | Average number of years a newborn is expected to live |\n",
    "| **Maternal Mortality Ratio** | Number of maternal deaths per 100,000 live births |\n",
    "| **Minimum Wage**           | Minimum wage level in local currency |\n",
    "| **Official Language**         | Official language(s) spoken in the country |\n",
    "| **Out of Pocket Health Expenditure (%)** | Percentage of total health expenditure paid out-of-pocket by individuals |\n",
    "| **Physicians per Thousand** | Number of physicians per thousand people |\n",
    "| **Population**                   | Total population of the country |\n",
    "| **Population: Labor Force Participation (%)** | Percentage of the population that is part of the labor force |\n",
    "| **Tax Revenue (%)**          | Tax revenue as a percentage of GDP |\n",
    "| **Total Tax Rate**             | Overall tax burden as a percentage of commercial profits |\n",
    "| **Unemployment Rate**     | Percentage of the labor force that is unemployed |\n",
    "| **Urban Population**       | Percentage of the population living in urban areas |\n",
    "| **Latitude**                      | Latitude coordinate of the country's location |\n",
    "| **Longitude**                  | Longitude coordinate of the country's location |\n"
   ]
  },
  {
   "cell_type": "markdown",
   "id": "777747eb",
   "metadata": {},
   "source": [
    "Below, we are going to import relevant libraries for this job, and also define some helpful functions that are going to be used afterwards."
   ]
  },
  {
   "cell_type": "code",
   "execution_count": 12,
   "id": "70ca40ac",
   "metadata": {},
   "outputs": [
    {
     "data": {
      "text/html": [
       "        <script type=\"text/javascript\">\n",
       "        window.PlotlyConfig = {MathJaxConfig: 'local'};\n",
       "        if (window.MathJax && window.MathJax.Hub && window.MathJax.Hub.Config) {window.MathJax.Hub.Config({SVG: {font: \"STIX-Web\"}});}\n",
       "        if (typeof require !== 'undefined') {\n",
       "        require.undef(\"plotly\");\n",
       "        requirejs.config({\n",
       "            paths: {\n",
       "                'plotly': ['https://cdn.plot.ly/plotly-2.12.1.min']\n",
       "            }\n",
       "        });\n",
       "        require(['plotly'], function(Plotly) {\n",
       "            window._Plotly = Plotly;\n",
       "        });\n",
       "        }\n",
       "        </script>\n",
       "        "
      ]
     },
     "metadata": {},
     "output_type": "display_data"
    }
   ],
   "source": [
    "# Importing Libraries\n",
    "\n",
    "# Data Handling\n",
    "import pandas as pd\n",
    "import numpy as np\n",
    "\n",
    "\n",
    "# Data Visualization\n",
    "import plotly.express as px\n",
    "import plotly.graph_objs as go\n",
    "import plotly.subplots as sp\n",
    "from plotly.subplots import make_subplots\n",
    "import plotly.figure_factory as ff\n",
    "from IPython.display import display\n",
    "from plotly.offline import init_notebook_mode\n",
    "init_notebook_mode(connected=True)\n",
    "\n",
    "# Statistics & Mathematics\n",
    "import scipy.stats as stats\n",
    "import math\n",
    "\n",
    "\n",
    "# Machine Learning Pipeline & process\n",
    "from sklearn.pipeline import Pipeline\n",
    "from sklearn.compose import ColumnTransformer\n",
    "from sklearn.base import BaseEstimator, TransformerMixin\n",
    "\n",
    "# Preprocessing data\n",
    "from sklearn.preprocessing import RobustScaler, StandardScaler\n",
    "\n",
    "# Model Selection for Cross Validation\n",
    "from sklearn.model_selection import StratifiedKFold, KFold, train_test_split\n",
    "\n",
    "# Machine Learning metrics\n",
    "from sklearn.metrics import mean_squared_error, r2_score\n",
    "\n",
    "# ML algorithms\n",
    "from sklearn.linear_model import LinearRegression\n",
    "from sklearn.ensemble import RandomForestRegressor, HistGradientBoostingRegressor, StackingRegressor, AdaBoostRegressor\n",
    "\n",
    "\n",
    "from sklearn.cluster import KMeans\n",
    "\n",
    "\n",
    "\n",
    "# Encoder of categorical variables\n",
    "from sklearn.preprocessing import OrdinalEncoder, OneHotEncoder\n",
    "\n",
    "from sklearn.preprocessing import MinMaxScaler"
   ]
  },
  {
   "cell_type": "code",
   "execution_count": 13,
   "id": "f45f2aa8",
   "metadata": {},
   "outputs": [
    {
     "name": "stdout",
     "output_type": "stream",
     "text": [
      "Requirement already satisfied: catboost in c:\\users\\owner\\anaconda3\\lib\\site-packages (1.2)\n",
      "Requirement already satisfied: matplotlib in c:\\users\\owner\\anaconda3\\lib\\site-packages (from catboost) (3.5.2)\n",
      "Requirement already satisfied: plotly in c:\\users\\owner\\anaconda3\\lib\\site-packages (from catboost) (5.9.0)\n",
      "Requirement already satisfied: scipy in c:\\users\\owner\\anaconda3\\lib\\site-packages (from catboost) (1.9.1)\n",
      "Requirement already satisfied: numpy>=1.16.0 in c:\\users\\owner\\anaconda3\\lib\\site-packages (from catboost) (1.21.5)\n",
      "Requirement already satisfied: pandas>=0.24 in c:\\users\\owner\\anaconda3\\lib\\site-packages (from catboost) (1.4.4)\n",
      "Requirement already satisfied: six in c:\\users\\owner\\anaconda3\\lib\\site-packages (from catboost) (1.16.0)\n",
      "Requirement already satisfied: graphviz in c:\\users\\owner\\anaconda3\\lib\\site-packages (from catboost) (0.20.1)\n",
      "Requirement already satisfied: pytz>=2020.1 in c:\\users\\owner\\anaconda3\\lib\\site-packages (from pandas>=0.24->catboost) (2022.1)\n",
      "Requirement already satisfied: python-dateutil>=2.8.1 in c:\\users\\owner\\anaconda3\\lib\\site-packages (from pandas>=0.24->catboost) (2.8.2)\n",
      "Requirement already satisfied: fonttools>=4.22.0 in c:\\users\\owner\\anaconda3\\lib\\site-packages (from matplotlib->catboost) (4.25.0)\n",
      "Requirement already satisfied: packaging>=20.0 in c:\\users\\owner\\anaconda3\\lib\\site-packages (from matplotlib->catboost) (21.3)\n",
      "Requirement already satisfied: cycler>=0.10 in c:\\users\\owner\\anaconda3\\lib\\site-packages (from matplotlib->catboost) (0.11.0)\n",
      "Requirement already satisfied: pyparsing>=2.2.1 in c:\\users\\owner\\anaconda3\\lib\\site-packages (from matplotlib->catboost) (3.0.9)\n",
      "Requirement already satisfied: kiwisolver>=1.0.1 in c:\\users\\owner\\anaconda3\\lib\\site-packages (from matplotlib->catboost) (1.4.2)\n",
      "Requirement already satisfied: pillow>=6.2.0 in c:\\users\\owner\\anaconda3\\lib\\site-packages (from matplotlib->catboost) (9.2.0)\n",
      "Requirement already satisfied: tenacity>=6.2.0 in c:\\users\\owner\\anaconda3\\lib\\site-packages (from plotly->catboost) (8.0.1)\n",
      "Note: you may need to restart the kernel to use updated packages.\n"
     ]
    }
   ],
   "source": [
    "pip install catboost\n"
   ]
  },
  {
   "cell_type": "code",
   "execution_count": 14,
   "id": "dff8931f",
   "metadata": {},
   "outputs": [
    {
     "name": "stdout",
     "output_type": "stream",
     "text": [
      "Requirement already satisfied: xgboost in c:\\users\\owner\\anaconda3\\lib\\site-packages (1.7.6)\n",
      "Requirement already satisfied: scipy in c:\\users\\owner\\anaconda3\\lib\\site-packages (from xgboost) (1.9.1)\n",
      "Requirement already satisfied: numpy in c:\\users\\owner\\anaconda3\\lib\\site-packages (from xgboost) (1.21.5)\n",
      "Note: you may need to restart the kernel to use updated packages.\n"
     ]
    }
   ],
   "source": [
    "pip install xgboost"
   ]
  },
  {
   "cell_type": "code",
   "execution_count": 15,
   "id": "b0d8fc82",
   "metadata": {},
   "outputs": [
    {
     "name": "stdout",
     "output_type": "stream",
     "text": [
      "Requirement already satisfied: lightgbm in c:\\users\\owner\\anaconda3\\lib\\site-packages (4.0.0)\n",
      "Requirement already satisfied: numpy in c:\\users\\owner\\anaconda3\\lib\\site-packages (from lightgbm) (1.21.5)\n",
      "Requirement already satisfied: scipy in c:\\users\\owner\\anaconda3\\lib\\site-packages (from lightgbm) (1.9.1)\n",
      "Note: you may need to restart the kernel to use updated packages.\n"
     ]
    }
   ],
   "source": [
    "pip install lightgbm"
   ]
  },
  {
   "cell_type": "code",
   "execution_count": 16,
   "id": "669d95ce",
   "metadata": {},
   "outputs": [
    {
     "name": "stdout",
     "output_type": "stream",
     "text": [
      "Requirement already satisfied: optuna in c:\\users\\owner\\anaconda3\\lib\\site-packages (3.2.0)\n",
      "Requirement already satisfied: alembic>=1.5.0 in c:\\users\\owner\\anaconda3\\lib\\site-packages (from optuna) (1.11.1)\n",
      "Requirement already satisfied: sqlalchemy>=1.3.0 in c:\\users\\owner\\anaconda3\\lib\\site-packages (from optuna) (1.4.39)\n",
      "Requirement already satisfied: PyYAML in c:\\users\\owner\\anaconda3\\lib\\site-packages (from optuna) (6.0)\n",
      "Requirement already satisfied: packaging>=20.0 in c:\\users\\owner\\anaconda3\\lib\\site-packages (from optuna) (21.3)\n",
      "Requirement already satisfied: colorlog in c:\\users\\owner\\anaconda3\\lib\\site-packages (from optuna) (6.7.0)\n",
      "Requirement already satisfied: numpy in c:\\users\\owner\\anaconda3\\lib\\site-packages (from optuna) (1.21.5)\n",
      "Requirement already satisfied: cmaes>=0.9.1 in c:\\users\\owner\\anaconda3\\lib\\site-packages (from optuna) (0.10.0)\n",
      "Requirement already satisfied: tqdm in c:\\users\\owner\\anaconda3\\lib\\site-packages (from optuna) (4.64.1)\n",
      "Requirement already satisfied: typing-extensions>=4 in c:\\users\\owner\\anaconda3\\lib\\site-packages (from alembic>=1.5.0->optuna) (4.3.0)\n",
      "Requirement already satisfied: Mako in c:\\users\\owner\\anaconda3\\lib\\site-packages (from alembic>=1.5.0->optuna) (1.2.4)\n",
      "Requirement already satisfied: pyparsing!=3.0.5,>=2.0.2 in c:\\users\\owner\\anaconda3\\lib\\site-packages (from packaging>=20.0->optuna) (3.0.9)\n",
      "Requirement already satisfied: greenlet!=0.4.17 in c:\\users\\owner\\anaconda3\\lib\\site-packages (from sqlalchemy>=1.3.0->optuna) (1.1.1)\n",
      "Requirement already satisfied: colorama in c:\\users\\owner\\anaconda3\\lib\\site-packages (from colorlog->optuna) (0.4.5)\n",
      "Requirement already satisfied: MarkupSafe>=0.9.2 in c:\\users\\owner\\anaconda3\\lib\\site-packages (from Mako->alembic>=1.5.0->optuna) (2.0.1)\n",
      "Note: you may need to restart the kernel to use updated packages.\n"
     ]
    }
   ],
   "source": [
    "pip install optuna"
   ]
  },
  {
   "cell_type": "code",
   "execution_count": 17,
   "id": "26310f67",
   "metadata": {},
   "outputs": [],
   "source": [
    "from catboost import CatBoostRegressor\n",
    "from xgboost import XGBRegressor\n",
    "from lightgbm import LGBMRegressor\n",
    "import optuna\n",
    "# Hiding warnings \n",
    "import warnings\n",
    "warnings.filterwarnings(\"ignore\")"
   ]
  },
  {
   "cell_type": "code",
   "execution_count": 18,
   "id": "fcb8fa0d",
   "metadata": {},
   "outputs": [],
   "source": [
    "df = pd.read_csv(\"world-data-2023.csv\")"
   ]
  },
  {
   "cell_type": "markdown",
   "id": "dc92c500",
   "metadata": {},
   "source": [
    "### Defining Functions\n"
   ]
  },
  {
   "cell_type": "code",
   "execution_count": 19,
   "id": "d7d5368a",
   "metadata": {},
   "outputs": [],
   "source": [
    "def dataframe_description(df):\n",
    "    \"\"\"\n",
    "    This function prints some basic info on the dataset.\n",
    "    \"\"\"\n",
    "    categorical_features = []\n",
    "    continuous_features = []\n",
    "    binary_features = []\n",
    "    \n",
    "    for col in df.columns:\n",
    "        if df[col].dtype == object:\n",
    "            categorical_features.append(col)\n",
    "        else:\n",
    "            if df[col].nunique() <= 2:\n",
    "                binary_features.append(col)\n",
    "            else:\n",
    "                continuous_features.append(col)\n",
    "    \n",
    "    print(\"\\n{} shape: {}\".format(type(df).__name__, df.shape))\n",
    "    print(\"\\n{:,.0f} samples\".format(df.shape[0]))\n",
    "    print(\"\\n{:,.0f} attributes\".format(df.shape[1]))\n",
    "    print(f'\\nMissing Data: \\n')\n",
    "    print(df.isnull().sum())\n",
    "    print(f'\\nDuplicates: {df.duplicated().sum()}')\n",
    "    print(f'\\nData types: \\n')\n",
    "    print(df.dtypes)\n",
    "    print(f'\\nCategorical features: \\n')\n",
    "    if len(categorical_features) == 0:\n",
    "        print('No Categorical Features')\n",
    "    else:\n",
    "        for feature in categorical_features:\n",
    "            print(feature)\n",
    "    print(f'\\nContinuous features: \\n')\n",
    "    if len(continuous_features) == 0:\n",
    "        print('No Continuous Features')\n",
    "    else:\n",
    "        for feature in continuous_features:\n",
    "            print(feature)\n",
    "    print(f'\\nBinary features: \\n')\n",
    "    if len(binary_features) == 0:\n",
    "        print('No Binary Features')\n",
    "    else:\n",
    "        for feature in binary_features:\n",
    "            print(feature)\n",
    "    print(f'\\n{type(df).__name__} Head: \\n')\n",
    "    display(df.head(5))\n",
    "    print(f'\\n{type(df).__name__} Tail: \\n')\n",
    "    display(df.tail(5))"
   ]
  },
  {
   "cell_type": "code",
   "execution_count": 20,
   "id": "60437bf7",
   "metadata": {},
   "outputs": [],
   "source": [
    "def remove_symbols(cell_data):\n",
    "    if isinstance(cell_data, str):\n",
    "        # Check for \"$\" and \",\" in the cell_data\n",
    "        if \"$\" in cell_data:\n",
    "            cell_data = cell_data.replace(\"$\", \"\")\n",
    "        if \",\" in cell_data:\n",
    "            cell_data = cell_data.replace(\",\", \"\")\n",
    "        if \"%\" in cell_data:\n",
    "            cell_data = cell_data.replace(\"%\", \"\")\n",
    "    return cell_data"
   ]
  },
  {
   "cell_type": "code",
   "execution_count": 21,
   "id": "48bde5bb",
   "metadata": {},
   "outputs": [],
   "source": [
    "## function to convert numerical cells from strings to floats\n",
    "\n",
    "def num_to_float(cell):\n",
    "    if isinstance(cell, (int, float)):\n",
    "        return float(cell)\n",
    "    try:\n",
    "        return float(cell)\n",
    "    except (ValueError, TypeError):\n",
    "        return cell"
   ]
  },
  {
   "cell_type": "code",
   "execution_count": 22,
   "id": "20dde21c",
   "metadata": {},
   "outputs": [],
   "source": [
    "def top10_barplot(df, feat):    \n",
    "    \n",
    "    '''\n",
    "    This function is supposed to organize the 15 top value counts of any attribute and plot a Barplot\n",
    "    '''\n",
    "    '''sort the list by top 10 values order descending'''\n",
    "    df_sorted = df.sort_values(by=f'{feat}', ascending=False)\n",
    "    top10 = df_sorted[feat].head(10)\n",
    "    fig = px.bar(y=top10.values, \n",
    "                 x=top10.index, \n",
    "                 color = top10.index,\n",
    "                 text=top10.values)\n",
    "\n",
    "    fig.update_layout(title=f'<b>Top 10 highest {feat}<br> <sup> Barplot</sup></b>',\n",
    "                      xaxis=dict(title=f'{feat}'),\n",
    "                      yaxis=dict(title='Count'),\n",
    "                      legend=dict(title=f'{feat}'),\n",
    "                      showlegend=True,\n",
    "                      height=600,\n",
    "                      width=1000,\n",
    "                      margin=dict(t=100, l=80),\n",
    "                      template='plotly_white')\n",
    "    fig.show()"
   ]
  },
  {
   "cell_type": "markdown",
   "id": "32d797bb",
   "metadata": {},
   "source": [
    "## Exploratory Data Analysis"
   ]
  },
  {
   "cell_type": "code",
   "execution_count": 23,
   "id": "fc616a48",
   "metadata": {
    "scrolled": false
   },
   "outputs": [
    {
     "name": "stdout",
     "output_type": "stream",
     "text": [
      "\n",
      "DataFrame shape: (195, 35)\n",
      "\n",
      "195 samples\n",
      "\n",
      "35 attributes\n",
      "\n",
      "Missing Data: \n",
      "\n",
      "Country                                       0\n",
      "Density\\n(P/Km2)                              0\n",
      "Abbreviation                                  7\n",
      "Agricultural Land( %)                         7\n",
      "Land Area(Km2)                                1\n",
      "Armed Forces size                            24\n",
      "Birth Rate                                    6\n",
      "Calling Code                                  1\n",
      "Capital/Major City                            3\n",
      "Co2-Emissions                                 7\n",
      "CPI                                          17\n",
      "CPI Change (%)                               16\n",
      "Currency-Code                                15\n",
      "Fertility Rate                                7\n",
      "Forested Area (%)                             7\n",
      "Gasoline Price                               20\n",
      "GDP                                           2\n",
      "Gross primary education enrollment (%)        7\n",
      "Gross tertiary education enrollment (%)      12\n",
      "Infant mortality                              6\n",
      "Largest city                                  6\n",
      "Life expectancy                               8\n",
      "Maternal mortality ratio                     14\n",
      "Minimum wage                                 45\n",
      "Official language                             1\n",
      "Out of pocket health expenditure              7\n",
      "Physicians per thousand                       7\n",
      "Population                                    1\n",
      "Population: Labor force participation (%)    19\n",
      "Tax revenue (%)                              26\n",
      "Total tax rate                               12\n",
      "Unemployment rate                            19\n",
      "Urban_population                              5\n",
      "Latitude                                      1\n",
      "Longitude                                     1\n",
      "dtype: int64\n",
      "\n",
      "Duplicates: 0\n",
      "\n",
      "Data types: \n",
      "\n",
      "Country                                       object\n",
      "Density\\n(P/Km2)                              object\n",
      "Abbreviation                                  object\n",
      "Agricultural Land( %)                         object\n",
      "Land Area(Km2)                                object\n",
      "Armed Forces size                             object\n",
      "Birth Rate                                   float64\n",
      "Calling Code                                 float64\n",
      "Capital/Major City                            object\n",
      "Co2-Emissions                                 object\n",
      "CPI                                           object\n",
      "CPI Change (%)                                object\n",
      "Currency-Code                                 object\n",
      "Fertility Rate                               float64\n",
      "Forested Area (%)                             object\n",
      "Gasoline Price                                object\n",
      "GDP                                           object\n",
      "Gross primary education enrollment (%)        object\n",
      "Gross tertiary education enrollment (%)       object\n",
      "Infant mortality                             float64\n",
      "Largest city                                  object\n",
      "Life expectancy                              float64\n",
      "Maternal mortality ratio                     float64\n",
      "Minimum wage                                  object\n",
      "Official language                             object\n",
      "Out of pocket health expenditure              object\n",
      "Physicians per thousand                      float64\n",
      "Population                                    object\n",
      "Population: Labor force participation (%)     object\n",
      "Tax revenue (%)                               object\n",
      "Total tax rate                                object\n",
      "Unemployment rate                             object\n",
      "Urban_population                              object\n",
      "Latitude                                     float64\n",
      "Longitude                                    float64\n",
      "dtype: object\n",
      "\n",
      "Categorical features: \n",
      "\n",
      "Country\n",
      "Density\n",
      "(P/Km2)\n",
      "Abbreviation\n",
      "Agricultural Land( %)\n",
      "Land Area(Km2)\n",
      "Armed Forces size\n",
      "Capital/Major City\n",
      "Co2-Emissions\n",
      "CPI\n",
      "CPI Change (%)\n",
      "Currency-Code\n",
      "Forested Area (%)\n",
      "Gasoline Price\n",
      "GDP\n",
      "Gross primary education enrollment (%)\n",
      "Gross tertiary education enrollment (%)\n",
      "Largest city\n",
      "Minimum wage\n",
      "Official language\n",
      "Out of pocket health expenditure\n",
      "Population\n",
      "Population: Labor force participation (%)\n",
      "Tax revenue (%)\n",
      "Total tax rate\n",
      "Unemployment rate\n",
      "Urban_population\n",
      "\n",
      "Continuous features: \n",
      "\n",
      "Birth Rate\n",
      "Calling Code\n",
      "Fertility Rate\n",
      "Infant mortality\n",
      "Life expectancy\n",
      "Maternal mortality ratio\n",
      "Physicians per thousand\n",
      "Latitude\n",
      "Longitude\n",
      "\n",
      "Binary features: \n",
      "\n",
      "No Binary Features\n",
      "\n",
      "DataFrame Head: \n",
      "\n"
     ]
    },
    {
     "data": {
      "text/html": [
       "<div>\n",
       "<style scoped>\n",
       "    .dataframe tbody tr th:only-of-type {\n",
       "        vertical-align: middle;\n",
       "    }\n",
       "\n",
       "    .dataframe tbody tr th {\n",
       "        vertical-align: top;\n",
       "    }\n",
       "\n",
       "    .dataframe thead th {\n",
       "        text-align: right;\n",
       "    }\n",
       "</style>\n",
       "<table border=\"1\" class=\"dataframe\">\n",
       "  <thead>\n",
       "    <tr style=\"text-align: right;\">\n",
       "      <th></th>\n",
       "      <th>Country</th>\n",
       "      <th>Density\\n(P/Km2)</th>\n",
       "      <th>Abbreviation</th>\n",
       "      <th>Agricultural Land( %)</th>\n",
       "      <th>Land Area(Km2)</th>\n",
       "      <th>Armed Forces size</th>\n",
       "      <th>Birth Rate</th>\n",
       "      <th>Calling Code</th>\n",
       "      <th>Capital/Major City</th>\n",
       "      <th>Co2-Emissions</th>\n",
       "      <th>...</th>\n",
       "      <th>Out of pocket health expenditure</th>\n",
       "      <th>Physicians per thousand</th>\n",
       "      <th>Population</th>\n",
       "      <th>Population: Labor force participation (%)</th>\n",
       "      <th>Tax revenue (%)</th>\n",
       "      <th>Total tax rate</th>\n",
       "      <th>Unemployment rate</th>\n",
       "      <th>Urban_population</th>\n",
       "      <th>Latitude</th>\n",
       "      <th>Longitude</th>\n",
       "    </tr>\n",
       "  </thead>\n",
       "  <tbody>\n",
       "    <tr>\n",
       "      <th>0</th>\n",
       "      <td>Afghanistan</td>\n",
       "      <td>60</td>\n",
       "      <td>AF</td>\n",
       "      <td>58.10%</td>\n",
       "      <td>652,230</td>\n",
       "      <td>323,000</td>\n",
       "      <td>32.49</td>\n",
       "      <td>93.0</td>\n",
       "      <td>Kabul</td>\n",
       "      <td>8,672</td>\n",
       "      <td>...</td>\n",
       "      <td>78.40%</td>\n",
       "      <td>0.28</td>\n",
       "      <td>38,041,754</td>\n",
       "      <td>48.90%</td>\n",
       "      <td>9.30%</td>\n",
       "      <td>71.40%</td>\n",
       "      <td>11.12%</td>\n",
       "      <td>9,797,273</td>\n",
       "      <td>33.939110</td>\n",
       "      <td>67.709953</td>\n",
       "    </tr>\n",
       "    <tr>\n",
       "      <th>1</th>\n",
       "      <td>Albania</td>\n",
       "      <td>105</td>\n",
       "      <td>AL</td>\n",
       "      <td>43.10%</td>\n",
       "      <td>28,748</td>\n",
       "      <td>9,000</td>\n",
       "      <td>11.78</td>\n",
       "      <td>355.0</td>\n",
       "      <td>Tirana</td>\n",
       "      <td>4,536</td>\n",
       "      <td>...</td>\n",
       "      <td>56.90%</td>\n",
       "      <td>1.20</td>\n",
       "      <td>2,854,191</td>\n",
       "      <td>55.70%</td>\n",
       "      <td>18.60%</td>\n",
       "      <td>36.60%</td>\n",
       "      <td>12.33%</td>\n",
       "      <td>1,747,593</td>\n",
       "      <td>41.153332</td>\n",
       "      <td>20.168331</td>\n",
       "    </tr>\n",
       "    <tr>\n",
       "      <th>2</th>\n",
       "      <td>Algeria</td>\n",
       "      <td>18</td>\n",
       "      <td>DZ</td>\n",
       "      <td>17.40%</td>\n",
       "      <td>2,381,741</td>\n",
       "      <td>317,000</td>\n",
       "      <td>24.28</td>\n",
       "      <td>213.0</td>\n",
       "      <td>Algiers</td>\n",
       "      <td>150,006</td>\n",
       "      <td>...</td>\n",
       "      <td>28.10%</td>\n",
       "      <td>1.72</td>\n",
       "      <td>43,053,054</td>\n",
       "      <td>41.20%</td>\n",
       "      <td>37.20%</td>\n",
       "      <td>66.10%</td>\n",
       "      <td>11.70%</td>\n",
       "      <td>31,510,100</td>\n",
       "      <td>28.033886</td>\n",
       "      <td>1.659626</td>\n",
       "    </tr>\n",
       "    <tr>\n",
       "      <th>3</th>\n",
       "      <td>Andorra</td>\n",
       "      <td>164</td>\n",
       "      <td>AD</td>\n",
       "      <td>40.00%</td>\n",
       "      <td>468</td>\n",
       "      <td>NaN</td>\n",
       "      <td>7.20</td>\n",
       "      <td>376.0</td>\n",
       "      <td>Andorra la Vella</td>\n",
       "      <td>469</td>\n",
       "      <td>...</td>\n",
       "      <td>36.40%</td>\n",
       "      <td>3.33</td>\n",
       "      <td>77,142</td>\n",
       "      <td>NaN</td>\n",
       "      <td>NaN</td>\n",
       "      <td>NaN</td>\n",
       "      <td>NaN</td>\n",
       "      <td>67,873</td>\n",
       "      <td>42.506285</td>\n",
       "      <td>1.521801</td>\n",
       "    </tr>\n",
       "    <tr>\n",
       "      <th>4</th>\n",
       "      <td>Angola</td>\n",
       "      <td>26</td>\n",
       "      <td>AO</td>\n",
       "      <td>47.50%</td>\n",
       "      <td>1,246,700</td>\n",
       "      <td>117,000</td>\n",
       "      <td>40.73</td>\n",
       "      <td>244.0</td>\n",
       "      <td>Luanda</td>\n",
       "      <td>34,693</td>\n",
       "      <td>...</td>\n",
       "      <td>33.40%</td>\n",
       "      <td>0.21</td>\n",
       "      <td>31,825,295</td>\n",
       "      <td>77.50%</td>\n",
       "      <td>9.20%</td>\n",
       "      <td>49.10%</td>\n",
       "      <td>6.89%</td>\n",
       "      <td>21,061,025</td>\n",
       "      <td>-11.202692</td>\n",
       "      <td>17.873887</td>\n",
       "    </tr>\n",
       "  </tbody>\n",
       "</table>\n",
       "<p>5 rows × 35 columns</p>\n",
       "</div>"
      ],
      "text/plain": [
       "       Country Density\\n(P/Km2) Abbreviation Agricultural Land( %)  \\\n",
       "0  Afghanistan               60           AF                58.10%   \n",
       "1      Albania              105           AL                43.10%   \n",
       "2      Algeria               18           DZ                17.40%   \n",
       "3      Andorra              164           AD                40.00%   \n",
       "4       Angola               26           AO                47.50%   \n",
       "\n",
       "  Land Area(Km2) Armed Forces size  Birth Rate  Calling Code  \\\n",
       "0        652,230           323,000       32.49          93.0   \n",
       "1         28,748             9,000       11.78         355.0   \n",
       "2      2,381,741           317,000       24.28         213.0   \n",
       "3            468               NaN        7.20         376.0   \n",
       "4      1,246,700           117,000       40.73         244.0   \n",
       "\n",
       "  Capital/Major City Co2-Emissions  ... Out of pocket health expenditure  \\\n",
       "0              Kabul         8,672  ...                           78.40%   \n",
       "1             Tirana         4,536  ...                           56.90%   \n",
       "2            Algiers       150,006  ...                           28.10%   \n",
       "3   Andorra la Vella           469  ...                           36.40%   \n",
       "4             Luanda        34,693  ...                           33.40%   \n",
       "\n",
       "  Physicians per thousand  Population  \\\n",
       "0                    0.28  38,041,754   \n",
       "1                    1.20   2,854,191   \n",
       "2                    1.72  43,053,054   \n",
       "3                    3.33      77,142   \n",
       "4                    0.21  31,825,295   \n",
       "\n",
       "   Population: Labor force participation (%) Tax revenue (%) Total tax rate  \\\n",
       "0                                     48.90%           9.30%         71.40%   \n",
       "1                                     55.70%          18.60%         36.60%   \n",
       "2                                     41.20%          37.20%         66.10%   \n",
       "3                                        NaN             NaN            NaN   \n",
       "4                                     77.50%           9.20%         49.10%   \n",
       "\n",
       "  Unemployment rate Urban_population   Latitude  Longitude  \n",
       "0            11.12%        9,797,273  33.939110  67.709953  \n",
       "1            12.33%        1,747,593  41.153332  20.168331  \n",
       "2            11.70%       31,510,100  28.033886   1.659626  \n",
       "3               NaN           67,873  42.506285   1.521801  \n",
       "4             6.89%       21,061,025 -11.202692  17.873887  \n",
       "\n",
       "[5 rows x 35 columns]"
      ]
     },
     "metadata": {},
     "output_type": "display_data"
    },
    {
     "name": "stdout",
     "output_type": "stream",
     "text": [
      "\n",
      "DataFrame Tail: \n",
      "\n"
     ]
    },
    {
     "data": {
      "text/html": [
       "<div>\n",
       "<style scoped>\n",
       "    .dataframe tbody tr th:only-of-type {\n",
       "        vertical-align: middle;\n",
       "    }\n",
       "\n",
       "    .dataframe tbody tr th {\n",
       "        vertical-align: top;\n",
       "    }\n",
       "\n",
       "    .dataframe thead th {\n",
       "        text-align: right;\n",
       "    }\n",
       "</style>\n",
       "<table border=\"1\" class=\"dataframe\">\n",
       "  <thead>\n",
       "    <tr style=\"text-align: right;\">\n",
       "      <th></th>\n",
       "      <th>Country</th>\n",
       "      <th>Density\\n(P/Km2)</th>\n",
       "      <th>Abbreviation</th>\n",
       "      <th>Agricultural Land( %)</th>\n",
       "      <th>Land Area(Km2)</th>\n",
       "      <th>Armed Forces size</th>\n",
       "      <th>Birth Rate</th>\n",
       "      <th>Calling Code</th>\n",
       "      <th>Capital/Major City</th>\n",
       "      <th>Co2-Emissions</th>\n",
       "      <th>...</th>\n",
       "      <th>Out of pocket health expenditure</th>\n",
       "      <th>Physicians per thousand</th>\n",
       "      <th>Population</th>\n",
       "      <th>Population: Labor force participation (%)</th>\n",
       "      <th>Tax revenue (%)</th>\n",
       "      <th>Total tax rate</th>\n",
       "      <th>Unemployment rate</th>\n",
       "      <th>Urban_population</th>\n",
       "      <th>Latitude</th>\n",
       "      <th>Longitude</th>\n",
       "    </tr>\n",
       "  </thead>\n",
       "  <tbody>\n",
       "    <tr>\n",
       "      <th>190</th>\n",
       "      <td>Venezuela</td>\n",
       "      <td>32</td>\n",
       "      <td>VE</td>\n",
       "      <td>24.50%</td>\n",
       "      <td>912,050</td>\n",
       "      <td>343,000</td>\n",
       "      <td>17.88</td>\n",
       "      <td>58.0</td>\n",
       "      <td>Caracas</td>\n",
       "      <td>164,175</td>\n",
       "      <td>...</td>\n",
       "      <td>45.80%</td>\n",
       "      <td>1.92</td>\n",
       "      <td>28,515,829</td>\n",
       "      <td>59.70%</td>\n",
       "      <td>NaN</td>\n",
       "      <td>73.30%</td>\n",
       "      <td>8.80%</td>\n",
       "      <td>25,162,368</td>\n",
       "      <td>6.423750</td>\n",
       "      <td>-66.589730</td>\n",
       "    </tr>\n",
       "    <tr>\n",
       "      <th>191</th>\n",
       "      <td>Vietnam</td>\n",
       "      <td>314</td>\n",
       "      <td>VN</td>\n",
       "      <td>39.30%</td>\n",
       "      <td>331,210</td>\n",
       "      <td>522,000</td>\n",
       "      <td>16.75</td>\n",
       "      <td>84.0</td>\n",
       "      <td>Hanoi</td>\n",
       "      <td>192,668</td>\n",
       "      <td>...</td>\n",
       "      <td>43.50%</td>\n",
       "      <td>0.82</td>\n",
       "      <td>96,462,106</td>\n",
       "      <td>77.40%</td>\n",
       "      <td>19.10%</td>\n",
       "      <td>37.60%</td>\n",
       "      <td>2.01%</td>\n",
       "      <td>35,332,140</td>\n",
       "      <td>14.058324</td>\n",
       "      <td>108.277199</td>\n",
       "    </tr>\n",
       "    <tr>\n",
       "      <th>192</th>\n",
       "      <td>Yemen</td>\n",
       "      <td>56</td>\n",
       "      <td>YE</td>\n",
       "      <td>44.60%</td>\n",
       "      <td>527,968</td>\n",
       "      <td>40,000</td>\n",
       "      <td>30.45</td>\n",
       "      <td>967.0</td>\n",
       "      <td>Sanaa</td>\n",
       "      <td>10,609</td>\n",
       "      <td>...</td>\n",
       "      <td>81.00%</td>\n",
       "      <td>0.31</td>\n",
       "      <td>29,161,922</td>\n",
       "      <td>38.00%</td>\n",
       "      <td>NaN</td>\n",
       "      <td>26.60%</td>\n",
       "      <td>12.91%</td>\n",
       "      <td>10,869,523</td>\n",
       "      <td>15.552727</td>\n",
       "      <td>48.516388</td>\n",
       "    </tr>\n",
       "    <tr>\n",
       "      <th>193</th>\n",
       "      <td>Zambia</td>\n",
       "      <td>25</td>\n",
       "      <td>ZM</td>\n",
       "      <td>32.10%</td>\n",
       "      <td>752,618</td>\n",
       "      <td>16,000</td>\n",
       "      <td>36.19</td>\n",
       "      <td>260.0</td>\n",
       "      <td>Lusaka</td>\n",
       "      <td>5,141</td>\n",
       "      <td>...</td>\n",
       "      <td>27.50%</td>\n",
       "      <td>1.19</td>\n",
       "      <td>17,861,030</td>\n",
       "      <td>74.60%</td>\n",
       "      <td>16.20%</td>\n",
       "      <td>15.60%</td>\n",
       "      <td>11.43%</td>\n",
       "      <td>7,871,713</td>\n",
       "      <td>-13.133897</td>\n",
       "      <td>27.849332</td>\n",
       "    </tr>\n",
       "    <tr>\n",
       "      <th>194</th>\n",
       "      <td>Zimbabwe</td>\n",
       "      <td>38</td>\n",
       "      <td>ZW</td>\n",
       "      <td>41.90%</td>\n",
       "      <td>390,757</td>\n",
       "      <td>51,000</td>\n",
       "      <td>30.68</td>\n",
       "      <td>263.0</td>\n",
       "      <td>Harare</td>\n",
       "      <td>10,983</td>\n",
       "      <td>...</td>\n",
       "      <td>25.80%</td>\n",
       "      <td>0.21</td>\n",
       "      <td>14,645,468</td>\n",
       "      <td>83.10%</td>\n",
       "      <td>20.70%</td>\n",
       "      <td>31.60%</td>\n",
       "      <td>4.95%</td>\n",
       "      <td>4,717,305</td>\n",
       "      <td>-19.015438</td>\n",
       "      <td>29.154857</td>\n",
       "    </tr>\n",
       "  </tbody>\n",
       "</table>\n",
       "<p>5 rows × 35 columns</p>\n",
       "</div>"
      ],
      "text/plain": [
       "       Country Density\\n(P/Km2) Abbreviation Agricultural Land( %)  \\\n",
       "190  Venezuela               32           VE                24.50%   \n",
       "191    Vietnam              314           VN                39.30%   \n",
       "192      Yemen               56           YE                44.60%   \n",
       "193     Zambia               25           ZM                32.10%   \n",
       "194   Zimbabwe               38           ZW                41.90%   \n",
       "\n",
       "    Land Area(Km2) Armed Forces size  Birth Rate  Calling Code  \\\n",
       "190        912,050           343,000       17.88          58.0   \n",
       "191        331,210           522,000       16.75          84.0   \n",
       "192        527,968            40,000       30.45         967.0   \n",
       "193        752,618            16,000       36.19         260.0   \n",
       "194        390,757            51,000       30.68         263.0   \n",
       "\n",
       "    Capital/Major City Co2-Emissions  ... Out of pocket health expenditure  \\\n",
       "190            Caracas       164,175  ...                           45.80%   \n",
       "191              Hanoi       192,668  ...                           43.50%   \n",
       "192              Sanaa        10,609  ...                           81.00%   \n",
       "193             Lusaka         5,141  ...                           27.50%   \n",
       "194             Harare        10,983  ...                           25.80%   \n",
       "\n",
       "    Physicians per thousand  Population  \\\n",
       "190                    1.92  28,515,829   \n",
       "191                    0.82  96,462,106   \n",
       "192                    0.31  29,161,922   \n",
       "193                    1.19  17,861,030   \n",
       "194                    0.21  14,645,468   \n",
       "\n",
       "     Population: Labor force participation (%) Tax revenue (%) Total tax rate  \\\n",
       "190                                     59.70%             NaN         73.30%   \n",
       "191                                     77.40%          19.10%         37.60%   \n",
       "192                                     38.00%             NaN         26.60%   \n",
       "193                                     74.60%          16.20%         15.60%   \n",
       "194                                     83.10%          20.70%         31.60%   \n",
       "\n",
       "    Unemployment rate Urban_population   Latitude   Longitude  \n",
       "190             8.80%       25,162,368   6.423750  -66.589730  \n",
       "191             2.01%       35,332,140  14.058324  108.277199  \n",
       "192            12.91%       10,869,523  15.552727   48.516388  \n",
       "193            11.43%        7,871,713 -13.133897   27.849332  \n",
       "194             4.95%        4,717,305 -19.015438   29.154857  \n",
       "\n",
       "[5 rows x 35 columns]"
      ]
     },
     "metadata": {},
     "output_type": "display_data"
    }
   ],
   "source": [
    "dataframe_description(df)"
   ]
  },
  {
   "cell_type": "markdown",
   "id": "36c3c883",
   "metadata": {},
   "source": [
    "## Data Cleaning"
   ]
  },
  {
   "cell_type": "markdown",
   "id": "c9fd6148",
   "metadata": {},
   "source": [
    "#### In order to conduct thorough exporatory analysis, we must first clean the data by doing the following:\n"
   ]
  },
  {
   "cell_type": "code",
   "execution_count": 24,
   "id": "feb2a00c",
   "metadata": {},
   "outputs": [],
   "source": [
    "# Changing data type from str to float\n",
    "column_to_float=['Density\\n(P/Km2)', 'Agricultural Land( %)','Land Area(Km2)',\n",
    "                 'Birth Rate', 'Co2-Emissions', 'Forested Area (%)',\n",
    "                 'CPI', 'CPI Change (%)', 'Fertility Rate', 'Gasoline Price','GDP',\n",
    "                 'Gross primary education enrollment (%)', \"Armed Forces size\",\n",
    "                 'Gross tertiary education enrollment (%)', 'Infant mortality',\n",
    "                 'Life expectancy', 'Maternal mortality ratio','Minimum wage', \n",
    "                 'Out of pocket health expenditure','Physicians per thousand', \n",
    "                 'Population','Population: Labor force participation (%)', \n",
    "                 'Tax revenue (%)','Total tax rate', 'Unemployment rate', 'Urban_population']\n",
    "\n",
    "for column in column_to_float:\n",
    "    # convert to string\n",
    "    df[column]=df[column].astype(str)\n",
    "    # remove commas\n",
    "    df[column]=df[column].str.replace(\",\",\"\")\n",
    "    # remove \"$\"\n",
    "    df[column]=df[column].str.replace(\"$\",\"\")\n",
    "    # Remove \"%\"\n",
    "    df[column]=df[column].str.replace(\"%\",\"\").astype(float)"
   ]
  },
  {
   "cell_type": "code",
   "execution_count": 25,
   "id": "c76073ec",
   "metadata": {},
   "outputs": [
    {
     "data": {
      "text/plain": [
       "Country                                       object\n",
       "Density\\n(P/Km2)                             float64\n",
       "Abbreviation                                  object\n",
       "Agricultural Land( %)                        float64\n",
       "Land Area(Km2)                               float64\n",
       "Armed Forces size                            float64\n",
       "Birth Rate                                   float64\n",
       "Calling Code                                 float64\n",
       "Capital/Major City                            object\n",
       "Co2-Emissions                                float64\n",
       "CPI                                          float64\n",
       "CPI Change (%)                               float64\n",
       "Currency-Code                                 object\n",
       "Fertility Rate                               float64\n",
       "Forested Area (%)                            float64\n",
       "Gasoline Price                               float64\n",
       "GDP                                          float64\n",
       "Gross primary education enrollment (%)       float64\n",
       "Gross tertiary education enrollment (%)      float64\n",
       "Infant mortality                             float64\n",
       "Largest city                                  object\n",
       "Life expectancy                              float64\n",
       "Maternal mortality ratio                     float64\n",
       "Minimum wage                                 float64\n",
       "Official language                             object\n",
       "Out of pocket health expenditure             float64\n",
       "Physicians per thousand                      float64\n",
       "Population                                   float64\n",
       "Population: Labor force participation (%)    float64\n",
       "Tax revenue (%)                              float64\n",
       "Total tax rate                               float64\n",
       "Unemployment rate                            float64\n",
       "Urban_population                             float64\n",
       "Latitude                                     float64\n",
       "Longitude                                    float64\n",
       "dtype: object"
      ]
     },
     "execution_count": 25,
     "metadata": {},
     "output_type": "execute_result"
    }
   ],
   "source": [
    "df.dtypes"
   ]
  },
  {
   "cell_type": "markdown",
   "id": "ef560946",
   "metadata": {},
   "source": [
    "## Feature Engineering\n"
   ]
  },
  {
   "cell_type": "code",
   "execution_count": 26,
   "id": "4fd338e9",
   "metadata": {},
   "outputs": [],
   "source": [
    "df['GDP_per_capita'] = df['GDP'] / df[\"Population\"]\n",
    "df['Armed_forces_per_capita'] = df[\"Armed Forces size\"]/df['Population']\n",
    "df['Urban_population_ratio'] = df['Urban_population']/df['Population']\n",
    "## C02 per capita\n",
    "df['C02_per_capita'] = df['Co2-Emissions']/df['Population']\n",
    "df['C02_per_urban_population'] = df['Co2-Emissions']/df['Urban_population']\n",
    "df['Agricultural Land(Km2)']=df['Agricultural Land( %)']*df['Land Area(Km2)']/100\n",
    "df['Forested Area(Km2)'] = df['Forested Area (%)']*df['Land Area(Km2)']/100\n"
   ]
  },
  {
   "cell_type": "code",
   "execution_count": 27,
   "id": "802ec641",
   "metadata": {},
   "outputs": [
    {
     "data": {
      "text/html": [
       "<div>\n",
       "<style scoped>\n",
       "    .dataframe tbody tr th:only-of-type {\n",
       "        vertical-align: middle;\n",
       "    }\n",
       "\n",
       "    .dataframe tbody tr th {\n",
       "        vertical-align: top;\n",
       "    }\n",
       "\n",
       "    .dataframe thead th {\n",
       "        text-align: right;\n",
       "    }\n",
       "</style>\n",
       "<table border=\"1\" class=\"dataframe\">\n",
       "  <thead>\n",
       "    <tr style=\"text-align: right;\">\n",
       "      <th></th>\n",
       "      <th>Country</th>\n",
       "      <th>Density\\n(P/Km2)</th>\n",
       "      <th>Abbreviation</th>\n",
       "      <th>Agricultural Land( %)</th>\n",
       "      <th>Land Area(Km2)</th>\n",
       "      <th>Armed Forces size</th>\n",
       "      <th>Birth Rate</th>\n",
       "      <th>Calling Code</th>\n",
       "      <th>Capital/Major City</th>\n",
       "      <th>Co2-Emissions</th>\n",
       "      <th>...</th>\n",
       "      <th>Urban_population</th>\n",
       "      <th>Latitude</th>\n",
       "      <th>Longitude</th>\n",
       "      <th>GDP_per_capita</th>\n",
       "      <th>Armed_forces_per_capita</th>\n",
       "      <th>Urban_population_ratio</th>\n",
       "      <th>C02_per_capita</th>\n",
       "      <th>C02_per_urban_population</th>\n",
       "      <th>Agricultural Land(Km2)</th>\n",
       "      <th>Forested Area(Km2)</th>\n",
       "    </tr>\n",
       "  </thead>\n",
       "  <tbody>\n",
       "    <tr>\n",
       "      <th>0</th>\n",
       "      <td>Afghanistan</td>\n",
       "      <td>60.0</td>\n",
       "      <td>AF</td>\n",
       "      <td>58.1</td>\n",
       "      <td>652230.0</td>\n",
       "      <td>323000.0</td>\n",
       "      <td>32.49</td>\n",
       "      <td>93.0</td>\n",
       "      <td>Kabul</td>\n",
       "      <td>8672.0</td>\n",
       "      <td>...</td>\n",
       "      <td>9797273.0</td>\n",
       "      <td>33.939110</td>\n",
       "      <td>67.709953</td>\n",
       "      <td>502.115487</td>\n",
       "      <td>0.008491</td>\n",
       "      <td>0.257540</td>\n",
       "      <td>0.000228</td>\n",
       "      <td>0.000885</td>\n",
       "      <td>378945.630</td>\n",
       "      <td>13696.830</td>\n",
       "    </tr>\n",
       "    <tr>\n",
       "      <th>1</th>\n",
       "      <td>Albania</td>\n",
       "      <td>105.0</td>\n",
       "      <td>AL</td>\n",
       "      <td>43.1</td>\n",
       "      <td>28748.0</td>\n",
       "      <td>9000.0</td>\n",
       "      <td>11.78</td>\n",
       "      <td>355.0</td>\n",
       "      <td>Tirana</td>\n",
       "      <td>4536.0</td>\n",
       "      <td>...</td>\n",
       "      <td>1747593.0</td>\n",
       "      <td>41.153332</td>\n",
       "      <td>20.168331</td>\n",
       "      <td>5352.857411</td>\n",
       "      <td>0.003153</td>\n",
       "      <td>0.612290</td>\n",
       "      <td>0.001589</td>\n",
       "      <td>0.002596</td>\n",
       "      <td>12390.388</td>\n",
       "      <td>8078.188</td>\n",
       "    </tr>\n",
       "    <tr>\n",
       "      <th>2</th>\n",
       "      <td>Algeria</td>\n",
       "      <td>18.0</td>\n",
       "      <td>DZ</td>\n",
       "      <td>17.4</td>\n",
       "      <td>2381741.0</td>\n",
       "      <td>317000.0</td>\n",
       "      <td>24.28</td>\n",
       "      <td>213.0</td>\n",
       "      <td>Algiers</td>\n",
       "      <td>150006.0</td>\n",
       "      <td>...</td>\n",
       "      <td>31510100.0</td>\n",
       "      <td>28.033886</td>\n",
       "      <td>1.659626</td>\n",
       "      <td>3948.343279</td>\n",
       "      <td>0.007363</td>\n",
       "      <td>0.731890</td>\n",
       "      <td>0.003484</td>\n",
       "      <td>0.004761</td>\n",
       "      <td>414422.934</td>\n",
       "      <td>19053.928</td>\n",
       "    </tr>\n",
       "    <tr>\n",
       "      <th>3</th>\n",
       "      <td>Andorra</td>\n",
       "      <td>164.0</td>\n",
       "      <td>AD</td>\n",
       "      <td>40.0</td>\n",
       "      <td>468.0</td>\n",
       "      <td>NaN</td>\n",
       "      <td>7.20</td>\n",
       "      <td>376.0</td>\n",
       "      <td>Andorra la Vella</td>\n",
       "      <td>469.0</td>\n",
       "      <td>...</td>\n",
       "      <td>67873.0</td>\n",
       "      <td>42.506285</td>\n",
       "      <td>1.521801</td>\n",
       "      <td>40886.391162</td>\n",
       "      <td>NaN</td>\n",
       "      <td>0.879845</td>\n",
       "      <td>0.006080</td>\n",
       "      <td>0.006910</td>\n",
       "      <td>187.200</td>\n",
       "      <td>159.120</td>\n",
       "    </tr>\n",
       "    <tr>\n",
       "      <th>4</th>\n",
       "      <td>Angola</td>\n",
       "      <td>26.0</td>\n",
       "      <td>AO</td>\n",
       "      <td>47.5</td>\n",
       "      <td>1246700.0</td>\n",
       "      <td>117000.0</td>\n",
       "      <td>40.73</td>\n",
       "      <td>244.0</td>\n",
       "      <td>Luanda</td>\n",
       "      <td>34693.0</td>\n",
       "      <td>...</td>\n",
       "      <td>21061025.0</td>\n",
       "      <td>-11.202692</td>\n",
       "      <td>17.873887</td>\n",
       "      <td>2973.591160</td>\n",
       "      <td>0.003676</td>\n",
       "      <td>0.661770</td>\n",
       "      <td>0.001090</td>\n",
       "      <td>0.001647</td>\n",
       "      <td>592182.500</td>\n",
       "      <td>577222.100</td>\n",
       "    </tr>\n",
       "    <tr>\n",
       "      <th>...</th>\n",
       "      <td>...</td>\n",
       "      <td>...</td>\n",
       "      <td>...</td>\n",
       "      <td>...</td>\n",
       "      <td>...</td>\n",
       "      <td>...</td>\n",
       "      <td>...</td>\n",
       "      <td>...</td>\n",
       "      <td>...</td>\n",
       "      <td>...</td>\n",
       "      <td>...</td>\n",
       "      <td>...</td>\n",
       "      <td>...</td>\n",
       "      <td>...</td>\n",
       "      <td>...</td>\n",
       "      <td>...</td>\n",
       "      <td>...</td>\n",
       "      <td>...</td>\n",
       "      <td>...</td>\n",
       "      <td>...</td>\n",
       "      <td>...</td>\n",
       "    </tr>\n",
       "    <tr>\n",
       "      <th>190</th>\n",
       "      <td>Venezuela</td>\n",
       "      <td>32.0</td>\n",
       "      <td>VE</td>\n",
       "      <td>24.5</td>\n",
       "      <td>912050.0</td>\n",
       "      <td>343000.0</td>\n",
       "      <td>17.88</td>\n",
       "      <td>58.0</td>\n",
       "      <td>Caracas</td>\n",
       "      <td>164175.0</td>\n",
       "      <td>...</td>\n",
       "      <td>25162368.0</td>\n",
       "      <td>6.423750</td>\n",
       "      <td>-66.589730</td>\n",
       "      <td>16915.493453</td>\n",
       "      <td>0.012028</td>\n",
       "      <td>0.882400</td>\n",
       "      <td>0.005757</td>\n",
       "      <td>0.006525</td>\n",
       "      <td>223452.250</td>\n",
       "      <td>480650.350</td>\n",
       "    </tr>\n",
       "    <tr>\n",
       "      <th>191</th>\n",
       "      <td>Vietnam</td>\n",
       "      <td>314.0</td>\n",
       "      <td>VN</td>\n",
       "      <td>39.3</td>\n",
       "      <td>331210.0</td>\n",
       "      <td>522000.0</td>\n",
       "      <td>16.75</td>\n",
       "      <td>84.0</td>\n",
       "      <td>Hanoi</td>\n",
       "      <td>192668.0</td>\n",
       "      <td>...</td>\n",
       "      <td>35332140.0</td>\n",
       "      <td>14.058324</td>\n",
       "      <td>108.277199</td>\n",
       "      <td>2715.276036</td>\n",
       "      <td>0.005411</td>\n",
       "      <td>0.366280</td>\n",
       "      <td>0.001997</td>\n",
       "      <td>0.005453</td>\n",
       "      <td>130165.530</td>\n",
       "      <td>159312.010</td>\n",
       "    </tr>\n",
       "    <tr>\n",
       "      <th>192</th>\n",
       "      <td>Yemen</td>\n",
       "      <td>56.0</td>\n",
       "      <td>YE</td>\n",
       "      <td>44.6</td>\n",
       "      <td>527968.0</td>\n",
       "      <td>40000.0</td>\n",
       "      <td>30.45</td>\n",
       "      <td>967.0</td>\n",
       "      <td>Sanaa</td>\n",
       "      <td>10609.0</td>\n",
       "      <td>...</td>\n",
       "      <td>10869523.0</td>\n",
       "      <td>15.552727</td>\n",
       "      <td>48.516388</td>\n",
       "      <td>922.929642</td>\n",
       "      <td>0.001372</td>\n",
       "      <td>0.372730</td>\n",
       "      <td>0.000364</td>\n",
       "      <td>0.000976</td>\n",
       "      <td>235473.728</td>\n",
       "      <td>5279.680</td>\n",
       "    </tr>\n",
       "    <tr>\n",
       "      <th>193</th>\n",
       "      <td>Zambia</td>\n",
       "      <td>25.0</td>\n",
       "      <td>ZM</td>\n",
       "      <td>32.1</td>\n",
       "      <td>752618.0</td>\n",
       "      <td>16000.0</td>\n",
       "      <td>36.19</td>\n",
       "      <td>260.0</td>\n",
       "      <td>Lusaka</td>\n",
       "      <td>5141.0</td>\n",
       "      <td>...</td>\n",
       "      <td>7871713.0</td>\n",
       "      <td>-13.133897</td>\n",
       "      <td>27.849332</td>\n",
       "      <td>1291.343357</td>\n",
       "      <td>0.000896</td>\n",
       "      <td>0.440720</td>\n",
       "      <td>0.000288</td>\n",
       "      <td>0.000653</td>\n",
       "      <td>241590.378</td>\n",
       "      <td>490706.936</td>\n",
       "    </tr>\n",
       "    <tr>\n",
       "      <th>194</th>\n",
       "      <td>Zimbabwe</td>\n",
       "      <td>38.0</td>\n",
       "      <td>ZW</td>\n",
       "      <td>41.9</td>\n",
       "      <td>390757.0</td>\n",
       "      <td>51000.0</td>\n",
       "      <td>30.68</td>\n",
       "      <td>263.0</td>\n",
       "      <td>Harare</td>\n",
       "      <td>10983.0</td>\n",
       "      <td>...</td>\n",
       "      <td>4717305.0</td>\n",
       "      <td>-19.015438</td>\n",
       "      <td>29.154857</td>\n",
       "      <td>1463.985910</td>\n",
       "      <td>0.003482</td>\n",
       "      <td>0.322100</td>\n",
       "      <td>0.000750</td>\n",
       "      <td>0.002328</td>\n",
       "      <td>163727.183</td>\n",
       "      <td>138718.735</td>\n",
       "    </tr>\n",
       "  </tbody>\n",
       "</table>\n",
       "<p>195 rows × 42 columns</p>\n",
       "</div>"
      ],
      "text/plain": [
       "         Country  Density\\n(P/Km2) Abbreviation  Agricultural Land( %)  \\\n",
       "0    Afghanistan              60.0           AF                   58.1   \n",
       "1        Albania             105.0           AL                   43.1   \n",
       "2        Algeria              18.0           DZ                   17.4   \n",
       "3        Andorra             164.0           AD                   40.0   \n",
       "4         Angola              26.0           AO                   47.5   \n",
       "..           ...               ...          ...                    ...   \n",
       "190    Venezuela              32.0           VE                   24.5   \n",
       "191      Vietnam             314.0           VN                   39.3   \n",
       "192        Yemen              56.0           YE                   44.6   \n",
       "193       Zambia              25.0           ZM                   32.1   \n",
       "194     Zimbabwe              38.0           ZW                   41.9   \n",
       "\n",
       "     Land Area(Km2)  Armed Forces size  Birth Rate  Calling Code  \\\n",
       "0          652230.0           323000.0       32.49          93.0   \n",
       "1           28748.0             9000.0       11.78         355.0   \n",
       "2         2381741.0           317000.0       24.28         213.0   \n",
       "3             468.0                NaN        7.20         376.0   \n",
       "4         1246700.0           117000.0       40.73         244.0   \n",
       "..              ...                ...         ...           ...   \n",
       "190        912050.0           343000.0       17.88          58.0   \n",
       "191        331210.0           522000.0       16.75          84.0   \n",
       "192        527968.0            40000.0       30.45         967.0   \n",
       "193        752618.0            16000.0       36.19         260.0   \n",
       "194        390757.0            51000.0       30.68         263.0   \n",
       "\n",
       "    Capital/Major City  Co2-Emissions  ...  Urban_population   Latitude  \\\n",
       "0                Kabul         8672.0  ...         9797273.0  33.939110   \n",
       "1               Tirana         4536.0  ...         1747593.0  41.153332   \n",
       "2              Algiers       150006.0  ...        31510100.0  28.033886   \n",
       "3     Andorra la Vella          469.0  ...           67873.0  42.506285   \n",
       "4               Luanda        34693.0  ...        21061025.0 -11.202692   \n",
       "..                 ...            ...  ...               ...        ...   \n",
       "190            Caracas       164175.0  ...        25162368.0   6.423750   \n",
       "191              Hanoi       192668.0  ...        35332140.0  14.058324   \n",
       "192              Sanaa        10609.0  ...        10869523.0  15.552727   \n",
       "193             Lusaka         5141.0  ...         7871713.0 -13.133897   \n",
       "194             Harare        10983.0  ...         4717305.0 -19.015438   \n",
       "\n",
       "      Longitude  GDP_per_capita  Armed_forces_per_capita  \\\n",
       "0     67.709953      502.115487                 0.008491   \n",
       "1     20.168331     5352.857411                 0.003153   \n",
       "2      1.659626     3948.343279                 0.007363   \n",
       "3      1.521801    40886.391162                      NaN   \n",
       "4     17.873887     2973.591160                 0.003676   \n",
       "..          ...             ...                      ...   \n",
       "190  -66.589730    16915.493453                 0.012028   \n",
       "191  108.277199     2715.276036                 0.005411   \n",
       "192   48.516388      922.929642                 0.001372   \n",
       "193   27.849332     1291.343357                 0.000896   \n",
       "194   29.154857     1463.985910                 0.003482   \n",
       "\n",
       "     Urban_population_ratio  C02_per_capita  C02_per_urban_population  \\\n",
       "0                  0.257540        0.000228                  0.000885   \n",
       "1                  0.612290        0.001589                  0.002596   \n",
       "2                  0.731890        0.003484                  0.004761   \n",
       "3                  0.879845        0.006080                  0.006910   \n",
       "4                  0.661770        0.001090                  0.001647   \n",
       "..                      ...             ...                       ...   \n",
       "190                0.882400        0.005757                  0.006525   \n",
       "191                0.366280        0.001997                  0.005453   \n",
       "192                0.372730        0.000364                  0.000976   \n",
       "193                0.440720        0.000288                  0.000653   \n",
       "194                0.322100        0.000750                  0.002328   \n",
       "\n",
       "     Agricultural Land(Km2)  Forested Area(Km2)  \n",
       "0                378945.630           13696.830  \n",
       "1                 12390.388            8078.188  \n",
       "2                414422.934           19053.928  \n",
       "3                   187.200             159.120  \n",
       "4                592182.500          577222.100  \n",
       "..                      ...                 ...  \n",
       "190              223452.250          480650.350  \n",
       "191              130165.530          159312.010  \n",
       "192              235473.728            5279.680  \n",
       "193              241590.378          490706.936  \n",
       "194              163727.183          138718.735  \n",
       "\n",
       "[195 rows x 42 columns]"
      ]
     },
     "execution_count": 27,
     "metadata": {},
     "output_type": "execute_result"
    }
   ],
   "source": [
    "df"
   ]
  },
  {
   "cell_type": "markdown",
   "id": "979d6fd4",
   "metadata": {},
   "source": [
    "## Correlation Analysis"
   ]
  },
  {
   "cell_type": "code",
   "execution_count": 28,
   "id": "d8759115",
   "metadata": {},
   "outputs": [],
   "source": [
    "df_corr = df.corr()"
   ]
  },
  {
   "cell_type": "code",
   "execution_count": 29,
   "id": "42d550af",
   "metadata": {},
   "outputs": [
    {
     "data": {
      "text/html": [
       "<div>\n",
       "<style scoped>\n",
       "    .dataframe tbody tr th:only-of-type {\n",
       "        vertical-align: middle;\n",
       "    }\n",
       "\n",
       "    .dataframe tbody tr th {\n",
       "        vertical-align: top;\n",
       "    }\n",
       "\n",
       "    .dataframe thead th {\n",
       "        text-align: right;\n",
       "    }\n",
       "</style>\n",
       "<table border=\"1\" class=\"dataframe\">\n",
       "  <thead>\n",
       "    <tr style=\"text-align: right;\">\n",
       "      <th></th>\n",
       "      <th>Density\\n(P/Km2)</th>\n",
       "      <th>Agricultural Land( %)</th>\n",
       "      <th>Land Area(Km2)</th>\n",
       "      <th>Armed Forces size</th>\n",
       "      <th>Birth Rate</th>\n",
       "      <th>Calling Code</th>\n",
       "      <th>Co2-Emissions</th>\n",
       "      <th>CPI</th>\n",
       "      <th>CPI Change (%)</th>\n",
       "      <th>Fertility Rate</th>\n",
       "      <th>...</th>\n",
       "      <th>Urban_population</th>\n",
       "      <th>Latitude</th>\n",
       "      <th>Longitude</th>\n",
       "      <th>GDP_per_capita</th>\n",
       "      <th>Armed_forces_per_capita</th>\n",
       "      <th>Urban_population_ratio</th>\n",
       "      <th>C02_per_capita</th>\n",
       "      <th>C02_per_urban_population</th>\n",
       "      <th>Agricultural Land(Km2)</th>\n",
       "      <th>Forested Area(Km2)</th>\n",
       "    </tr>\n",
       "  </thead>\n",
       "  <tbody>\n",
       "    <tr>\n",
       "      <th>Density\\n(P/Km2)</th>\n",
       "      <td>1.000000</td>\n",
       "      <td>-0.108478</td>\n",
       "      <td>-0.053279</td>\n",
       "      <td>0.000526</td>\n",
       "      <td>-0.147024</td>\n",
       "      <td>0.006554</td>\n",
       "      <td>-0.014262</td>\n",
       "      <td>-0.043356</td>\n",
       "      <td>-0.052459</td>\n",
       "      <td>-0.149302</td>\n",
       "      <td>...</td>\n",
       "      <td>-0.022420</td>\n",
       "      <td>0.064640</td>\n",
       "      <td>0.031940</td>\n",
       "      <td>0.509388</td>\n",
       "      <td>0.128609</td>\n",
       "      <td>0.163681</td>\n",
       "      <td>0.077699</td>\n",
       "      <td>0.044822</td>\n",
       "      <td>-0.078108</td>\n",
       "      <td>-0.064134</td>\n",
       "    </tr>\n",
       "    <tr>\n",
       "      <th>Agricultural Land( %)</th>\n",
       "      <td>-0.108478</td>\n",
       "      <td>1.000000</td>\n",
       "      <td>-0.031189</td>\n",
       "      <td>0.030547</td>\n",
       "      <td>0.199269</td>\n",
       "      <td>-0.067008</td>\n",
       "      <td>0.061191</td>\n",
       "      <td>-0.007684</td>\n",
       "      <td>-0.010878</td>\n",
       "      <td>0.180507</td>\n",
       "      <td>...</td>\n",
       "      <td>0.101679</td>\n",
       "      <td>-0.034725</td>\n",
       "      <td>-0.016716</td>\n",
       "      <td>-0.184610</td>\n",
       "      <td>-0.114000</td>\n",
       "      <td>-0.131475</td>\n",
       "      <td>-0.259911</td>\n",
       "      <td>-0.263387</td>\n",
       "      <td>0.186975</td>\n",
       "      <td>-0.111622</td>\n",
       "    </tr>\n",
       "    <tr>\n",
       "      <th>Land Area(Km2)</th>\n",
       "      <td>-0.053279</td>\n",
       "      <td>-0.031189</td>\n",
       "      <td>1.000000</td>\n",
       "      <td>0.551730</td>\n",
       "      <td>-0.066269</td>\n",
       "      <td>-0.230872</td>\n",
       "      <td>0.590746</td>\n",
       "      <td>0.020893</td>\n",
       "      <td>0.034210</td>\n",
       "      <td>-0.064764</td>\n",
       "      <td>...</td>\n",
       "      <td>0.546836</td>\n",
       "      <td>0.049251</td>\n",
       "      <td>0.010435</td>\n",
       "      <td>0.042286</td>\n",
       "      <td>-0.049293</td>\n",
       "      <td>0.131915</td>\n",
       "      <td>0.204046</td>\n",
       "      <td>0.167334</td>\n",
       "      <td>0.806959</td>\n",
       "      <td>0.923257</td>\n",
       "    </tr>\n",
       "    <tr>\n",
       "      <th>Armed Forces size</th>\n",
       "      <td>0.000526</td>\n",
       "      <td>0.030547</td>\n",
       "      <td>0.551730</td>\n",
       "      <td>1.000000</td>\n",
       "      <td>-0.144801</td>\n",
       "      <td>-0.184330</td>\n",
       "      <td>0.740868</td>\n",
       "      <td>0.040839</td>\n",
       "      <td>0.061519</td>\n",
       "      <td>-0.146258</td>\n",
       "      <td>...</td>\n",
       "      <td>0.851101</td>\n",
       "      <td>0.120165</td>\n",
       "      <td>0.208265</td>\n",
       "      <td>-0.031141</td>\n",
       "      <td>0.226690</td>\n",
       "      <td>-0.003246</td>\n",
       "      <td>0.036841</td>\n",
       "      <td>0.045749</td>\n",
       "      <td>0.631675</td>\n",
       "      <td>0.454573</td>\n",
       "    </tr>\n",
       "    <tr>\n",
       "      <th>Birth Rate</th>\n",
       "      <td>-0.147024</td>\n",
       "      <td>0.199269</td>\n",
       "      <td>-0.066269</td>\n",
       "      <td>-0.144801</td>\n",
       "      <td>1.000000</td>\n",
       "      <td>0.072071</td>\n",
       "      <td>-0.155796</td>\n",
       "      <td>0.143298</td>\n",
       "      <td>0.107160</td>\n",
       "      <td>0.981069</td>\n",
       "      <td>...</td>\n",
       "      <td>-0.107609</td>\n",
       "      <td>-0.502965</td>\n",
       "      <td>0.039247</td>\n",
       "      <td>-0.517063</td>\n",
       "      <td>-0.220185</td>\n",
       "      <td>-0.549081</td>\n",
       "      <td>-0.499486</td>\n",
       "      <td>-0.499357</td>\n",
       "      <td>-0.040281</td>\n",
       "      <td>-0.093220</td>\n",
       "    </tr>\n",
       "    <tr>\n",
       "      <th>Calling Code</th>\n",
       "      <td>0.006554</td>\n",
       "      <td>-0.067008</td>\n",
       "      <td>-0.230872</td>\n",
       "      <td>-0.184330</td>\n",
       "      <td>0.072071</td>\n",
       "      <td>1.000000</td>\n",
       "      <td>-0.155946</td>\n",
       "      <td>-0.069684</td>\n",
       "      <td>-0.082451</td>\n",
       "      <td>0.028379</td>\n",
       "      <td>...</td>\n",
       "      <td>-0.191676</td>\n",
       "      <td>0.012973</td>\n",
       "      <td>0.194236</td>\n",
       "      <td>-0.118386</td>\n",
       "      <td>0.216663</td>\n",
       "      <td>-0.064436</td>\n",
       "      <td>0.074199</td>\n",
       "      <td>0.029172</td>\n",
       "      <td>-0.202962</td>\n",
       "      <td>-0.202168</td>\n",
       "    </tr>\n",
       "    <tr>\n",
       "      <th>Co2-Emissions</th>\n",
       "      <td>-0.014262</td>\n",
       "      <td>0.061191</td>\n",
       "      <td>0.590746</td>\n",
       "      <td>0.740868</td>\n",
       "      <td>-0.155796</td>\n",
       "      <td>-0.155946</td>\n",
       "      <td>1.000000</td>\n",
       "      <td>-0.017479</td>\n",
       "      <td>-0.004215</td>\n",
       "      <td>-0.141534</td>\n",
       "      <td>...</td>\n",
       "      <td>0.926263</td>\n",
       "      <td>0.118715</td>\n",
       "      <td>0.074345</td>\n",
       "      <td>0.094225</td>\n",
       "      <td>-0.045806</td>\n",
       "      <td>0.092414</td>\n",
       "      <td>0.165296</td>\n",
       "      <td>0.156803</td>\n",
       "      <td>0.778458</td>\n",
       "      <td>0.417436</td>\n",
       "    </tr>\n",
       "    <tr>\n",
       "      <th>CPI</th>\n",
       "      <td>-0.043356</td>\n",
       "      <td>-0.007684</td>\n",
       "      <td>0.020893</td>\n",
       "      <td>0.040839</td>\n",
       "      <td>0.143298</td>\n",
       "      <td>-0.069684</td>\n",
       "      <td>-0.017479</td>\n",
       "      <td>1.000000</td>\n",
       "      <td>0.894710</td>\n",
       "      <td>0.141352</td>\n",
       "      <td>...</td>\n",
       "      <td>-0.009298</td>\n",
       "      <td>-0.075549</td>\n",
       "      <td>-0.022809</td>\n",
       "      <td>-0.092499</td>\n",
       "      <td>0.224205</td>\n",
       "      <td>-0.095935</td>\n",
       "      <td>-0.071926</td>\n",
       "      <td>-0.083757</td>\n",
       "      <td>0.029184</td>\n",
       "      <td>0.027841</td>\n",
       "    </tr>\n",
       "    <tr>\n",
       "      <th>CPI Change (%)</th>\n",
       "      <td>-0.052459</td>\n",
       "      <td>-0.010878</td>\n",
       "      <td>0.034210</td>\n",
       "      <td>0.061519</td>\n",
       "      <td>0.107160</td>\n",
       "      <td>-0.082451</td>\n",
       "      <td>-0.004215</td>\n",
       "      <td>0.894710</td>\n",
       "      <td>1.000000</td>\n",
       "      <td>0.097405</td>\n",
       "      <td>...</td>\n",
       "      <td>0.007353</td>\n",
       "      <td>-0.089570</td>\n",
       "      <td>-0.076524</td>\n",
       "      <td>-0.085904</td>\n",
       "      <td>0.199855</td>\n",
       "      <td>-0.012757</td>\n",
       "      <td>-0.063803</td>\n",
       "      <td>-0.084091</td>\n",
       "      <td>0.042509</td>\n",
       "      <td>0.028466</td>\n",
       "    </tr>\n",
       "    <tr>\n",
       "      <th>Fertility Rate</th>\n",
       "      <td>-0.149302</td>\n",
       "      <td>0.180507</td>\n",
       "      <td>-0.064764</td>\n",
       "      <td>-0.146258</td>\n",
       "      <td>0.981069</td>\n",
       "      <td>0.028379</td>\n",
       "      <td>-0.141534</td>\n",
       "      <td>0.141352</td>\n",
       "      <td>0.097405</td>\n",
       "      <td>1.000000</td>\n",
       "      <td>...</td>\n",
       "      <td>-0.104058</td>\n",
       "      <td>-0.457999</td>\n",
       "      <td>0.034218</td>\n",
       "      <td>-0.479901</td>\n",
       "      <td>-0.222319</td>\n",
       "      <td>-0.515546</td>\n",
       "      <td>-0.457236</td>\n",
       "      <td>-0.467220</td>\n",
       "      <td>-0.037783</td>\n",
       "      <td>-0.089239</td>\n",
       "    </tr>\n",
       "    <tr>\n",
       "      <th>Forested Area (%)</th>\n",
       "      <td>-0.100466</td>\n",
       "      <td>-0.434570</td>\n",
       "      <td>-0.014278</td>\n",
       "      <td>-0.019928</td>\n",
       "      <td>-0.074321</td>\n",
       "      <td>-0.096525</td>\n",
       "      <td>-0.028803</td>\n",
       "      <td>0.004455</td>\n",
       "      <td>0.015317</td>\n",
       "      <td>-0.063429</td>\n",
       "      <td>...</td>\n",
       "      <td>-0.034797</td>\n",
       "      <td>-0.141622</td>\n",
       "      <td>0.033859</td>\n",
       "      <td>-0.004935</td>\n",
       "      <td>0.003684</td>\n",
       "      <td>-0.020725</td>\n",
       "      <td>-0.077237</td>\n",
       "      <td>-0.021005</td>\n",
       "      <td>-0.114254</td>\n",
       "      <td>0.141555</td>\n",
       "    </tr>\n",
       "    <tr>\n",
       "      <th>Gasoline Price</th>\n",
       "      <td>0.224889</td>\n",
       "      <td>0.047724</td>\n",
       "      <td>-0.186857</td>\n",
       "      <td>-0.154579</td>\n",
       "      <td>-0.204322</td>\n",
       "      <td>-0.185632</td>\n",
       "      <td>-0.068119</td>\n",
       "      <td>-0.271422</td>\n",
       "      <td>-0.275388</td>\n",
       "      <td>-0.126090</td>\n",
       "      <td>...</td>\n",
       "      <td>-0.074689</td>\n",
       "      <td>0.141676</td>\n",
       "      <td>-0.065589</td>\n",
       "      <td>0.393794</td>\n",
       "      <td>-0.095113</td>\n",
       "      <td>0.039672</td>\n",
       "      <td>-0.230992</td>\n",
       "      <td>-0.204670</td>\n",
       "      <td>-0.181069</td>\n",
       "      <td>-0.105600</td>\n",
       "    </tr>\n",
       "    <tr>\n",
       "      <th>GDP</th>\n",
       "      <td>-0.017690</td>\n",
       "      <td>0.051840</td>\n",
       "      <td>0.550592</td>\n",
       "      <td>0.605486</td>\n",
       "      <td>-0.181216</td>\n",
       "      <td>-0.182808</td>\n",
       "      <td>0.916857</td>\n",
       "      <td>-0.026833</td>\n",
       "      <td>-0.011083</td>\n",
       "      <td>-0.160240</td>\n",
       "      <td>...</td>\n",
       "      <td>0.784276</td>\n",
       "      <td>0.138481</td>\n",
       "      <td>-0.002612</td>\n",
       "      <td>0.165590</td>\n",
       "      <td>-0.053893</td>\n",
       "      <td>0.141466</td>\n",
       "      <td>0.196263</td>\n",
       "      <td>0.167064</td>\n",
       "      <td>0.741122</td>\n",
       "      <td>0.395811</td>\n",
       "    </tr>\n",
       "    <tr>\n",
       "      <th>Gross primary education enrollment (%)</th>\n",
       "      <td>0.009727</td>\n",
       "      <td>-0.047046</td>\n",
       "      <td>0.006122</td>\n",
       "      <td>0.057974</td>\n",
       "      <td>-0.083156</td>\n",
       "      <td>-0.035231</td>\n",
       "      <td>0.002429</td>\n",
       "      <td>-0.197083</td>\n",
       "      <td>-0.158228</td>\n",
       "      <td>-0.142988</td>\n",
       "      <td>...</td>\n",
       "      <td>0.028690</td>\n",
       "      <td>-0.139983</td>\n",
       "      <td>-0.045958</td>\n",
       "      <td>0.003478</td>\n",
       "      <td>-0.108952</td>\n",
       "      <td>-0.050886</td>\n",
       "      <td>-0.029095</td>\n",
       "      <td>-0.015704</td>\n",
       "      <td>-0.007452</td>\n",
       "      <td>0.046864</td>\n",
       "    </tr>\n",
       "    <tr>\n",
       "      <th>Gross tertiary education enrollment (%)</th>\n",
       "      <td>0.109555</td>\n",
       "      <td>-0.111015</td>\n",
       "      <td>0.220470</td>\n",
       "      <td>0.110247</td>\n",
       "      <td>-0.728755</td>\n",
       "      <td>-0.223457</td>\n",
       "      <td>0.155140</td>\n",
       "      <td>0.024434</td>\n",
       "      <td>0.065089</td>\n",
       "      <td>-0.684777</td>\n",
       "      <td>...</td>\n",
       "      <td>0.097051</td>\n",
       "      <td>0.428001</td>\n",
       "      <td>-0.030344</td>\n",
       "      <td>0.469316</td>\n",
       "      <td>0.155199</td>\n",
       "      <td>0.583757</td>\n",
       "      <td>0.393494</td>\n",
       "      <td>0.325260</td>\n",
       "      <td>0.199803</td>\n",
       "      <td>0.177657</td>\n",
       "    </tr>\n",
       "    <tr>\n",
       "      <th>Infant mortality</th>\n",
       "      <td>-0.106076</td>\n",
       "      <td>0.207010</td>\n",
       "      <td>-0.066310</td>\n",
       "      <td>-0.077283</td>\n",
       "      <td>0.867456</td>\n",
       "      <td>-0.030603</td>\n",
       "      <td>-0.123867</td>\n",
       "      <td>0.190247</td>\n",
       "      <td>0.158888</td>\n",
       "      <td>0.852653</td>\n",
       "      <td>...</td>\n",
       "      <td>-0.057372</td>\n",
       "      <td>-0.436380</td>\n",
       "      <td>0.037578</td>\n",
       "      <td>-0.491489</td>\n",
       "      <td>-0.210108</td>\n",
       "      <td>-0.534906</td>\n",
       "      <td>-0.469388</td>\n",
       "      <td>-0.451624</td>\n",
       "      <td>-0.049534</td>\n",
       "      <td>-0.071649</td>\n",
       "    </tr>\n",
       "    <tr>\n",
       "      <th>Life expectancy</th>\n",
       "      <td>0.169852</td>\n",
       "      <td>-0.243771</td>\n",
       "      <td>0.054921</td>\n",
       "      <td>0.075943</td>\n",
       "      <td>-0.874747</td>\n",
       "      <td>-0.034624</td>\n",
       "      <td>0.121891</td>\n",
       "      <td>-0.181656</td>\n",
       "      <td>-0.150087</td>\n",
       "      <td>-0.849153</td>\n",
       "      <td>...</td>\n",
       "      <td>0.070463</td>\n",
       "      <td>0.472759</td>\n",
       "      <td>-0.072483</td>\n",
       "      <td>0.615075</td>\n",
       "      <td>0.170866</td>\n",
       "      <td>0.567617</td>\n",
       "      <td>0.457342</td>\n",
       "      <td>0.423025</td>\n",
       "      <td>0.033115</td>\n",
       "      <td>0.052648</td>\n",
       "    </tr>\n",
       "    <tr>\n",
       "      <th>Maternal mortality ratio</th>\n",
       "      <td>-0.092429</td>\n",
       "      <td>0.213170</td>\n",
       "      <td>-0.054190</td>\n",
       "      <td>-0.104969</td>\n",
       "      <td>0.768078</td>\n",
       "      <td>-0.130962</td>\n",
       "      <td>-0.108334</td>\n",
       "      <td>0.307860</td>\n",
       "      <td>0.227810</td>\n",
       "      <td>0.779460</td>\n",
       "      <td>...</td>\n",
       "      <td>-0.067213</td>\n",
       "      <td>-0.330127</td>\n",
       "      <td>-0.015930</td>\n",
       "      <td>-0.403938</td>\n",
       "      <td>-0.149033</td>\n",
       "      <td>-0.463172</td>\n",
       "      <td>-0.409922</td>\n",
       "      <td>-0.418157</td>\n",
       "      <td>-0.039897</td>\n",
       "      <td>-0.067574</td>\n",
       "    </tr>\n",
       "    <tr>\n",
       "      <th>Minimum wage</th>\n",
       "      <td>0.274967</td>\n",
       "      <td>-0.026780</td>\n",
       "      <td>0.118949</td>\n",
       "      <td>-0.020528</td>\n",
       "      <td>-0.503070</td>\n",
       "      <td>-0.190173</td>\n",
       "      <td>0.083816</td>\n",
       "      <td>-0.134284</td>\n",
       "      <td>-0.104414</td>\n",
       "      <td>-0.431950</td>\n",
       "      <td>...</td>\n",
       "      <td>0.008586</td>\n",
       "      <td>0.285251</td>\n",
       "      <td>0.001699</td>\n",
       "      <td>0.839084</td>\n",
       "      <td>0.010178</td>\n",
       "      <td>0.518518</td>\n",
       "      <td>0.502850</td>\n",
       "      <td>0.364787</td>\n",
       "      <td>0.124445</td>\n",
       "      <td>0.069539</td>\n",
       "    </tr>\n",
       "    <tr>\n",
       "      <th>Out of pocket health expenditure</th>\n",
       "      <td>-0.092101</td>\n",
       "      <td>0.135180</td>\n",
       "      <td>-0.013867</td>\n",
       "      <td>0.154367</td>\n",
       "      <td>0.256198</td>\n",
       "      <td>0.013551</td>\n",
       "      <td>-0.032995</td>\n",
       "      <td>0.161681</td>\n",
       "      <td>0.136583</td>\n",
       "      <td>0.204644</td>\n",
       "      <td>...</td>\n",
       "      <td>0.064660</td>\n",
       "      <td>0.112126</td>\n",
       "      <td>0.022568</td>\n",
       "      <td>-0.368834</td>\n",
       "      <td>0.115426</td>\n",
       "      <td>-0.324033</td>\n",
       "      <td>-0.281684</td>\n",
       "      <td>-0.210085</td>\n",
       "      <td>-0.009944</td>\n",
       "      <td>-0.042207</td>\n",
       "    </tr>\n",
       "    <tr>\n",
       "      <th>Physicians per thousand</th>\n",
       "      <td>0.205971</td>\n",
       "      <td>-0.036503</td>\n",
       "      <td>0.072006</td>\n",
       "      <td>0.013848</td>\n",
       "      <td>-0.740290</td>\n",
       "      <td>-0.041556</td>\n",
       "      <td>0.062510</td>\n",
       "      <td>-0.077980</td>\n",
       "      <td>-0.040019</td>\n",
       "      <td>-0.683172</td>\n",
       "      <td>...</td>\n",
       "      <td>0.000463</td>\n",
       "      <td>0.526565</td>\n",
       "      <td>-0.064380</td>\n",
       "      <td>0.556510</td>\n",
       "      <td>0.220966</td>\n",
       "      <td>0.556085</td>\n",
       "      <td>0.426457</td>\n",
       "      <td>0.407998</td>\n",
       "      <td>0.057215</td>\n",
       "      <td>0.079610</td>\n",
       "    </tr>\n",
       "    <tr>\n",
       "      <th>Population</th>\n",
       "      <td>-0.017606</td>\n",
       "      <td>0.117506</td>\n",
       "      <td>0.446721</td>\n",
       "      <td>0.875912</td>\n",
       "      <td>-0.053263</td>\n",
       "      <td>-0.166159</td>\n",
       "      <td>0.809944</td>\n",
       "      <td>-0.004925</td>\n",
       "      <td>0.005618</td>\n",
       "      <td>-0.055491</td>\n",
       "      <td>...</td>\n",
       "      <td>0.954204</td>\n",
       "      <td>0.044698</td>\n",
       "      <td>0.123488</td>\n",
       "      <td>-0.039341</td>\n",
       "      <td>-0.078639</td>\n",
       "      <td>-0.038781</td>\n",
       "      <td>0.008125</td>\n",
       "      <td>0.019095</td>\n",
       "      <td>0.646121</td>\n",
       "      <td>0.300628</td>\n",
       "    </tr>\n",
       "    <tr>\n",
       "      <th>Population: Labor force participation (%)</th>\n",
       "      <td>0.065084</td>\n",
       "      <td>-0.112016</td>\n",
       "      <td>-0.007052</td>\n",
       "      <td>-0.082975</td>\n",
       "      <td>0.171302</td>\n",
       "      <td>0.052422</td>\n",
       "      <td>-0.013713</td>\n",
       "      <td>0.021369</td>\n",
       "      <td>-0.016332</td>\n",
       "      <td>0.156793</td>\n",
       "      <td>...</td>\n",
       "      <td>-0.048768</td>\n",
       "      <td>-0.284245</td>\n",
       "      <td>0.089733</td>\n",
       "      <td>0.047136</td>\n",
       "      <td>0.055912</td>\n",
       "      <td>-0.137953</td>\n",
       "      <td>0.056352</td>\n",
       "      <td>-0.002682</td>\n",
       "      <td>-0.001361</td>\n",
       "      <td>0.040950</td>\n",
       "    </tr>\n",
       "    <tr>\n",
       "      <th>Tax revenue (%)</th>\n",
       "      <td>-0.036935</td>\n",
       "      <td>-0.056104</td>\n",
       "      <td>-0.168567</td>\n",
       "      <td>-0.182969</td>\n",
       "      <td>-0.375103</td>\n",
       "      <td>-0.048855</td>\n",
       "      <td>-0.144081</td>\n",
       "      <td>-0.208853</td>\n",
       "      <td>-0.241255</td>\n",
       "      <td>-0.373152</td>\n",
       "      <td>...</td>\n",
       "      <td>-0.184573</td>\n",
       "      <td>0.051083</td>\n",
       "      <td>-0.073395</td>\n",
       "      <td>0.220150</td>\n",
       "      <td>0.034646</td>\n",
       "      <td>0.067239</td>\n",
       "      <td>-0.026767</td>\n",
       "      <td>0.042452</td>\n",
       "      <td>-0.184083</td>\n",
       "      <td>-0.145180</td>\n",
       "    </tr>\n",
       "    <tr>\n",
       "      <th>Total tax rate</th>\n",
       "      <td>-0.082809</td>\n",
       "      <td>0.167139</td>\n",
       "      <td>0.089932</td>\n",
       "      <td>0.158674</td>\n",
       "      <td>0.199608</td>\n",
       "      <td>-0.244749</td>\n",
       "      <td>0.061495</td>\n",
       "      <td>0.043006</td>\n",
       "      <td>0.117012</td>\n",
       "      <td>0.210859</td>\n",
       "      <td>...</td>\n",
       "      <td>0.098645</td>\n",
       "      <td>-0.105382</td>\n",
       "      <td>-0.084672</td>\n",
       "      <td>-0.185820</td>\n",
       "      <td>-0.076488</td>\n",
       "      <td>-0.036872</td>\n",
       "      <td>-0.220758</td>\n",
       "      <td>-0.219398</td>\n",
       "      <td>0.109152</td>\n",
       "      <td>0.072294</td>\n",
       "    </tr>\n",
       "    <tr>\n",
       "      <th>Unemployment rate</th>\n",
       "      <td>-0.103084</td>\n",
       "      <td>0.062049</td>\n",
       "      <td>0.042922</td>\n",
       "      <td>-0.025011</td>\n",
       "      <td>-0.043458</td>\n",
       "      <td>-0.115191</td>\n",
       "      <td>0.006481</td>\n",
       "      <td>0.120156</td>\n",
       "      <td>0.111920</td>\n",
       "      <td>-0.072601</td>\n",
       "      <td>...</td>\n",
       "      <td>-0.014622</td>\n",
       "      <td>-0.065496</td>\n",
       "      <td>-0.190618</td>\n",
       "      <td>-0.127732</td>\n",
       "      <td>0.004478</td>\n",
       "      <td>0.109376</td>\n",
       "      <td>-0.109836</td>\n",
       "      <td>-0.070930</td>\n",
       "      <td>0.066028</td>\n",
       "      <td>0.006661</td>\n",
       "    </tr>\n",
       "    <tr>\n",
       "      <th>Urban_population</th>\n",
       "      <td>-0.022420</td>\n",
       "      <td>0.101679</td>\n",
       "      <td>0.546836</td>\n",
       "      <td>0.851101</td>\n",
       "      <td>-0.107609</td>\n",
       "      <td>-0.191676</td>\n",
       "      <td>0.926263</td>\n",
       "      <td>-0.009298</td>\n",
       "      <td>0.007353</td>\n",
       "      <td>-0.104058</td>\n",
       "      <td>...</td>\n",
       "      <td>1.000000</td>\n",
       "      <td>0.066901</td>\n",
       "      <td>0.097446</td>\n",
       "      <td>0.002014</td>\n",
       "      <td>-0.071312</td>\n",
       "      <td>0.049609</td>\n",
       "      <td>0.065265</td>\n",
       "      <td>0.061947</td>\n",
       "      <td>0.750044</td>\n",
       "      <td>0.397177</td>\n",
       "    </tr>\n",
       "    <tr>\n",
       "      <th>Latitude</th>\n",
       "      <td>0.064640</td>\n",
       "      <td>-0.034725</td>\n",
       "      <td>0.049251</td>\n",
       "      <td>0.120165</td>\n",
       "      <td>-0.502965</td>\n",
       "      <td>0.012973</td>\n",
       "      <td>0.118715</td>\n",
       "      <td>-0.075549</td>\n",
       "      <td>-0.089570</td>\n",
       "      <td>-0.457999</td>\n",
       "      <td>...</td>\n",
       "      <td>0.066901</td>\n",
       "      <td>1.000000</td>\n",
       "      <td>0.013635</td>\n",
       "      <td>0.388911</td>\n",
       "      <td>0.168132</td>\n",
       "      <td>0.302123</td>\n",
       "      <td>0.295515</td>\n",
       "      <td>0.272348</td>\n",
       "      <td>-0.034063</td>\n",
       "      <td>0.050073</td>\n",
       "    </tr>\n",
       "    <tr>\n",
       "      <th>Longitude</th>\n",
       "      <td>0.031940</td>\n",
       "      <td>-0.016716</td>\n",
       "      <td>0.010435</td>\n",
       "      <td>0.208265</td>\n",
       "      <td>0.039247</td>\n",
       "      <td>0.194236</td>\n",
       "      <td>0.074345</td>\n",
       "      <td>-0.022809</td>\n",
       "      <td>-0.076524</td>\n",
       "      <td>0.034218</td>\n",
       "      <td>...</td>\n",
       "      <td>0.097446</td>\n",
       "      <td>0.013635</td>\n",
       "      <td>1.000000</td>\n",
       "      <td>-0.032521</td>\n",
       "      <td>0.237350</td>\n",
       "      <td>-0.111192</td>\n",
       "      <td>0.083090</td>\n",
       "      <td>0.038957</td>\n",
       "      <td>0.053026</td>\n",
       "      <td>-0.018781</td>\n",
       "    </tr>\n",
       "    <tr>\n",
       "      <th>GDP_per_capita</th>\n",
       "      <td>0.509388</td>\n",
       "      <td>-0.184610</td>\n",
       "      <td>0.042286</td>\n",
       "      <td>-0.031141</td>\n",
       "      <td>-0.517063</td>\n",
       "      <td>-0.118386</td>\n",
       "      <td>0.094225</td>\n",
       "      <td>-0.092499</td>\n",
       "      <td>-0.085904</td>\n",
       "      <td>-0.479901</td>\n",
       "      <td>...</td>\n",
       "      <td>0.002014</td>\n",
       "      <td>0.388911</td>\n",
       "      <td>-0.032521</td>\n",
       "      <td>1.000000</td>\n",
       "      <td>-0.016451</td>\n",
       "      <td>0.422999</td>\n",
       "      <td>0.474336</td>\n",
       "      <td>0.409785</td>\n",
       "      <td>0.048128</td>\n",
       "      <td>0.050170</td>\n",
       "    </tr>\n",
       "    <tr>\n",
       "      <th>Armed_forces_per_capita</th>\n",
       "      <td>0.128609</td>\n",
       "      <td>-0.114000</td>\n",
       "      <td>-0.049293</td>\n",
       "      <td>0.226690</td>\n",
       "      <td>-0.220185</td>\n",
       "      <td>0.216663</td>\n",
       "      <td>-0.045806</td>\n",
       "      <td>0.224205</td>\n",
       "      <td>0.199855</td>\n",
       "      <td>-0.222319</td>\n",
       "      <td>...</td>\n",
       "      <td>-0.071312</td>\n",
       "      <td>0.168132</td>\n",
       "      <td>0.237350</td>\n",
       "      <td>-0.016451</td>\n",
       "      <td>1.000000</td>\n",
       "      <td>0.122006</td>\n",
       "      <td>0.085162</td>\n",
       "      <td>0.051224</td>\n",
       "      <td>-0.087965</td>\n",
       "      <td>-0.013581</td>\n",
       "    </tr>\n",
       "    <tr>\n",
       "      <th>Urban_population_ratio</th>\n",
       "      <td>0.163681</td>\n",
       "      <td>-0.131475</td>\n",
       "      <td>0.131915</td>\n",
       "      <td>-0.003246</td>\n",
       "      <td>-0.549081</td>\n",
       "      <td>-0.064436</td>\n",
       "      <td>0.092414</td>\n",
       "      <td>-0.095935</td>\n",
       "      <td>-0.012757</td>\n",
       "      <td>-0.515546</td>\n",
       "      <td>...</td>\n",
       "      <td>0.049609</td>\n",
       "      <td>0.302123</td>\n",
       "      <td>-0.111192</td>\n",
       "      <td>0.422999</td>\n",
       "      <td>0.122006</td>\n",
       "      <td>1.000000</td>\n",
       "      <td>0.515211</td>\n",
       "      <td>0.294311</td>\n",
       "      <td>0.110307</td>\n",
       "      <td>0.134586</td>\n",
       "    </tr>\n",
       "    <tr>\n",
       "      <th>C02_per_capita</th>\n",
       "      <td>0.077699</td>\n",
       "      <td>-0.259911</td>\n",
       "      <td>0.204046</td>\n",
       "      <td>0.036841</td>\n",
       "      <td>-0.499486</td>\n",
       "      <td>0.074199</td>\n",
       "      <td>0.165296</td>\n",
       "      <td>-0.071926</td>\n",
       "      <td>-0.063803</td>\n",
       "      <td>-0.457236</td>\n",
       "      <td>...</td>\n",
       "      <td>0.065265</td>\n",
       "      <td>0.295515</td>\n",
       "      <td>0.083090</td>\n",
       "      <td>0.474336</td>\n",
       "      <td>0.085162</td>\n",
       "      <td>0.515211</td>\n",
       "      <td>1.000000</td>\n",
       "      <td>0.921530</td>\n",
       "      <td>0.185089</td>\n",
       "      <td>0.147486</td>\n",
       "    </tr>\n",
       "    <tr>\n",
       "      <th>C02_per_urban_population</th>\n",
       "      <td>0.044822</td>\n",
       "      <td>-0.263387</td>\n",
       "      <td>0.167334</td>\n",
       "      <td>0.045749</td>\n",
       "      <td>-0.499357</td>\n",
       "      <td>0.029172</td>\n",
       "      <td>0.156803</td>\n",
       "      <td>-0.083757</td>\n",
       "      <td>-0.084091</td>\n",
       "      <td>-0.467220</td>\n",
       "      <td>...</td>\n",
       "      <td>0.061947</td>\n",
       "      <td>0.272348</td>\n",
       "      <td>0.038957</td>\n",
       "      <td>0.409785</td>\n",
       "      <td>0.051224</td>\n",
       "      <td>0.294311</td>\n",
       "      <td>0.921530</td>\n",
       "      <td>1.000000</td>\n",
       "      <td>0.161839</td>\n",
       "      <td>0.115242</td>\n",
       "    </tr>\n",
       "    <tr>\n",
       "      <th>Agricultural Land(Km2)</th>\n",
       "      <td>-0.078108</td>\n",
       "      <td>0.186975</td>\n",
       "      <td>0.806959</td>\n",
       "      <td>0.631675</td>\n",
       "      <td>-0.040281</td>\n",
       "      <td>-0.202962</td>\n",
       "      <td>0.778458</td>\n",
       "      <td>0.029184</td>\n",
       "      <td>0.042509</td>\n",
       "      <td>-0.037783</td>\n",
       "      <td>...</td>\n",
       "      <td>0.750044</td>\n",
       "      <td>-0.034063</td>\n",
       "      <td>0.053026</td>\n",
       "      <td>0.048128</td>\n",
       "      <td>-0.087965</td>\n",
       "      <td>0.110307</td>\n",
       "      <td>0.185089</td>\n",
       "      <td>0.161839</td>\n",
       "      <td>1.000000</td>\n",
       "      <td>0.598796</td>\n",
       "    </tr>\n",
       "    <tr>\n",
       "      <th>Forested Area(Km2)</th>\n",
       "      <td>-0.064134</td>\n",
       "      <td>-0.111622</td>\n",
       "      <td>0.923257</td>\n",
       "      <td>0.454573</td>\n",
       "      <td>-0.093220</td>\n",
       "      <td>-0.202168</td>\n",
       "      <td>0.417436</td>\n",
       "      <td>0.027841</td>\n",
       "      <td>0.028466</td>\n",
       "      <td>-0.089239</td>\n",
       "      <td>...</td>\n",
       "      <td>0.397177</td>\n",
       "      <td>0.050073</td>\n",
       "      <td>-0.018781</td>\n",
       "      <td>0.050170</td>\n",
       "      <td>-0.013581</td>\n",
       "      <td>0.134586</td>\n",
       "      <td>0.147486</td>\n",
       "      <td>0.115242</td>\n",
       "      <td>0.598796</td>\n",
       "      <td>1.000000</td>\n",
       "    </tr>\n",
       "  </tbody>\n",
       "</table>\n",
       "<p>36 rows × 36 columns</p>\n",
       "</div>"
      ],
      "text/plain": [
       "                                           Density\\n(P/Km2)  \\\n",
       "Density\\n(P/Km2)                                   1.000000   \n",
       "Agricultural Land( %)                             -0.108478   \n",
       "Land Area(Km2)                                    -0.053279   \n",
       "Armed Forces size                                  0.000526   \n",
       "Birth Rate                                        -0.147024   \n",
       "Calling Code                                       0.006554   \n",
       "Co2-Emissions                                     -0.014262   \n",
       "CPI                                               -0.043356   \n",
       "CPI Change (%)                                    -0.052459   \n",
       "Fertility Rate                                    -0.149302   \n",
       "Forested Area (%)                                 -0.100466   \n",
       "Gasoline Price                                     0.224889   \n",
       "GDP                                               -0.017690   \n",
       "Gross primary education enrollment (%)             0.009727   \n",
       "Gross tertiary education enrollment (%)            0.109555   \n",
       "Infant mortality                                  -0.106076   \n",
       "Life expectancy                                    0.169852   \n",
       "Maternal mortality ratio                          -0.092429   \n",
       "Minimum wage                                       0.274967   \n",
       "Out of pocket health expenditure                  -0.092101   \n",
       "Physicians per thousand                            0.205971   \n",
       "Population                                        -0.017606   \n",
       "Population: Labor force participation (%)          0.065084   \n",
       "Tax revenue (%)                                   -0.036935   \n",
       "Total tax rate                                    -0.082809   \n",
       "Unemployment rate                                 -0.103084   \n",
       "Urban_population                                  -0.022420   \n",
       "Latitude                                           0.064640   \n",
       "Longitude                                          0.031940   \n",
       "GDP_per_capita                                     0.509388   \n",
       "Armed_forces_per_capita                            0.128609   \n",
       "Urban_population_ratio                             0.163681   \n",
       "C02_per_capita                                     0.077699   \n",
       "C02_per_urban_population                           0.044822   \n",
       "Agricultural Land(Km2)                            -0.078108   \n",
       "Forested Area(Km2)                                -0.064134   \n",
       "\n",
       "                                           Agricultural Land( %)  \\\n",
       "Density\\n(P/Km2)                                       -0.108478   \n",
       "Agricultural Land( %)                                   1.000000   \n",
       "Land Area(Km2)                                         -0.031189   \n",
       "Armed Forces size                                       0.030547   \n",
       "Birth Rate                                              0.199269   \n",
       "Calling Code                                           -0.067008   \n",
       "Co2-Emissions                                           0.061191   \n",
       "CPI                                                    -0.007684   \n",
       "CPI Change (%)                                         -0.010878   \n",
       "Fertility Rate                                          0.180507   \n",
       "Forested Area (%)                                      -0.434570   \n",
       "Gasoline Price                                          0.047724   \n",
       "GDP                                                     0.051840   \n",
       "Gross primary education enrollment (%)                 -0.047046   \n",
       "Gross tertiary education enrollment (%)                -0.111015   \n",
       "Infant mortality                                        0.207010   \n",
       "Life expectancy                                        -0.243771   \n",
       "Maternal mortality ratio                                0.213170   \n",
       "Minimum wage                                           -0.026780   \n",
       "Out of pocket health expenditure                        0.135180   \n",
       "Physicians per thousand                                -0.036503   \n",
       "Population                                              0.117506   \n",
       "Population: Labor force participation (%)              -0.112016   \n",
       "Tax revenue (%)                                        -0.056104   \n",
       "Total tax rate                                          0.167139   \n",
       "Unemployment rate                                       0.062049   \n",
       "Urban_population                                        0.101679   \n",
       "Latitude                                               -0.034725   \n",
       "Longitude                                              -0.016716   \n",
       "GDP_per_capita                                         -0.184610   \n",
       "Armed_forces_per_capita                                -0.114000   \n",
       "Urban_population_ratio                                 -0.131475   \n",
       "C02_per_capita                                         -0.259911   \n",
       "C02_per_urban_population                               -0.263387   \n",
       "Agricultural Land(Km2)                                  0.186975   \n",
       "Forested Area(Km2)                                     -0.111622   \n",
       "\n",
       "                                           Land Area(Km2)  Armed Forces size  \\\n",
       "Density\\n(P/Km2)                                -0.053279           0.000526   \n",
       "Agricultural Land( %)                           -0.031189           0.030547   \n",
       "Land Area(Km2)                                   1.000000           0.551730   \n",
       "Armed Forces size                                0.551730           1.000000   \n",
       "Birth Rate                                      -0.066269          -0.144801   \n",
       "Calling Code                                    -0.230872          -0.184330   \n",
       "Co2-Emissions                                    0.590746           0.740868   \n",
       "CPI                                              0.020893           0.040839   \n",
       "CPI Change (%)                                   0.034210           0.061519   \n",
       "Fertility Rate                                  -0.064764          -0.146258   \n",
       "Forested Area (%)                               -0.014278          -0.019928   \n",
       "Gasoline Price                                  -0.186857          -0.154579   \n",
       "GDP                                              0.550592           0.605486   \n",
       "Gross primary education enrollment (%)           0.006122           0.057974   \n",
       "Gross tertiary education enrollment (%)          0.220470           0.110247   \n",
       "Infant mortality                                -0.066310          -0.077283   \n",
       "Life expectancy                                  0.054921           0.075943   \n",
       "Maternal mortality ratio                        -0.054190          -0.104969   \n",
       "Minimum wage                                     0.118949          -0.020528   \n",
       "Out of pocket health expenditure                -0.013867           0.154367   \n",
       "Physicians per thousand                          0.072006           0.013848   \n",
       "Population                                       0.446721           0.875912   \n",
       "Population: Labor force participation (%)       -0.007052          -0.082975   \n",
       "Tax revenue (%)                                 -0.168567          -0.182969   \n",
       "Total tax rate                                   0.089932           0.158674   \n",
       "Unemployment rate                                0.042922          -0.025011   \n",
       "Urban_population                                 0.546836           0.851101   \n",
       "Latitude                                         0.049251           0.120165   \n",
       "Longitude                                        0.010435           0.208265   \n",
       "GDP_per_capita                                   0.042286          -0.031141   \n",
       "Armed_forces_per_capita                         -0.049293           0.226690   \n",
       "Urban_population_ratio                           0.131915          -0.003246   \n",
       "C02_per_capita                                   0.204046           0.036841   \n",
       "C02_per_urban_population                         0.167334           0.045749   \n",
       "Agricultural Land(Km2)                           0.806959           0.631675   \n",
       "Forested Area(Km2)                               0.923257           0.454573   \n",
       "\n",
       "                                           Birth Rate  Calling Code  \\\n",
       "Density\\n(P/Km2)                            -0.147024      0.006554   \n",
       "Agricultural Land( %)                        0.199269     -0.067008   \n",
       "Land Area(Km2)                              -0.066269     -0.230872   \n",
       "Armed Forces size                           -0.144801     -0.184330   \n",
       "Birth Rate                                   1.000000      0.072071   \n",
       "Calling Code                                 0.072071      1.000000   \n",
       "Co2-Emissions                               -0.155796     -0.155946   \n",
       "CPI                                          0.143298     -0.069684   \n",
       "CPI Change (%)                               0.107160     -0.082451   \n",
       "Fertility Rate                               0.981069      0.028379   \n",
       "Forested Area (%)                           -0.074321     -0.096525   \n",
       "Gasoline Price                              -0.204322     -0.185632   \n",
       "GDP                                         -0.181216     -0.182808   \n",
       "Gross primary education enrollment (%)      -0.083156     -0.035231   \n",
       "Gross tertiary education enrollment (%)     -0.728755     -0.223457   \n",
       "Infant mortality                             0.867456     -0.030603   \n",
       "Life expectancy                             -0.874747     -0.034624   \n",
       "Maternal mortality ratio                     0.768078     -0.130962   \n",
       "Minimum wage                                -0.503070     -0.190173   \n",
       "Out of pocket health expenditure             0.256198      0.013551   \n",
       "Physicians per thousand                     -0.740290     -0.041556   \n",
       "Population                                  -0.053263     -0.166159   \n",
       "Population: Labor force participation (%)    0.171302      0.052422   \n",
       "Tax revenue (%)                             -0.375103     -0.048855   \n",
       "Total tax rate                               0.199608     -0.244749   \n",
       "Unemployment rate                           -0.043458     -0.115191   \n",
       "Urban_population                            -0.107609     -0.191676   \n",
       "Latitude                                    -0.502965      0.012973   \n",
       "Longitude                                    0.039247      0.194236   \n",
       "GDP_per_capita                              -0.517063     -0.118386   \n",
       "Armed_forces_per_capita                     -0.220185      0.216663   \n",
       "Urban_population_ratio                      -0.549081     -0.064436   \n",
       "C02_per_capita                              -0.499486      0.074199   \n",
       "C02_per_urban_population                    -0.499357      0.029172   \n",
       "Agricultural Land(Km2)                      -0.040281     -0.202962   \n",
       "Forested Area(Km2)                          -0.093220     -0.202168   \n",
       "\n",
       "                                           Co2-Emissions       CPI  \\\n",
       "Density\\n(P/Km2)                               -0.014262 -0.043356   \n",
       "Agricultural Land( %)                           0.061191 -0.007684   \n",
       "Land Area(Km2)                                  0.590746  0.020893   \n",
       "Armed Forces size                               0.740868  0.040839   \n",
       "Birth Rate                                     -0.155796  0.143298   \n",
       "Calling Code                                   -0.155946 -0.069684   \n",
       "Co2-Emissions                                   1.000000 -0.017479   \n",
       "CPI                                            -0.017479  1.000000   \n",
       "CPI Change (%)                                 -0.004215  0.894710   \n",
       "Fertility Rate                                 -0.141534  0.141352   \n",
       "Forested Area (%)                              -0.028803  0.004455   \n",
       "Gasoline Price                                 -0.068119 -0.271422   \n",
       "GDP                                             0.916857 -0.026833   \n",
       "Gross primary education enrollment (%)          0.002429 -0.197083   \n",
       "Gross tertiary education enrollment (%)         0.155140  0.024434   \n",
       "Infant mortality                               -0.123867  0.190247   \n",
       "Life expectancy                                 0.121891 -0.181656   \n",
       "Maternal mortality ratio                       -0.108334  0.307860   \n",
       "Minimum wage                                    0.083816 -0.134284   \n",
       "Out of pocket health expenditure               -0.032995  0.161681   \n",
       "Physicians per thousand                         0.062510 -0.077980   \n",
       "Population                                      0.809944 -0.004925   \n",
       "Population: Labor force participation (%)      -0.013713  0.021369   \n",
       "Tax revenue (%)                                -0.144081 -0.208853   \n",
       "Total tax rate                                  0.061495  0.043006   \n",
       "Unemployment rate                               0.006481  0.120156   \n",
       "Urban_population                                0.926263 -0.009298   \n",
       "Latitude                                        0.118715 -0.075549   \n",
       "Longitude                                       0.074345 -0.022809   \n",
       "GDP_per_capita                                  0.094225 -0.092499   \n",
       "Armed_forces_per_capita                        -0.045806  0.224205   \n",
       "Urban_population_ratio                          0.092414 -0.095935   \n",
       "C02_per_capita                                  0.165296 -0.071926   \n",
       "C02_per_urban_population                        0.156803 -0.083757   \n",
       "Agricultural Land(Km2)                          0.778458  0.029184   \n",
       "Forested Area(Km2)                              0.417436  0.027841   \n",
       "\n",
       "                                           CPI Change (%)  Fertility Rate  \\\n",
       "Density\\n(P/Km2)                                -0.052459       -0.149302   \n",
       "Agricultural Land( %)                           -0.010878        0.180507   \n",
       "Land Area(Km2)                                   0.034210       -0.064764   \n",
       "Armed Forces size                                0.061519       -0.146258   \n",
       "Birth Rate                                       0.107160        0.981069   \n",
       "Calling Code                                    -0.082451        0.028379   \n",
       "Co2-Emissions                                   -0.004215       -0.141534   \n",
       "CPI                                              0.894710        0.141352   \n",
       "CPI Change (%)                                   1.000000        0.097405   \n",
       "Fertility Rate                                   0.097405        1.000000   \n",
       "Forested Area (%)                                0.015317       -0.063429   \n",
       "Gasoline Price                                  -0.275388       -0.126090   \n",
       "GDP                                             -0.011083       -0.160240   \n",
       "Gross primary education enrollment (%)          -0.158228       -0.142988   \n",
       "Gross tertiary education enrollment (%)          0.065089       -0.684777   \n",
       "Infant mortality                                 0.158888        0.852653   \n",
       "Life expectancy                                 -0.150087       -0.849153   \n",
       "Maternal mortality ratio                         0.227810        0.779460   \n",
       "Minimum wage                                    -0.104414       -0.431950   \n",
       "Out of pocket health expenditure                 0.136583        0.204644   \n",
       "Physicians per thousand                         -0.040019       -0.683172   \n",
       "Population                                       0.005618       -0.055491   \n",
       "Population: Labor force participation (%)       -0.016332        0.156793   \n",
       "Tax revenue (%)                                 -0.241255       -0.373152   \n",
       "Total tax rate                                   0.117012        0.210859   \n",
       "Unemployment rate                                0.111920       -0.072601   \n",
       "Urban_population                                 0.007353       -0.104058   \n",
       "Latitude                                        -0.089570       -0.457999   \n",
       "Longitude                                       -0.076524        0.034218   \n",
       "GDP_per_capita                                  -0.085904       -0.479901   \n",
       "Armed_forces_per_capita                          0.199855       -0.222319   \n",
       "Urban_population_ratio                          -0.012757       -0.515546   \n",
       "C02_per_capita                                  -0.063803       -0.457236   \n",
       "C02_per_urban_population                        -0.084091       -0.467220   \n",
       "Agricultural Land(Km2)                           0.042509       -0.037783   \n",
       "Forested Area(Km2)                               0.028466       -0.089239   \n",
       "\n",
       "                                           ...  Urban_population  Latitude  \\\n",
       "Density\\n(P/Km2)                           ...         -0.022420  0.064640   \n",
       "Agricultural Land( %)                      ...          0.101679 -0.034725   \n",
       "Land Area(Km2)                             ...          0.546836  0.049251   \n",
       "Armed Forces size                          ...          0.851101  0.120165   \n",
       "Birth Rate                                 ...         -0.107609 -0.502965   \n",
       "Calling Code                               ...         -0.191676  0.012973   \n",
       "Co2-Emissions                              ...          0.926263  0.118715   \n",
       "CPI                                        ...         -0.009298 -0.075549   \n",
       "CPI Change (%)                             ...          0.007353 -0.089570   \n",
       "Fertility Rate                             ...         -0.104058 -0.457999   \n",
       "Forested Area (%)                          ...         -0.034797 -0.141622   \n",
       "Gasoline Price                             ...         -0.074689  0.141676   \n",
       "GDP                                        ...          0.784276  0.138481   \n",
       "Gross primary education enrollment (%)     ...          0.028690 -0.139983   \n",
       "Gross tertiary education enrollment (%)    ...          0.097051  0.428001   \n",
       "Infant mortality                           ...         -0.057372 -0.436380   \n",
       "Life expectancy                            ...          0.070463  0.472759   \n",
       "Maternal mortality ratio                   ...         -0.067213 -0.330127   \n",
       "Minimum wage                               ...          0.008586  0.285251   \n",
       "Out of pocket health expenditure           ...          0.064660  0.112126   \n",
       "Physicians per thousand                    ...          0.000463  0.526565   \n",
       "Population                                 ...          0.954204  0.044698   \n",
       "Population: Labor force participation (%)  ...         -0.048768 -0.284245   \n",
       "Tax revenue (%)                            ...         -0.184573  0.051083   \n",
       "Total tax rate                             ...          0.098645 -0.105382   \n",
       "Unemployment rate                          ...         -0.014622 -0.065496   \n",
       "Urban_population                           ...          1.000000  0.066901   \n",
       "Latitude                                   ...          0.066901  1.000000   \n",
       "Longitude                                  ...          0.097446  0.013635   \n",
       "GDP_per_capita                             ...          0.002014  0.388911   \n",
       "Armed_forces_per_capita                    ...         -0.071312  0.168132   \n",
       "Urban_population_ratio                     ...          0.049609  0.302123   \n",
       "C02_per_capita                             ...          0.065265  0.295515   \n",
       "C02_per_urban_population                   ...          0.061947  0.272348   \n",
       "Agricultural Land(Km2)                     ...          0.750044 -0.034063   \n",
       "Forested Area(Km2)                         ...          0.397177  0.050073   \n",
       "\n",
       "                                           Longitude  GDP_per_capita  \\\n",
       "Density\\n(P/Km2)                            0.031940        0.509388   \n",
       "Agricultural Land( %)                      -0.016716       -0.184610   \n",
       "Land Area(Km2)                              0.010435        0.042286   \n",
       "Armed Forces size                           0.208265       -0.031141   \n",
       "Birth Rate                                  0.039247       -0.517063   \n",
       "Calling Code                                0.194236       -0.118386   \n",
       "Co2-Emissions                               0.074345        0.094225   \n",
       "CPI                                        -0.022809       -0.092499   \n",
       "CPI Change (%)                             -0.076524       -0.085904   \n",
       "Fertility Rate                              0.034218       -0.479901   \n",
       "Forested Area (%)                           0.033859       -0.004935   \n",
       "Gasoline Price                             -0.065589        0.393794   \n",
       "GDP                                        -0.002612        0.165590   \n",
       "Gross primary education enrollment (%)     -0.045958        0.003478   \n",
       "Gross tertiary education enrollment (%)    -0.030344        0.469316   \n",
       "Infant mortality                            0.037578       -0.491489   \n",
       "Life expectancy                            -0.072483        0.615075   \n",
       "Maternal mortality ratio                   -0.015930       -0.403938   \n",
       "Minimum wage                                0.001699        0.839084   \n",
       "Out of pocket health expenditure            0.022568       -0.368834   \n",
       "Physicians per thousand                    -0.064380        0.556510   \n",
       "Population                                  0.123488       -0.039341   \n",
       "Population: Labor force participation (%)   0.089733        0.047136   \n",
       "Tax revenue (%)                            -0.073395        0.220150   \n",
       "Total tax rate                             -0.084672       -0.185820   \n",
       "Unemployment rate                          -0.190618       -0.127732   \n",
       "Urban_population                            0.097446        0.002014   \n",
       "Latitude                                    0.013635        0.388911   \n",
       "Longitude                                   1.000000       -0.032521   \n",
       "GDP_per_capita                             -0.032521        1.000000   \n",
       "Armed_forces_per_capita                     0.237350       -0.016451   \n",
       "Urban_population_ratio                     -0.111192        0.422999   \n",
       "C02_per_capita                              0.083090        0.474336   \n",
       "C02_per_urban_population                    0.038957        0.409785   \n",
       "Agricultural Land(Km2)                      0.053026        0.048128   \n",
       "Forested Area(Km2)                         -0.018781        0.050170   \n",
       "\n",
       "                                           Armed_forces_per_capita  \\\n",
       "Density\\n(P/Km2)                                          0.128609   \n",
       "Agricultural Land( %)                                    -0.114000   \n",
       "Land Area(Km2)                                           -0.049293   \n",
       "Armed Forces size                                         0.226690   \n",
       "Birth Rate                                               -0.220185   \n",
       "Calling Code                                              0.216663   \n",
       "Co2-Emissions                                            -0.045806   \n",
       "CPI                                                       0.224205   \n",
       "CPI Change (%)                                            0.199855   \n",
       "Fertility Rate                                           -0.222319   \n",
       "Forested Area (%)                                         0.003684   \n",
       "Gasoline Price                                           -0.095113   \n",
       "GDP                                                      -0.053893   \n",
       "Gross primary education enrollment (%)                   -0.108952   \n",
       "Gross tertiary education enrollment (%)                   0.155199   \n",
       "Infant mortality                                         -0.210108   \n",
       "Life expectancy                                           0.170866   \n",
       "Maternal mortality ratio                                 -0.149033   \n",
       "Minimum wage                                              0.010178   \n",
       "Out of pocket health expenditure                          0.115426   \n",
       "Physicians per thousand                                   0.220966   \n",
       "Population                                               -0.078639   \n",
       "Population: Labor force participation (%)                 0.055912   \n",
       "Tax revenue (%)                                           0.034646   \n",
       "Total tax rate                                           -0.076488   \n",
       "Unemployment rate                                         0.004478   \n",
       "Urban_population                                         -0.071312   \n",
       "Latitude                                                  0.168132   \n",
       "Longitude                                                 0.237350   \n",
       "GDP_per_capita                                           -0.016451   \n",
       "Armed_forces_per_capita                                   1.000000   \n",
       "Urban_population_ratio                                    0.122006   \n",
       "C02_per_capita                                            0.085162   \n",
       "C02_per_urban_population                                  0.051224   \n",
       "Agricultural Land(Km2)                                   -0.087965   \n",
       "Forested Area(Km2)                                       -0.013581   \n",
       "\n",
       "                                           Urban_population_ratio  \\\n",
       "Density\\n(P/Km2)                                         0.163681   \n",
       "Agricultural Land( %)                                   -0.131475   \n",
       "Land Area(Km2)                                           0.131915   \n",
       "Armed Forces size                                       -0.003246   \n",
       "Birth Rate                                              -0.549081   \n",
       "Calling Code                                            -0.064436   \n",
       "Co2-Emissions                                            0.092414   \n",
       "CPI                                                     -0.095935   \n",
       "CPI Change (%)                                          -0.012757   \n",
       "Fertility Rate                                          -0.515546   \n",
       "Forested Area (%)                                       -0.020725   \n",
       "Gasoline Price                                           0.039672   \n",
       "GDP                                                      0.141466   \n",
       "Gross primary education enrollment (%)                  -0.050886   \n",
       "Gross tertiary education enrollment (%)                  0.583757   \n",
       "Infant mortality                                        -0.534906   \n",
       "Life expectancy                                          0.567617   \n",
       "Maternal mortality ratio                                -0.463172   \n",
       "Minimum wage                                             0.518518   \n",
       "Out of pocket health expenditure                        -0.324033   \n",
       "Physicians per thousand                                  0.556085   \n",
       "Population                                              -0.038781   \n",
       "Population: Labor force participation (%)               -0.137953   \n",
       "Tax revenue (%)                                          0.067239   \n",
       "Total tax rate                                          -0.036872   \n",
       "Unemployment rate                                        0.109376   \n",
       "Urban_population                                         0.049609   \n",
       "Latitude                                                 0.302123   \n",
       "Longitude                                               -0.111192   \n",
       "GDP_per_capita                                           0.422999   \n",
       "Armed_forces_per_capita                                  0.122006   \n",
       "Urban_population_ratio                                   1.000000   \n",
       "C02_per_capita                                           0.515211   \n",
       "C02_per_urban_population                                 0.294311   \n",
       "Agricultural Land(Km2)                                   0.110307   \n",
       "Forested Area(Km2)                                       0.134586   \n",
       "\n",
       "                                           C02_per_capita  \\\n",
       "Density\\n(P/Km2)                                 0.077699   \n",
       "Agricultural Land( %)                           -0.259911   \n",
       "Land Area(Km2)                                   0.204046   \n",
       "Armed Forces size                                0.036841   \n",
       "Birth Rate                                      -0.499486   \n",
       "Calling Code                                     0.074199   \n",
       "Co2-Emissions                                    0.165296   \n",
       "CPI                                             -0.071926   \n",
       "CPI Change (%)                                  -0.063803   \n",
       "Fertility Rate                                  -0.457236   \n",
       "Forested Area (%)                               -0.077237   \n",
       "Gasoline Price                                  -0.230992   \n",
       "GDP                                              0.196263   \n",
       "Gross primary education enrollment (%)          -0.029095   \n",
       "Gross tertiary education enrollment (%)          0.393494   \n",
       "Infant mortality                                -0.469388   \n",
       "Life expectancy                                  0.457342   \n",
       "Maternal mortality ratio                        -0.409922   \n",
       "Minimum wage                                     0.502850   \n",
       "Out of pocket health expenditure                -0.281684   \n",
       "Physicians per thousand                          0.426457   \n",
       "Population                                       0.008125   \n",
       "Population: Labor force participation (%)        0.056352   \n",
       "Tax revenue (%)                                 -0.026767   \n",
       "Total tax rate                                  -0.220758   \n",
       "Unemployment rate                               -0.109836   \n",
       "Urban_population                                 0.065265   \n",
       "Latitude                                         0.295515   \n",
       "Longitude                                        0.083090   \n",
       "GDP_per_capita                                   0.474336   \n",
       "Armed_forces_per_capita                          0.085162   \n",
       "Urban_population_ratio                           0.515211   \n",
       "C02_per_capita                                   1.000000   \n",
       "C02_per_urban_population                         0.921530   \n",
       "Agricultural Land(Km2)                           0.185089   \n",
       "Forested Area(Km2)                               0.147486   \n",
       "\n",
       "                                           C02_per_urban_population  \\\n",
       "Density\\n(P/Km2)                                           0.044822   \n",
       "Agricultural Land( %)                                     -0.263387   \n",
       "Land Area(Km2)                                             0.167334   \n",
       "Armed Forces size                                          0.045749   \n",
       "Birth Rate                                                -0.499357   \n",
       "Calling Code                                               0.029172   \n",
       "Co2-Emissions                                              0.156803   \n",
       "CPI                                                       -0.083757   \n",
       "CPI Change (%)                                            -0.084091   \n",
       "Fertility Rate                                            -0.467220   \n",
       "Forested Area (%)                                         -0.021005   \n",
       "Gasoline Price                                            -0.204670   \n",
       "GDP                                                        0.167064   \n",
       "Gross primary education enrollment (%)                    -0.015704   \n",
       "Gross tertiary education enrollment (%)                    0.325260   \n",
       "Infant mortality                                          -0.451624   \n",
       "Life expectancy                                            0.423025   \n",
       "Maternal mortality ratio                                  -0.418157   \n",
       "Minimum wage                                               0.364787   \n",
       "Out of pocket health expenditure                          -0.210085   \n",
       "Physicians per thousand                                    0.407998   \n",
       "Population                                                 0.019095   \n",
       "Population: Labor force participation (%)                 -0.002682   \n",
       "Tax revenue (%)                                            0.042452   \n",
       "Total tax rate                                            -0.219398   \n",
       "Unemployment rate                                         -0.070930   \n",
       "Urban_population                                           0.061947   \n",
       "Latitude                                                   0.272348   \n",
       "Longitude                                                  0.038957   \n",
       "GDP_per_capita                                             0.409785   \n",
       "Armed_forces_per_capita                                    0.051224   \n",
       "Urban_population_ratio                                     0.294311   \n",
       "C02_per_capita                                             0.921530   \n",
       "C02_per_urban_population                                   1.000000   \n",
       "Agricultural Land(Km2)                                     0.161839   \n",
       "Forested Area(Km2)                                         0.115242   \n",
       "\n",
       "                                           Agricultural Land(Km2)  \\\n",
       "Density\\n(P/Km2)                                        -0.078108   \n",
       "Agricultural Land( %)                                    0.186975   \n",
       "Land Area(Km2)                                           0.806959   \n",
       "Armed Forces size                                        0.631675   \n",
       "Birth Rate                                              -0.040281   \n",
       "Calling Code                                            -0.202962   \n",
       "Co2-Emissions                                            0.778458   \n",
       "CPI                                                      0.029184   \n",
       "CPI Change (%)                                           0.042509   \n",
       "Fertility Rate                                          -0.037783   \n",
       "Forested Area (%)                                       -0.114254   \n",
       "Gasoline Price                                          -0.181069   \n",
       "GDP                                                      0.741122   \n",
       "Gross primary education enrollment (%)                  -0.007452   \n",
       "Gross tertiary education enrollment (%)                  0.199803   \n",
       "Infant mortality                                        -0.049534   \n",
       "Life expectancy                                          0.033115   \n",
       "Maternal mortality ratio                                -0.039897   \n",
       "Minimum wage                                             0.124445   \n",
       "Out of pocket health expenditure                        -0.009944   \n",
       "Physicians per thousand                                  0.057215   \n",
       "Population                                               0.646121   \n",
       "Population: Labor force participation (%)               -0.001361   \n",
       "Tax revenue (%)                                         -0.184083   \n",
       "Total tax rate                                           0.109152   \n",
       "Unemployment rate                                        0.066028   \n",
       "Urban_population                                         0.750044   \n",
       "Latitude                                                -0.034063   \n",
       "Longitude                                                0.053026   \n",
       "GDP_per_capita                                           0.048128   \n",
       "Armed_forces_per_capita                                 -0.087965   \n",
       "Urban_population_ratio                                   0.110307   \n",
       "C02_per_capita                                           0.185089   \n",
       "C02_per_urban_population                                 0.161839   \n",
       "Agricultural Land(Km2)                                   1.000000   \n",
       "Forested Area(Km2)                                       0.598796   \n",
       "\n",
       "                                           Forested Area(Km2)  \n",
       "Density\\n(P/Km2)                                    -0.064134  \n",
       "Agricultural Land( %)                               -0.111622  \n",
       "Land Area(Km2)                                       0.923257  \n",
       "Armed Forces size                                    0.454573  \n",
       "Birth Rate                                          -0.093220  \n",
       "Calling Code                                        -0.202168  \n",
       "Co2-Emissions                                        0.417436  \n",
       "CPI                                                  0.027841  \n",
       "CPI Change (%)                                       0.028466  \n",
       "Fertility Rate                                      -0.089239  \n",
       "Forested Area (%)                                    0.141555  \n",
       "Gasoline Price                                      -0.105600  \n",
       "GDP                                                  0.395811  \n",
       "Gross primary education enrollment (%)               0.046864  \n",
       "Gross tertiary education enrollment (%)              0.177657  \n",
       "Infant mortality                                    -0.071649  \n",
       "Life expectancy                                      0.052648  \n",
       "Maternal mortality ratio                            -0.067574  \n",
       "Minimum wage                                         0.069539  \n",
       "Out of pocket health expenditure                    -0.042207  \n",
       "Physicians per thousand                              0.079610  \n",
       "Population                                           0.300628  \n",
       "Population: Labor force participation (%)            0.040950  \n",
       "Tax revenue (%)                                     -0.145180  \n",
       "Total tax rate                                       0.072294  \n",
       "Unemployment rate                                    0.006661  \n",
       "Urban_population                                     0.397177  \n",
       "Latitude                                             0.050073  \n",
       "Longitude                                           -0.018781  \n",
       "GDP_per_capita                                       0.050170  \n",
       "Armed_forces_per_capita                             -0.013581  \n",
       "Urban_population_ratio                               0.134586  \n",
       "C02_per_capita                                       0.147486  \n",
       "C02_per_urban_population                             0.115242  \n",
       "Agricultural Land(Km2)                               0.598796  \n",
       "Forested Area(Km2)                                   1.000000  \n",
       "\n",
       "[36 rows x 36 columns]"
      ]
     },
     "execution_count": 29,
     "metadata": {},
     "output_type": "execute_result"
    }
   ],
   "source": [
    "df_corr"
   ]
  },
  {
   "cell_type": "code",
   "execution_count": 19,
   "id": "392f6924",
   "metadata": {
    "scrolled": true
   },
   "outputs": [],
   "source": [
    "## Extract the strongest correlations from the correlation table\n",
    "key_corr = []\n",
    "for col in df_corr.columns:\n",
    "    for row in df_corr.index:\n",
    "        if (df_corr[row][col] > 0.5 or df_corr[row][col] < -0.5) and (df_corr[row][col] < 1.0):\n",
    "            key_corr.append({\"x\": row, \"y\": col, \"correlation\": df_corr[row][col]})"
   ]
  },
  {
   "cell_type": "code",
   "execution_count": 20,
   "id": "0747c704",
   "metadata": {},
   "outputs": [
    {
     "data": {
      "text/plain": [
       "[{'x': 'GDP_per_capita',\n",
       "  'y': 'Density\\n(P/Km2)',\n",
       "  'correlation': 0.5093882161768769},\n",
       " {'x': 'Armed Forces size',\n",
       "  'y': 'Land Area(Km2)',\n",
       "  'correlation': 0.5517303327979796},\n",
       " {'x': 'Co2-Emissions',\n",
       "  'y': 'Land Area(Km2)',\n",
       "  'correlation': 0.5907461890743969},\n",
       " {'x': 'GDP', 'y': 'Land Area(Km2)', 'correlation': 0.5505920485677658},\n",
       " {'x': 'Urban_population',\n",
       "  'y': 'Land Area(Km2)',\n",
       "  'correlation': 0.546836346860166},\n",
       " {'x': 'Agricultural Land(Km2)',\n",
       "  'y': 'Land Area(Km2)',\n",
       "  'correlation': 0.8069594004324024},\n",
       " {'x': 'Forested Area(Km2)',\n",
       "  'y': 'Land Area(Km2)',\n",
       "  'correlation': 0.9232570018571457},\n",
       " {'x': 'Land Area(Km2)',\n",
       "  'y': 'Armed Forces size',\n",
       "  'correlation': 0.5517303327979796},\n",
       " {'x': 'Co2-Emissions',\n",
       "  'y': 'Armed Forces size',\n",
       "  'correlation': 0.7408682021582728},\n",
       " {'x': 'GDP', 'y': 'Armed Forces size', 'correlation': 0.6054864405942135},\n",
       " {'x': 'Population',\n",
       "  'y': 'Armed Forces size',\n",
       "  'correlation': 0.8759115892124134},\n",
       " {'x': 'Urban_population',\n",
       "  'y': 'Armed Forces size',\n",
       "  'correlation': 0.8511006615536322},\n",
       " {'x': 'Agricultural Land(Km2)',\n",
       "  'y': 'Armed Forces size',\n",
       "  'correlation': 0.6316752129284023},\n",
       " {'x': 'Fertility Rate', 'y': 'Birth Rate', 'correlation': 0.9810694782681492},\n",
       " {'x': 'Gross tertiary education enrollment (%)',\n",
       "  'y': 'Birth Rate',\n",
       "  'correlation': -0.7287552059650629},\n",
       " {'x': 'Infant mortality',\n",
       "  'y': 'Birth Rate',\n",
       "  'correlation': 0.8674555265603551},\n",
       " {'x': 'Life expectancy',\n",
       "  'y': 'Birth Rate',\n",
       "  'correlation': -0.8747472099732809},\n",
       " {'x': 'Maternal mortality ratio',\n",
       "  'y': 'Birth Rate',\n",
       "  'correlation': 0.7680784191625778},\n",
       " {'x': 'Minimum wage', 'y': 'Birth Rate', 'correlation': -0.5030703758948283},\n",
       " {'x': 'Physicians per thousand',\n",
       "  'y': 'Birth Rate',\n",
       "  'correlation': -0.7402898098630792},\n",
       " {'x': 'Latitude', 'y': 'Birth Rate', 'correlation': -0.5029646904346391},\n",
       " {'x': 'GDP_per_capita',\n",
       "  'y': 'Birth Rate',\n",
       "  'correlation': -0.5170628490298681},\n",
       " {'x': 'Urban_population_ratio',\n",
       "  'y': 'Birth Rate',\n",
       "  'correlation': -0.5490814530658477},\n",
       " {'x': 'Land Area(Km2)',\n",
       "  'y': 'Co2-Emissions',\n",
       "  'correlation': 0.5907461890743969},\n",
       " {'x': 'Armed Forces size',\n",
       "  'y': 'Co2-Emissions',\n",
       "  'correlation': 0.7408682021582728},\n",
       " {'x': 'GDP', 'y': 'Co2-Emissions', 'correlation': 0.9168570692123926},\n",
       " {'x': 'Population', 'y': 'Co2-Emissions', 'correlation': 0.80994384723593},\n",
       " {'x': 'Urban_population',\n",
       "  'y': 'Co2-Emissions',\n",
       "  'correlation': 0.9262633038353735},\n",
       " {'x': 'Agricultural Land(Km2)',\n",
       "  'y': 'Co2-Emissions',\n",
       "  'correlation': 0.7784582718904064},\n",
       " {'x': 'CPI Change (%)', 'y': 'CPI', 'correlation': 0.8947097340574462},\n",
       " {'x': 'CPI', 'y': 'CPI Change (%)', 'correlation': 0.8947097340574462},\n",
       " {'x': 'Birth Rate', 'y': 'Fertility Rate', 'correlation': 0.9810694782681492},\n",
       " {'x': 'Gross tertiary education enrollment (%)',\n",
       "  'y': 'Fertility Rate',\n",
       "  'correlation': -0.6847768705361267},\n",
       " {'x': 'Infant mortality',\n",
       "  'y': 'Fertility Rate',\n",
       "  'correlation': 0.8526532549827962},\n",
       " {'x': 'Life expectancy',\n",
       "  'y': 'Fertility Rate',\n",
       "  'correlation': -0.8491528107360012},\n",
       " {'x': 'Maternal mortality ratio',\n",
       "  'y': 'Fertility Rate',\n",
       "  'correlation': 0.7794599914679914},\n",
       " {'x': 'Physicians per thousand',\n",
       "  'y': 'Fertility Rate',\n",
       "  'correlation': -0.6831721740803974},\n",
       " {'x': 'Urban_population_ratio',\n",
       "  'y': 'Fertility Rate',\n",
       "  'correlation': -0.5155464159956359},\n",
       " {'x': 'Land Area(Km2)', 'y': 'GDP', 'correlation': 0.5505920485677658},\n",
       " {'x': 'Armed Forces size', 'y': 'GDP', 'correlation': 0.6054864405942135},\n",
       " {'x': 'Co2-Emissions', 'y': 'GDP', 'correlation': 0.9168570692123926},\n",
       " {'x': 'Population', 'y': 'GDP', 'correlation': 0.6323263672955209},\n",
       " {'x': 'Urban_population', 'y': 'GDP', 'correlation': 0.7842761108726205},\n",
       " {'x': 'Agricultural Land(Km2)',\n",
       "  'y': 'GDP',\n",
       "  'correlation': 0.7411222199678662},\n",
       " {'x': 'Birth Rate',\n",
       "  'y': 'Gross tertiary education enrollment (%)',\n",
       "  'correlation': -0.7287552059650629},\n",
       " {'x': 'Fertility Rate',\n",
       "  'y': 'Gross tertiary education enrollment (%)',\n",
       "  'correlation': -0.6847768705361267},\n",
       " {'x': 'Infant mortality',\n",
       "  'y': 'Gross tertiary education enrollment (%)',\n",
       "  'correlation': -0.7150637675179776},\n",
       " {'x': 'Life expectancy',\n",
       "  'y': 'Gross tertiary education enrollment (%)',\n",
       "  'correlation': 0.7225347334725575},\n",
       " {'x': 'Maternal mortality ratio',\n",
       "  'y': 'Gross tertiary education enrollment (%)',\n",
       "  'correlation': -0.5999508586665596},\n",
       " {'x': 'Minimum wage',\n",
       "  'y': 'Gross tertiary education enrollment (%)',\n",
       "  'correlation': 0.5430740323669304},\n",
       " {'x': 'Physicians per thousand',\n",
       "  'y': 'Gross tertiary education enrollment (%)',\n",
       "  'correlation': 0.7170813275603146},\n",
       " {'x': 'Urban_population_ratio',\n",
       "  'y': 'Gross tertiary education enrollment (%)',\n",
       "  'correlation': 0.5837570415995205},\n",
       " {'x': 'Birth Rate',\n",
       "  'y': 'Infant mortality',\n",
       "  'correlation': 0.8674555265603551},\n",
       " {'x': 'Fertility Rate',\n",
       "  'y': 'Infant mortality',\n",
       "  'correlation': 0.8526532549827962},\n",
       " {'x': 'Gross tertiary education enrollment (%)',\n",
       "  'y': 'Infant mortality',\n",
       "  'correlation': -0.7150637675179776},\n",
       " {'x': 'Life expectancy',\n",
       "  'y': 'Infant mortality',\n",
       "  'correlation': -0.9246753226745092},\n",
       " {'x': 'Maternal mortality ratio',\n",
       "  'y': 'Infant mortality',\n",
       "  'correlation': 0.8741346316220248},\n",
       " {'x': 'Physicians per thousand',\n",
       "  'y': 'Infant mortality',\n",
       "  'correlation': -0.6913821495436449},\n",
       " {'x': 'Urban_population_ratio',\n",
       "  'y': 'Infant mortality',\n",
       "  'correlation': -0.5349056985713235},\n",
       " {'x': 'Birth Rate',\n",
       "  'y': 'Life expectancy',\n",
       "  'correlation': -0.8747472099732809},\n",
       " {'x': 'Fertility Rate',\n",
       "  'y': 'Life expectancy',\n",
       "  'correlation': -0.8491528107360012},\n",
       " {'x': 'Gross tertiary education enrollment (%)',\n",
       "  'y': 'Life expectancy',\n",
       "  'correlation': 0.7225347334725575},\n",
       " {'x': 'Infant mortality',\n",
       "  'y': 'Life expectancy',\n",
       "  'correlation': -0.9246753226745092},\n",
       " {'x': 'Maternal mortality ratio',\n",
       "  'y': 'Life expectancy',\n",
       "  'correlation': -0.831796516119412},\n",
       " {'x': 'Minimum wage',\n",
       "  'y': 'Life expectancy',\n",
       "  'correlation': 0.599968609698126},\n",
       " {'x': 'Physicians per thousand',\n",
       "  'y': 'Life expectancy',\n",
       "  'correlation': 0.7037402285399244},\n",
       " {'x': 'GDP_per_capita',\n",
       "  'y': 'Life expectancy',\n",
       "  'correlation': 0.6150745488163301},\n",
       " {'x': 'Urban_population_ratio',\n",
       "  'y': 'Life expectancy',\n",
       "  'correlation': 0.5676168677489626},\n",
       " {'x': 'Birth Rate',\n",
       "  'y': 'Maternal mortality ratio',\n",
       "  'correlation': 0.7680784191625778},\n",
       " {'x': 'Fertility Rate',\n",
       "  'y': 'Maternal mortality ratio',\n",
       "  'correlation': 0.7794599914679914},\n",
       " {'x': 'Gross tertiary education enrollment (%)',\n",
       "  'y': 'Maternal mortality ratio',\n",
       "  'correlation': -0.5999508586665596},\n",
       " {'x': 'Infant mortality',\n",
       "  'y': 'Maternal mortality ratio',\n",
       "  'correlation': 0.8741346316220248},\n",
       " {'x': 'Life expectancy',\n",
       "  'y': 'Maternal mortality ratio',\n",
       "  'correlation': -0.831796516119412},\n",
       " {'x': 'Physicians per thousand',\n",
       "  'y': 'Maternal mortality ratio',\n",
       "  'correlation': -0.5829194261412547},\n",
       " {'x': 'Birth Rate', 'y': 'Minimum wage', 'correlation': -0.5030703758948283},\n",
       " {'x': 'Gross tertiary education enrollment (%)',\n",
       "  'y': 'Minimum wage',\n",
       "  'correlation': 0.5430740323669304},\n",
       " {'x': 'Life expectancy',\n",
       "  'y': 'Minimum wage',\n",
       "  'correlation': 0.599968609698126},\n",
       " {'x': 'GDP_per_capita',\n",
       "  'y': 'Minimum wage',\n",
       "  'correlation': 0.8390841790184612},\n",
       " {'x': 'Urban_population_ratio',\n",
       "  'y': 'Minimum wage',\n",
       "  'correlation': 0.5185175317322127},\n",
       " {'x': 'C02_per_capita',\n",
       "  'y': 'Minimum wage',\n",
       "  'correlation': 0.5028502059054728},\n",
       " {'x': 'Birth Rate',\n",
       "  'y': 'Physicians per thousand',\n",
       "  'correlation': -0.7402898098630792},\n",
       " {'x': 'Fertility Rate',\n",
       "  'y': 'Physicians per thousand',\n",
       "  'correlation': -0.6831721740803974},\n",
       " {'x': 'Gross tertiary education enrollment (%)',\n",
       "  'y': 'Physicians per thousand',\n",
       "  'correlation': 0.7170813275603146},\n",
       " {'x': 'Infant mortality',\n",
       "  'y': 'Physicians per thousand',\n",
       "  'correlation': -0.6913821495436449},\n",
       " {'x': 'Life expectancy',\n",
       "  'y': 'Physicians per thousand',\n",
       "  'correlation': 0.7037402285399244},\n",
       " {'x': 'Maternal mortality ratio',\n",
       "  'y': 'Physicians per thousand',\n",
       "  'correlation': -0.5829194261412547},\n",
       " {'x': 'Latitude',\n",
       "  'y': 'Physicians per thousand',\n",
       "  'correlation': 0.5265650780680575},\n",
       " {'x': 'GDP_per_capita',\n",
       "  'y': 'Physicians per thousand',\n",
       "  'correlation': 0.556509883265962},\n",
       " {'x': 'Urban_population_ratio',\n",
       "  'y': 'Physicians per thousand',\n",
       "  'correlation': 0.55608522230237},\n",
       " {'x': 'Armed Forces size',\n",
       "  'y': 'Population',\n",
       "  'correlation': 0.8759115892124134},\n",
       " {'x': 'Co2-Emissions', 'y': 'Population', 'correlation': 0.80994384723593},\n",
       " {'x': 'GDP', 'y': 'Population', 'correlation': 0.6323263672955209},\n",
       " {'x': 'Urban_population',\n",
       "  'y': 'Population',\n",
       "  'correlation': 0.9542038286243826},\n",
       " {'x': 'Agricultural Land(Km2)',\n",
       "  'y': 'Population',\n",
       "  'correlation': 0.6461207039578049},\n",
       " {'x': 'Land Area(Km2)',\n",
       "  'y': 'Urban_population',\n",
       "  'correlation': 0.546836346860166},\n",
       " {'x': 'Armed Forces size',\n",
       "  'y': 'Urban_population',\n",
       "  'correlation': 0.8511006615536322},\n",
       " {'x': 'Co2-Emissions',\n",
       "  'y': 'Urban_population',\n",
       "  'correlation': 0.9262633038353735},\n",
       " {'x': 'GDP', 'y': 'Urban_population', 'correlation': 0.7842761108726205},\n",
       " {'x': 'Population',\n",
       "  'y': 'Urban_population',\n",
       "  'correlation': 0.9542038286243826},\n",
       " {'x': 'Agricultural Land(Km2)',\n",
       "  'y': 'Urban_population',\n",
       "  'correlation': 0.7500438657924949},\n",
       " {'x': 'Birth Rate', 'y': 'Latitude', 'correlation': -0.5029646904346391},\n",
       " {'x': 'Physicians per thousand',\n",
       "  'y': 'Latitude',\n",
       "  'correlation': 0.5265650780680575},\n",
       " {'x': 'Density\\n(P/Km2)',\n",
       "  'y': 'GDP_per_capita',\n",
       "  'correlation': 0.5093882161768769},\n",
       " {'x': 'Birth Rate',\n",
       "  'y': 'GDP_per_capita',\n",
       "  'correlation': -0.5170628490298681},\n",
       " {'x': 'Life expectancy',\n",
       "  'y': 'GDP_per_capita',\n",
       "  'correlation': 0.6150745488163301},\n",
       " {'x': 'Minimum wage',\n",
       "  'y': 'GDP_per_capita',\n",
       "  'correlation': 0.8390841790184612},\n",
       " {'x': 'Physicians per thousand',\n",
       "  'y': 'GDP_per_capita',\n",
       "  'correlation': 0.556509883265962},\n",
       " {'x': 'Birth Rate',\n",
       "  'y': 'Urban_population_ratio',\n",
       "  'correlation': -0.5490814530658477},\n",
       " {'x': 'Fertility Rate',\n",
       "  'y': 'Urban_population_ratio',\n",
       "  'correlation': -0.5155464159956359},\n",
       " {'x': 'Gross tertiary education enrollment (%)',\n",
       "  'y': 'Urban_population_ratio',\n",
       "  'correlation': 0.5837570415995205},\n",
       " {'x': 'Infant mortality',\n",
       "  'y': 'Urban_population_ratio',\n",
       "  'correlation': -0.5349056985713235},\n",
       " {'x': 'Life expectancy',\n",
       "  'y': 'Urban_population_ratio',\n",
       "  'correlation': 0.5676168677489626},\n",
       " {'x': 'Minimum wage',\n",
       "  'y': 'Urban_population_ratio',\n",
       "  'correlation': 0.5185175317322127},\n",
       " {'x': 'Physicians per thousand',\n",
       "  'y': 'Urban_population_ratio',\n",
       "  'correlation': 0.55608522230237},\n",
       " {'x': 'C02_per_capita',\n",
       "  'y': 'Urban_population_ratio',\n",
       "  'correlation': 0.5152113638519994},\n",
       " {'x': 'Minimum wage',\n",
       "  'y': 'C02_per_capita',\n",
       "  'correlation': 0.5028502059054728},\n",
       " {'x': 'Urban_population_ratio',\n",
       "  'y': 'C02_per_capita',\n",
       "  'correlation': 0.5152113638519994},\n",
       " {'x': 'C02_per_urban_population',\n",
       "  'y': 'C02_per_capita',\n",
       "  'correlation': 0.9215303635897668},\n",
       " {'x': 'C02_per_capita',\n",
       "  'y': 'C02_per_urban_population',\n",
       "  'correlation': 0.9215303635897668},\n",
       " {'x': 'Land Area(Km2)',\n",
       "  'y': 'Agricultural Land(Km2)',\n",
       "  'correlation': 0.8069594004324024},\n",
       " {'x': 'Armed Forces size',\n",
       "  'y': 'Agricultural Land(Km2)',\n",
       "  'correlation': 0.6316752129284023},\n",
       " {'x': 'Co2-Emissions',\n",
       "  'y': 'Agricultural Land(Km2)',\n",
       "  'correlation': 0.7784582718904064},\n",
       " {'x': 'GDP',\n",
       "  'y': 'Agricultural Land(Km2)',\n",
       "  'correlation': 0.7411222199678662},\n",
       " {'x': 'Population',\n",
       "  'y': 'Agricultural Land(Km2)',\n",
       "  'correlation': 0.6461207039578049},\n",
       " {'x': 'Urban_population',\n",
       "  'y': 'Agricultural Land(Km2)',\n",
       "  'correlation': 0.7500438657924949},\n",
       " {'x': 'Forested Area(Km2)',\n",
       "  'y': 'Agricultural Land(Km2)',\n",
       "  'correlation': 0.5987956400337131},\n",
       " {'x': 'Land Area(Km2)',\n",
       "  'y': 'Forested Area(Km2)',\n",
       "  'correlation': 0.9232570018571457},\n",
       " {'x': 'Agricultural Land(Km2)',\n",
       "  'y': 'Forested Area(Km2)',\n",
       "  'correlation': 0.5987956400337131}]"
      ]
     },
     "execution_count": 20,
     "metadata": {},
     "output_type": "execute_result"
    }
   ],
   "source": [
    "key_corr"
   ]
  },
  {
   "cell_type": "code",
   "execution_count": 21,
   "id": "e18b6116",
   "metadata": {},
   "outputs": [],
   "source": [
    "key_corr_df = pd.DataFrame(key_corr)"
   ]
  },
  {
   "cell_type": "code",
   "execution_count": 22,
   "id": "3caa54db",
   "metadata": {},
   "outputs": [
    {
     "data": {
      "text/html": [
       "<div>\n",
       "<style scoped>\n",
       "    .dataframe tbody tr th:only-of-type {\n",
       "        vertical-align: middle;\n",
       "    }\n",
       "\n",
       "    .dataframe tbody tr th {\n",
       "        vertical-align: top;\n",
       "    }\n",
       "\n",
       "    .dataframe thead th {\n",
       "        text-align: right;\n",
       "    }\n",
       "</style>\n",
       "<table border=\"1\" class=\"dataframe\">\n",
       "  <thead>\n",
       "    <tr style=\"text-align: right;\">\n",
       "      <th></th>\n",
       "      <th>x</th>\n",
       "      <th>y</th>\n",
       "      <th>correlation</th>\n",
       "    </tr>\n",
       "  </thead>\n",
       "  <tbody>\n",
       "    <tr>\n",
       "      <th>0</th>\n",
       "      <td>GDP_per_capita</td>\n",
       "      <td>Density\\n(P/Km2)</td>\n",
       "      <td>0.509388</td>\n",
       "    </tr>\n",
       "    <tr>\n",
       "      <th>1</th>\n",
       "      <td>Armed Forces size</td>\n",
       "      <td>Land Area(Km2)</td>\n",
       "      <td>0.551730</td>\n",
       "    </tr>\n",
       "    <tr>\n",
       "      <th>2</th>\n",
       "      <td>Co2-Emissions</td>\n",
       "      <td>Land Area(Km2)</td>\n",
       "      <td>0.590746</td>\n",
       "    </tr>\n",
       "    <tr>\n",
       "      <th>3</th>\n",
       "      <td>GDP</td>\n",
       "      <td>Land Area(Km2)</td>\n",
       "      <td>0.550592</td>\n",
       "    </tr>\n",
       "    <tr>\n",
       "      <th>4</th>\n",
       "      <td>Urban_population</td>\n",
       "      <td>Land Area(Km2)</td>\n",
       "      <td>0.546836</td>\n",
       "    </tr>\n",
       "    <tr>\n",
       "      <th>...</th>\n",
       "      <td>...</td>\n",
       "      <td>...</td>\n",
       "      <td>...</td>\n",
       "    </tr>\n",
       "    <tr>\n",
       "      <th>123</th>\n",
       "      <td>Population</td>\n",
       "      <td>Agricultural Land(Km2)</td>\n",
       "      <td>0.646121</td>\n",
       "    </tr>\n",
       "    <tr>\n",
       "      <th>124</th>\n",
       "      <td>Urban_population</td>\n",
       "      <td>Agricultural Land(Km2)</td>\n",
       "      <td>0.750044</td>\n",
       "    </tr>\n",
       "    <tr>\n",
       "      <th>125</th>\n",
       "      <td>Forested Area(Km2)</td>\n",
       "      <td>Agricultural Land(Km2)</td>\n",
       "      <td>0.598796</td>\n",
       "    </tr>\n",
       "    <tr>\n",
       "      <th>126</th>\n",
       "      <td>Land Area(Km2)</td>\n",
       "      <td>Forested Area(Km2)</td>\n",
       "      <td>0.923257</td>\n",
       "    </tr>\n",
       "    <tr>\n",
       "      <th>127</th>\n",
       "      <td>Agricultural Land(Km2)</td>\n",
       "      <td>Forested Area(Km2)</td>\n",
       "      <td>0.598796</td>\n",
       "    </tr>\n",
       "  </tbody>\n",
       "</table>\n",
       "<p>128 rows × 3 columns</p>\n",
       "</div>"
      ],
      "text/plain": [
       "                          x                       y  correlation\n",
       "0            GDP_per_capita        Density\\n(P/Km2)     0.509388\n",
       "1         Armed Forces size          Land Area(Km2)     0.551730\n",
       "2             Co2-Emissions          Land Area(Km2)     0.590746\n",
       "3                       GDP          Land Area(Km2)     0.550592\n",
       "4          Urban_population          Land Area(Km2)     0.546836\n",
       "..                      ...                     ...          ...\n",
       "123              Population  Agricultural Land(Km2)     0.646121\n",
       "124        Urban_population  Agricultural Land(Km2)     0.750044\n",
       "125      Forested Area(Km2)  Agricultural Land(Km2)     0.598796\n",
       "126          Land Area(Km2)      Forested Area(Km2)     0.923257\n",
       "127  Agricultural Land(Km2)      Forested Area(Km2)     0.598796\n",
       "\n",
       "[128 rows x 3 columns]"
      ]
     },
     "execution_count": 22,
     "metadata": {},
     "output_type": "execute_result"
    }
   ],
   "source": [
    "# Remove Duplicates\n",
    "key_corr_df"
   ]
  },
  {
   "cell_type": "code",
   "execution_count": 23,
   "id": "9ea2f248",
   "metadata": {},
   "outputs": [],
   "source": [
    "key_corr_df.drop_duplicates(subset=['correlation'], inplace=True)"
   ]
  },
  {
   "cell_type": "code",
   "execution_count": 24,
   "id": "10f13c7a",
   "metadata": {},
   "outputs": [
    {
     "data": {
      "text/html": [
       "<div>\n",
       "<style scoped>\n",
       "    .dataframe tbody tr th:only-of-type {\n",
       "        vertical-align: middle;\n",
       "    }\n",
       "\n",
       "    .dataframe tbody tr th {\n",
       "        vertical-align: top;\n",
       "    }\n",
       "\n",
       "    .dataframe thead th {\n",
       "        text-align: right;\n",
       "    }\n",
       "</style>\n",
       "<table border=\"1\" class=\"dataframe\">\n",
       "  <thead>\n",
       "    <tr style=\"text-align: right;\">\n",
       "      <th></th>\n",
       "      <th>x</th>\n",
       "      <th>y</th>\n",
       "      <th>correlation</th>\n",
       "    </tr>\n",
       "  </thead>\n",
       "  <tbody>\n",
       "    <tr>\n",
       "      <th>0</th>\n",
       "      <td>GDP_per_capita</td>\n",
       "      <td>Density\\n(P/Km2)</td>\n",
       "      <td>0.509388</td>\n",
       "    </tr>\n",
       "    <tr>\n",
       "      <th>1</th>\n",
       "      <td>Armed Forces size</td>\n",
       "      <td>Land Area(Km2)</td>\n",
       "      <td>0.551730</td>\n",
       "    </tr>\n",
       "    <tr>\n",
       "      <th>2</th>\n",
       "      <td>Co2-Emissions</td>\n",
       "      <td>Land Area(Km2)</td>\n",
       "      <td>0.590746</td>\n",
       "    </tr>\n",
       "    <tr>\n",
       "      <th>3</th>\n",
       "      <td>GDP</td>\n",
       "      <td>Land Area(Km2)</td>\n",
       "      <td>0.550592</td>\n",
       "    </tr>\n",
       "    <tr>\n",
       "      <th>4</th>\n",
       "      <td>Urban_population</td>\n",
       "      <td>Land Area(Km2)</td>\n",
       "      <td>0.546836</td>\n",
       "    </tr>\n",
       "    <tr>\n",
       "      <th>...</th>\n",
       "      <td>...</td>\n",
       "      <td>...</td>\n",
       "      <td>...</td>\n",
       "    </tr>\n",
       "    <tr>\n",
       "      <th>93</th>\n",
       "      <td>Agricultural Land(Km2)</td>\n",
       "      <td>Population</td>\n",
       "      <td>0.646121</td>\n",
       "    </tr>\n",
       "    <tr>\n",
       "      <th>99</th>\n",
       "      <td>Agricultural Land(Km2)</td>\n",
       "      <td>Urban_population</td>\n",
       "      <td>0.750044</td>\n",
       "    </tr>\n",
       "    <tr>\n",
       "      <th>114</th>\n",
       "      <td>C02_per_capita</td>\n",
       "      <td>Urban_population_ratio</td>\n",
       "      <td>0.515211</td>\n",
       "    </tr>\n",
       "    <tr>\n",
       "      <th>117</th>\n",
       "      <td>C02_per_urban_population</td>\n",
       "      <td>C02_per_capita</td>\n",
       "      <td>0.921530</td>\n",
       "    </tr>\n",
       "    <tr>\n",
       "      <th>125</th>\n",
       "      <td>Forested Area(Km2)</td>\n",
       "      <td>Agricultural Land(Km2)</td>\n",
       "      <td>0.598796</td>\n",
       "    </tr>\n",
       "  </tbody>\n",
       "</table>\n",
       "<p>64 rows × 3 columns</p>\n",
       "</div>"
      ],
      "text/plain": [
       "                            x                       y  correlation\n",
       "0              GDP_per_capita        Density\\n(P/Km2)     0.509388\n",
       "1           Armed Forces size          Land Area(Km2)     0.551730\n",
       "2               Co2-Emissions          Land Area(Km2)     0.590746\n",
       "3                         GDP          Land Area(Km2)     0.550592\n",
       "4            Urban_population          Land Area(Km2)     0.546836\n",
       "..                        ...                     ...          ...\n",
       "93     Agricultural Land(Km2)              Population     0.646121\n",
       "99     Agricultural Land(Km2)        Urban_population     0.750044\n",
       "114            C02_per_capita  Urban_population_ratio     0.515211\n",
       "117  C02_per_urban_population          C02_per_capita     0.921530\n",
       "125        Forested Area(Km2)  Agricultural Land(Km2)     0.598796\n",
       "\n",
       "[64 rows x 3 columns]"
      ]
     },
     "execution_count": 24,
     "metadata": {},
     "output_type": "execute_result"
    }
   ],
   "source": [
    "key_corr_df"
   ]
  },
  {
   "cell_type": "markdown",
   "id": "5cd7e43e",
   "metadata": {},
   "source": [
    "# Environmental Analysis"
   ]
  },
  {
   "cell_type": "markdown",
   "id": "e024b9ef",
   "metadata": {},
   "source": [
    "## C02 Emission Analysis"
   ]
  },
  {
   "cell_type": "markdown",
   "id": "f41b6057",
   "metadata": {},
   "source": [
    "### Top 10 C02 Emissions"
   ]
  },
  {
   "cell_type": "code",
   "execution_count": 30,
   "id": "9201c991",
   "metadata": {},
   "outputs": [
    {
     "data": {
      "application/vnd.plotly.v1+json": {
       "config": {
        "plotlyServerURL": "https://plot.ly"
       },
       "data": [
        {
         "alignmentgroup": "True",
         "hovertemplate": "color=China<br>x=%{x}<br>y=%{y}<br>text=%{text}<extra></extra>",
         "legendgroup": "China",
         "marker": {
          "color": "#636efa",
          "pattern": {
           "shape": ""
          }
         },
         "name": "China",
         "offsetgroup": "China",
         "orientation": "v",
         "showlegend": true,
         "text": [
          9893038
         ],
         "textposition": "auto",
         "type": "bar",
         "x": [
          "China"
         ],
         "xaxis": "x",
         "y": [
          9893038
         ],
         "yaxis": "y"
        },
        {
         "alignmentgroup": "True",
         "hovertemplate": "color=United States<br>x=%{x}<br>y=%{y}<br>text=%{text}<extra></extra>",
         "legendgroup": "United States",
         "marker": {
          "color": "#EF553B",
          "pattern": {
           "shape": ""
          }
         },
         "name": "United States",
         "offsetgroup": "United States",
         "orientation": "v",
         "showlegend": true,
         "text": [
          5006302
         ],
         "textposition": "auto",
         "type": "bar",
         "x": [
          "United States"
         ],
         "xaxis": "x",
         "y": [
          5006302
         ],
         "yaxis": "y"
        },
        {
         "alignmentgroup": "True",
         "hovertemplate": "color=India<br>x=%{x}<br>y=%{y}<br>text=%{text}<extra></extra>",
         "legendgroup": "India",
         "marker": {
          "color": "#00cc96",
          "pattern": {
           "shape": ""
          }
         },
         "name": "India",
         "offsetgroup": "India",
         "orientation": "v",
         "showlegend": true,
         "text": [
          2407672
         ],
         "textposition": "auto",
         "type": "bar",
         "x": [
          "India"
         ],
         "xaxis": "x",
         "y": [
          2407672
         ],
         "yaxis": "y"
        },
        {
         "alignmentgroup": "True",
         "hovertemplate": "color=Russia<br>x=%{x}<br>y=%{y}<br>text=%{text}<extra></extra>",
         "legendgroup": "Russia",
         "marker": {
          "color": "#ab63fa",
          "pattern": {
           "shape": ""
          }
         },
         "name": "Russia",
         "offsetgroup": "Russia",
         "orientation": "v",
         "showlegend": true,
         "text": [
          1732027
         ],
         "textposition": "auto",
         "type": "bar",
         "x": [
          "Russia"
         ],
         "xaxis": "x",
         "y": [
          1732027
         ],
         "yaxis": "y"
        },
        {
         "alignmentgroup": "True",
         "hovertemplate": "color=Japan<br>x=%{x}<br>y=%{y}<br>text=%{text}<extra></extra>",
         "legendgroup": "Japan",
         "marker": {
          "color": "#FFA15A",
          "pattern": {
           "shape": ""
          }
         },
         "name": "Japan",
         "offsetgroup": "Japan",
         "orientation": "v",
         "showlegend": true,
         "text": [
          1135886
         ],
         "textposition": "auto",
         "type": "bar",
         "x": [
          "Japan"
         ],
         "xaxis": "x",
         "y": [
          1135886
         ],
         "yaxis": "y"
        },
        {
         "alignmentgroup": "True",
         "hovertemplate": "color=Germany<br>x=%{x}<br>y=%{y}<br>text=%{text}<extra></extra>",
         "legendgroup": "Germany",
         "marker": {
          "color": "#19d3f3",
          "pattern": {
           "shape": ""
          }
         },
         "name": "Germany",
         "offsetgroup": "Germany",
         "orientation": "v",
         "showlegend": true,
         "text": [
          727973
         ],
         "textposition": "auto",
         "type": "bar",
         "x": [
          "Germany"
         ],
         "xaxis": "x",
         "y": [
          727973
         ],
         "yaxis": "y"
        },
        {
         "alignmentgroup": "True",
         "hovertemplate": "color=Iran<br>x=%{x}<br>y=%{y}<br>text=%{text}<extra></extra>",
         "legendgroup": "Iran",
         "marker": {
          "color": "#FF6692",
          "pattern": {
           "shape": ""
          }
         },
         "name": "Iran",
         "offsetgroup": "Iran",
         "orientation": "v",
         "showlegend": true,
         "text": [
          661710
         ],
         "textposition": "auto",
         "type": "bar",
         "x": [
          "Iran"
         ],
         "xaxis": "x",
         "y": [
          661710
         ],
         "yaxis": "y"
        },
        {
         "alignmentgroup": "True",
         "hovertemplate": "color=South Korea<br>x=%{x}<br>y=%{y}<br>text=%{text}<extra></extra>",
         "legendgroup": "South Korea",
         "marker": {
          "color": "#B6E880",
          "pattern": {
           "shape": ""
          }
         },
         "name": "South Korea",
         "offsetgroup": "South Korea",
         "orientation": "v",
         "showlegend": true,
         "text": [
          620302
         ],
         "textposition": "auto",
         "type": "bar",
         "x": [
          "South Korea"
         ],
         "xaxis": "x",
         "y": [
          620302
         ],
         "yaxis": "y"
        },
        {
         "alignmentgroup": "True",
         "hovertemplate": "color=Saudi Arabia<br>x=%{x}<br>y=%{y}<br>text=%{text}<extra></extra>",
         "legendgroup": "Saudi Arabia",
         "marker": {
          "color": "#FF97FF",
          "pattern": {
           "shape": ""
          }
         },
         "name": "Saudi Arabia",
         "offsetgroup": "Saudi Arabia",
         "orientation": "v",
         "showlegend": true,
         "text": [
          563449
         ],
         "textposition": "auto",
         "type": "bar",
         "x": [
          "Saudi Arabia"
         ],
         "xaxis": "x",
         "y": [
          563449
         ],
         "yaxis": "y"
        },
        {
         "alignmentgroup": "True",
         "hovertemplate": "color=Indonesia<br>x=%{x}<br>y=%{y}<br>text=%{text}<extra></extra>",
         "legendgroup": "Indonesia",
         "marker": {
          "color": "#FECB52",
          "pattern": {
           "shape": ""
          }
         },
         "name": "Indonesia",
         "offsetgroup": "Indonesia",
         "orientation": "v",
         "showlegend": true,
         "text": [
          563325
         ],
         "textposition": "auto",
         "type": "bar",
         "x": [
          "Indonesia"
         ],
         "xaxis": "x",
         "y": [
          563325
         ],
         "yaxis": "y"
        }
       ],
       "layout": {
        "barmode": "relative",
        "height": 600,
        "legend": {
         "title": {
          "text": "Co2-Emissions"
         },
         "tracegroupgap": 0
        },
        "margin": {
         "l": 80,
         "t": 100
        },
        "showlegend": true,
        "template": {
         "data": {
          "bar": [
           {
            "error_x": {
             "color": "#2a3f5f"
            },
            "error_y": {
             "color": "#2a3f5f"
            },
            "marker": {
             "line": {
              "color": "white",
              "width": 0.5
             },
             "pattern": {
              "fillmode": "overlay",
              "size": 10,
              "solidity": 0.2
             }
            },
            "type": "bar"
           }
          ],
          "barpolar": [
           {
            "marker": {
             "line": {
              "color": "white",
              "width": 0.5
             },
             "pattern": {
              "fillmode": "overlay",
              "size": 10,
              "solidity": 0.2
             }
            },
            "type": "barpolar"
           }
          ],
          "carpet": [
           {
            "aaxis": {
             "endlinecolor": "#2a3f5f",
             "gridcolor": "#C8D4E3",
             "linecolor": "#C8D4E3",
             "minorgridcolor": "#C8D4E3",
             "startlinecolor": "#2a3f5f"
            },
            "baxis": {
             "endlinecolor": "#2a3f5f",
             "gridcolor": "#C8D4E3",
             "linecolor": "#C8D4E3",
             "minorgridcolor": "#C8D4E3",
             "startlinecolor": "#2a3f5f"
            },
            "type": "carpet"
           }
          ],
          "choropleth": [
           {
            "colorbar": {
             "outlinewidth": 0,
             "ticks": ""
            },
            "type": "choropleth"
           }
          ],
          "contour": [
           {
            "colorbar": {
             "outlinewidth": 0,
             "ticks": ""
            },
            "colorscale": [
             [
              0,
              "#0d0887"
             ],
             [
              0.1111111111111111,
              "#46039f"
             ],
             [
              0.2222222222222222,
              "#7201a8"
             ],
             [
              0.3333333333333333,
              "#9c179e"
             ],
             [
              0.4444444444444444,
              "#bd3786"
             ],
             [
              0.5555555555555556,
              "#d8576b"
             ],
             [
              0.6666666666666666,
              "#ed7953"
             ],
             [
              0.7777777777777778,
              "#fb9f3a"
             ],
             [
              0.8888888888888888,
              "#fdca26"
             ],
             [
              1,
              "#f0f921"
             ]
            ],
            "type": "contour"
           }
          ],
          "contourcarpet": [
           {
            "colorbar": {
             "outlinewidth": 0,
             "ticks": ""
            },
            "type": "contourcarpet"
           }
          ],
          "heatmap": [
           {
            "colorbar": {
             "outlinewidth": 0,
             "ticks": ""
            },
            "colorscale": [
             [
              0,
              "#0d0887"
             ],
             [
              0.1111111111111111,
              "#46039f"
             ],
             [
              0.2222222222222222,
              "#7201a8"
             ],
             [
              0.3333333333333333,
              "#9c179e"
             ],
             [
              0.4444444444444444,
              "#bd3786"
             ],
             [
              0.5555555555555556,
              "#d8576b"
             ],
             [
              0.6666666666666666,
              "#ed7953"
             ],
             [
              0.7777777777777778,
              "#fb9f3a"
             ],
             [
              0.8888888888888888,
              "#fdca26"
             ],
             [
              1,
              "#f0f921"
             ]
            ],
            "type": "heatmap"
           }
          ],
          "heatmapgl": [
           {
            "colorbar": {
             "outlinewidth": 0,
             "ticks": ""
            },
            "colorscale": [
             [
              0,
              "#0d0887"
             ],
             [
              0.1111111111111111,
              "#46039f"
             ],
             [
              0.2222222222222222,
              "#7201a8"
             ],
             [
              0.3333333333333333,
              "#9c179e"
             ],
             [
              0.4444444444444444,
              "#bd3786"
             ],
             [
              0.5555555555555556,
              "#d8576b"
             ],
             [
              0.6666666666666666,
              "#ed7953"
             ],
             [
              0.7777777777777778,
              "#fb9f3a"
             ],
             [
              0.8888888888888888,
              "#fdca26"
             ],
             [
              1,
              "#f0f921"
             ]
            ],
            "type": "heatmapgl"
           }
          ],
          "histogram": [
           {
            "marker": {
             "pattern": {
              "fillmode": "overlay",
              "size": 10,
              "solidity": 0.2
             }
            },
            "type": "histogram"
           }
          ],
          "histogram2d": [
           {
            "colorbar": {
             "outlinewidth": 0,
             "ticks": ""
            },
            "colorscale": [
             [
              0,
              "#0d0887"
             ],
             [
              0.1111111111111111,
              "#46039f"
             ],
             [
              0.2222222222222222,
              "#7201a8"
             ],
             [
              0.3333333333333333,
              "#9c179e"
             ],
             [
              0.4444444444444444,
              "#bd3786"
             ],
             [
              0.5555555555555556,
              "#d8576b"
             ],
             [
              0.6666666666666666,
              "#ed7953"
             ],
             [
              0.7777777777777778,
              "#fb9f3a"
             ],
             [
              0.8888888888888888,
              "#fdca26"
             ],
             [
              1,
              "#f0f921"
             ]
            ],
            "type": "histogram2d"
           }
          ],
          "histogram2dcontour": [
           {
            "colorbar": {
             "outlinewidth": 0,
             "ticks": ""
            },
            "colorscale": [
             [
              0,
              "#0d0887"
             ],
             [
              0.1111111111111111,
              "#46039f"
             ],
             [
              0.2222222222222222,
              "#7201a8"
             ],
             [
              0.3333333333333333,
              "#9c179e"
             ],
             [
              0.4444444444444444,
              "#bd3786"
             ],
             [
              0.5555555555555556,
              "#d8576b"
             ],
             [
              0.6666666666666666,
              "#ed7953"
             ],
             [
              0.7777777777777778,
              "#fb9f3a"
             ],
             [
              0.8888888888888888,
              "#fdca26"
             ],
             [
              1,
              "#f0f921"
             ]
            ],
            "type": "histogram2dcontour"
           }
          ],
          "mesh3d": [
           {
            "colorbar": {
             "outlinewidth": 0,
             "ticks": ""
            },
            "type": "mesh3d"
           }
          ],
          "parcoords": [
           {
            "line": {
             "colorbar": {
              "outlinewidth": 0,
              "ticks": ""
             }
            },
            "type": "parcoords"
           }
          ],
          "pie": [
           {
            "automargin": true,
            "type": "pie"
           }
          ],
          "scatter": [
           {
            "fillpattern": {
             "fillmode": "overlay",
             "size": 10,
             "solidity": 0.2
            },
            "type": "scatter"
           }
          ],
          "scatter3d": [
           {
            "line": {
             "colorbar": {
              "outlinewidth": 0,
              "ticks": ""
             }
            },
            "marker": {
             "colorbar": {
              "outlinewidth": 0,
              "ticks": ""
             }
            },
            "type": "scatter3d"
           }
          ],
          "scattercarpet": [
           {
            "marker": {
             "colorbar": {
              "outlinewidth": 0,
              "ticks": ""
             }
            },
            "type": "scattercarpet"
           }
          ],
          "scattergeo": [
           {
            "marker": {
             "colorbar": {
              "outlinewidth": 0,
              "ticks": ""
             }
            },
            "type": "scattergeo"
           }
          ],
          "scattergl": [
           {
            "marker": {
             "colorbar": {
              "outlinewidth": 0,
              "ticks": ""
             }
            },
            "type": "scattergl"
           }
          ],
          "scattermapbox": [
           {
            "marker": {
             "colorbar": {
              "outlinewidth": 0,
              "ticks": ""
             }
            },
            "type": "scattermapbox"
           }
          ],
          "scatterpolar": [
           {
            "marker": {
             "colorbar": {
              "outlinewidth": 0,
              "ticks": ""
             }
            },
            "type": "scatterpolar"
           }
          ],
          "scatterpolargl": [
           {
            "marker": {
             "colorbar": {
              "outlinewidth": 0,
              "ticks": ""
             }
            },
            "type": "scatterpolargl"
           }
          ],
          "scatterternary": [
           {
            "marker": {
             "colorbar": {
              "outlinewidth": 0,
              "ticks": ""
             }
            },
            "type": "scatterternary"
           }
          ],
          "surface": [
           {
            "colorbar": {
             "outlinewidth": 0,
             "ticks": ""
            },
            "colorscale": [
             [
              0,
              "#0d0887"
             ],
             [
              0.1111111111111111,
              "#46039f"
             ],
             [
              0.2222222222222222,
              "#7201a8"
             ],
             [
              0.3333333333333333,
              "#9c179e"
             ],
             [
              0.4444444444444444,
              "#bd3786"
             ],
             [
              0.5555555555555556,
              "#d8576b"
             ],
             [
              0.6666666666666666,
              "#ed7953"
             ],
             [
              0.7777777777777778,
              "#fb9f3a"
             ],
             [
              0.8888888888888888,
              "#fdca26"
             ],
             [
              1,
              "#f0f921"
             ]
            ],
            "type": "surface"
           }
          ],
          "table": [
           {
            "cells": {
             "fill": {
              "color": "#EBF0F8"
             },
             "line": {
              "color": "white"
             }
            },
            "header": {
             "fill": {
              "color": "#C8D4E3"
             },
             "line": {
              "color": "white"
             }
            },
            "type": "table"
           }
          ]
         },
         "layout": {
          "annotationdefaults": {
           "arrowcolor": "#2a3f5f",
           "arrowhead": 0,
           "arrowwidth": 1
          },
          "autotypenumbers": "strict",
          "coloraxis": {
           "colorbar": {
            "outlinewidth": 0,
            "ticks": ""
           }
          },
          "colorscale": {
           "diverging": [
            [
             0,
             "#8e0152"
            ],
            [
             0.1,
             "#c51b7d"
            ],
            [
             0.2,
             "#de77ae"
            ],
            [
             0.3,
             "#f1b6da"
            ],
            [
             0.4,
             "#fde0ef"
            ],
            [
             0.5,
             "#f7f7f7"
            ],
            [
             0.6,
             "#e6f5d0"
            ],
            [
             0.7,
             "#b8e186"
            ],
            [
             0.8,
             "#7fbc41"
            ],
            [
             0.9,
             "#4d9221"
            ],
            [
             1,
             "#276419"
            ]
           ],
           "sequential": [
            [
             0,
             "#0d0887"
            ],
            [
             0.1111111111111111,
             "#46039f"
            ],
            [
             0.2222222222222222,
             "#7201a8"
            ],
            [
             0.3333333333333333,
             "#9c179e"
            ],
            [
             0.4444444444444444,
             "#bd3786"
            ],
            [
             0.5555555555555556,
             "#d8576b"
            ],
            [
             0.6666666666666666,
             "#ed7953"
            ],
            [
             0.7777777777777778,
             "#fb9f3a"
            ],
            [
             0.8888888888888888,
             "#fdca26"
            ],
            [
             1,
             "#f0f921"
            ]
           ],
           "sequentialminus": [
            [
             0,
             "#0d0887"
            ],
            [
             0.1111111111111111,
             "#46039f"
            ],
            [
             0.2222222222222222,
             "#7201a8"
            ],
            [
             0.3333333333333333,
             "#9c179e"
            ],
            [
             0.4444444444444444,
             "#bd3786"
            ],
            [
             0.5555555555555556,
             "#d8576b"
            ],
            [
             0.6666666666666666,
             "#ed7953"
            ],
            [
             0.7777777777777778,
             "#fb9f3a"
            ],
            [
             0.8888888888888888,
             "#fdca26"
            ],
            [
             1,
             "#f0f921"
            ]
           ]
          },
          "colorway": [
           "#636efa",
           "#EF553B",
           "#00cc96",
           "#ab63fa",
           "#FFA15A",
           "#19d3f3",
           "#FF6692",
           "#B6E880",
           "#FF97FF",
           "#FECB52"
          ],
          "font": {
           "color": "#2a3f5f"
          },
          "geo": {
           "bgcolor": "white",
           "lakecolor": "white",
           "landcolor": "white",
           "showlakes": true,
           "showland": true,
           "subunitcolor": "#C8D4E3"
          },
          "hoverlabel": {
           "align": "left"
          },
          "hovermode": "closest",
          "mapbox": {
           "style": "light"
          },
          "paper_bgcolor": "white",
          "plot_bgcolor": "white",
          "polar": {
           "angularaxis": {
            "gridcolor": "#EBF0F8",
            "linecolor": "#EBF0F8",
            "ticks": ""
           },
           "bgcolor": "white",
           "radialaxis": {
            "gridcolor": "#EBF0F8",
            "linecolor": "#EBF0F8",
            "ticks": ""
           }
          },
          "scene": {
           "xaxis": {
            "backgroundcolor": "white",
            "gridcolor": "#DFE8F3",
            "gridwidth": 2,
            "linecolor": "#EBF0F8",
            "showbackground": true,
            "ticks": "",
            "zerolinecolor": "#EBF0F8"
           },
           "yaxis": {
            "backgroundcolor": "white",
            "gridcolor": "#DFE8F3",
            "gridwidth": 2,
            "linecolor": "#EBF0F8",
            "showbackground": true,
            "ticks": "",
            "zerolinecolor": "#EBF0F8"
           },
           "zaxis": {
            "backgroundcolor": "white",
            "gridcolor": "#DFE8F3",
            "gridwidth": 2,
            "linecolor": "#EBF0F8",
            "showbackground": true,
            "ticks": "",
            "zerolinecolor": "#EBF0F8"
           }
          },
          "shapedefaults": {
           "line": {
            "color": "#2a3f5f"
           }
          },
          "ternary": {
           "aaxis": {
            "gridcolor": "#DFE8F3",
            "linecolor": "#A2B1C6",
            "ticks": ""
           },
           "baxis": {
            "gridcolor": "#DFE8F3",
            "linecolor": "#A2B1C6",
            "ticks": ""
           },
           "bgcolor": "white",
           "caxis": {
            "gridcolor": "#DFE8F3",
            "linecolor": "#A2B1C6",
            "ticks": ""
           }
          },
          "title": {
           "x": 0.05
          },
          "xaxis": {
           "automargin": true,
           "gridcolor": "#EBF0F8",
           "linecolor": "#EBF0F8",
           "ticks": "",
           "title": {
            "standoff": 15
           },
           "zerolinecolor": "#EBF0F8",
           "zerolinewidth": 2
          },
          "yaxis": {
           "automargin": true,
           "gridcolor": "#EBF0F8",
           "linecolor": "#EBF0F8",
           "ticks": "",
           "title": {
            "standoff": 15
           },
           "zerolinecolor": "#EBF0F8",
           "zerolinewidth": 2
          }
         }
        },
        "title": {
         "text": "<b>Top 10 highest Co2-Emissions<br> <sup> Barplot</sup></b>"
        },
        "width": 1000,
        "xaxis": {
         "anchor": "y",
         "domain": [
          0,
          1
         ],
         "title": {
          "text": "Co2-Emissions"
         }
        },
        "yaxis": {
         "anchor": "x",
         "domain": [
          0,
          1
         ],
         "title": {
          "text": "Count"
         }
        }
       }
      },
      "text/html": [
       "<div>                            <div id=\"e9c58932-8be6-43c4-8a3c-8cfcd5d29565\" class=\"plotly-graph-div\" style=\"height:600px; width:1000px;\"></div>            <script type=\"text/javascript\">                require([\"plotly\"], function(Plotly) {                    window.PLOTLYENV=window.PLOTLYENV || {};                                    if (document.getElementById(\"e9c58932-8be6-43c4-8a3c-8cfcd5d29565\")) {                    Plotly.newPlot(                        \"e9c58932-8be6-43c4-8a3c-8cfcd5d29565\",                        [{\"alignmentgroup\":\"True\",\"hovertemplate\":\"color=China<br>x=%{x}<br>y=%{y}<br>text=%{text}<extra></extra>\",\"legendgroup\":\"China\",\"marker\":{\"color\":\"#636efa\",\"pattern\":{\"shape\":\"\"}},\"name\":\"China\",\"offsetgroup\":\"China\",\"orientation\":\"v\",\"showlegend\":true,\"text\":[9893038.0],\"textposition\":\"auto\",\"x\":[\"China\"],\"xaxis\":\"x\",\"y\":[9893038.0],\"yaxis\":\"y\",\"type\":\"bar\"},{\"alignmentgroup\":\"True\",\"hovertemplate\":\"color=United States<br>x=%{x}<br>y=%{y}<br>text=%{text}<extra></extra>\",\"legendgroup\":\"United States\",\"marker\":{\"color\":\"#EF553B\",\"pattern\":{\"shape\":\"\"}},\"name\":\"United States\",\"offsetgroup\":\"United States\",\"orientation\":\"v\",\"showlegend\":true,\"text\":[5006302.0],\"textposition\":\"auto\",\"x\":[\"United States\"],\"xaxis\":\"x\",\"y\":[5006302.0],\"yaxis\":\"y\",\"type\":\"bar\"},{\"alignmentgroup\":\"True\",\"hovertemplate\":\"color=India<br>x=%{x}<br>y=%{y}<br>text=%{text}<extra></extra>\",\"legendgroup\":\"India\",\"marker\":{\"color\":\"#00cc96\",\"pattern\":{\"shape\":\"\"}},\"name\":\"India\",\"offsetgroup\":\"India\",\"orientation\":\"v\",\"showlegend\":true,\"text\":[2407672.0],\"textposition\":\"auto\",\"x\":[\"India\"],\"xaxis\":\"x\",\"y\":[2407672.0],\"yaxis\":\"y\",\"type\":\"bar\"},{\"alignmentgroup\":\"True\",\"hovertemplate\":\"color=Russia<br>x=%{x}<br>y=%{y}<br>text=%{text}<extra></extra>\",\"legendgroup\":\"Russia\",\"marker\":{\"color\":\"#ab63fa\",\"pattern\":{\"shape\":\"\"}},\"name\":\"Russia\",\"offsetgroup\":\"Russia\",\"orientation\":\"v\",\"showlegend\":true,\"text\":[1732027.0],\"textposition\":\"auto\",\"x\":[\"Russia\"],\"xaxis\":\"x\",\"y\":[1732027.0],\"yaxis\":\"y\",\"type\":\"bar\"},{\"alignmentgroup\":\"True\",\"hovertemplate\":\"color=Japan<br>x=%{x}<br>y=%{y}<br>text=%{text}<extra></extra>\",\"legendgroup\":\"Japan\",\"marker\":{\"color\":\"#FFA15A\",\"pattern\":{\"shape\":\"\"}},\"name\":\"Japan\",\"offsetgroup\":\"Japan\",\"orientation\":\"v\",\"showlegend\":true,\"text\":[1135886.0],\"textposition\":\"auto\",\"x\":[\"Japan\"],\"xaxis\":\"x\",\"y\":[1135886.0],\"yaxis\":\"y\",\"type\":\"bar\"},{\"alignmentgroup\":\"True\",\"hovertemplate\":\"color=Germany<br>x=%{x}<br>y=%{y}<br>text=%{text}<extra></extra>\",\"legendgroup\":\"Germany\",\"marker\":{\"color\":\"#19d3f3\",\"pattern\":{\"shape\":\"\"}},\"name\":\"Germany\",\"offsetgroup\":\"Germany\",\"orientation\":\"v\",\"showlegend\":true,\"text\":[727973.0],\"textposition\":\"auto\",\"x\":[\"Germany\"],\"xaxis\":\"x\",\"y\":[727973.0],\"yaxis\":\"y\",\"type\":\"bar\"},{\"alignmentgroup\":\"True\",\"hovertemplate\":\"color=Iran<br>x=%{x}<br>y=%{y}<br>text=%{text}<extra></extra>\",\"legendgroup\":\"Iran\",\"marker\":{\"color\":\"#FF6692\",\"pattern\":{\"shape\":\"\"}},\"name\":\"Iran\",\"offsetgroup\":\"Iran\",\"orientation\":\"v\",\"showlegend\":true,\"text\":[661710.0],\"textposition\":\"auto\",\"x\":[\"Iran\"],\"xaxis\":\"x\",\"y\":[661710.0],\"yaxis\":\"y\",\"type\":\"bar\"},{\"alignmentgroup\":\"True\",\"hovertemplate\":\"color=South Korea<br>x=%{x}<br>y=%{y}<br>text=%{text}<extra></extra>\",\"legendgroup\":\"South Korea\",\"marker\":{\"color\":\"#B6E880\",\"pattern\":{\"shape\":\"\"}},\"name\":\"South Korea\",\"offsetgroup\":\"South Korea\",\"orientation\":\"v\",\"showlegend\":true,\"text\":[620302.0],\"textposition\":\"auto\",\"x\":[\"South Korea\"],\"xaxis\":\"x\",\"y\":[620302.0],\"yaxis\":\"y\",\"type\":\"bar\"},{\"alignmentgroup\":\"True\",\"hovertemplate\":\"color=Saudi Arabia<br>x=%{x}<br>y=%{y}<br>text=%{text}<extra></extra>\",\"legendgroup\":\"Saudi Arabia\",\"marker\":{\"color\":\"#FF97FF\",\"pattern\":{\"shape\":\"\"}},\"name\":\"Saudi Arabia\",\"offsetgroup\":\"Saudi Arabia\",\"orientation\":\"v\",\"showlegend\":true,\"text\":[563449.0],\"textposition\":\"auto\",\"x\":[\"Saudi Arabia\"],\"xaxis\":\"x\",\"y\":[563449.0],\"yaxis\":\"y\",\"type\":\"bar\"},{\"alignmentgroup\":\"True\",\"hovertemplate\":\"color=Indonesia<br>x=%{x}<br>y=%{y}<br>text=%{text}<extra></extra>\",\"legendgroup\":\"Indonesia\",\"marker\":{\"color\":\"#FECB52\",\"pattern\":{\"shape\":\"\"}},\"name\":\"Indonesia\",\"offsetgroup\":\"Indonesia\",\"orientation\":\"v\",\"showlegend\":true,\"text\":[563325.0],\"textposition\":\"auto\",\"x\":[\"Indonesia\"],\"xaxis\":\"x\",\"y\":[563325.0],\"yaxis\":\"y\",\"type\":\"bar\"}],                        {\"template\":{\"data\":{\"barpolar\":[{\"marker\":{\"line\":{\"color\":\"white\",\"width\":0.5},\"pattern\":{\"fillmode\":\"overlay\",\"size\":10,\"solidity\":0.2}},\"type\":\"barpolar\"}],\"bar\":[{\"error_x\":{\"color\":\"#2a3f5f\"},\"error_y\":{\"color\":\"#2a3f5f\"},\"marker\":{\"line\":{\"color\":\"white\",\"width\":0.5},\"pattern\":{\"fillmode\":\"overlay\",\"size\":10,\"solidity\":0.2}},\"type\":\"bar\"}],\"carpet\":[{\"aaxis\":{\"endlinecolor\":\"#2a3f5f\",\"gridcolor\":\"#C8D4E3\",\"linecolor\":\"#C8D4E3\",\"minorgridcolor\":\"#C8D4E3\",\"startlinecolor\":\"#2a3f5f\"},\"baxis\":{\"endlinecolor\":\"#2a3f5f\",\"gridcolor\":\"#C8D4E3\",\"linecolor\":\"#C8D4E3\",\"minorgridcolor\":\"#C8D4E3\",\"startlinecolor\":\"#2a3f5f\"},\"type\":\"carpet\"}],\"choropleth\":[{\"colorbar\":{\"outlinewidth\":0,\"ticks\":\"\"},\"type\":\"choropleth\"}],\"contourcarpet\":[{\"colorbar\":{\"outlinewidth\":0,\"ticks\":\"\"},\"type\":\"contourcarpet\"}],\"contour\":[{\"colorbar\":{\"outlinewidth\":0,\"ticks\":\"\"},\"colorscale\":[[0.0,\"#0d0887\"],[0.1111111111111111,\"#46039f\"],[0.2222222222222222,\"#7201a8\"],[0.3333333333333333,\"#9c179e\"],[0.4444444444444444,\"#bd3786\"],[0.5555555555555556,\"#d8576b\"],[0.6666666666666666,\"#ed7953\"],[0.7777777777777778,\"#fb9f3a\"],[0.8888888888888888,\"#fdca26\"],[1.0,\"#f0f921\"]],\"type\":\"contour\"}],\"heatmapgl\":[{\"colorbar\":{\"outlinewidth\":0,\"ticks\":\"\"},\"colorscale\":[[0.0,\"#0d0887\"],[0.1111111111111111,\"#46039f\"],[0.2222222222222222,\"#7201a8\"],[0.3333333333333333,\"#9c179e\"],[0.4444444444444444,\"#bd3786\"],[0.5555555555555556,\"#d8576b\"],[0.6666666666666666,\"#ed7953\"],[0.7777777777777778,\"#fb9f3a\"],[0.8888888888888888,\"#fdca26\"],[1.0,\"#f0f921\"]],\"type\":\"heatmapgl\"}],\"heatmap\":[{\"colorbar\":{\"outlinewidth\":0,\"ticks\":\"\"},\"colorscale\":[[0.0,\"#0d0887\"],[0.1111111111111111,\"#46039f\"],[0.2222222222222222,\"#7201a8\"],[0.3333333333333333,\"#9c179e\"],[0.4444444444444444,\"#bd3786\"],[0.5555555555555556,\"#d8576b\"],[0.6666666666666666,\"#ed7953\"],[0.7777777777777778,\"#fb9f3a\"],[0.8888888888888888,\"#fdca26\"],[1.0,\"#f0f921\"]],\"type\":\"heatmap\"}],\"histogram2dcontour\":[{\"colorbar\":{\"outlinewidth\":0,\"ticks\":\"\"},\"colorscale\":[[0.0,\"#0d0887\"],[0.1111111111111111,\"#46039f\"],[0.2222222222222222,\"#7201a8\"],[0.3333333333333333,\"#9c179e\"],[0.4444444444444444,\"#bd3786\"],[0.5555555555555556,\"#d8576b\"],[0.6666666666666666,\"#ed7953\"],[0.7777777777777778,\"#fb9f3a\"],[0.8888888888888888,\"#fdca26\"],[1.0,\"#f0f921\"]],\"type\":\"histogram2dcontour\"}],\"histogram2d\":[{\"colorbar\":{\"outlinewidth\":0,\"ticks\":\"\"},\"colorscale\":[[0.0,\"#0d0887\"],[0.1111111111111111,\"#46039f\"],[0.2222222222222222,\"#7201a8\"],[0.3333333333333333,\"#9c179e\"],[0.4444444444444444,\"#bd3786\"],[0.5555555555555556,\"#d8576b\"],[0.6666666666666666,\"#ed7953\"],[0.7777777777777778,\"#fb9f3a\"],[0.8888888888888888,\"#fdca26\"],[1.0,\"#f0f921\"]],\"type\":\"histogram2d\"}],\"histogram\":[{\"marker\":{\"pattern\":{\"fillmode\":\"overlay\",\"size\":10,\"solidity\":0.2}},\"type\":\"histogram\"}],\"mesh3d\":[{\"colorbar\":{\"outlinewidth\":0,\"ticks\":\"\"},\"type\":\"mesh3d\"}],\"parcoords\":[{\"line\":{\"colorbar\":{\"outlinewidth\":0,\"ticks\":\"\"}},\"type\":\"parcoords\"}],\"pie\":[{\"automargin\":true,\"type\":\"pie\"}],\"scatter3d\":[{\"line\":{\"colorbar\":{\"outlinewidth\":0,\"ticks\":\"\"}},\"marker\":{\"colorbar\":{\"outlinewidth\":0,\"ticks\":\"\"}},\"type\":\"scatter3d\"}],\"scattercarpet\":[{\"marker\":{\"colorbar\":{\"outlinewidth\":0,\"ticks\":\"\"}},\"type\":\"scattercarpet\"}],\"scattergeo\":[{\"marker\":{\"colorbar\":{\"outlinewidth\":0,\"ticks\":\"\"}},\"type\":\"scattergeo\"}],\"scattergl\":[{\"marker\":{\"colorbar\":{\"outlinewidth\":0,\"ticks\":\"\"}},\"type\":\"scattergl\"}],\"scattermapbox\":[{\"marker\":{\"colorbar\":{\"outlinewidth\":0,\"ticks\":\"\"}},\"type\":\"scattermapbox\"}],\"scatterpolargl\":[{\"marker\":{\"colorbar\":{\"outlinewidth\":0,\"ticks\":\"\"}},\"type\":\"scatterpolargl\"}],\"scatterpolar\":[{\"marker\":{\"colorbar\":{\"outlinewidth\":0,\"ticks\":\"\"}},\"type\":\"scatterpolar\"}],\"scatter\":[{\"fillpattern\":{\"fillmode\":\"overlay\",\"size\":10,\"solidity\":0.2},\"type\":\"scatter\"}],\"scatterternary\":[{\"marker\":{\"colorbar\":{\"outlinewidth\":0,\"ticks\":\"\"}},\"type\":\"scatterternary\"}],\"surface\":[{\"colorbar\":{\"outlinewidth\":0,\"ticks\":\"\"},\"colorscale\":[[0.0,\"#0d0887\"],[0.1111111111111111,\"#46039f\"],[0.2222222222222222,\"#7201a8\"],[0.3333333333333333,\"#9c179e\"],[0.4444444444444444,\"#bd3786\"],[0.5555555555555556,\"#d8576b\"],[0.6666666666666666,\"#ed7953\"],[0.7777777777777778,\"#fb9f3a\"],[0.8888888888888888,\"#fdca26\"],[1.0,\"#f0f921\"]],\"type\":\"surface\"}],\"table\":[{\"cells\":{\"fill\":{\"color\":\"#EBF0F8\"},\"line\":{\"color\":\"white\"}},\"header\":{\"fill\":{\"color\":\"#C8D4E3\"},\"line\":{\"color\":\"white\"}},\"type\":\"table\"}]},\"layout\":{\"annotationdefaults\":{\"arrowcolor\":\"#2a3f5f\",\"arrowhead\":0,\"arrowwidth\":1},\"autotypenumbers\":\"strict\",\"coloraxis\":{\"colorbar\":{\"outlinewidth\":0,\"ticks\":\"\"}},\"colorscale\":{\"diverging\":[[0,\"#8e0152\"],[0.1,\"#c51b7d\"],[0.2,\"#de77ae\"],[0.3,\"#f1b6da\"],[0.4,\"#fde0ef\"],[0.5,\"#f7f7f7\"],[0.6,\"#e6f5d0\"],[0.7,\"#b8e186\"],[0.8,\"#7fbc41\"],[0.9,\"#4d9221\"],[1,\"#276419\"]],\"sequential\":[[0.0,\"#0d0887\"],[0.1111111111111111,\"#46039f\"],[0.2222222222222222,\"#7201a8\"],[0.3333333333333333,\"#9c179e\"],[0.4444444444444444,\"#bd3786\"],[0.5555555555555556,\"#d8576b\"],[0.6666666666666666,\"#ed7953\"],[0.7777777777777778,\"#fb9f3a\"],[0.8888888888888888,\"#fdca26\"],[1.0,\"#f0f921\"]],\"sequentialminus\":[[0.0,\"#0d0887\"],[0.1111111111111111,\"#46039f\"],[0.2222222222222222,\"#7201a8\"],[0.3333333333333333,\"#9c179e\"],[0.4444444444444444,\"#bd3786\"],[0.5555555555555556,\"#d8576b\"],[0.6666666666666666,\"#ed7953\"],[0.7777777777777778,\"#fb9f3a\"],[0.8888888888888888,\"#fdca26\"],[1.0,\"#f0f921\"]]},\"colorway\":[\"#636efa\",\"#EF553B\",\"#00cc96\",\"#ab63fa\",\"#FFA15A\",\"#19d3f3\",\"#FF6692\",\"#B6E880\",\"#FF97FF\",\"#FECB52\"],\"font\":{\"color\":\"#2a3f5f\"},\"geo\":{\"bgcolor\":\"white\",\"lakecolor\":\"white\",\"landcolor\":\"white\",\"showlakes\":true,\"showland\":true,\"subunitcolor\":\"#C8D4E3\"},\"hoverlabel\":{\"align\":\"left\"},\"hovermode\":\"closest\",\"mapbox\":{\"style\":\"light\"},\"paper_bgcolor\":\"white\",\"plot_bgcolor\":\"white\",\"polar\":{\"angularaxis\":{\"gridcolor\":\"#EBF0F8\",\"linecolor\":\"#EBF0F8\",\"ticks\":\"\"},\"bgcolor\":\"white\",\"radialaxis\":{\"gridcolor\":\"#EBF0F8\",\"linecolor\":\"#EBF0F8\",\"ticks\":\"\"}},\"scene\":{\"xaxis\":{\"backgroundcolor\":\"white\",\"gridcolor\":\"#DFE8F3\",\"gridwidth\":2,\"linecolor\":\"#EBF0F8\",\"showbackground\":true,\"ticks\":\"\",\"zerolinecolor\":\"#EBF0F8\"},\"yaxis\":{\"backgroundcolor\":\"white\",\"gridcolor\":\"#DFE8F3\",\"gridwidth\":2,\"linecolor\":\"#EBF0F8\",\"showbackground\":true,\"ticks\":\"\",\"zerolinecolor\":\"#EBF0F8\"},\"zaxis\":{\"backgroundcolor\":\"white\",\"gridcolor\":\"#DFE8F3\",\"gridwidth\":2,\"linecolor\":\"#EBF0F8\",\"showbackground\":true,\"ticks\":\"\",\"zerolinecolor\":\"#EBF0F8\"}},\"shapedefaults\":{\"line\":{\"color\":\"#2a3f5f\"}},\"ternary\":{\"aaxis\":{\"gridcolor\":\"#DFE8F3\",\"linecolor\":\"#A2B1C6\",\"ticks\":\"\"},\"baxis\":{\"gridcolor\":\"#DFE8F3\",\"linecolor\":\"#A2B1C6\",\"ticks\":\"\"},\"bgcolor\":\"white\",\"caxis\":{\"gridcolor\":\"#DFE8F3\",\"linecolor\":\"#A2B1C6\",\"ticks\":\"\"}},\"title\":{\"x\":0.05},\"xaxis\":{\"automargin\":true,\"gridcolor\":\"#EBF0F8\",\"linecolor\":\"#EBF0F8\",\"ticks\":\"\",\"title\":{\"standoff\":15},\"zerolinecolor\":\"#EBF0F8\",\"zerolinewidth\":2},\"yaxis\":{\"automargin\":true,\"gridcolor\":\"#EBF0F8\",\"linecolor\":\"#EBF0F8\",\"ticks\":\"\",\"title\":{\"standoff\":15},\"zerolinecolor\":\"#EBF0F8\",\"zerolinewidth\":2}}},\"xaxis\":{\"anchor\":\"y\",\"domain\":[0.0,1.0],\"title\":{\"text\":\"Co2-Emissions\"}},\"yaxis\":{\"anchor\":\"x\",\"domain\":[0.0,1.0],\"title\":{\"text\":\"Count\"}},\"legend\":{\"title\":{\"text\":\"Co2-Emissions\"},\"tracegroupgap\":0},\"margin\":{\"t\":100,\"l\":80},\"barmode\":\"relative\",\"title\":{\"text\":\"<b>Top 10 highest Co2-Emissions<br> <sup> Barplot</sup></b>\"},\"showlegend\":true,\"height\":600,\"width\":1000},                        {\"responsive\": true}                    ).then(function(){\n",
       "                            \n",
       "var gd = document.getElementById('e9c58932-8be6-43c4-8a3c-8cfcd5d29565');\n",
       "var x = new MutationObserver(function (mutations, observer) {{\n",
       "        var display = window.getComputedStyle(gd).display;\n",
       "        if (!display || display === 'none') {{\n",
       "            console.log([gd, 'removed!']);\n",
       "            Plotly.purge(gd);\n",
       "            observer.disconnect();\n",
       "        }}\n",
       "}});\n",
       "\n",
       "// Listen for the removal of the full notebook cells\n",
       "var notebookContainer = gd.closest('#notebook-container');\n",
       "if (notebookContainer) {{\n",
       "    x.observe(notebookContainer, {childList: true});\n",
       "}}\n",
       "\n",
       "// Listen for the clearing of the current output cell\n",
       "var outputEl = gd.closest('.output');\n",
       "if (outputEl) {{\n",
       "    x.observe(outputEl, {childList: true});\n",
       "}}\n",
       "\n",
       "                        })                };                });            </script>        </div>"
      ]
     },
     "metadata": {},
     "output_type": "display_data"
    }
   ],
   "source": [
    "df = df.set_index('Country')\n",
    "top10_barplot(df, 'Co2-Emissions')"
   ]
  },
  {
   "cell_type": "markdown",
   "id": "268c2043",
   "metadata": {},
   "source": [
    "### Top 10 C02 Emissions per capita"
   ]
  },
  {
   "cell_type": "code",
   "execution_count": 31,
   "id": "f1b06104",
   "metadata": {},
   "outputs": [
    {
     "data": {
      "application/vnd.plotly.v1+json": {
       "config": {
        "plotlyServerURL": "https://plot.ly"
       },
       "data": [
        {
         "alignmentgroup": "True",
         "hovertemplate": "color=Qatar<br>x=%{x}<br>y=%{y}<br>text=%{text}<extra></extra>",
         "legendgroup": "Qatar",
         "marker": {
          "color": "#636efa",
          "pattern": {
           "shape": ""
          }
         },
         "name": "Qatar",
         "offsetgroup": "Qatar",
         "orientation": "v",
         "showlegend": true,
         "text": [
          0.03646064870640419
         ],
         "textposition": "auto",
         "type": "bar",
         "x": [
          "Qatar"
         ],
         "xaxis": "x",
         "y": [
          0.03646064870640419
         ],
         "yaxis": "y"
        },
        {
         "alignmentgroup": "True",
         "hovertemplate": "color=Trinidad and Tobago<br>x=%{x}<br>y=%{y}<br>text=%{text}<extra></extra>",
         "legendgroup": "Trinidad and Tobago",
         "marker": {
          "color": "#EF553B",
          "pattern": {
           "shape": ""
          }
         },
         "name": "Trinidad and Tobago",
         "offsetgroup": "Trinidad and Tobago",
         "orientation": "v",
         "showlegend": true,
         "text": [
          0.03144720363763313
         ],
         "textposition": "auto",
         "type": "bar",
         "x": [
          "Trinidad and Tobago"
         ],
         "xaxis": "x",
         "y": [
          0.03144720363763313
         ],
         "yaxis": "y"
        },
        {
         "alignmentgroup": "True",
         "hovertemplate": "color=Kuwait<br>x=%{x}<br>y=%{y}<br>text=%{text}<extra></extra>",
         "legendgroup": "Kuwait",
         "marker": {
          "color": "#00cc96",
          "pattern": {
           "shape": ""
          }
         },
         "name": "Kuwait",
         "offsetgroup": "Kuwait",
         "orientation": "v",
         "showlegend": true,
         "text": [
          0.02346851726005881
         ],
         "textposition": "auto",
         "type": "bar",
         "x": [
          "Kuwait"
         ],
         "xaxis": "x",
         "y": [
          0.02346851726005881
         ],
         "yaxis": "y"
        },
        {
         "alignmentgroup": "True",
         "hovertemplate": "color=United Arab Emirates<br>x=%{x}<br>y=%{y}<br>text=%{text}<extra></extra>",
         "legendgroup": "United Arab Emirates",
         "marker": {
          "color": "#ab63fa",
          "pattern": {
           "shape": ""
          }
         },
         "name": "United Arab Emirates",
         "offsetgroup": "United Arab Emirates",
         "orientation": "v",
         "showlegend": true,
         "text": [
          0.02111697329796575
         ],
         "textposition": "auto",
         "type": "bar",
         "x": [
          "United Arab Emirates"
         ],
         "xaxis": "x",
         "y": [
          0.02111697329796575
         ],
         "yaxis": "y"
        },
        {
         "alignmentgroup": "True",
         "hovertemplate": "color=Bahrain<br>x=%{x}<br>y=%{y}<br>text=%{text}<extra></extra>",
         "legendgroup": "Bahrain",
         "marker": {
          "color": "#FFA15A",
          "pattern": {
           "shape": ""
          }
         },
         "name": "Bahrain",
         "offsetgroup": "Bahrain",
         "orientation": "v",
         "showlegend": true,
         "text": [
          0.021106327436427628
         ],
         "textposition": "auto",
         "type": "bar",
         "x": [
          "Bahrain"
         ],
         "xaxis": "x",
         "y": [
          0.021106327436427628
         ],
         "yaxis": "y"
        },
        {
         "alignmentgroup": "True",
         "hovertemplate": "color=Brunei<br>x=%{x}<br>y=%{y}<br>text=%{text}<extra></extra>",
         "legendgroup": "Brunei",
         "marker": {
          "color": "#19d3f3",
          "pattern": {
           "shape": ""
          }
         },
         "name": "Brunei",
         "offsetgroup": "Brunei",
         "orientation": "v",
         "showlegend": true,
         "text": [
          0.01768812675259933
         ],
         "textposition": "auto",
         "type": "bar",
         "x": [
          "Brunei"
         ],
         "xaxis": "x",
         "y": [
          0.01768812675259933
         ],
         "yaxis": "y"
        },
        {
         "alignmentgroup": "True",
         "hovertemplate": "color=Saudi Arabia<br>x=%{x}<br>y=%{y}<br>text=%{text}<extra></extra>",
         "legendgroup": "Saudi Arabia",
         "marker": {
          "color": "#FF6692",
          "pattern": {
           "shape": ""
          }
         },
         "name": "Saudi Arabia",
         "offsetgroup": "Saudi Arabia",
         "orientation": "v",
         "showlegend": true,
         "text": [
          0.016442171078956177
         ],
         "textposition": "auto",
         "type": "bar",
         "x": [
          "Saudi Arabia"
         ],
         "xaxis": "x",
         "y": [
          0.016442171078956177
         ],
         "yaxis": "y"
        },
        {
         "alignmentgroup": "True",
         "hovertemplate": "color=United States<br>x=%{x}<br>y=%{y}<br>text=%{text}<extra></extra>",
         "legendgroup": "United States",
         "marker": {
          "color": "#B6E880",
          "pattern": {
           "shape": ""
          }
         },
         "name": "United States",
         "offsetgroup": "United States",
         "orientation": "v",
         "showlegend": true,
         "text": [
          0.015251978050187454
         ],
         "textposition": "auto",
         "type": "bar",
         "x": [
          "United States"
         ],
         "xaxis": "x",
         "y": [
          0.015251978050187454
         ],
         "yaxis": "y"
        },
        {
         "alignmentgroup": "True",
         "hovertemplate": "color=Canada<br>x=%{x}<br>y=%{y}<br>text=%{text}<extra></extra>",
         "legendgroup": "Canada",
         "marker": {
          "color": "#FF97FF",
          "pattern": {
           "shape": ""
          }
         },
         "name": "Canada",
         "offsetgroup": "Canada",
         "orientation": "v",
         "showlegend": true,
         "text": [
          0.014730057306203742
         ],
         "textposition": "auto",
         "type": "bar",
         "x": [
          "Canada"
         ],
         "xaxis": "x",
         "y": [
          0.014730057306203742
         ],
         "yaxis": "y"
        },
        {
         "alignmentgroup": "True",
         "hovertemplate": "color=Australia<br>x=%{x}<br>y=%{y}<br>text=%{text}<extra></extra>",
         "legendgroup": "Australia",
         "marker": {
          "color": "#FECB52",
          "pattern": {
           "shape": ""
          }
         },
         "name": "Australia",
         "offsetgroup": "Australia",
         "orientation": "v",
         "showlegend": true,
         "text": [
          0.014588961176685868
         ],
         "textposition": "auto",
         "type": "bar",
         "x": [
          "Australia"
         ],
         "xaxis": "x",
         "y": [
          0.014588961176685868
         ],
         "yaxis": "y"
        }
       ],
       "layout": {
        "barmode": "relative",
        "height": 600,
        "legend": {
         "title": {
          "text": "C02_per_capita"
         },
         "tracegroupgap": 0
        },
        "margin": {
         "l": 80,
         "t": 100
        },
        "showlegend": true,
        "template": {
         "data": {
          "bar": [
           {
            "error_x": {
             "color": "#2a3f5f"
            },
            "error_y": {
             "color": "#2a3f5f"
            },
            "marker": {
             "line": {
              "color": "white",
              "width": 0.5
             },
             "pattern": {
              "fillmode": "overlay",
              "size": 10,
              "solidity": 0.2
             }
            },
            "type": "bar"
           }
          ],
          "barpolar": [
           {
            "marker": {
             "line": {
              "color": "white",
              "width": 0.5
             },
             "pattern": {
              "fillmode": "overlay",
              "size": 10,
              "solidity": 0.2
             }
            },
            "type": "barpolar"
           }
          ],
          "carpet": [
           {
            "aaxis": {
             "endlinecolor": "#2a3f5f",
             "gridcolor": "#C8D4E3",
             "linecolor": "#C8D4E3",
             "minorgridcolor": "#C8D4E3",
             "startlinecolor": "#2a3f5f"
            },
            "baxis": {
             "endlinecolor": "#2a3f5f",
             "gridcolor": "#C8D4E3",
             "linecolor": "#C8D4E3",
             "minorgridcolor": "#C8D4E3",
             "startlinecolor": "#2a3f5f"
            },
            "type": "carpet"
           }
          ],
          "choropleth": [
           {
            "colorbar": {
             "outlinewidth": 0,
             "ticks": ""
            },
            "type": "choropleth"
           }
          ],
          "contour": [
           {
            "colorbar": {
             "outlinewidth": 0,
             "ticks": ""
            },
            "colorscale": [
             [
              0,
              "#0d0887"
             ],
             [
              0.1111111111111111,
              "#46039f"
             ],
             [
              0.2222222222222222,
              "#7201a8"
             ],
             [
              0.3333333333333333,
              "#9c179e"
             ],
             [
              0.4444444444444444,
              "#bd3786"
             ],
             [
              0.5555555555555556,
              "#d8576b"
             ],
             [
              0.6666666666666666,
              "#ed7953"
             ],
             [
              0.7777777777777778,
              "#fb9f3a"
             ],
             [
              0.8888888888888888,
              "#fdca26"
             ],
             [
              1,
              "#f0f921"
             ]
            ],
            "type": "contour"
           }
          ],
          "contourcarpet": [
           {
            "colorbar": {
             "outlinewidth": 0,
             "ticks": ""
            },
            "type": "contourcarpet"
           }
          ],
          "heatmap": [
           {
            "colorbar": {
             "outlinewidth": 0,
             "ticks": ""
            },
            "colorscale": [
             [
              0,
              "#0d0887"
             ],
             [
              0.1111111111111111,
              "#46039f"
             ],
             [
              0.2222222222222222,
              "#7201a8"
             ],
             [
              0.3333333333333333,
              "#9c179e"
             ],
             [
              0.4444444444444444,
              "#bd3786"
             ],
             [
              0.5555555555555556,
              "#d8576b"
             ],
             [
              0.6666666666666666,
              "#ed7953"
             ],
             [
              0.7777777777777778,
              "#fb9f3a"
             ],
             [
              0.8888888888888888,
              "#fdca26"
             ],
             [
              1,
              "#f0f921"
             ]
            ],
            "type": "heatmap"
           }
          ],
          "heatmapgl": [
           {
            "colorbar": {
             "outlinewidth": 0,
             "ticks": ""
            },
            "colorscale": [
             [
              0,
              "#0d0887"
             ],
             [
              0.1111111111111111,
              "#46039f"
             ],
             [
              0.2222222222222222,
              "#7201a8"
             ],
             [
              0.3333333333333333,
              "#9c179e"
             ],
             [
              0.4444444444444444,
              "#bd3786"
             ],
             [
              0.5555555555555556,
              "#d8576b"
             ],
             [
              0.6666666666666666,
              "#ed7953"
             ],
             [
              0.7777777777777778,
              "#fb9f3a"
             ],
             [
              0.8888888888888888,
              "#fdca26"
             ],
             [
              1,
              "#f0f921"
             ]
            ],
            "type": "heatmapgl"
           }
          ],
          "histogram": [
           {
            "marker": {
             "pattern": {
              "fillmode": "overlay",
              "size": 10,
              "solidity": 0.2
             }
            },
            "type": "histogram"
           }
          ],
          "histogram2d": [
           {
            "colorbar": {
             "outlinewidth": 0,
             "ticks": ""
            },
            "colorscale": [
             [
              0,
              "#0d0887"
             ],
             [
              0.1111111111111111,
              "#46039f"
             ],
             [
              0.2222222222222222,
              "#7201a8"
             ],
             [
              0.3333333333333333,
              "#9c179e"
             ],
             [
              0.4444444444444444,
              "#bd3786"
             ],
             [
              0.5555555555555556,
              "#d8576b"
             ],
             [
              0.6666666666666666,
              "#ed7953"
             ],
             [
              0.7777777777777778,
              "#fb9f3a"
             ],
             [
              0.8888888888888888,
              "#fdca26"
             ],
             [
              1,
              "#f0f921"
             ]
            ],
            "type": "histogram2d"
           }
          ],
          "histogram2dcontour": [
           {
            "colorbar": {
             "outlinewidth": 0,
             "ticks": ""
            },
            "colorscale": [
             [
              0,
              "#0d0887"
             ],
             [
              0.1111111111111111,
              "#46039f"
             ],
             [
              0.2222222222222222,
              "#7201a8"
             ],
             [
              0.3333333333333333,
              "#9c179e"
             ],
             [
              0.4444444444444444,
              "#bd3786"
             ],
             [
              0.5555555555555556,
              "#d8576b"
             ],
             [
              0.6666666666666666,
              "#ed7953"
             ],
             [
              0.7777777777777778,
              "#fb9f3a"
             ],
             [
              0.8888888888888888,
              "#fdca26"
             ],
             [
              1,
              "#f0f921"
             ]
            ],
            "type": "histogram2dcontour"
           }
          ],
          "mesh3d": [
           {
            "colorbar": {
             "outlinewidth": 0,
             "ticks": ""
            },
            "type": "mesh3d"
           }
          ],
          "parcoords": [
           {
            "line": {
             "colorbar": {
              "outlinewidth": 0,
              "ticks": ""
             }
            },
            "type": "parcoords"
           }
          ],
          "pie": [
           {
            "automargin": true,
            "type": "pie"
           }
          ],
          "scatter": [
           {
            "fillpattern": {
             "fillmode": "overlay",
             "size": 10,
             "solidity": 0.2
            },
            "type": "scatter"
           }
          ],
          "scatter3d": [
           {
            "line": {
             "colorbar": {
              "outlinewidth": 0,
              "ticks": ""
             }
            },
            "marker": {
             "colorbar": {
              "outlinewidth": 0,
              "ticks": ""
             }
            },
            "type": "scatter3d"
           }
          ],
          "scattercarpet": [
           {
            "marker": {
             "colorbar": {
              "outlinewidth": 0,
              "ticks": ""
             }
            },
            "type": "scattercarpet"
           }
          ],
          "scattergeo": [
           {
            "marker": {
             "colorbar": {
              "outlinewidth": 0,
              "ticks": ""
             }
            },
            "type": "scattergeo"
           }
          ],
          "scattergl": [
           {
            "marker": {
             "colorbar": {
              "outlinewidth": 0,
              "ticks": ""
             }
            },
            "type": "scattergl"
           }
          ],
          "scattermapbox": [
           {
            "marker": {
             "colorbar": {
              "outlinewidth": 0,
              "ticks": ""
             }
            },
            "type": "scattermapbox"
           }
          ],
          "scatterpolar": [
           {
            "marker": {
             "colorbar": {
              "outlinewidth": 0,
              "ticks": ""
             }
            },
            "type": "scatterpolar"
           }
          ],
          "scatterpolargl": [
           {
            "marker": {
             "colorbar": {
              "outlinewidth": 0,
              "ticks": ""
             }
            },
            "type": "scatterpolargl"
           }
          ],
          "scatterternary": [
           {
            "marker": {
             "colorbar": {
              "outlinewidth": 0,
              "ticks": ""
             }
            },
            "type": "scatterternary"
           }
          ],
          "surface": [
           {
            "colorbar": {
             "outlinewidth": 0,
             "ticks": ""
            },
            "colorscale": [
             [
              0,
              "#0d0887"
             ],
             [
              0.1111111111111111,
              "#46039f"
             ],
             [
              0.2222222222222222,
              "#7201a8"
             ],
             [
              0.3333333333333333,
              "#9c179e"
             ],
             [
              0.4444444444444444,
              "#bd3786"
             ],
             [
              0.5555555555555556,
              "#d8576b"
             ],
             [
              0.6666666666666666,
              "#ed7953"
             ],
             [
              0.7777777777777778,
              "#fb9f3a"
             ],
             [
              0.8888888888888888,
              "#fdca26"
             ],
             [
              1,
              "#f0f921"
             ]
            ],
            "type": "surface"
           }
          ],
          "table": [
           {
            "cells": {
             "fill": {
              "color": "#EBF0F8"
             },
             "line": {
              "color": "white"
             }
            },
            "header": {
             "fill": {
              "color": "#C8D4E3"
             },
             "line": {
              "color": "white"
             }
            },
            "type": "table"
           }
          ]
         },
         "layout": {
          "annotationdefaults": {
           "arrowcolor": "#2a3f5f",
           "arrowhead": 0,
           "arrowwidth": 1
          },
          "autotypenumbers": "strict",
          "coloraxis": {
           "colorbar": {
            "outlinewidth": 0,
            "ticks": ""
           }
          },
          "colorscale": {
           "diverging": [
            [
             0,
             "#8e0152"
            ],
            [
             0.1,
             "#c51b7d"
            ],
            [
             0.2,
             "#de77ae"
            ],
            [
             0.3,
             "#f1b6da"
            ],
            [
             0.4,
             "#fde0ef"
            ],
            [
             0.5,
             "#f7f7f7"
            ],
            [
             0.6,
             "#e6f5d0"
            ],
            [
             0.7,
             "#b8e186"
            ],
            [
             0.8,
             "#7fbc41"
            ],
            [
             0.9,
             "#4d9221"
            ],
            [
             1,
             "#276419"
            ]
           ],
           "sequential": [
            [
             0,
             "#0d0887"
            ],
            [
             0.1111111111111111,
             "#46039f"
            ],
            [
             0.2222222222222222,
             "#7201a8"
            ],
            [
             0.3333333333333333,
             "#9c179e"
            ],
            [
             0.4444444444444444,
             "#bd3786"
            ],
            [
             0.5555555555555556,
             "#d8576b"
            ],
            [
             0.6666666666666666,
             "#ed7953"
            ],
            [
             0.7777777777777778,
             "#fb9f3a"
            ],
            [
             0.8888888888888888,
             "#fdca26"
            ],
            [
             1,
             "#f0f921"
            ]
           ],
           "sequentialminus": [
            [
             0,
             "#0d0887"
            ],
            [
             0.1111111111111111,
             "#46039f"
            ],
            [
             0.2222222222222222,
             "#7201a8"
            ],
            [
             0.3333333333333333,
             "#9c179e"
            ],
            [
             0.4444444444444444,
             "#bd3786"
            ],
            [
             0.5555555555555556,
             "#d8576b"
            ],
            [
             0.6666666666666666,
             "#ed7953"
            ],
            [
             0.7777777777777778,
             "#fb9f3a"
            ],
            [
             0.8888888888888888,
             "#fdca26"
            ],
            [
             1,
             "#f0f921"
            ]
           ]
          },
          "colorway": [
           "#636efa",
           "#EF553B",
           "#00cc96",
           "#ab63fa",
           "#FFA15A",
           "#19d3f3",
           "#FF6692",
           "#B6E880",
           "#FF97FF",
           "#FECB52"
          ],
          "font": {
           "color": "#2a3f5f"
          },
          "geo": {
           "bgcolor": "white",
           "lakecolor": "white",
           "landcolor": "white",
           "showlakes": true,
           "showland": true,
           "subunitcolor": "#C8D4E3"
          },
          "hoverlabel": {
           "align": "left"
          },
          "hovermode": "closest",
          "mapbox": {
           "style": "light"
          },
          "paper_bgcolor": "white",
          "plot_bgcolor": "white",
          "polar": {
           "angularaxis": {
            "gridcolor": "#EBF0F8",
            "linecolor": "#EBF0F8",
            "ticks": ""
           },
           "bgcolor": "white",
           "radialaxis": {
            "gridcolor": "#EBF0F8",
            "linecolor": "#EBF0F8",
            "ticks": ""
           }
          },
          "scene": {
           "xaxis": {
            "backgroundcolor": "white",
            "gridcolor": "#DFE8F3",
            "gridwidth": 2,
            "linecolor": "#EBF0F8",
            "showbackground": true,
            "ticks": "",
            "zerolinecolor": "#EBF0F8"
           },
           "yaxis": {
            "backgroundcolor": "white",
            "gridcolor": "#DFE8F3",
            "gridwidth": 2,
            "linecolor": "#EBF0F8",
            "showbackground": true,
            "ticks": "",
            "zerolinecolor": "#EBF0F8"
           },
           "zaxis": {
            "backgroundcolor": "white",
            "gridcolor": "#DFE8F3",
            "gridwidth": 2,
            "linecolor": "#EBF0F8",
            "showbackground": true,
            "ticks": "",
            "zerolinecolor": "#EBF0F8"
           }
          },
          "shapedefaults": {
           "line": {
            "color": "#2a3f5f"
           }
          },
          "ternary": {
           "aaxis": {
            "gridcolor": "#DFE8F3",
            "linecolor": "#A2B1C6",
            "ticks": ""
           },
           "baxis": {
            "gridcolor": "#DFE8F3",
            "linecolor": "#A2B1C6",
            "ticks": ""
           },
           "bgcolor": "white",
           "caxis": {
            "gridcolor": "#DFE8F3",
            "linecolor": "#A2B1C6",
            "ticks": ""
           }
          },
          "title": {
           "x": 0.05
          },
          "xaxis": {
           "automargin": true,
           "gridcolor": "#EBF0F8",
           "linecolor": "#EBF0F8",
           "ticks": "",
           "title": {
            "standoff": 15
           },
           "zerolinecolor": "#EBF0F8",
           "zerolinewidth": 2
          },
          "yaxis": {
           "automargin": true,
           "gridcolor": "#EBF0F8",
           "linecolor": "#EBF0F8",
           "ticks": "",
           "title": {
            "standoff": 15
           },
           "zerolinecolor": "#EBF0F8",
           "zerolinewidth": 2
          }
         }
        },
        "title": {
         "text": "<b>Top 10 highest C02_per_capita<br> <sup> Barplot</sup></b>"
        },
        "width": 1000,
        "xaxis": {
         "anchor": "y",
         "domain": [
          0,
          1
         ],
         "title": {
          "text": "C02_per_capita"
         }
        },
        "yaxis": {
         "anchor": "x",
         "domain": [
          0,
          1
         ],
         "title": {
          "text": "Count"
         }
        }
       }
      },
      "text/html": [
       "<div>                            <div id=\"c9274eca-31a1-4003-83da-e28b8cf07152\" class=\"plotly-graph-div\" style=\"height:600px; width:1000px;\"></div>            <script type=\"text/javascript\">                require([\"plotly\"], function(Plotly) {                    window.PLOTLYENV=window.PLOTLYENV || {};                                    if (document.getElementById(\"c9274eca-31a1-4003-83da-e28b8cf07152\")) {                    Plotly.newPlot(                        \"c9274eca-31a1-4003-83da-e28b8cf07152\",                        [{\"alignmentgroup\":\"True\",\"hovertemplate\":\"color=Qatar<br>x=%{x}<br>y=%{y}<br>text=%{text}<extra></extra>\",\"legendgroup\":\"Qatar\",\"marker\":{\"color\":\"#636efa\",\"pattern\":{\"shape\":\"\"}},\"name\":\"Qatar\",\"offsetgroup\":\"Qatar\",\"orientation\":\"v\",\"showlegend\":true,\"text\":[0.03646064870640419],\"textposition\":\"auto\",\"x\":[\"Qatar\"],\"xaxis\":\"x\",\"y\":[0.03646064870640419],\"yaxis\":\"y\",\"type\":\"bar\"},{\"alignmentgroup\":\"True\",\"hovertemplate\":\"color=Trinidad and Tobago<br>x=%{x}<br>y=%{y}<br>text=%{text}<extra></extra>\",\"legendgroup\":\"Trinidad and Tobago\",\"marker\":{\"color\":\"#EF553B\",\"pattern\":{\"shape\":\"\"}},\"name\":\"Trinidad and Tobago\",\"offsetgroup\":\"Trinidad and Tobago\",\"orientation\":\"v\",\"showlegend\":true,\"text\":[0.03144720363763313],\"textposition\":\"auto\",\"x\":[\"Trinidad and Tobago\"],\"xaxis\":\"x\",\"y\":[0.03144720363763313],\"yaxis\":\"y\",\"type\":\"bar\"},{\"alignmentgroup\":\"True\",\"hovertemplate\":\"color=Kuwait<br>x=%{x}<br>y=%{y}<br>text=%{text}<extra></extra>\",\"legendgroup\":\"Kuwait\",\"marker\":{\"color\":\"#00cc96\",\"pattern\":{\"shape\":\"\"}},\"name\":\"Kuwait\",\"offsetgroup\":\"Kuwait\",\"orientation\":\"v\",\"showlegend\":true,\"text\":[0.02346851726005881],\"textposition\":\"auto\",\"x\":[\"Kuwait\"],\"xaxis\":\"x\",\"y\":[0.02346851726005881],\"yaxis\":\"y\",\"type\":\"bar\"},{\"alignmentgroup\":\"True\",\"hovertemplate\":\"color=United Arab Emirates<br>x=%{x}<br>y=%{y}<br>text=%{text}<extra></extra>\",\"legendgroup\":\"United Arab Emirates\",\"marker\":{\"color\":\"#ab63fa\",\"pattern\":{\"shape\":\"\"}},\"name\":\"United Arab Emirates\",\"offsetgroup\":\"United Arab Emirates\",\"orientation\":\"v\",\"showlegend\":true,\"text\":[0.02111697329796575],\"textposition\":\"auto\",\"x\":[\"United Arab Emirates\"],\"xaxis\":\"x\",\"y\":[0.02111697329796575],\"yaxis\":\"y\",\"type\":\"bar\"},{\"alignmentgroup\":\"True\",\"hovertemplate\":\"color=Bahrain<br>x=%{x}<br>y=%{y}<br>text=%{text}<extra></extra>\",\"legendgroup\":\"Bahrain\",\"marker\":{\"color\":\"#FFA15A\",\"pattern\":{\"shape\":\"\"}},\"name\":\"Bahrain\",\"offsetgroup\":\"Bahrain\",\"orientation\":\"v\",\"showlegend\":true,\"text\":[0.021106327436427628],\"textposition\":\"auto\",\"x\":[\"Bahrain\"],\"xaxis\":\"x\",\"y\":[0.021106327436427628],\"yaxis\":\"y\",\"type\":\"bar\"},{\"alignmentgroup\":\"True\",\"hovertemplate\":\"color=Brunei<br>x=%{x}<br>y=%{y}<br>text=%{text}<extra></extra>\",\"legendgroup\":\"Brunei\",\"marker\":{\"color\":\"#19d3f3\",\"pattern\":{\"shape\":\"\"}},\"name\":\"Brunei\",\"offsetgroup\":\"Brunei\",\"orientation\":\"v\",\"showlegend\":true,\"text\":[0.01768812675259933],\"textposition\":\"auto\",\"x\":[\"Brunei\"],\"xaxis\":\"x\",\"y\":[0.01768812675259933],\"yaxis\":\"y\",\"type\":\"bar\"},{\"alignmentgroup\":\"True\",\"hovertemplate\":\"color=Saudi Arabia<br>x=%{x}<br>y=%{y}<br>text=%{text}<extra></extra>\",\"legendgroup\":\"Saudi Arabia\",\"marker\":{\"color\":\"#FF6692\",\"pattern\":{\"shape\":\"\"}},\"name\":\"Saudi Arabia\",\"offsetgroup\":\"Saudi Arabia\",\"orientation\":\"v\",\"showlegend\":true,\"text\":[0.016442171078956177],\"textposition\":\"auto\",\"x\":[\"Saudi Arabia\"],\"xaxis\":\"x\",\"y\":[0.016442171078956177],\"yaxis\":\"y\",\"type\":\"bar\"},{\"alignmentgroup\":\"True\",\"hovertemplate\":\"color=United States<br>x=%{x}<br>y=%{y}<br>text=%{text}<extra></extra>\",\"legendgroup\":\"United States\",\"marker\":{\"color\":\"#B6E880\",\"pattern\":{\"shape\":\"\"}},\"name\":\"United States\",\"offsetgroup\":\"United States\",\"orientation\":\"v\",\"showlegend\":true,\"text\":[0.015251978050187454],\"textposition\":\"auto\",\"x\":[\"United States\"],\"xaxis\":\"x\",\"y\":[0.015251978050187454],\"yaxis\":\"y\",\"type\":\"bar\"},{\"alignmentgroup\":\"True\",\"hovertemplate\":\"color=Canada<br>x=%{x}<br>y=%{y}<br>text=%{text}<extra></extra>\",\"legendgroup\":\"Canada\",\"marker\":{\"color\":\"#FF97FF\",\"pattern\":{\"shape\":\"\"}},\"name\":\"Canada\",\"offsetgroup\":\"Canada\",\"orientation\":\"v\",\"showlegend\":true,\"text\":[0.014730057306203742],\"textposition\":\"auto\",\"x\":[\"Canada\"],\"xaxis\":\"x\",\"y\":[0.014730057306203742],\"yaxis\":\"y\",\"type\":\"bar\"},{\"alignmentgroup\":\"True\",\"hovertemplate\":\"color=Australia<br>x=%{x}<br>y=%{y}<br>text=%{text}<extra></extra>\",\"legendgroup\":\"Australia\",\"marker\":{\"color\":\"#FECB52\",\"pattern\":{\"shape\":\"\"}},\"name\":\"Australia\",\"offsetgroup\":\"Australia\",\"orientation\":\"v\",\"showlegend\":true,\"text\":[0.014588961176685868],\"textposition\":\"auto\",\"x\":[\"Australia\"],\"xaxis\":\"x\",\"y\":[0.014588961176685868],\"yaxis\":\"y\",\"type\":\"bar\"}],                        {\"template\":{\"data\":{\"barpolar\":[{\"marker\":{\"line\":{\"color\":\"white\",\"width\":0.5},\"pattern\":{\"fillmode\":\"overlay\",\"size\":10,\"solidity\":0.2}},\"type\":\"barpolar\"}],\"bar\":[{\"error_x\":{\"color\":\"#2a3f5f\"},\"error_y\":{\"color\":\"#2a3f5f\"},\"marker\":{\"line\":{\"color\":\"white\",\"width\":0.5},\"pattern\":{\"fillmode\":\"overlay\",\"size\":10,\"solidity\":0.2}},\"type\":\"bar\"}],\"carpet\":[{\"aaxis\":{\"endlinecolor\":\"#2a3f5f\",\"gridcolor\":\"#C8D4E3\",\"linecolor\":\"#C8D4E3\",\"minorgridcolor\":\"#C8D4E3\",\"startlinecolor\":\"#2a3f5f\"},\"baxis\":{\"endlinecolor\":\"#2a3f5f\",\"gridcolor\":\"#C8D4E3\",\"linecolor\":\"#C8D4E3\",\"minorgridcolor\":\"#C8D4E3\",\"startlinecolor\":\"#2a3f5f\"},\"type\":\"carpet\"}],\"choropleth\":[{\"colorbar\":{\"outlinewidth\":0,\"ticks\":\"\"},\"type\":\"choropleth\"}],\"contourcarpet\":[{\"colorbar\":{\"outlinewidth\":0,\"ticks\":\"\"},\"type\":\"contourcarpet\"}],\"contour\":[{\"colorbar\":{\"outlinewidth\":0,\"ticks\":\"\"},\"colorscale\":[[0.0,\"#0d0887\"],[0.1111111111111111,\"#46039f\"],[0.2222222222222222,\"#7201a8\"],[0.3333333333333333,\"#9c179e\"],[0.4444444444444444,\"#bd3786\"],[0.5555555555555556,\"#d8576b\"],[0.6666666666666666,\"#ed7953\"],[0.7777777777777778,\"#fb9f3a\"],[0.8888888888888888,\"#fdca26\"],[1.0,\"#f0f921\"]],\"type\":\"contour\"}],\"heatmapgl\":[{\"colorbar\":{\"outlinewidth\":0,\"ticks\":\"\"},\"colorscale\":[[0.0,\"#0d0887\"],[0.1111111111111111,\"#46039f\"],[0.2222222222222222,\"#7201a8\"],[0.3333333333333333,\"#9c179e\"],[0.4444444444444444,\"#bd3786\"],[0.5555555555555556,\"#d8576b\"],[0.6666666666666666,\"#ed7953\"],[0.7777777777777778,\"#fb9f3a\"],[0.8888888888888888,\"#fdca26\"],[1.0,\"#f0f921\"]],\"type\":\"heatmapgl\"}],\"heatmap\":[{\"colorbar\":{\"outlinewidth\":0,\"ticks\":\"\"},\"colorscale\":[[0.0,\"#0d0887\"],[0.1111111111111111,\"#46039f\"],[0.2222222222222222,\"#7201a8\"],[0.3333333333333333,\"#9c179e\"],[0.4444444444444444,\"#bd3786\"],[0.5555555555555556,\"#d8576b\"],[0.6666666666666666,\"#ed7953\"],[0.7777777777777778,\"#fb9f3a\"],[0.8888888888888888,\"#fdca26\"],[1.0,\"#f0f921\"]],\"type\":\"heatmap\"}],\"histogram2dcontour\":[{\"colorbar\":{\"outlinewidth\":0,\"ticks\":\"\"},\"colorscale\":[[0.0,\"#0d0887\"],[0.1111111111111111,\"#46039f\"],[0.2222222222222222,\"#7201a8\"],[0.3333333333333333,\"#9c179e\"],[0.4444444444444444,\"#bd3786\"],[0.5555555555555556,\"#d8576b\"],[0.6666666666666666,\"#ed7953\"],[0.7777777777777778,\"#fb9f3a\"],[0.8888888888888888,\"#fdca26\"],[1.0,\"#f0f921\"]],\"type\":\"histogram2dcontour\"}],\"histogram2d\":[{\"colorbar\":{\"outlinewidth\":0,\"ticks\":\"\"},\"colorscale\":[[0.0,\"#0d0887\"],[0.1111111111111111,\"#46039f\"],[0.2222222222222222,\"#7201a8\"],[0.3333333333333333,\"#9c179e\"],[0.4444444444444444,\"#bd3786\"],[0.5555555555555556,\"#d8576b\"],[0.6666666666666666,\"#ed7953\"],[0.7777777777777778,\"#fb9f3a\"],[0.8888888888888888,\"#fdca26\"],[1.0,\"#f0f921\"]],\"type\":\"histogram2d\"}],\"histogram\":[{\"marker\":{\"pattern\":{\"fillmode\":\"overlay\",\"size\":10,\"solidity\":0.2}},\"type\":\"histogram\"}],\"mesh3d\":[{\"colorbar\":{\"outlinewidth\":0,\"ticks\":\"\"},\"type\":\"mesh3d\"}],\"parcoords\":[{\"line\":{\"colorbar\":{\"outlinewidth\":0,\"ticks\":\"\"}},\"type\":\"parcoords\"}],\"pie\":[{\"automargin\":true,\"type\":\"pie\"}],\"scatter3d\":[{\"line\":{\"colorbar\":{\"outlinewidth\":0,\"ticks\":\"\"}},\"marker\":{\"colorbar\":{\"outlinewidth\":0,\"ticks\":\"\"}},\"type\":\"scatter3d\"}],\"scattercarpet\":[{\"marker\":{\"colorbar\":{\"outlinewidth\":0,\"ticks\":\"\"}},\"type\":\"scattercarpet\"}],\"scattergeo\":[{\"marker\":{\"colorbar\":{\"outlinewidth\":0,\"ticks\":\"\"}},\"type\":\"scattergeo\"}],\"scattergl\":[{\"marker\":{\"colorbar\":{\"outlinewidth\":0,\"ticks\":\"\"}},\"type\":\"scattergl\"}],\"scattermapbox\":[{\"marker\":{\"colorbar\":{\"outlinewidth\":0,\"ticks\":\"\"}},\"type\":\"scattermapbox\"}],\"scatterpolargl\":[{\"marker\":{\"colorbar\":{\"outlinewidth\":0,\"ticks\":\"\"}},\"type\":\"scatterpolargl\"}],\"scatterpolar\":[{\"marker\":{\"colorbar\":{\"outlinewidth\":0,\"ticks\":\"\"}},\"type\":\"scatterpolar\"}],\"scatter\":[{\"fillpattern\":{\"fillmode\":\"overlay\",\"size\":10,\"solidity\":0.2},\"type\":\"scatter\"}],\"scatterternary\":[{\"marker\":{\"colorbar\":{\"outlinewidth\":0,\"ticks\":\"\"}},\"type\":\"scatterternary\"}],\"surface\":[{\"colorbar\":{\"outlinewidth\":0,\"ticks\":\"\"},\"colorscale\":[[0.0,\"#0d0887\"],[0.1111111111111111,\"#46039f\"],[0.2222222222222222,\"#7201a8\"],[0.3333333333333333,\"#9c179e\"],[0.4444444444444444,\"#bd3786\"],[0.5555555555555556,\"#d8576b\"],[0.6666666666666666,\"#ed7953\"],[0.7777777777777778,\"#fb9f3a\"],[0.8888888888888888,\"#fdca26\"],[1.0,\"#f0f921\"]],\"type\":\"surface\"}],\"table\":[{\"cells\":{\"fill\":{\"color\":\"#EBF0F8\"},\"line\":{\"color\":\"white\"}},\"header\":{\"fill\":{\"color\":\"#C8D4E3\"},\"line\":{\"color\":\"white\"}},\"type\":\"table\"}]},\"layout\":{\"annotationdefaults\":{\"arrowcolor\":\"#2a3f5f\",\"arrowhead\":0,\"arrowwidth\":1},\"autotypenumbers\":\"strict\",\"coloraxis\":{\"colorbar\":{\"outlinewidth\":0,\"ticks\":\"\"}},\"colorscale\":{\"diverging\":[[0,\"#8e0152\"],[0.1,\"#c51b7d\"],[0.2,\"#de77ae\"],[0.3,\"#f1b6da\"],[0.4,\"#fde0ef\"],[0.5,\"#f7f7f7\"],[0.6,\"#e6f5d0\"],[0.7,\"#b8e186\"],[0.8,\"#7fbc41\"],[0.9,\"#4d9221\"],[1,\"#276419\"]],\"sequential\":[[0.0,\"#0d0887\"],[0.1111111111111111,\"#46039f\"],[0.2222222222222222,\"#7201a8\"],[0.3333333333333333,\"#9c179e\"],[0.4444444444444444,\"#bd3786\"],[0.5555555555555556,\"#d8576b\"],[0.6666666666666666,\"#ed7953\"],[0.7777777777777778,\"#fb9f3a\"],[0.8888888888888888,\"#fdca26\"],[1.0,\"#f0f921\"]],\"sequentialminus\":[[0.0,\"#0d0887\"],[0.1111111111111111,\"#46039f\"],[0.2222222222222222,\"#7201a8\"],[0.3333333333333333,\"#9c179e\"],[0.4444444444444444,\"#bd3786\"],[0.5555555555555556,\"#d8576b\"],[0.6666666666666666,\"#ed7953\"],[0.7777777777777778,\"#fb9f3a\"],[0.8888888888888888,\"#fdca26\"],[1.0,\"#f0f921\"]]},\"colorway\":[\"#636efa\",\"#EF553B\",\"#00cc96\",\"#ab63fa\",\"#FFA15A\",\"#19d3f3\",\"#FF6692\",\"#B6E880\",\"#FF97FF\",\"#FECB52\"],\"font\":{\"color\":\"#2a3f5f\"},\"geo\":{\"bgcolor\":\"white\",\"lakecolor\":\"white\",\"landcolor\":\"white\",\"showlakes\":true,\"showland\":true,\"subunitcolor\":\"#C8D4E3\"},\"hoverlabel\":{\"align\":\"left\"},\"hovermode\":\"closest\",\"mapbox\":{\"style\":\"light\"},\"paper_bgcolor\":\"white\",\"plot_bgcolor\":\"white\",\"polar\":{\"angularaxis\":{\"gridcolor\":\"#EBF0F8\",\"linecolor\":\"#EBF0F8\",\"ticks\":\"\"},\"bgcolor\":\"white\",\"radialaxis\":{\"gridcolor\":\"#EBF0F8\",\"linecolor\":\"#EBF0F8\",\"ticks\":\"\"}},\"scene\":{\"xaxis\":{\"backgroundcolor\":\"white\",\"gridcolor\":\"#DFE8F3\",\"gridwidth\":2,\"linecolor\":\"#EBF0F8\",\"showbackground\":true,\"ticks\":\"\",\"zerolinecolor\":\"#EBF0F8\"},\"yaxis\":{\"backgroundcolor\":\"white\",\"gridcolor\":\"#DFE8F3\",\"gridwidth\":2,\"linecolor\":\"#EBF0F8\",\"showbackground\":true,\"ticks\":\"\",\"zerolinecolor\":\"#EBF0F8\"},\"zaxis\":{\"backgroundcolor\":\"white\",\"gridcolor\":\"#DFE8F3\",\"gridwidth\":2,\"linecolor\":\"#EBF0F8\",\"showbackground\":true,\"ticks\":\"\",\"zerolinecolor\":\"#EBF0F8\"}},\"shapedefaults\":{\"line\":{\"color\":\"#2a3f5f\"}},\"ternary\":{\"aaxis\":{\"gridcolor\":\"#DFE8F3\",\"linecolor\":\"#A2B1C6\",\"ticks\":\"\"},\"baxis\":{\"gridcolor\":\"#DFE8F3\",\"linecolor\":\"#A2B1C6\",\"ticks\":\"\"},\"bgcolor\":\"white\",\"caxis\":{\"gridcolor\":\"#DFE8F3\",\"linecolor\":\"#A2B1C6\",\"ticks\":\"\"}},\"title\":{\"x\":0.05},\"xaxis\":{\"automargin\":true,\"gridcolor\":\"#EBF0F8\",\"linecolor\":\"#EBF0F8\",\"ticks\":\"\",\"title\":{\"standoff\":15},\"zerolinecolor\":\"#EBF0F8\",\"zerolinewidth\":2},\"yaxis\":{\"automargin\":true,\"gridcolor\":\"#EBF0F8\",\"linecolor\":\"#EBF0F8\",\"ticks\":\"\",\"title\":{\"standoff\":15},\"zerolinecolor\":\"#EBF0F8\",\"zerolinewidth\":2}}},\"xaxis\":{\"anchor\":\"y\",\"domain\":[0.0,1.0],\"title\":{\"text\":\"C02_per_capita\"}},\"yaxis\":{\"anchor\":\"x\",\"domain\":[0.0,1.0],\"title\":{\"text\":\"Count\"}},\"legend\":{\"title\":{\"text\":\"C02_per_capita\"},\"tracegroupgap\":0},\"margin\":{\"t\":100,\"l\":80},\"barmode\":\"relative\",\"title\":{\"text\":\"<b>Top 10 highest C02_per_capita<br> <sup> Barplot</sup></b>\"},\"showlegend\":true,\"height\":600,\"width\":1000},                        {\"responsive\": true}                    ).then(function(){\n",
       "                            \n",
       "var gd = document.getElementById('c9274eca-31a1-4003-83da-e28b8cf07152');\n",
       "var x = new MutationObserver(function (mutations, observer) {{\n",
       "        var display = window.getComputedStyle(gd).display;\n",
       "        if (!display || display === 'none') {{\n",
       "            console.log([gd, 'removed!']);\n",
       "            Plotly.purge(gd);\n",
       "            observer.disconnect();\n",
       "        }}\n",
       "}});\n",
       "\n",
       "// Listen for the removal of the full notebook cells\n",
       "var notebookContainer = gd.closest('#notebook-container');\n",
       "if (notebookContainer) {{\n",
       "    x.observe(notebookContainer, {childList: true});\n",
       "}}\n",
       "\n",
       "// Listen for the clearing of the current output cell\n",
       "var outputEl = gd.closest('.output');\n",
       "if (outputEl) {{\n",
       "    x.observe(outputEl, {childList: true});\n",
       "}}\n",
       "\n",
       "                        })                };                });            </script>        </div>"
      ]
     },
     "metadata": {},
     "output_type": "display_data"
    }
   ],
   "source": [
    "top10_barplot(df, 'C02_per_capita')"
   ]
  },
  {
   "cell_type": "markdown",
   "id": "8bf138e7",
   "metadata": {},
   "source": [
    "### Top 10 C02 Emissions per Urban population"
   ]
  },
  {
   "cell_type": "code",
   "execution_count": 32,
   "id": "3e498947",
   "metadata": {},
   "outputs": [
    {
     "data": {
      "application/vnd.plotly.v1+json": {
       "config": {
        "plotlyServerURL": "https://plot.ly"
       },
       "data": [
        {
         "alignmentgroup": "True",
         "hovertemplate": "color=Trinidad and Tobago<br>x=%{x}<br>y=%{y}<br>text=%{text}<extra></extra>",
         "legendgroup": "Trinidad and Tobago",
         "marker": {
          "color": "#636efa",
          "pattern": {
           "shape": ""
          }
         },
         "name": "Trinidad and Tobago",
         "offsetgroup": "Trinidad and Tobago",
         "orientation": "v",
         "showlegend": true,
         "text": [
          0.05912575612175582
         ],
         "textposition": "auto",
         "type": "bar",
         "x": [
          "Trinidad and Tobago"
         ],
         "xaxis": "x",
         "y": [
          0.05912575612175582
         ],
         "yaxis": "y"
        },
        {
         "alignmentgroup": "True",
         "hovertemplate": "color=Qatar<br>x=%{x}<br>y=%{y}<br>text=%{text}<extra></extra>",
         "legendgroup": "Qatar",
         "marker": {
          "color": "#EF553B",
          "pattern": {
           "shape": ""
          }
         },
         "name": "Qatar",
         "offsetgroup": "Qatar",
         "orientation": "v",
         "showlegend": true,
         "text": [
          0.036759127839773365
         ],
         "textposition": "auto",
         "type": "bar",
         "x": [
          "Qatar"
         ],
         "xaxis": "x",
         "y": [
          0.036759127839773365
         ],
         "yaxis": "y"
        },
        {
         "alignmentgroup": "True",
         "hovertemplate": "color=United Arab Emirates<br>x=%{x}<br>y=%{y}<br>text=%{text}<extra></extra>",
         "legendgroup": "United Arab Emirates",
         "marker": {
          "color": "#00cc96",
          "pattern": {
           "shape": ""
          }
         },
         "name": "United Arab Emirates",
         "offsetgroup": "United Arab Emirates",
         "orientation": "v",
         "showlegend": true,
         "text": [
          0.02433139491003502
         ],
         "textposition": "auto",
         "type": "bar",
         "x": [
          "United Arab Emirates"
         ],
         "xaxis": "x",
         "y": [
          0.02433139491003502
         ],
         "yaxis": "y"
        },
        {
         "alignmentgroup": "True",
         "hovertemplate": "color=Kuwait<br>x=%{x}<br>y=%{y}<br>text=%{text}<extra></extra>",
         "legendgroup": "Kuwait",
         "marker": {
          "color": "#ab63fa",
          "pattern": {
           "shape": ""
          }
         },
         "name": "Kuwait",
         "offsetgroup": "Kuwait",
         "orientation": "v",
         "showlegend": true,
         "text": [
          0.02346851726005881
         ],
         "textposition": "auto",
         "type": "bar",
         "x": [
          "Kuwait"
         ],
         "xaxis": "x",
         "y": [
          0.02346851726005881
         ],
         "yaxis": "y"
        },
        {
         "alignmentgroup": "True",
         "hovertemplate": "color=Antigua and Barbuda<br>x=%{x}<br>y=%{y}<br>text=%{text}<extra></extra>",
         "legendgroup": "Antigua and Barbuda",
         "marker": {
          "color": "#FFA15A",
          "pattern": {
           "shape": ""
          }
         },
         "name": "Antigua and Barbuda",
         "offsetgroup": "Antigua and Barbuda",
         "orientation": "v",
         "showlegend": true,
         "text": [
          0.023403361344537816
         ],
         "textposition": "auto",
         "type": "bar",
         "x": [
          "Antigua and Barbuda"
         ],
         "xaxis": "x",
         "y": [
          0.023403361344537816
         ],
         "yaxis": "y"
        },
        {
         "alignmentgroup": "True",
         "hovertemplate": "color=Kazakhstan<br>x=%{x}<br>y=%{y}<br>text=%{text}<extra></extra>",
         "legendgroup": "Kazakhstan",
         "marker": {
          "color": "#19d3f3",
          "pattern": {
           "shape": ""
          }
         },
         "name": "Kazakhstan",
         "offsetgroup": "Kazakhstan",
         "orientation": "v",
         "showlegend": true,
         "text": [
          0.02320557331021603
         ],
         "textposition": "auto",
         "type": "bar",
         "x": [
          "Kazakhstan"
         ],
         "xaxis": "x",
         "y": [
          0.02320557331021603
         ],
         "yaxis": "y"
        },
        {
         "alignmentgroup": "True",
         "hovertemplate": "color=Turkmenistan<br>x=%{x}<br>y=%{y}<br>text=%{text}<extra></extra>",
         "legendgroup": "Turkmenistan",
         "marker": {
          "color": "#FF6692",
          "pattern": {
           "shape": ""
          }
         },
         "name": "Turkmenistan",
         "offsetgroup": "Turkmenistan",
         "orientation": "v",
         "showlegend": true,
         "text": [
          0.022837369347160994
         ],
         "textposition": "auto",
         "type": "bar",
         "x": [
          "Turkmenistan"
         ],
         "xaxis": "x",
         "y": [
          0.022837369347160994
         ],
         "yaxis": "y"
        },
        {
         "alignmentgroup": "True",
         "hovertemplate": "color=Brunei<br>x=%{x}<br>y=%{y}<br>text=%{text}<extra></extra>",
         "legendgroup": "Brunei",
         "marker": {
          "color": "#B6E880",
          "pattern": {
           "shape": ""
          }
         },
         "name": "Brunei",
         "offsetgroup": "Brunei",
         "orientation": "v",
         "showlegend": true,
         "text": [
          0.022693960220425156
         ],
         "textposition": "auto",
         "type": "bar",
         "x": [
          "Brunei"
         ],
         "xaxis": "x",
         "y": [
          0.022693960220425156
         ],
         "yaxis": "y"
        },
        {
         "alignmentgroup": "True",
         "hovertemplate": "color=Bahrain<br>x=%{x}<br>y=%{y}<br>text=%{text}<extra></extra>",
         "legendgroup": "Bahrain",
         "marker": {
          "color": "#FF97FF",
          "pattern": {
           "shape": ""
          }
         },
         "name": "Bahrain",
         "offsetgroup": "Bahrain",
         "orientation": "v",
         "showlegend": true,
         "text": [
          0.021603030177035243
         ],
         "textposition": "auto",
         "type": "bar",
         "x": [
          "Bahrain"
         ],
         "xaxis": "x",
         "y": [
          0.021603030177035243
         ],
         "yaxis": "y"
        },
        {
         "alignmentgroup": "True",
         "hovertemplate": "color=Saudi Arabia<br>x=%{x}<br>y=%{y}<br>text=%{text}<extra></extra>",
         "legendgroup": "Saudi Arabia",
         "marker": {
          "color": "#FECB52",
          "pattern": {
           "shape": ""
          }
         },
         "name": "Saudi Arabia",
         "offsetgroup": "Saudi Arabia",
         "orientation": "v",
         "showlegend": true,
         "text": [
          0.019558878385805976
         ],
         "textposition": "auto",
         "type": "bar",
         "x": [
          "Saudi Arabia"
         ],
         "xaxis": "x",
         "y": [
          0.019558878385805976
         ],
         "yaxis": "y"
        }
       ],
       "layout": {
        "barmode": "relative",
        "height": 600,
        "legend": {
         "title": {
          "text": "C02_per_urban_population"
         },
         "tracegroupgap": 0
        },
        "margin": {
         "l": 80,
         "t": 100
        },
        "showlegend": true,
        "template": {
         "data": {
          "bar": [
           {
            "error_x": {
             "color": "#2a3f5f"
            },
            "error_y": {
             "color": "#2a3f5f"
            },
            "marker": {
             "line": {
              "color": "white",
              "width": 0.5
             },
             "pattern": {
              "fillmode": "overlay",
              "size": 10,
              "solidity": 0.2
             }
            },
            "type": "bar"
           }
          ],
          "barpolar": [
           {
            "marker": {
             "line": {
              "color": "white",
              "width": 0.5
             },
             "pattern": {
              "fillmode": "overlay",
              "size": 10,
              "solidity": 0.2
             }
            },
            "type": "barpolar"
           }
          ],
          "carpet": [
           {
            "aaxis": {
             "endlinecolor": "#2a3f5f",
             "gridcolor": "#C8D4E3",
             "linecolor": "#C8D4E3",
             "minorgridcolor": "#C8D4E3",
             "startlinecolor": "#2a3f5f"
            },
            "baxis": {
             "endlinecolor": "#2a3f5f",
             "gridcolor": "#C8D4E3",
             "linecolor": "#C8D4E3",
             "minorgridcolor": "#C8D4E3",
             "startlinecolor": "#2a3f5f"
            },
            "type": "carpet"
           }
          ],
          "choropleth": [
           {
            "colorbar": {
             "outlinewidth": 0,
             "ticks": ""
            },
            "type": "choropleth"
           }
          ],
          "contour": [
           {
            "colorbar": {
             "outlinewidth": 0,
             "ticks": ""
            },
            "colorscale": [
             [
              0,
              "#0d0887"
             ],
             [
              0.1111111111111111,
              "#46039f"
             ],
             [
              0.2222222222222222,
              "#7201a8"
             ],
             [
              0.3333333333333333,
              "#9c179e"
             ],
             [
              0.4444444444444444,
              "#bd3786"
             ],
             [
              0.5555555555555556,
              "#d8576b"
             ],
             [
              0.6666666666666666,
              "#ed7953"
             ],
             [
              0.7777777777777778,
              "#fb9f3a"
             ],
             [
              0.8888888888888888,
              "#fdca26"
             ],
             [
              1,
              "#f0f921"
             ]
            ],
            "type": "contour"
           }
          ],
          "contourcarpet": [
           {
            "colorbar": {
             "outlinewidth": 0,
             "ticks": ""
            },
            "type": "contourcarpet"
           }
          ],
          "heatmap": [
           {
            "colorbar": {
             "outlinewidth": 0,
             "ticks": ""
            },
            "colorscale": [
             [
              0,
              "#0d0887"
             ],
             [
              0.1111111111111111,
              "#46039f"
             ],
             [
              0.2222222222222222,
              "#7201a8"
             ],
             [
              0.3333333333333333,
              "#9c179e"
             ],
             [
              0.4444444444444444,
              "#bd3786"
             ],
             [
              0.5555555555555556,
              "#d8576b"
             ],
             [
              0.6666666666666666,
              "#ed7953"
             ],
             [
              0.7777777777777778,
              "#fb9f3a"
             ],
             [
              0.8888888888888888,
              "#fdca26"
             ],
             [
              1,
              "#f0f921"
             ]
            ],
            "type": "heatmap"
           }
          ],
          "heatmapgl": [
           {
            "colorbar": {
             "outlinewidth": 0,
             "ticks": ""
            },
            "colorscale": [
             [
              0,
              "#0d0887"
             ],
             [
              0.1111111111111111,
              "#46039f"
             ],
             [
              0.2222222222222222,
              "#7201a8"
             ],
             [
              0.3333333333333333,
              "#9c179e"
             ],
             [
              0.4444444444444444,
              "#bd3786"
             ],
             [
              0.5555555555555556,
              "#d8576b"
             ],
             [
              0.6666666666666666,
              "#ed7953"
             ],
             [
              0.7777777777777778,
              "#fb9f3a"
             ],
             [
              0.8888888888888888,
              "#fdca26"
             ],
             [
              1,
              "#f0f921"
             ]
            ],
            "type": "heatmapgl"
           }
          ],
          "histogram": [
           {
            "marker": {
             "pattern": {
              "fillmode": "overlay",
              "size": 10,
              "solidity": 0.2
             }
            },
            "type": "histogram"
           }
          ],
          "histogram2d": [
           {
            "colorbar": {
             "outlinewidth": 0,
             "ticks": ""
            },
            "colorscale": [
             [
              0,
              "#0d0887"
             ],
             [
              0.1111111111111111,
              "#46039f"
             ],
             [
              0.2222222222222222,
              "#7201a8"
             ],
             [
              0.3333333333333333,
              "#9c179e"
             ],
             [
              0.4444444444444444,
              "#bd3786"
             ],
             [
              0.5555555555555556,
              "#d8576b"
             ],
             [
              0.6666666666666666,
              "#ed7953"
             ],
             [
              0.7777777777777778,
              "#fb9f3a"
             ],
             [
              0.8888888888888888,
              "#fdca26"
             ],
             [
              1,
              "#f0f921"
             ]
            ],
            "type": "histogram2d"
           }
          ],
          "histogram2dcontour": [
           {
            "colorbar": {
             "outlinewidth": 0,
             "ticks": ""
            },
            "colorscale": [
             [
              0,
              "#0d0887"
             ],
             [
              0.1111111111111111,
              "#46039f"
             ],
             [
              0.2222222222222222,
              "#7201a8"
             ],
             [
              0.3333333333333333,
              "#9c179e"
             ],
             [
              0.4444444444444444,
              "#bd3786"
             ],
             [
              0.5555555555555556,
              "#d8576b"
             ],
             [
              0.6666666666666666,
              "#ed7953"
             ],
             [
              0.7777777777777778,
              "#fb9f3a"
             ],
             [
              0.8888888888888888,
              "#fdca26"
             ],
             [
              1,
              "#f0f921"
             ]
            ],
            "type": "histogram2dcontour"
           }
          ],
          "mesh3d": [
           {
            "colorbar": {
             "outlinewidth": 0,
             "ticks": ""
            },
            "type": "mesh3d"
           }
          ],
          "parcoords": [
           {
            "line": {
             "colorbar": {
              "outlinewidth": 0,
              "ticks": ""
             }
            },
            "type": "parcoords"
           }
          ],
          "pie": [
           {
            "automargin": true,
            "type": "pie"
           }
          ],
          "scatter": [
           {
            "fillpattern": {
             "fillmode": "overlay",
             "size": 10,
             "solidity": 0.2
            },
            "type": "scatter"
           }
          ],
          "scatter3d": [
           {
            "line": {
             "colorbar": {
              "outlinewidth": 0,
              "ticks": ""
             }
            },
            "marker": {
             "colorbar": {
              "outlinewidth": 0,
              "ticks": ""
             }
            },
            "type": "scatter3d"
           }
          ],
          "scattercarpet": [
           {
            "marker": {
             "colorbar": {
              "outlinewidth": 0,
              "ticks": ""
             }
            },
            "type": "scattercarpet"
           }
          ],
          "scattergeo": [
           {
            "marker": {
             "colorbar": {
              "outlinewidth": 0,
              "ticks": ""
             }
            },
            "type": "scattergeo"
           }
          ],
          "scattergl": [
           {
            "marker": {
             "colorbar": {
              "outlinewidth": 0,
              "ticks": ""
             }
            },
            "type": "scattergl"
           }
          ],
          "scattermapbox": [
           {
            "marker": {
             "colorbar": {
              "outlinewidth": 0,
              "ticks": ""
             }
            },
            "type": "scattermapbox"
           }
          ],
          "scatterpolar": [
           {
            "marker": {
             "colorbar": {
              "outlinewidth": 0,
              "ticks": ""
             }
            },
            "type": "scatterpolar"
           }
          ],
          "scatterpolargl": [
           {
            "marker": {
             "colorbar": {
              "outlinewidth": 0,
              "ticks": ""
             }
            },
            "type": "scatterpolargl"
           }
          ],
          "scatterternary": [
           {
            "marker": {
             "colorbar": {
              "outlinewidth": 0,
              "ticks": ""
             }
            },
            "type": "scatterternary"
           }
          ],
          "surface": [
           {
            "colorbar": {
             "outlinewidth": 0,
             "ticks": ""
            },
            "colorscale": [
             [
              0,
              "#0d0887"
             ],
             [
              0.1111111111111111,
              "#46039f"
             ],
             [
              0.2222222222222222,
              "#7201a8"
             ],
             [
              0.3333333333333333,
              "#9c179e"
             ],
             [
              0.4444444444444444,
              "#bd3786"
             ],
             [
              0.5555555555555556,
              "#d8576b"
             ],
             [
              0.6666666666666666,
              "#ed7953"
             ],
             [
              0.7777777777777778,
              "#fb9f3a"
             ],
             [
              0.8888888888888888,
              "#fdca26"
             ],
             [
              1,
              "#f0f921"
             ]
            ],
            "type": "surface"
           }
          ],
          "table": [
           {
            "cells": {
             "fill": {
              "color": "#EBF0F8"
             },
             "line": {
              "color": "white"
             }
            },
            "header": {
             "fill": {
              "color": "#C8D4E3"
             },
             "line": {
              "color": "white"
             }
            },
            "type": "table"
           }
          ]
         },
         "layout": {
          "annotationdefaults": {
           "arrowcolor": "#2a3f5f",
           "arrowhead": 0,
           "arrowwidth": 1
          },
          "autotypenumbers": "strict",
          "coloraxis": {
           "colorbar": {
            "outlinewidth": 0,
            "ticks": ""
           }
          },
          "colorscale": {
           "diverging": [
            [
             0,
             "#8e0152"
            ],
            [
             0.1,
             "#c51b7d"
            ],
            [
             0.2,
             "#de77ae"
            ],
            [
             0.3,
             "#f1b6da"
            ],
            [
             0.4,
             "#fde0ef"
            ],
            [
             0.5,
             "#f7f7f7"
            ],
            [
             0.6,
             "#e6f5d0"
            ],
            [
             0.7,
             "#b8e186"
            ],
            [
             0.8,
             "#7fbc41"
            ],
            [
             0.9,
             "#4d9221"
            ],
            [
             1,
             "#276419"
            ]
           ],
           "sequential": [
            [
             0,
             "#0d0887"
            ],
            [
             0.1111111111111111,
             "#46039f"
            ],
            [
             0.2222222222222222,
             "#7201a8"
            ],
            [
             0.3333333333333333,
             "#9c179e"
            ],
            [
             0.4444444444444444,
             "#bd3786"
            ],
            [
             0.5555555555555556,
             "#d8576b"
            ],
            [
             0.6666666666666666,
             "#ed7953"
            ],
            [
             0.7777777777777778,
             "#fb9f3a"
            ],
            [
             0.8888888888888888,
             "#fdca26"
            ],
            [
             1,
             "#f0f921"
            ]
           ],
           "sequentialminus": [
            [
             0,
             "#0d0887"
            ],
            [
             0.1111111111111111,
             "#46039f"
            ],
            [
             0.2222222222222222,
             "#7201a8"
            ],
            [
             0.3333333333333333,
             "#9c179e"
            ],
            [
             0.4444444444444444,
             "#bd3786"
            ],
            [
             0.5555555555555556,
             "#d8576b"
            ],
            [
             0.6666666666666666,
             "#ed7953"
            ],
            [
             0.7777777777777778,
             "#fb9f3a"
            ],
            [
             0.8888888888888888,
             "#fdca26"
            ],
            [
             1,
             "#f0f921"
            ]
           ]
          },
          "colorway": [
           "#636efa",
           "#EF553B",
           "#00cc96",
           "#ab63fa",
           "#FFA15A",
           "#19d3f3",
           "#FF6692",
           "#B6E880",
           "#FF97FF",
           "#FECB52"
          ],
          "font": {
           "color": "#2a3f5f"
          },
          "geo": {
           "bgcolor": "white",
           "lakecolor": "white",
           "landcolor": "white",
           "showlakes": true,
           "showland": true,
           "subunitcolor": "#C8D4E3"
          },
          "hoverlabel": {
           "align": "left"
          },
          "hovermode": "closest",
          "mapbox": {
           "style": "light"
          },
          "paper_bgcolor": "white",
          "plot_bgcolor": "white",
          "polar": {
           "angularaxis": {
            "gridcolor": "#EBF0F8",
            "linecolor": "#EBF0F8",
            "ticks": ""
           },
           "bgcolor": "white",
           "radialaxis": {
            "gridcolor": "#EBF0F8",
            "linecolor": "#EBF0F8",
            "ticks": ""
           }
          },
          "scene": {
           "xaxis": {
            "backgroundcolor": "white",
            "gridcolor": "#DFE8F3",
            "gridwidth": 2,
            "linecolor": "#EBF0F8",
            "showbackground": true,
            "ticks": "",
            "zerolinecolor": "#EBF0F8"
           },
           "yaxis": {
            "backgroundcolor": "white",
            "gridcolor": "#DFE8F3",
            "gridwidth": 2,
            "linecolor": "#EBF0F8",
            "showbackground": true,
            "ticks": "",
            "zerolinecolor": "#EBF0F8"
           },
           "zaxis": {
            "backgroundcolor": "white",
            "gridcolor": "#DFE8F3",
            "gridwidth": 2,
            "linecolor": "#EBF0F8",
            "showbackground": true,
            "ticks": "",
            "zerolinecolor": "#EBF0F8"
           }
          },
          "shapedefaults": {
           "line": {
            "color": "#2a3f5f"
           }
          },
          "ternary": {
           "aaxis": {
            "gridcolor": "#DFE8F3",
            "linecolor": "#A2B1C6",
            "ticks": ""
           },
           "baxis": {
            "gridcolor": "#DFE8F3",
            "linecolor": "#A2B1C6",
            "ticks": ""
           },
           "bgcolor": "white",
           "caxis": {
            "gridcolor": "#DFE8F3",
            "linecolor": "#A2B1C6",
            "ticks": ""
           }
          },
          "title": {
           "x": 0.05
          },
          "xaxis": {
           "automargin": true,
           "gridcolor": "#EBF0F8",
           "linecolor": "#EBF0F8",
           "ticks": "",
           "title": {
            "standoff": 15
           },
           "zerolinecolor": "#EBF0F8",
           "zerolinewidth": 2
          },
          "yaxis": {
           "automargin": true,
           "gridcolor": "#EBF0F8",
           "linecolor": "#EBF0F8",
           "ticks": "",
           "title": {
            "standoff": 15
           },
           "zerolinecolor": "#EBF0F8",
           "zerolinewidth": 2
          }
         }
        },
        "title": {
         "text": "<b>Top 10 highest C02_per_urban_population<br> <sup> Barplot</sup></b>"
        },
        "width": 1000,
        "xaxis": {
         "anchor": "y",
         "domain": [
          0,
          1
         ],
         "title": {
          "text": "C02_per_urban_population"
         }
        },
        "yaxis": {
         "anchor": "x",
         "domain": [
          0,
          1
         ],
         "title": {
          "text": "Count"
         }
        }
       }
      },
      "text/html": [
       "<div>                            <div id=\"e1550c0b-d5b4-4152-9c72-083606076584\" class=\"plotly-graph-div\" style=\"height:600px; width:1000px;\"></div>            <script type=\"text/javascript\">                require([\"plotly\"], function(Plotly) {                    window.PLOTLYENV=window.PLOTLYENV || {};                                    if (document.getElementById(\"e1550c0b-d5b4-4152-9c72-083606076584\")) {                    Plotly.newPlot(                        \"e1550c0b-d5b4-4152-9c72-083606076584\",                        [{\"alignmentgroup\":\"True\",\"hovertemplate\":\"color=Trinidad and Tobago<br>x=%{x}<br>y=%{y}<br>text=%{text}<extra></extra>\",\"legendgroup\":\"Trinidad and Tobago\",\"marker\":{\"color\":\"#636efa\",\"pattern\":{\"shape\":\"\"}},\"name\":\"Trinidad and Tobago\",\"offsetgroup\":\"Trinidad and Tobago\",\"orientation\":\"v\",\"showlegend\":true,\"text\":[0.05912575612175582],\"textposition\":\"auto\",\"x\":[\"Trinidad and Tobago\"],\"xaxis\":\"x\",\"y\":[0.05912575612175582],\"yaxis\":\"y\",\"type\":\"bar\"},{\"alignmentgroup\":\"True\",\"hovertemplate\":\"color=Qatar<br>x=%{x}<br>y=%{y}<br>text=%{text}<extra></extra>\",\"legendgroup\":\"Qatar\",\"marker\":{\"color\":\"#EF553B\",\"pattern\":{\"shape\":\"\"}},\"name\":\"Qatar\",\"offsetgroup\":\"Qatar\",\"orientation\":\"v\",\"showlegend\":true,\"text\":[0.036759127839773365],\"textposition\":\"auto\",\"x\":[\"Qatar\"],\"xaxis\":\"x\",\"y\":[0.036759127839773365],\"yaxis\":\"y\",\"type\":\"bar\"},{\"alignmentgroup\":\"True\",\"hovertemplate\":\"color=United Arab Emirates<br>x=%{x}<br>y=%{y}<br>text=%{text}<extra></extra>\",\"legendgroup\":\"United Arab Emirates\",\"marker\":{\"color\":\"#00cc96\",\"pattern\":{\"shape\":\"\"}},\"name\":\"United Arab Emirates\",\"offsetgroup\":\"United Arab Emirates\",\"orientation\":\"v\",\"showlegend\":true,\"text\":[0.02433139491003502],\"textposition\":\"auto\",\"x\":[\"United Arab Emirates\"],\"xaxis\":\"x\",\"y\":[0.02433139491003502],\"yaxis\":\"y\",\"type\":\"bar\"},{\"alignmentgroup\":\"True\",\"hovertemplate\":\"color=Kuwait<br>x=%{x}<br>y=%{y}<br>text=%{text}<extra></extra>\",\"legendgroup\":\"Kuwait\",\"marker\":{\"color\":\"#ab63fa\",\"pattern\":{\"shape\":\"\"}},\"name\":\"Kuwait\",\"offsetgroup\":\"Kuwait\",\"orientation\":\"v\",\"showlegend\":true,\"text\":[0.02346851726005881],\"textposition\":\"auto\",\"x\":[\"Kuwait\"],\"xaxis\":\"x\",\"y\":[0.02346851726005881],\"yaxis\":\"y\",\"type\":\"bar\"},{\"alignmentgroup\":\"True\",\"hovertemplate\":\"color=Antigua and Barbuda<br>x=%{x}<br>y=%{y}<br>text=%{text}<extra></extra>\",\"legendgroup\":\"Antigua and Barbuda\",\"marker\":{\"color\":\"#FFA15A\",\"pattern\":{\"shape\":\"\"}},\"name\":\"Antigua and Barbuda\",\"offsetgroup\":\"Antigua and Barbuda\",\"orientation\":\"v\",\"showlegend\":true,\"text\":[0.023403361344537816],\"textposition\":\"auto\",\"x\":[\"Antigua and Barbuda\"],\"xaxis\":\"x\",\"y\":[0.023403361344537816],\"yaxis\":\"y\",\"type\":\"bar\"},{\"alignmentgroup\":\"True\",\"hovertemplate\":\"color=Kazakhstan<br>x=%{x}<br>y=%{y}<br>text=%{text}<extra></extra>\",\"legendgroup\":\"Kazakhstan\",\"marker\":{\"color\":\"#19d3f3\",\"pattern\":{\"shape\":\"\"}},\"name\":\"Kazakhstan\",\"offsetgroup\":\"Kazakhstan\",\"orientation\":\"v\",\"showlegend\":true,\"text\":[0.02320557331021603],\"textposition\":\"auto\",\"x\":[\"Kazakhstan\"],\"xaxis\":\"x\",\"y\":[0.02320557331021603],\"yaxis\":\"y\",\"type\":\"bar\"},{\"alignmentgroup\":\"True\",\"hovertemplate\":\"color=Turkmenistan<br>x=%{x}<br>y=%{y}<br>text=%{text}<extra></extra>\",\"legendgroup\":\"Turkmenistan\",\"marker\":{\"color\":\"#FF6692\",\"pattern\":{\"shape\":\"\"}},\"name\":\"Turkmenistan\",\"offsetgroup\":\"Turkmenistan\",\"orientation\":\"v\",\"showlegend\":true,\"text\":[0.022837369347160994],\"textposition\":\"auto\",\"x\":[\"Turkmenistan\"],\"xaxis\":\"x\",\"y\":[0.022837369347160994],\"yaxis\":\"y\",\"type\":\"bar\"},{\"alignmentgroup\":\"True\",\"hovertemplate\":\"color=Brunei<br>x=%{x}<br>y=%{y}<br>text=%{text}<extra></extra>\",\"legendgroup\":\"Brunei\",\"marker\":{\"color\":\"#B6E880\",\"pattern\":{\"shape\":\"\"}},\"name\":\"Brunei\",\"offsetgroup\":\"Brunei\",\"orientation\":\"v\",\"showlegend\":true,\"text\":[0.022693960220425156],\"textposition\":\"auto\",\"x\":[\"Brunei\"],\"xaxis\":\"x\",\"y\":[0.022693960220425156],\"yaxis\":\"y\",\"type\":\"bar\"},{\"alignmentgroup\":\"True\",\"hovertemplate\":\"color=Bahrain<br>x=%{x}<br>y=%{y}<br>text=%{text}<extra></extra>\",\"legendgroup\":\"Bahrain\",\"marker\":{\"color\":\"#FF97FF\",\"pattern\":{\"shape\":\"\"}},\"name\":\"Bahrain\",\"offsetgroup\":\"Bahrain\",\"orientation\":\"v\",\"showlegend\":true,\"text\":[0.021603030177035243],\"textposition\":\"auto\",\"x\":[\"Bahrain\"],\"xaxis\":\"x\",\"y\":[0.021603030177035243],\"yaxis\":\"y\",\"type\":\"bar\"},{\"alignmentgroup\":\"True\",\"hovertemplate\":\"color=Saudi Arabia<br>x=%{x}<br>y=%{y}<br>text=%{text}<extra></extra>\",\"legendgroup\":\"Saudi Arabia\",\"marker\":{\"color\":\"#FECB52\",\"pattern\":{\"shape\":\"\"}},\"name\":\"Saudi Arabia\",\"offsetgroup\":\"Saudi Arabia\",\"orientation\":\"v\",\"showlegend\":true,\"text\":[0.019558878385805976],\"textposition\":\"auto\",\"x\":[\"Saudi Arabia\"],\"xaxis\":\"x\",\"y\":[0.019558878385805976],\"yaxis\":\"y\",\"type\":\"bar\"}],                        {\"template\":{\"data\":{\"barpolar\":[{\"marker\":{\"line\":{\"color\":\"white\",\"width\":0.5},\"pattern\":{\"fillmode\":\"overlay\",\"size\":10,\"solidity\":0.2}},\"type\":\"barpolar\"}],\"bar\":[{\"error_x\":{\"color\":\"#2a3f5f\"},\"error_y\":{\"color\":\"#2a3f5f\"},\"marker\":{\"line\":{\"color\":\"white\",\"width\":0.5},\"pattern\":{\"fillmode\":\"overlay\",\"size\":10,\"solidity\":0.2}},\"type\":\"bar\"}],\"carpet\":[{\"aaxis\":{\"endlinecolor\":\"#2a3f5f\",\"gridcolor\":\"#C8D4E3\",\"linecolor\":\"#C8D4E3\",\"minorgridcolor\":\"#C8D4E3\",\"startlinecolor\":\"#2a3f5f\"},\"baxis\":{\"endlinecolor\":\"#2a3f5f\",\"gridcolor\":\"#C8D4E3\",\"linecolor\":\"#C8D4E3\",\"minorgridcolor\":\"#C8D4E3\",\"startlinecolor\":\"#2a3f5f\"},\"type\":\"carpet\"}],\"choropleth\":[{\"colorbar\":{\"outlinewidth\":0,\"ticks\":\"\"},\"type\":\"choropleth\"}],\"contourcarpet\":[{\"colorbar\":{\"outlinewidth\":0,\"ticks\":\"\"},\"type\":\"contourcarpet\"}],\"contour\":[{\"colorbar\":{\"outlinewidth\":0,\"ticks\":\"\"},\"colorscale\":[[0.0,\"#0d0887\"],[0.1111111111111111,\"#46039f\"],[0.2222222222222222,\"#7201a8\"],[0.3333333333333333,\"#9c179e\"],[0.4444444444444444,\"#bd3786\"],[0.5555555555555556,\"#d8576b\"],[0.6666666666666666,\"#ed7953\"],[0.7777777777777778,\"#fb9f3a\"],[0.8888888888888888,\"#fdca26\"],[1.0,\"#f0f921\"]],\"type\":\"contour\"}],\"heatmapgl\":[{\"colorbar\":{\"outlinewidth\":0,\"ticks\":\"\"},\"colorscale\":[[0.0,\"#0d0887\"],[0.1111111111111111,\"#46039f\"],[0.2222222222222222,\"#7201a8\"],[0.3333333333333333,\"#9c179e\"],[0.4444444444444444,\"#bd3786\"],[0.5555555555555556,\"#d8576b\"],[0.6666666666666666,\"#ed7953\"],[0.7777777777777778,\"#fb9f3a\"],[0.8888888888888888,\"#fdca26\"],[1.0,\"#f0f921\"]],\"type\":\"heatmapgl\"}],\"heatmap\":[{\"colorbar\":{\"outlinewidth\":0,\"ticks\":\"\"},\"colorscale\":[[0.0,\"#0d0887\"],[0.1111111111111111,\"#46039f\"],[0.2222222222222222,\"#7201a8\"],[0.3333333333333333,\"#9c179e\"],[0.4444444444444444,\"#bd3786\"],[0.5555555555555556,\"#d8576b\"],[0.6666666666666666,\"#ed7953\"],[0.7777777777777778,\"#fb9f3a\"],[0.8888888888888888,\"#fdca26\"],[1.0,\"#f0f921\"]],\"type\":\"heatmap\"}],\"histogram2dcontour\":[{\"colorbar\":{\"outlinewidth\":0,\"ticks\":\"\"},\"colorscale\":[[0.0,\"#0d0887\"],[0.1111111111111111,\"#46039f\"],[0.2222222222222222,\"#7201a8\"],[0.3333333333333333,\"#9c179e\"],[0.4444444444444444,\"#bd3786\"],[0.5555555555555556,\"#d8576b\"],[0.6666666666666666,\"#ed7953\"],[0.7777777777777778,\"#fb9f3a\"],[0.8888888888888888,\"#fdca26\"],[1.0,\"#f0f921\"]],\"type\":\"histogram2dcontour\"}],\"histogram2d\":[{\"colorbar\":{\"outlinewidth\":0,\"ticks\":\"\"},\"colorscale\":[[0.0,\"#0d0887\"],[0.1111111111111111,\"#46039f\"],[0.2222222222222222,\"#7201a8\"],[0.3333333333333333,\"#9c179e\"],[0.4444444444444444,\"#bd3786\"],[0.5555555555555556,\"#d8576b\"],[0.6666666666666666,\"#ed7953\"],[0.7777777777777778,\"#fb9f3a\"],[0.8888888888888888,\"#fdca26\"],[1.0,\"#f0f921\"]],\"type\":\"histogram2d\"}],\"histogram\":[{\"marker\":{\"pattern\":{\"fillmode\":\"overlay\",\"size\":10,\"solidity\":0.2}},\"type\":\"histogram\"}],\"mesh3d\":[{\"colorbar\":{\"outlinewidth\":0,\"ticks\":\"\"},\"type\":\"mesh3d\"}],\"parcoords\":[{\"line\":{\"colorbar\":{\"outlinewidth\":0,\"ticks\":\"\"}},\"type\":\"parcoords\"}],\"pie\":[{\"automargin\":true,\"type\":\"pie\"}],\"scatter3d\":[{\"line\":{\"colorbar\":{\"outlinewidth\":0,\"ticks\":\"\"}},\"marker\":{\"colorbar\":{\"outlinewidth\":0,\"ticks\":\"\"}},\"type\":\"scatter3d\"}],\"scattercarpet\":[{\"marker\":{\"colorbar\":{\"outlinewidth\":0,\"ticks\":\"\"}},\"type\":\"scattercarpet\"}],\"scattergeo\":[{\"marker\":{\"colorbar\":{\"outlinewidth\":0,\"ticks\":\"\"}},\"type\":\"scattergeo\"}],\"scattergl\":[{\"marker\":{\"colorbar\":{\"outlinewidth\":0,\"ticks\":\"\"}},\"type\":\"scattergl\"}],\"scattermapbox\":[{\"marker\":{\"colorbar\":{\"outlinewidth\":0,\"ticks\":\"\"}},\"type\":\"scattermapbox\"}],\"scatterpolargl\":[{\"marker\":{\"colorbar\":{\"outlinewidth\":0,\"ticks\":\"\"}},\"type\":\"scatterpolargl\"}],\"scatterpolar\":[{\"marker\":{\"colorbar\":{\"outlinewidth\":0,\"ticks\":\"\"}},\"type\":\"scatterpolar\"}],\"scatter\":[{\"fillpattern\":{\"fillmode\":\"overlay\",\"size\":10,\"solidity\":0.2},\"type\":\"scatter\"}],\"scatterternary\":[{\"marker\":{\"colorbar\":{\"outlinewidth\":0,\"ticks\":\"\"}},\"type\":\"scatterternary\"}],\"surface\":[{\"colorbar\":{\"outlinewidth\":0,\"ticks\":\"\"},\"colorscale\":[[0.0,\"#0d0887\"],[0.1111111111111111,\"#46039f\"],[0.2222222222222222,\"#7201a8\"],[0.3333333333333333,\"#9c179e\"],[0.4444444444444444,\"#bd3786\"],[0.5555555555555556,\"#d8576b\"],[0.6666666666666666,\"#ed7953\"],[0.7777777777777778,\"#fb9f3a\"],[0.8888888888888888,\"#fdca26\"],[1.0,\"#f0f921\"]],\"type\":\"surface\"}],\"table\":[{\"cells\":{\"fill\":{\"color\":\"#EBF0F8\"},\"line\":{\"color\":\"white\"}},\"header\":{\"fill\":{\"color\":\"#C8D4E3\"},\"line\":{\"color\":\"white\"}},\"type\":\"table\"}]},\"layout\":{\"annotationdefaults\":{\"arrowcolor\":\"#2a3f5f\",\"arrowhead\":0,\"arrowwidth\":1},\"autotypenumbers\":\"strict\",\"coloraxis\":{\"colorbar\":{\"outlinewidth\":0,\"ticks\":\"\"}},\"colorscale\":{\"diverging\":[[0,\"#8e0152\"],[0.1,\"#c51b7d\"],[0.2,\"#de77ae\"],[0.3,\"#f1b6da\"],[0.4,\"#fde0ef\"],[0.5,\"#f7f7f7\"],[0.6,\"#e6f5d0\"],[0.7,\"#b8e186\"],[0.8,\"#7fbc41\"],[0.9,\"#4d9221\"],[1,\"#276419\"]],\"sequential\":[[0.0,\"#0d0887\"],[0.1111111111111111,\"#46039f\"],[0.2222222222222222,\"#7201a8\"],[0.3333333333333333,\"#9c179e\"],[0.4444444444444444,\"#bd3786\"],[0.5555555555555556,\"#d8576b\"],[0.6666666666666666,\"#ed7953\"],[0.7777777777777778,\"#fb9f3a\"],[0.8888888888888888,\"#fdca26\"],[1.0,\"#f0f921\"]],\"sequentialminus\":[[0.0,\"#0d0887\"],[0.1111111111111111,\"#46039f\"],[0.2222222222222222,\"#7201a8\"],[0.3333333333333333,\"#9c179e\"],[0.4444444444444444,\"#bd3786\"],[0.5555555555555556,\"#d8576b\"],[0.6666666666666666,\"#ed7953\"],[0.7777777777777778,\"#fb9f3a\"],[0.8888888888888888,\"#fdca26\"],[1.0,\"#f0f921\"]]},\"colorway\":[\"#636efa\",\"#EF553B\",\"#00cc96\",\"#ab63fa\",\"#FFA15A\",\"#19d3f3\",\"#FF6692\",\"#B6E880\",\"#FF97FF\",\"#FECB52\"],\"font\":{\"color\":\"#2a3f5f\"},\"geo\":{\"bgcolor\":\"white\",\"lakecolor\":\"white\",\"landcolor\":\"white\",\"showlakes\":true,\"showland\":true,\"subunitcolor\":\"#C8D4E3\"},\"hoverlabel\":{\"align\":\"left\"},\"hovermode\":\"closest\",\"mapbox\":{\"style\":\"light\"},\"paper_bgcolor\":\"white\",\"plot_bgcolor\":\"white\",\"polar\":{\"angularaxis\":{\"gridcolor\":\"#EBF0F8\",\"linecolor\":\"#EBF0F8\",\"ticks\":\"\"},\"bgcolor\":\"white\",\"radialaxis\":{\"gridcolor\":\"#EBF0F8\",\"linecolor\":\"#EBF0F8\",\"ticks\":\"\"}},\"scene\":{\"xaxis\":{\"backgroundcolor\":\"white\",\"gridcolor\":\"#DFE8F3\",\"gridwidth\":2,\"linecolor\":\"#EBF0F8\",\"showbackground\":true,\"ticks\":\"\",\"zerolinecolor\":\"#EBF0F8\"},\"yaxis\":{\"backgroundcolor\":\"white\",\"gridcolor\":\"#DFE8F3\",\"gridwidth\":2,\"linecolor\":\"#EBF0F8\",\"showbackground\":true,\"ticks\":\"\",\"zerolinecolor\":\"#EBF0F8\"},\"zaxis\":{\"backgroundcolor\":\"white\",\"gridcolor\":\"#DFE8F3\",\"gridwidth\":2,\"linecolor\":\"#EBF0F8\",\"showbackground\":true,\"ticks\":\"\",\"zerolinecolor\":\"#EBF0F8\"}},\"shapedefaults\":{\"line\":{\"color\":\"#2a3f5f\"}},\"ternary\":{\"aaxis\":{\"gridcolor\":\"#DFE8F3\",\"linecolor\":\"#A2B1C6\",\"ticks\":\"\"},\"baxis\":{\"gridcolor\":\"#DFE8F3\",\"linecolor\":\"#A2B1C6\",\"ticks\":\"\"},\"bgcolor\":\"white\",\"caxis\":{\"gridcolor\":\"#DFE8F3\",\"linecolor\":\"#A2B1C6\",\"ticks\":\"\"}},\"title\":{\"x\":0.05},\"xaxis\":{\"automargin\":true,\"gridcolor\":\"#EBF0F8\",\"linecolor\":\"#EBF0F8\",\"ticks\":\"\",\"title\":{\"standoff\":15},\"zerolinecolor\":\"#EBF0F8\",\"zerolinewidth\":2},\"yaxis\":{\"automargin\":true,\"gridcolor\":\"#EBF0F8\",\"linecolor\":\"#EBF0F8\",\"ticks\":\"\",\"title\":{\"standoff\":15},\"zerolinecolor\":\"#EBF0F8\",\"zerolinewidth\":2}}},\"xaxis\":{\"anchor\":\"y\",\"domain\":[0.0,1.0],\"title\":{\"text\":\"C02_per_urban_population\"}},\"yaxis\":{\"anchor\":\"x\",\"domain\":[0.0,1.0],\"title\":{\"text\":\"Count\"}},\"legend\":{\"title\":{\"text\":\"C02_per_urban_population\"},\"tracegroupgap\":0},\"margin\":{\"t\":100,\"l\":80},\"barmode\":\"relative\",\"title\":{\"text\":\"<b>Top 10 highest C02_per_urban_population<br> <sup> Barplot</sup></b>\"},\"showlegend\":true,\"height\":600,\"width\":1000},                        {\"responsive\": true}                    ).then(function(){\n",
       "                            \n",
       "var gd = document.getElementById('e1550c0b-d5b4-4152-9c72-083606076584');\n",
       "var x = new MutationObserver(function (mutations, observer) {{\n",
       "        var display = window.getComputedStyle(gd).display;\n",
       "        if (!display || display === 'none') {{\n",
       "            console.log([gd, 'removed!']);\n",
       "            Plotly.purge(gd);\n",
       "            observer.disconnect();\n",
       "        }}\n",
       "}});\n",
       "\n",
       "// Listen for the removal of the full notebook cells\n",
       "var notebookContainer = gd.closest('#notebook-container');\n",
       "if (notebookContainer) {{\n",
       "    x.observe(notebookContainer, {childList: true});\n",
       "}}\n",
       "\n",
       "// Listen for the clearing of the current output cell\n",
       "var outputEl = gd.closest('.output');\n",
       "if (outputEl) {{\n",
       "    x.observe(outputEl, {childList: true});\n",
       "}}\n",
       "\n",
       "                        })                };                });            </script>        </div>"
      ]
     },
     "metadata": {},
     "output_type": "display_data"
    }
   ],
   "source": [
    "top10_barplot(df, 'C02_per_urban_population')"
   ]
  },
  {
   "cell_type": "markdown",
   "id": "8e568343",
   "metadata": {},
   "source": [
    "### Analysis\n",
    "- #### China and United States have the highest overall CO2 Emissions\n",
    "- #### Trinidad and Qatar have high CO2 Emission per capita due to the mass amounts of Energy Production that fuels their economies"
   ]
  },
  {
   "cell_type": "markdown",
   "id": "f34e98f7",
   "metadata": {},
   "source": [
    "## Land Usability Analysis"
   ]
  },
  {
   "cell_type": "markdown",
   "id": "a34cce53",
   "metadata": {},
   "source": [
    "### Agricultural land per KM2"
   ]
  },
  {
   "cell_type": "code",
   "execution_count": 33,
   "id": "c82c02a1",
   "metadata": {},
   "outputs": [
    {
     "data": {
      "application/vnd.plotly.v1+json": {
       "config": {
        "plotlyServerURL": "https://plot.ly"
       },
       "data": [
        {
         "lat": [
          33.93911,
          41.153332,
          28.033886,
          42.506285,
          -11.202692,
          17.060816,
          -38.416097,
          40.069099,
          -25.274398,
          47.516231,
          40.143105,
          25.03428,
          26.0667,
          23.684994,
          13.193887,
          53.709807,
          50.503887,
          17.189877,
          9.30769,
          27.514162,
          -16.290154,
          43.915886,
          -22.328474,
          -14.235004,
          4.535277,
          42.733883,
          12.238333,
          -3.373056,
          7.539989,
          16.5388,
          12.565679,
          7.369722,
          56.130366,
          6.611111,
          15.454166,
          -35.675147,
          35.86166,
          4.570868,
          -11.6455,
          -0.228021,
          9.748917,
          45.1,
          21.521757,
          35.126413,
          49.817492,
          -4.038333,
          56.26392,
          11.825138,
          15.414999,
          18.735693,
          -1.831239,
          26.820553,
          13.794185,
          1.650801,
          15.179384,
          58.595272,
          -26.522503,
          9.145,
          -17.713371,
          61.92411,
          46.227638,
          -0.803689,
          13.443182,
          42.315407,
          51.165691,
          7.946527,
          39.074208,
          12.1165,
          15.783471,
          9.945587,
          11.803749,
          4.860416,
          18.971187,
          41.902916,
          15.199999,
          47.162494,
          64.963051,
          20.593684,
          -0.789275,
          32.427908,
          33.223191,
          53.41291,
          31.046051,
          41.87194,
          18.109581,
          36.204824,
          30.585164,
          48.019573,
          -0.023559,
          1.8368976,
          29.31166,
          41.20438,
          19.85627,
          56.879635,
          33.854721,
          -29.609988,
          6.428055,
          26.3351,
          47.1410392,
          55.169438,
          49.815273,
          -18.766947,
          -13.254308,
          4.210484,
          3.202778,
          17.570692,
          35.937496,
          7.131474,
          21.00789,
          -20.348404,
          23.634501,
          7.425554,
          47.411631,
          43.7384176,
          46.862496,
          42.708678,
          31.791702,
          -18.665695,
          21.916221,
          -22.95764,
          -0.522778,
          28.394857,
          52.132633,
          -40.900557,
          12.865416,
          17.607789,
          9.081999,
          40.339852,
          41.608635,
          60.472024,
          21.4735329,
          30.375321,
          7.51498,
          31.952162,
          8.537981,
          -6.314993,
          -23.442503,
          -9.189967,
          12.879721,
          51.919438,
          39.399872,
          25.354826,
          45.943161,
          61.52401,
          -1.940278,
          17.357822,
          13.909444,
          12.984305,
          -13.759029,
          43.94236,
          null,
          23.885942,
          14.497401,
          44.016521,
          -4.679574,
          8.460555,
          1.352083,
          48.669026,
          46.151241,
          -9.64571,
          5.152149,
          -30.559482,
          35.907757,
          6.8769919,
          40.463667,
          7.873054,
          12.862807,
          3.919305,
          60.128161,
          46.818188,
          34.802075,
          38.861034,
          -6.369028,
          15.870032,
          -8.874217,
          8.619543,
          -21.178986,
          10.691803,
          33.886917,
          38.963745,
          38.969719,
          -7.109535,
          1.373333,
          48.379433,
          23.424076,
          55.378051,
          37.09024,
          -32.522779,
          41.377491,
          -15.376706,
          6.42375,
          14.058324,
          15.552727,
          -13.133897,
          -19.015438
         ],
         "lon": [
          67.709953,
          20.168331,
          1.659626,
          1.521801,
          17.873887,
          -61.796428,
          -63.616672,
          45.038189,
          133.775136,
          14.550072,
          47.576927,
          -77.39628,
          50.5577,
          90.356331,
          -59.543198,
          27.953389,
          4.469936,
          -88.49765,
          2.315834,
          90.433601,
          -63.588653,
          17.679076,
          24.684866,
          -51.92528,
          114.727669,
          25.48583,
          -1.561593,
          29.918886,
          -5.54708,
          -23.0418,
          104.990963,
          12.354722,
          -106.346771,
          20.939444,
          18.732207,
          -71.542969,
          104.195397,
          -74.297333,
          43.3333,
          15.827659,
          -83.753428,
          15.2,
          -77.781167,
          33.429859,
          15.472962,
          21.758664,
          9.501785,
          42.590275,
          -61.370976,
          -70.162651,
          -78.183406,
          30.802498,
          -88.89653,
          10.267895,
          39.782334,
          25.013607,
          31.465866,
          40.489673,
          178.065032,
          25.748151,
          2.213749,
          11.609444,
          -15.310139,
          43.356892,
          10.451526,
          -1.023194,
          21.824312,
          -61.679,
          -90.230759,
          -9.696645,
          -15.180413,
          -58.93018,
          -72.285215,
          12.453389,
          -86.241905,
          19.503304,
          -19.020835,
          78.96288,
          113.921327,
          53.688046,
          43.679291,
          -8.24389,
          34.851612,
          12.56738,
          -77.297508,
          138.252924,
          36.238414,
          66.923684,
          37.906193,
          -157.3768317,
          47.481766,
          74.766098,
          102.495496,
          24.603189,
          35.862285,
          28.233608,
          -9.429499,
          17.228331,
          9.520935,
          23.881275,
          6.129583,
          46.869107,
          34.301525,
          101.975766,
          73.22068,
          -3.996166,
          14.375416,
          171.184478,
          -10.940835,
          57.552152,
          -102.552784,
          150.550812,
          28.369885,
          7.4246158,
          103.846656,
          19.37439,
          -7.09262,
          35.529562,
          95.955974,
          18.49041,
          166.931503,
          84.124008,
          5.291266,
          174.885971,
          -85.207229,
          8.081666,
          8.675277,
          127.510093,
          21.745275,
          8.468946,
          55.975413,
          69.345116,
          134.58252,
          35.233154,
          -80.782127,
          143.95555,
          -58.443832,
          -75.015152,
          121.774017,
          19.145136,
          -8.224454,
          51.183884,
          24.96676,
          105.318756,
          29.873888,
          -62.782998,
          -60.978893,
          -61.287228,
          -172.104629,
          12.457777,
          null,
          45.079162,
          -14.452362,
          21.005859,
          55.491977,
          -11.779889,
          103.819836,
          19.699024,
          14.995463,
          160.156194,
          46.199616,
          22.937506,
          127.766922,
          31.3069788,
          -3.74922,
          80.771797,
          30.217636,
          -56.027783,
          18.643501,
          8.227512,
          38.996815,
          71.276093,
          34.888822,
          100.992541,
          125.727539,
          0.824782,
          -175.198242,
          -61.222503,
          9.537499,
          35.243322,
          59.556278,
          177.64933,
          32.290275,
          31.16558,
          53.847818,
          -3.435973,
          -95.712891,
          -55.765835,
          64.585262,
          166.959158,
          -66.58973,
          108.277199,
          48.516388,
          27.849332,
          29.154857
         ],
         "marker": {
          "colorscale": [
           [
            0,
            "#440154"
           ],
           [
            0.1111111111111111,
            "#482878"
           ],
           [
            0.2222222222222222,
            "#3e4989"
           ],
           [
            0.3333333333333333,
            "#31688e"
           ],
           [
            0.4444444444444444,
            "#26828e"
           ],
           [
            0.5555555555555556,
            "#1f9e89"
           ],
           [
            0.6666666666666666,
            "#35b779"
           ],
           [
            0.7777777777777778,
            "#6ece58"
           ],
           [
            0.8888888888888888,
            "#b5de2b"
           ],
           [
            1,
            "#fde725"
           ]
          ],
          "showscale": false,
          "size": [
           70.25868815067433,
           2.296093124482023,
           76.83649517156836,
           0.03351376660043622,
           109.79469631520308,
           0.01564313218839432,
           279.921189124655,
           3.246914147945999,
           691.8090146579651,
           5.037143816507707,
           9.26335297047923,
           0.034833877790079196,
           0.01454921982619017,
           19.43202113719912,
           0.017381340391049226,
           16.16497584983769,
           2.523237537183092,
           0.29687224075671104,
           6.952217623972526,
           0.9669332401059935,
           70.88176542865806,
           4.090020216827982,
           49.18200982521825,
           535.2456798009688,
           0.02766504364014301,
           9.51713637410647,
           22.46969339718258,
           4.085468985174587,
           38.741106549044986,
           0.14536500777368613,
           10.370543389262918,
           18.157869099478713,
           127.73480899495493,
           9.470359754454245,
           94.51060841314916,
           29.71842987259616,
           1000,
           85.09790599817356,
           0.2950932426015672,
           19.719263982626433,
           3.2674709861383144,
           2.894881469029581,
           12.310907523497521,
           0.20806176047347982,
           6.608239291992806,
           50.43067333408155,
           4.952611460605069,
           3.1560958749559362,
           0.04517283288390803,
           4.3934201478450525,
           11.6703943949135,
           7.054558502314098,
           2.9793129625042467,
           0.5240965646828833,
           16.39547616317535,
           1.935895594939438,
           0,
           74.32197370559666,
           0.7882469201440692,
           4.700936526703759,
           62.54680883444424,
           9.92437269145046,
           1.251687156795982,
           4.457239736691542,
           31.573842812279626,
           30.514838491415524,
           11.644620707206718,
           0.014011534088835587,
           7.266840539599187,
           26.89340638865244,
           3.8835846775966867,
           3.4265210229720493,
           3.4357295401553087,
           0,
           6.004942174424216,
           10.071763847409597,
           3.569965565619005,
           368.1293968597606,
           111.23286382483725,
           86.17517976793971,
           17.390127659268597,
           8.40266365094138,
           0.946137039056118,
           24.13512490824217,
           0.83431509248511,
           8.617928360797785,
           1.9865811899022303,
           406.19620247930396,
           52.18732360130109,
           0.06195919619524317,
           0.27630891325377244,
           20.388784700514112,
           4.521001848786798,
           3.723146484516202,
           1.238671453774502,
           4.366200270913663,
           5.780469503611175,
           28.381192094356315,
           0.008357490447239721,
           5.713403405364313,
           0.25627919249293946,
           77.4947445131301,
           13.487148100898906,
           16.08298081438874,
           0.013336460375143163,
           77.71940518854232,
           0.01778812746268921,
           0.02024943027764855,
           73.57266227837431,
           0.15917648568645082,
           198.85886229158447,
           0.039674532697270046,
           4.655801888048091,
           0,
           207.3495115387244,
           0.485370027563232,
           56.71292340477777,
           94.11351822566904,
           24.46030055539547,
           71.98223088213844,
           0,
           7.8306516852963295,
           4.104206220668145,
           20.186010430336452,
           10.175114091666396,
           84.80241431189972,
           133.07931363227527,
           4.870846888387682,
           0,
           1.6197708674256839,
           2.638471377870927,
           70.5530766541422,
           0.008081416632439387,
           0,
           4.249800579220143,
           2.2299859609364017,
           41.55270754289559,
           44.0825389613074,
           23.193455481436843,
           27.18888046108316,
           6.752089880075901,
           0.12339776426962715,
           25.988291804814477,
           421.63080901421966,
           3.5831466533569403,
           0.00998371168942491,
           0.01867809006244852,
           0.017268982612829616,
           0.06389189830772048,
           0.000693985418937312,
           0.08942344202381548,
           322.0446615731027,
           16.813321390935094,
           5.6440015261108325,
           0.0016735005052974027,
           7.2745795060395935,
           0,
           3.5626827050109746,
           1.152755020620363,
           0.20775064438131394,
           83.11257390786189,
           180.3708293045808,
           3.215886528949765,
           0,
           49.28504895338288,
           5.314768761955873,
           99.05273797405422,
           0.18104731657553583,
           6.176968236780192,
           2.9376041236310266,
           26.023988946326327,
           9.109445063383355,
           78.68455182872931,
           41.19312705408884,
           0.7047947563468887,
           7.38977218595719,
           0.062238421960917646,
           0.09863677983782375,
           19.65572065300362,
           72.34792096419254,
           65.1574169665877,
           0.001697603659040884,
           32.131335408927356,
           80.2336337084916,
           0.8513152322292623,
           32.38387119623505,
           809.5090729792167,
           26.985732592022465,
           52.17556960567364,
           0.34457738805468424,
           41.42883550272384,
           24.132649699761583,
           43.65772421393829,
           44.79180540890033,
           30.355278023949055
          ],
          "sizemode": "area",
          "sizeref": 0.1
         },
         "mode": "markers",
         "text": [
          "Afghanistan<br>: 378945.63",
          "Albania<br>: 12390.388",
          "Algeria<br>: 414422.934",
          "Andorra<br>: 187.2",
          "Angola<br>: 592182.5",
          "Antigua and Barbuda<br>: 90.815",
          "Argentina<br>: 1509757.2",
          "Armenia<br>: 17518.627",
          "Australia<br>: 3731268.04",
          "Austria<br>: 27174.203999999998",
          "Azerbaijan<br>: 49968.2",
          "The Bahamas<br>: 194.32",
          "Bahrain<br>: 84.915",
          "Bangladesh<br>: 104812.76",
          "Barbados<br>: 100.19",
          "Belarus<br>: 87192.0",
          "Belgium<br>: 13615.488000000001",
          "Belize<br>: 1607.62",
          "Benin<br>: 37503.126",
          "Bhutan<br>: 5221.584",
          "Bolivia<br>: 382306.18799999997",
          "Bosnia and Herzegovina<br>: 22065.907000000003",
          "Botswana<br>: 265268.88",
          "Brazil<br>: 2886846.03",
          "Brunei<br>: 155.65500000000003",
          "Bulgaria<br>: 51336.97699999999",
          "Burkina Faso<br>: 121196.4",
          "Burundi<br>: 22041.36",
          "Ivory Coast<br>: 208956.02399999998",
          "Cape Verde<br>: 790.4680000000001",
          "Cambodia<br>: 55939.815",
          "Cameroon<br>: 97940.64",
          "Canada<br>: 688942.23",
          "Central African Republic<br>: 51084.687999999995",
          "Chad<br>: 509748.0",
          "Chile<br>: 160292.35199999998",
          "China<br>: 5393491.52",
          "Colombia<br>: 458980.73",
          "Comoros<br>: 1598.025",
          "Republic of the Congo<br>: 106362.0",
          "Costa Rica<br>: 17629.5",
          "Croatia<br>: 15619.944000000001",
          "Cuba<br>: 66405.14",
          "Cyprus<br>: 1128.622",
          "Czech Republic<br>: 35647.884000000005",
          "Democratic Republic of the Congo<br>: 272003.528",
          "Denmark<br>: 26718.28",
          "Djibouti<br>: 17028.800000000003",
          "Dominica<br>: 250.083",
          "Dominican Republic<br>: 23702.29",
          "Ecuador<br>: 62950.542",
          "Egypt<br>: 38055.1",
          "El Salvador<br>: 16075.324",
          "Equatorial Guinea<br>: 2833.151",
          "Eritrea<br>: 88435.2",
          "Estonia<br>: 10447.668",
          "Eswatini<br>: nan",
          "Ethiopia<br>: 400860.9",
          "Fiji<br>: 4257.842000000001",
          "Finland<br>: 25360.875",
          "France<br>: 337351.724",
          "Gabon<br>: 53533.4",
          "The Gambia<br>: 6757.4",
          "Georgia<br>: 24046.5",
          "Germany<br>: 170299.49400000004",
          "Ghana<br>: 164587.77",
          "Greece<br>: 62811.532",
          "Grenada<br>: 82.015",
          "Guatemala<br>: 39200.04",
          "Guinea<br>: 145055.63",
          "Guinea-Bissau<br>: 20952.5",
          "Guyana<br>: 18487.334",
          "Haiti<br>: 18537.0",
          "Vatican City<br>: nan",
          "Honduras<br>: 32394.01",
          "Hungary<br>: 54328.352",
          "Iceland<br>: 19261.0",
          "India<br>: 1985506.852",
          "Indonesia<br>: 599939.235",
          "Iran<br>: 464790.99",
          "Iraq<br>: 93799.83799999999",
          "Republic of Ireland<br>: 45326.085",
          "Israel<br>: 5109.420000000001",
          "Italy<br>: 130178.88",
          "Jamaica<br>: 4506.31",
          "Japan<br>: 46487.112",
          "Jordan<br>: 10721.04",
          "Kazakhstan<br>: 2190819.6",
          "Kenya<br>: 281477.995",
          "Kiribati<br>: 340.62",
          "Kuwait<br>: 1496.7120000000002",
          "Kyrgyzstan<br>: 109973.05",
          "Laos<br>: 24390.4",
          "Latvia<br>: 20087.179",
          "Lebanon<br>: 6687.2",
          "Lesotho<br>: 23555.48",
          "Liberia<br>: 31183.32",
          "Libya<br>: 153079.97999999998",
          "Liechtenstein<br>: 51.52",
          "Lithuania<br>: 30821.6",
          "Luxembourg<br>: 1388.682",
          "Madagascar<br>: 417973.19200000004",
          "Malawi<br>: 72749.17599999999",
          "Malaysia<br>: 86749.761",
          "Maldives<br>: 78.37400000000001",
          "Mali<br>: 419184.89599999995",
          "Malta<br>: 102.384",
          "Marshall Islands<br>: 115.65899999999999",
          "Mauritania<br>: 396819.5",
          "Mauritius<br>: 864.96",
          "Mexico<br>: 1072548.75",
          "Federated States of Micronesia<br>: 220.428",
          "Moldova<br>: 25117.442000000003",
          "Monaco<br>: nan",
          "Mongolia<br>: 1118342.94",
          "Montenegro<br>: 2624.28",
          "Morocco<br>: 305886.75",
          "Mozambique<br>: 507606.3",
          "Myanmar<br>: 131932.71",
          "Namibia<br>: 388241.532",
          "Nauru<br>: nan",
          "Nepal<br>: 42240.947",
          "Netherlands<br>: 22142.418999999998",
          "New Zealand<br>: 108879.39",
          "Nicaragua<br>: 54885.77",
          "Niger<br>: 457387.0",
          "Nigeria<br>: 717767.736",
          "North Korea<br>: 26277.284",
          "North Macedonia<br>: nan",
          "Norway<br>: 8742.654",
          "Oman<br>: 14237.0",
          "Pakistan<br>: 380533.41",
          "Palau<br>: 50.031000000000006",
          "Palestinian National Authority<br>: nan",
          "Panama<br>: 22927.68",
          "Papua New Guinea<br>: 12033.84",
          "Paraguay<br>: 224120.35199999998",
          "Peru<br>: 237764.96",
          "Philippines<br>: 125100.0",
          "Poland<br>: 146649.265",
          "Portugal<br>: 36423.74",
          "Qatar<br>: 671.988",
          "Romania<br>: 140173.908",
          "Russia<br>: 2274065.92",
          "Rwanda<br>: 19332.092",
          "Saint Kitts and Nevis<br>: 60.291000000000004",
          "Saint Lucia<br>: 107.184",
          "Saint Vincent and the Grenadines<br>: 99.58400000000002",
          "Samoa<br>: 351.04400000000004",
          "San Marino<br>: 10.187",
          "S�����������<br>: 488.74800000000005",
          "Saudi Arabia<br>: 1736949.52",
          "Senegal<br>: 90688.842",
          "Serbia<br>: 30447.281999999996",
          "Seychelles<br>: 15.47",
          "Sierra Leone<br>: 39241.78",
          "Singapore<br>: 6.444",
          "Slovakia<br>: 19221.72",
          "Slovenia<br>: 6223.811",
          "Solomon Islands<br>: 1126.944",
          "Somalia<br>: 448272.87100000004",
          "South Africa<br>: 972833.82",
          "South Korea<br>: 17351.28",
          "South Sudan<br>: nan",
          "Spain<br>: 265824.62",
          "Sri Lanka<br>: 28671.57",
          "Sudan<br>: 534245.9079999999",
          "Suriname<br>: 982.92",
          "Sweden<br>: 33321.83",
          "Switzerland<br>: 15850.368",
          "Syria<br>: 140366.44",
          "Tajikistan<br>: 49138.1",
          "Tanzania<br>: 424390.4",
          "Thailand<br>: 222180.96",
          "East Timor<br>: 3807.744",
          "Togo<br>: 39863.07",
          "Tonga<br>: 342.126",
          "Trinidad and Tobago<br>: 538.44",
          "Tunisia<br>: 106019.28",
          "Turkey<br>: 390213.876",
          "Turkmenistan<br>: 351432.0",
          "Tuvalu<br>: 15.6",
          "Uganda<br>: 173306.32200000004",
          "Ukraine<br>: 432745.35",
          "United Arab Emirates<br>: 4598.0",
          "United Kingdom<br>: 174668.37",
          "United States<br>: 4366081.548",
          "Uruguay<br>: 145553.58999999997",
          "Uzbekistan<br>: 281414.6",
          "Vanuatu<br>: 1864.9170000000001",
          "Venezuela<br>: 223452.25",
          "Vietnam<br>: 130165.52999999998",
          "Yemen<br>: 235473.728",
          "Zambia<br>: 241590.378",
          "Zimbabwe<br>: 163727.183"
         ],
         "type": "scattermapbox"
        }
       ],
       "layout": {
        "mapbox": {
         "style": "carto-positron"
        },
        "template": {
         "data": {
          "bar": [
           {
            "error_x": {
             "color": "#2a3f5f"
            },
            "error_y": {
             "color": "#2a3f5f"
            },
            "marker": {
             "line": {
              "color": "#E5ECF6",
              "width": 0.5
             },
             "pattern": {
              "fillmode": "overlay",
              "size": 10,
              "solidity": 0.2
             }
            },
            "type": "bar"
           }
          ],
          "barpolar": [
           {
            "marker": {
             "line": {
              "color": "#E5ECF6",
              "width": 0.5
             },
             "pattern": {
              "fillmode": "overlay",
              "size": 10,
              "solidity": 0.2
             }
            },
            "type": "barpolar"
           }
          ],
          "carpet": [
           {
            "aaxis": {
             "endlinecolor": "#2a3f5f",
             "gridcolor": "white",
             "linecolor": "white",
             "minorgridcolor": "white",
             "startlinecolor": "#2a3f5f"
            },
            "baxis": {
             "endlinecolor": "#2a3f5f",
             "gridcolor": "white",
             "linecolor": "white",
             "minorgridcolor": "white",
             "startlinecolor": "#2a3f5f"
            },
            "type": "carpet"
           }
          ],
          "choropleth": [
           {
            "colorbar": {
             "outlinewidth": 0,
             "ticks": ""
            },
            "type": "choropleth"
           }
          ],
          "contour": [
           {
            "colorbar": {
             "outlinewidth": 0,
             "ticks": ""
            },
            "colorscale": [
             [
              0,
              "#0d0887"
             ],
             [
              0.1111111111111111,
              "#46039f"
             ],
             [
              0.2222222222222222,
              "#7201a8"
             ],
             [
              0.3333333333333333,
              "#9c179e"
             ],
             [
              0.4444444444444444,
              "#bd3786"
             ],
             [
              0.5555555555555556,
              "#d8576b"
             ],
             [
              0.6666666666666666,
              "#ed7953"
             ],
             [
              0.7777777777777778,
              "#fb9f3a"
             ],
             [
              0.8888888888888888,
              "#fdca26"
             ],
             [
              1,
              "#f0f921"
             ]
            ],
            "type": "contour"
           }
          ],
          "contourcarpet": [
           {
            "colorbar": {
             "outlinewidth": 0,
             "ticks": ""
            },
            "type": "contourcarpet"
           }
          ],
          "heatmap": [
           {
            "colorbar": {
             "outlinewidth": 0,
             "ticks": ""
            },
            "colorscale": [
             [
              0,
              "#0d0887"
             ],
             [
              0.1111111111111111,
              "#46039f"
             ],
             [
              0.2222222222222222,
              "#7201a8"
             ],
             [
              0.3333333333333333,
              "#9c179e"
             ],
             [
              0.4444444444444444,
              "#bd3786"
             ],
             [
              0.5555555555555556,
              "#d8576b"
             ],
             [
              0.6666666666666666,
              "#ed7953"
             ],
             [
              0.7777777777777778,
              "#fb9f3a"
             ],
             [
              0.8888888888888888,
              "#fdca26"
             ],
             [
              1,
              "#f0f921"
             ]
            ],
            "type": "heatmap"
           }
          ],
          "heatmapgl": [
           {
            "colorbar": {
             "outlinewidth": 0,
             "ticks": ""
            },
            "colorscale": [
             [
              0,
              "#0d0887"
             ],
             [
              0.1111111111111111,
              "#46039f"
             ],
             [
              0.2222222222222222,
              "#7201a8"
             ],
             [
              0.3333333333333333,
              "#9c179e"
             ],
             [
              0.4444444444444444,
              "#bd3786"
             ],
             [
              0.5555555555555556,
              "#d8576b"
             ],
             [
              0.6666666666666666,
              "#ed7953"
             ],
             [
              0.7777777777777778,
              "#fb9f3a"
             ],
             [
              0.8888888888888888,
              "#fdca26"
             ],
             [
              1,
              "#f0f921"
             ]
            ],
            "type": "heatmapgl"
           }
          ],
          "histogram": [
           {
            "marker": {
             "pattern": {
              "fillmode": "overlay",
              "size": 10,
              "solidity": 0.2
             }
            },
            "type": "histogram"
           }
          ],
          "histogram2d": [
           {
            "colorbar": {
             "outlinewidth": 0,
             "ticks": ""
            },
            "colorscale": [
             [
              0,
              "#0d0887"
             ],
             [
              0.1111111111111111,
              "#46039f"
             ],
             [
              0.2222222222222222,
              "#7201a8"
             ],
             [
              0.3333333333333333,
              "#9c179e"
             ],
             [
              0.4444444444444444,
              "#bd3786"
             ],
             [
              0.5555555555555556,
              "#d8576b"
             ],
             [
              0.6666666666666666,
              "#ed7953"
             ],
             [
              0.7777777777777778,
              "#fb9f3a"
             ],
             [
              0.8888888888888888,
              "#fdca26"
             ],
             [
              1,
              "#f0f921"
             ]
            ],
            "type": "histogram2d"
           }
          ],
          "histogram2dcontour": [
           {
            "colorbar": {
             "outlinewidth": 0,
             "ticks": ""
            },
            "colorscale": [
             [
              0,
              "#0d0887"
             ],
             [
              0.1111111111111111,
              "#46039f"
             ],
             [
              0.2222222222222222,
              "#7201a8"
             ],
             [
              0.3333333333333333,
              "#9c179e"
             ],
             [
              0.4444444444444444,
              "#bd3786"
             ],
             [
              0.5555555555555556,
              "#d8576b"
             ],
             [
              0.6666666666666666,
              "#ed7953"
             ],
             [
              0.7777777777777778,
              "#fb9f3a"
             ],
             [
              0.8888888888888888,
              "#fdca26"
             ],
             [
              1,
              "#f0f921"
             ]
            ],
            "type": "histogram2dcontour"
           }
          ],
          "mesh3d": [
           {
            "colorbar": {
             "outlinewidth": 0,
             "ticks": ""
            },
            "type": "mesh3d"
           }
          ],
          "parcoords": [
           {
            "line": {
             "colorbar": {
              "outlinewidth": 0,
              "ticks": ""
             }
            },
            "type": "parcoords"
           }
          ],
          "pie": [
           {
            "automargin": true,
            "type": "pie"
           }
          ],
          "scatter": [
           {
            "fillpattern": {
             "fillmode": "overlay",
             "size": 10,
             "solidity": 0.2
            },
            "type": "scatter"
           }
          ],
          "scatter3d": [
           {
            "line": {
             "colorbar": {
              "outlinewidth": 0,
              "ticks": ""
             }
            },
            "marker": {
             "colorbar": {
              "outlinewidth": 0,
              "ticks": ""
             }
            },
            "type": "scatter3d"
           }
          ],
          "scattercarpet": [
           {
            "marker": {
             "colorbar": {
              "outlinewidth": 0,
              "ticks": ""
             }
            },
            "type": "scattercarpet"
           }
          ],
          "scattergeo": [
           {
            "marker": {
             "colorbar": {
              "outlinewidth": 0,
              "ticks": ""
             }
            },
            "type": "scattergeo"
           }
          ],
          "scattergl": [
           {
            "marker": {
             "colorbar": {
              "outlinewidth": 0,
              "ticks": ""
             }
            },
            "type": "scattergl"
           }
          ],
          "scattermapbox": [
           {
            "marker": {
             "colorbar": {
              "outlinewidth": 0,
              "ticks": ""
             }
            },
            "type": "scattermapbox"
           }
          ],
          "scatterpolar": [
           {
            "marker": {
             "colorbar": {
              "outlinewidth": 0,
              "ticks": ""
             }
            },
            "type": "scatterpolar"
           }
          ],
          "scatterpolargl": [
           {
            "marker": {
             "colorbar": {
              "outlinewidth": 0,
              "ticks": ""
             }
            },
            "type": "scatterpolargl"
           }
          ],
          "scatterternary": [
           {
            "marker": {
             "colorbar": {
              "outlinewidth": 0,
              "ticks": ""
             }
            },
            "type": "scatterternary"
           }
          ],
          "surface": [
           {
            "colorbar": {
             "outlinewidth": 0,
             "ticks": ""
            },
            "colorscale": [
             [
              0,
              "#0d0887"
             ],
             [
              0.1111111111111111,
              "#46039f"
             ],
             [
              0.2222222222222222,
              "#7201a8"
             ],
             [
              0.3333333333333333,
              "#9c179e"
             ],
             [
              0.4444444444444444,
              "#bd3786"
             ],
             [
              0.5555555555555556,
              "#d8576b"
             ],
             [
              0.6666666666666666,
              "#ed7953"
             ],
             [
              0.7777777777777778,
              "#fb9f3a"
             ],
             [
              0.8888888888888888,
              "#fdca26"
             ],
             [
              1,
              "#f0f921"
             ]
            ],
            "type": "surface"
           }
          ],
          "table": [
           {
            "cells": {
             "fill": {
              "color": "#EBF0F8"
             },
             "line": {
              "color": "white"
             }
            },
            "header": {
             "fill": {
              "color": "#C8D4E3"
             },
             "line": {
              "color": "white"
             }
            },
            "type": "table"
           }
          ]
         },
         "layout": {
          "annotationdefaults": {
           "arrowcolor": "#2a3f5f",
           "arrowhead": 0,
           "arrowwidth": 1
          },
          "autotypenumbers": "strict",
          "coloraxis": {
           "colorbar": {
            "outlinewidth": 0,
            "ticks": ""
           }
          },
          "colorscale": {
           "diverging": [
            [
             0,
             "#8e0152"
            ],
            [
             0.1,
             "#c51b7d"
            ],
            [
             0.2,
             "#de77ae"
            ],
            [
             0.3,
             "#f1b6da"
            ],
            [
             0.4,
             "#fde0ef"
            ],
            [
             0.5,
             "#f7f7f7"
            ],
            [
             0.6,
             "#e6f5d0"
            ],
            [
             0.7,
             "#b8e186"
            ],
            [
             0.8,
             "#7fbc41"
            ],
            [
             0.9,
             "#4d9221"
            ],
            [
             1,
             "#276419"
            ]
           ],
           "sequential": [
            [
             0,
             "#0d0887"
            ],
            [
             0.1111111111111111,
             "#46039f"
            ],
            [
             0.2222222222222222,
             "#7201a8"
            ],
            [
             0.3333333333333333,
             "#9c179e"
            ],
            [
             0.4444444444444444,
             "#bd3786"
            ],
            [
             0.5555555555555556,
             "#d8576b"
            ],
            [
             0.6666666666666666,
             "#ed7953"
            ],
            [
             0.7777777777777778,
             "#fb9f3a"
            ],
            [
             0.8888888888888888,
             "#fdca26"
            ],
            [
             1,
             "#f0f921"
            ]
           ],
           "sequentialminus": [
            [
             0,
             "#0d0887"
            ],
            [
             0.1111111111111111,
             "#46039f"
            ],
            [
             0.2222222222222222,
             "#7201a8"
            ],
            [
             0.3333333333333333,
             "#9c179e"
            ],
            [
             0.4444444444444444,
             "#bd3786"
            ],
            [
             0.5555555555555556,
             "#d8576b"
            ],
            [
             0.6666666666666666,
             "#ed7953"
            ],
            [
             0.7777777777777778,
             "#fb9f3a"
            ],
            [
             0.8888888888888888,
             "#fdca26"
            ],
            [
             1,
             "#f0f921"
            ]
           ]
          },
          "colorway": [
           "#636efa",
           "#EF553B",
           "#00cc96",
           "#ab63fa",
           "#FFA15A",
           "#19d3f3",
           "#FF6692",
           "#B6E880",
           "#FF97FF",
           "#FECB52"
          ],
          "font": {
           "color": "#2a3f5f"
          },
          "geo": {
           "bgcolor": "white",
           "lakecolor": "white",
           "landcolor": "#E5ECF6",
           "showlakes": true,
           "showland": true,
           "subunitcolor": "white"
          },
          "hoverlabel": {
           "align": "left"
          },
          "hovermode": "closest",
          "mapbox": {
           "style": "light"
          },
          "paper_bgcolor": "white",
          "plot_bgcolor": "#E5ECF6",
          "polar": {
           "angularaxis": {
            "gridcolor": "white",
            "linecolor": "white",
            "ticks": ""
           },
           "bgcolor": "#E5ECF6",
           "radialaxis": {
            "gridcolor": "white",
            "linecolor": "white",
            "ticks": ""
           }
          },
          "scene": {
           "xaxis": {
            "backgroundcolor": "#E5ECF6",
            "gridcolor": "white",
            "gridwidth": 2,
            "linecolor": "white",
            "showbackground": true,
            "ticks": "",
            "zerolinecolor": "white"
           },
           "yaxis": {
            "backgroundcolor": "#E5ECF6",
            "gridcolor": "white",
            "gridwidth": 2,
            "linecolor": "white",
            "showbackground": true,
            "ticks": "",
            "zerolinecolor": "white"
           },
           "zaxis": {
            "backgroundcolor": "#E5ECF6",
            "gridcolor": "white",
            "gridwidth": 2,
            "linecolor": "white",
            "showbackground": true,
            "ticks": "",
            "zerolinecolor": "white"
           }
          },
          "shapedefaults": {
           "line": {
            "color": "#2a3f5f"
           }
          },
          "ternary": {
           "aaxis": {
            "gridcolor": "white",
            "linecolor": "white",
            "ticks": ""
           },
           "baxis": {
            "gridcolor": "white",
            "linecolor": "white",
            "ticks": ""
           },
           "bgcolor": "#E5ECF6",
           "caxis": {
            "gridcolor": "white",
            "linecolor": "white",
            "ticks": ""
           }
          },
          "title": {
           "x": 0.05
          },
          "xaxis": {
           "automargin": true,
           "gridcolor": "white",
           "linecolor": "white",
           "ticks": "",
           "title": {
            "standoff": 15
           },
           "zerolinecolor": "white",
           "zerolinewidth": 2
          },
          "yaxis": {
           "automargin": true,
           "gridcolor": "white",
           "linecolor": "white",
           "ticks": "",
           "title": {
            "standoff": 15
           },
           "zerolinecolor": "white",
           "zerolinewidth": 2
          }
         }
        },
        "title": {
         "text": "World Agricultural Area Map"
        }
       }
      },
      "text/html": [
       "<div>                            <div id=\"9f3424e4-11d8-404e-879d-ecd820307592\" class=\"plotly-graph-div\" style=\"height:525px; width:100%;\"></div>            <script type=\"text/javascript\">                require([\"plotly\"], function(Plotly) {                    window.PLOTLYENV=window.PLOTLYENV || {};                                    if (document.getElementById(\"9f3424e4-11d8-404e-879d-ecd820307592\")) {                    Plotly.newPlot(                        \"9f3424e4-11d8-404e-879d-ecd820307592\",                        [{\"lat\":[33.93911,41.153332,28.033886,42.506285,-11.202692,17.060816,-38.416097,40.069099,-25.274398,47.516231,40.143105,25.03428,26.0667,23.684994,13.193887,53.709807,50.503887,17.189877,9.30769,27.514162,-16.290154,43.915886,-22.328474,-14.235004,4.535277,42.733883,12.238333,-3.373056,7.539989,16.5388,12.565679,7.369722,56.130366,6.611111,15.454166,-35.675147,35.86166,4.570868,-11.6455,-0.228021,9.748917,45.1,21.521757,35.126413,49.817492,-4.038333,56.26392,11.825138,15.414999,18.735693,-1.831239,26.820553,13.794185,1.650801,15.179384,58.595272,-26.522503,9.145,-17.713371,61.92411,46.227638,-0.803689,13.443182,42.315407,51.165691,7.946527,39.074208,12.1165,15.783471,9.945587,11.803749,4.860416,18.971187,41.902916,15.199999,47.162494,64.963051,20.593684,-0.789275,32.427908,33.223191,53.41291,31.046051,41.87194,18.109581,36.204824,30.585164,48.019573,-0.023559,1.8368976,29.31166,41.20438,19.85627,56.879635,33.854721,-29.609988,6.428055,26.3351,47.1410392,55.169438,49.815273,-18.766947,-13.254308,4.210484,3.202778,17.570692,35.937496,7.131474,21.00789,-20.348404,23.634501,7.425554,47.411631,43.7384176,46.862496,42.708678,31.791702,-18.665695,21.916221,-22.95764,-0.522778,28.394857,52.132633,-40.900557,12.865416,17.607789,9.081999,40.339852,41.608635,60.472024,21.4735329,30.375321,7.51498,31.952162,8.537981,-6.314993,-23.442503,-9.189967,12.879721,51.919438,39.399872,25.354826,45.943161,61.52401,-1.940278,17.357822,13.909444,12.984305,-13.759029,43.94236,null,23.885942,14.497401,44.016521,-4.679574,8.460555,1.352083,48.669026,46.151241,-9.64571,5.152149,-30.559482,35.907757,6.8769919,40.463667,7.873054,12.862807,3.919305,60.128161,46.818188,34.802075,38.861034,-6.369028,15.870032,-8.874217,8.619543,-21.178986,10.691803,33.886917,38.963745,38.969719,-7.109535,1.373333,48.379433,23.424076,55.378051,37.09024,-32.522779,41.377491,-15.376706,6.42375,14.058324,15.552727,-13.133897,-19.015438],\"lon\":[67.709953,20.168331,1.659626,1.521801,17.873887,-61.796428,-63.616672,45.038189,133.775136,14.550072,47.576927,-77.39628,50.5577,90.356331,-59.543198,27.953389,4.469936,-88.49765,2.315834,90.433601,-63.588653,17.679076,24.684866,-51.92528,114.727669,25.48583,-1.561593,29.918886,-5.54708,-23.0418,104.990963,12.354722,-106.346771,20.939444,18.732207,-71.542969,104.195397,-74.297333,43.3333,15.827659,-83.753428,15.2,-77.781167,33.429859,15.472962,21.758664,9.501785,42.590275,-61.370976,-70.162651,-78.183406,30.802498,-88.89653,10.267895,39.782334,25.013607,31.465866,40.489673,178.065032,25.748151,2.213749,11.609444,-15.310139,43.356892,10.451526,-1.023194,21.824312,-61.679,-90.230759,-9.696645,-15.180413,-58.93018,-72.285215,12.453389,-86.241905,19.503304,-19.020835,78.96288,113.921327,53.688046,43.679291,-8.24389,34.851612,12.56738,-77.297508,138.252924,36.238414,66.923684,37.906193,-157.3768317,47.481766,74.766098,102.495496,24.603189,35.862285,28.233608,-9.429499,17.228331,9.520935,23.881275,6.129583,46.869107,34.301525,101.975766,73.22068,-3.996166,14.375416,171.184478,-10.940835,57.552152,-102.552784,150.550812,28.369885,7.4246158,103.846656,19.37439,-7.09262,35.529562,95.955974,18.49041,166.931503,84.124008,5.291266,174.885971,-85.207229,8.081666,8.675277,127.510093,21.745275,8.468946,55.975413,69.345116,134.58252,35.233154,-80.782127,143.95555,-58.443832,-75.015152,121.774017,19.145136,-8.224454,51.183884,24.96676,105.318756,29.873888,-62.782998,-60.978893,-61.287228,-172.104629,12.457777,null,45.079162,-14.452362,21.005859,55.491977,-11.779889,103.819836,19.699024,14.995463,160.156194,46.199616,22.937506,127.766922,31.3069788,-3.74922,80.771797,30.217636,-56.027783,18.643501,8.227512,38.996815,71.276093,34.888822,100.992541,125.727539,0.824782,-175.198242,-61.222503,9.537499,35.243322,59.556278,177.64933,32.290275,31.16558,53.847818,-3.435973,-95.712891,-55.765835,64.585262,166.959158,-66.58973,108.277199,48.516388,27.849332,29.154857],\"marker\":{\"colorscale\":[[0.0,\"#440154\"],[0.1111111111111111,\"#482878\"],[0.2222222222222222,\"#3e4989\"],[0.3333333333333333,\"#31688e\"],[0.4444444444444444,\"#26828e\"],[0.5555555555555556,\"#1f9e89\"],[0.6666666666666666,\"#35b779\"],[0.7777777777777778,\"#6ece58\"],[0.8888888888888888,\"#b5de2b\"],[1.0,\"#fde725\"]],\"showscale\":false,\"size\":[70.25868815067433,2.296093124482023,76.83649517156836,0.03351376660043622,109.79469631520308,0.01564313218839432,279.921189124655,3.246914147945999,691.8090146579651,5.037143816507707,9.26335297047923,0.034833877790079196,0.01454921982619017,19.43202113719912,0.017381340391049226,16.16497584983769,2.523237537183092,0.29687224075671104,6.952217623972526,0.9669332401059935,70.88176542865806,4.090020216827982,49.18200982521825,535.2456798009688,0.02766504364014301,9.51713637410647,22.46969339718258,4.085468985174587,38.741106549044986,0.14536500777368613,10.370543389262918,18.157869099478713,127.73480899495493,9.470359754454245,94.51060841314916,29.71842987259616,1000.0,85.09790599817356,0.2950932426015672,19.719263982626433,3.2674709861383144,2.894881469029581,12.310907523497521,0.20806176047347982,6.608239291992806,50.43067333408155,4.952611460605069,3.1560958749559362,0.04517283288390803,4.3934201478450525,11.6703943949135,7.054558502314098,2.9793129625042467,0.5240965646828833,16.39547616317535,1.935895594939438,0.0,74.32197370559666,0.7882469201440692,4.700936526703759,62.54680883444424,9.92437269145046,1.251687156795982,4.457239736691542,31.573842812279626,30.514838491415524,11.644620707206718,0.014011534088835587,7.266840539599187,26.89340638865244,3.8835846775966867,3.4265210229720493,3.4357295401553087,0.0,6.004942174424216,10.071763847409597,3.569965565619005,368.1293968597606,111.23286382483725,86.17517976793971,17.390127659268597,8.40266365094138,0.946137039056118,24.13512490824217,0.83431509248511,8.617928360797785,1.9865811899022303,406.19620247930396,52.18732360130109,0.06195919619524317,0.27630891325377244,20.388784700514112,4.521001848786798,3.723146484516202,1.238671453774502,4.366200270913663,5.780469503611175,28.381192094356315,0.008357490447239721,5.713403405364313,0.25627919249293946,77.4947445131301,13.487148100898906,16.08298081438874,0.013336460375143163,77.71940518854232,0.01778812746268921,0.02024943027764855,73.57266227837431,0.15917648568645082,198.85886229158447,0.039674532697270046,4.655801888048091,0.0,207.3495115387244,0.485370027563232,56.71292340477777,94.11351822566904,24.46030055539547,71.98223088213844,0.0,7.8306516852963295,4.104206220668145,20.186010430336452,10.175114091666396,84.80241431189972,133.07931363227527,4.870846888387682,0.0,1.6197708674256839,2.638471377870927,70.5530766541422,0.008081416632439387,0.0,4.249800579220143,2.2299859609364017,41.55270754289559,44.0825389613074,23.193455481436843,27.18888046108316,6.752089880075901,0.12339776426962715,25.988291804814477,421.63080901421966,3.5831466533569403,0.00998371168942491,0.01867809006244852,0.017268982612829616,0.06389189830772048,0.000693985418937312,0.08942344202381548,322.0446615731027,16.813321390935094,5.6440015261108325,0.0016735005052974027,7.2745795060395935,0.0,3.5626827050109746,1.152755020620363,0.20775064438131394,83.11257390786189,180.3708293045808,3.215886528949765,0.0,49.28504895338288,5.314768761955873,99.05273797405422,0.18104731657553583,6.176968236780192,2.9376041236310266,26.023988946326327,9.109445063383355,78.68455182872931,41.19312705408884,0.7047947563468887,7.38977218595719,0.062238421960917646,0.09863677983782375,19.65572065300362,72.34792096419254,65.1574169665877,0.001697603659040884,32.131335408927356,80.2336337084916,0.8513152322292623,32.38387119623505,809.5090729792167,26.985732592022465,52.17556960567364,0.34457738805468424,41.42883550272384,24.132649699761583,43.65772421393829,44.79180540890033,30.355278023949055],\"sizemode\":\"area\",\"sizeref\":0.1},\"mode\":\"markers\",\"text\":[\"Afghanistan<br>: 378945.63\",\"Albania<br>: 12390.388\",\"Algeria<br>: 414422.934\",\"Andorra<br>: 187.2\",\"Angola<br>: 592182.5\",\"Antigua and Barbuda<br>: 90.815\",\"Argentina<br>: 1509757.2\",\"Armenia<br>: 17518.627\",\"Australia<br>: 3731268.04\",\"Austria<br>: 27174.203999999998\",\"Azerbaijan<br>: 49968.2\",\"The Bahamas<br>: 194.32\",\"Bahrain<br>: 84.915\",\"Bangladesh<br>: 104812.76\",\"Barbados<br>: 100.19\",\"Belarus<br>: 87192.0\",\"Belgium<br>: 13615.488000000001\",\"Belize<br>: 1607.62\",\"Benin<br>: 37503.126\",\"Bhutan<br>: 5221.584\",\"Bolivia<br>: 382306.18799999997\",\"Bosnia and Herzegovina<br>: 22065.907000000003\",\"Botswana<br>: 265268.88\",\"Brazil<br>: 2886846.03\",\"Brunei<br>: 155.65500000000003\",\"Bulgaria<br>: 51336.97699999999\",\"Burkina Faso<br>: 121196.4\",\"Burundi<br>: 22041.36\",\"Ivory Coast<br>: 208956.02399999998\",\"Cape Verde<br>: 790.4680000000001\",\"Cambodia<br>: 55939.815\",\"Cameroon<br>: 97940.64\",\"Canada<br>: 688942.23\",\"Central African Republic<br>: 51084.687999999995\",\"Chad<br>: 509748.0\",\"Chile<br>: 160292.35199999998\",\"China<br>: 5393491.52\",\"Colombia<br>: 458980.73\",\"Comoros<br>: 1598.025\",\"Republic of the Congo<br>: 106362.0\",\"Costa Rica<br>: 17629.5\",\"Croatia<br>: 15619.944000000001\",\"Cuba<br>: 66405.14\",\"Cyprus<br>: 1128.622\",\"Czech Republic<br>: 35647.884000000005\",\"Democratic Republic of the Congo<br>: 272003.528\",\"Denmark<br>: 26718.28\",\"Djibouti<br>: 17028.800000000003\",\"Dominica<br>: 250.083\",\"Dominican Republic<br>: 23702.29\",\"Ecuador<br>: 62950.542\",\"Egypt<br>: 38055.1\",\"El Salvador<br>: 16075.324\",\"Equatorial Guinea<br>: 2833.151\",\"Eritrea<br>: 88435.2\",\"Estonia<br>: 10447.668\",\"Eswatini<br>: nan\",\"Ethiopia<br>: 400860.9\",\"Fiji<br>: 4257.842000000001\",\"Finland<br>: 25360.875\",\"France<br>: 337351.724\",\"Gabon<br>: 53533.4\",\"The Gambia<br>: 6757.4\",\"Georgia<br>: 24046.5\",\"Germany<br>: 170299.49400000004\",\"Ghana<br>: 164587.77\",\"Greece<br>: 62811.532\",\"Grenada<br>: 82.015\",\"Guatemala<br>: 39200.04\",\"Guinea<br>: 145055.63\",\"Guinea-Bissau<br>: 20952.5\",\"Guyana<br>: 18487.334\",\"Haiti<br>: 18537.0\",\"Vatican City<br>: nan\",\"Honduras<br>: 32394.01\",\"Hungary<br>: 54328.352\",\"Iceland<br>: 19261.0\",\"India<br>: 1985506.852\",\"Indonesia<br>: 599939.235\",\"Iran<br>: 464790.99\",\"Iraq<br>: 93799.83799999999\",\"Republic of Ireland<br>: 45326.085\",\"Israel<br>: 5109.420000000001\",\"Italy<br>: 130178.88\",\"Jamaica<br>: 4506.31\",\"Japan<br>: 46487.112\",\"Jordan<br>: 10721.04\",\"Kazakhstan<br>: 2190819.6\",\"Kenya<br>: 281477.995\",\"Kiribati<br>: 340.62\",\"Kuwait<br>: 1496.7120000000002\",\"Kyrgyzstan<br>: 109973.05\",\"Laos<br>: 24390.4\",\"Latvia<br>: 20087.179\",\"Lebanon<br>: 6687.2\",\"Lesotho<br>: 23555.48\",\"Liberia<br>: 31183.32\",\"Libya<br>: 153079.97999999998\",\"Liechtenstein<br>: 51.52\",\"Lithuania<br>: 30821.6\",\"Luxembourg<br>: 1388.682\",\"Madagascar<br>: 417973.19200000004\",\"Malawi<br>: 72749.17599999999\",\"Malaysia<br>: 86749.761\",\"Maldives<br>: 78.37400000000001\",\"Mali<br>: 419184.89599999995\",\"Malta<br>: 102.384\",\"Marshall Islands<br>: 115.65899999999999\",\"Mauritania<br>: 396819.5\",\"Mauritius<br>: 864.96\",\"Mexico<br>: 1072548.75\",\"Federated States of Micronesia<br>: 220.428\",\"Moldova<br>: 25117.442000000003\",\"Monaco<br>: nan\",\"Mongolia<br>: 1118342.94\",\"Montenegro<br>: 2624.28\",\"Morocco<br>: 305886.75\",\"Mozambique<br>: 507606.3\",\"Myanmar<br>: 131932.71\",\"Namibia<br>: 388241.532\",\"Nauru<br>: nan\",\"Nepal<br>: 42240.947\",\"Netherlands<br>: 22142.418999999998\",\"New Zealand<br>: 108879.39\",\"Nicaragua<br>: 54885.77\",\"Niger<br>: 457387.0\",\"Nigeria<br>: 717767.736\",\"North Korea<br>: 26277.284\",\"North Macedonia<br>: nan\",\"Norway<br>: 8742.654\",\"Oman<br>: 14237.0\",\"Pakistan<br>: 380533.41\",\"Palau<br>: 50.031000000000006\",\"Palestinian National Authority<br>: nan\",\"Panama<br>: 22927.68\",\"Papua New Guinea<br>: 12033.84\",\"Paraguay<br>: 224120.35199999998\",\"Peru<br>: 237764.96\",\"Philippines<br>: 125100.0\",\"Poland<br>: 146649.265\",\"Portugal<br>: 36423.74\",\"Qatar<br>: 671.988\",\"Romania<br>: 140173.908\",\"Russia<br>: 2274065.92\",\"Rwanda<br>: 19332.092\",\"Saint Kitts and Nevis<br>: 60.291000000000004\",\"Saint Lucia<br>: 107.184\",\"Saint Vincent and the Grenadines<br>: 99.58400000000002\",\"Samoa<br>: 351.04400000000004\",\"San Marino<br>: 10.187\",\"S\\ufffd\\ufffd\\ufffd\\ufffd\\ufffd\\ufffd\\ufffd\\ufffd\\ufffd\\ufffd\\ufffd<br>: 488.74800000000005\",\"Saudi Arabia<br>: 1736949.52\",\"Senegal<br>: 90688.842\",\"Serbia<br>: 30447.281999999996\",\"Seychelles<br>: 15.47\",\"Sierra Leone<br>: 39241.78\",\"Singapore<br>: 6.444\",\"Slovakia<br>: 19221.72\",\"Slovenia<br>: 6223.811\",\"Solomon Islands<br>: 1126.944\",\"Somalia<br>: 448272.87100000004\",\"South Africa<br>: 972833.82\",\"South Korea<br>: 17351.28\",\"South Sudan<br>: nan\",\"Spain<br>: 265824.62\",\"Sri Lanka<br>: 28671.57\",\"Sudan<br>: 534245.9079999999\",\"Suriname<br>: 982.92\",\"Sweden<br>: 33321.83\",\"Switzerland<br>: 15850.368\",\"Syria<br>: 140366.44\",\"Tajikistan<br>: 49138.1\",\"Tanzania<br>: 424390.4\",\"Thailand<br>: 222180.96\",\"East Timor<br>: 3807.744\",\"Togo<br>: 39863.07\",\"Tonga<br>: 342.126\",\"Trinidad and Tobago<br>: 538.44\",\"Tunisia<br>: 106019.28\",\"Turkey<br>: 390213.876\",\"Turkmenistan<br>: 351432.0\",\"Tuvalu<br>: 15.6\",\"Uganda<br>: 173306.32200000004\",\"Ukraine<br>: 432745.35\",\"United Arab Emirates<br>: 4598.0\",\"United Kingdom<br>: 174668.37\",\"United States<br>: 4366081.548\",\"Uruguay<br>: 145553.58999999997\",\"Uzbekistan<br>: 281414.6\",\"Vanuatu<br>: 1864.9170000000001\",\"Venezuela<br>: 223452.25\",\"Vietnam<br>: 130165.52999999998\",\"Yemen<br>: 235473.728\",\"Zambia<br>: 241590.378\",\"Zimbabwe<br>: 163727.183\"],\"type\":\"scattermapbox\"}],                        {\"template\":{\"data\":{\"histogram2dcontour\":[{\"type\":\"histogram2dcontour\",\"colorbar\":{\"outlinewidth\":0,\"ticks\":\"\"},\"colorscale\":[[0.0,\"#0d0887\"],[0.1111111111111111,\"#46039f\"],[0.2222222222222222,\"#7201a8\"],[0.3333333333333333,\"#9c179e\"],[0.4444444444444444,\"#bd3786\"],[0.5555555555555556,\"#d8576b\"],[0.6666666666666666,\"#ed7953\"],[0.7777777777777778,\"#fb9f3a\"],[0.8888888888888888,\"#fdca26\"],[1.0,\"#f0f921\"]]}],\"choropleth\":[{\"type\":\"choropleth\",\"colorbar\":{\"outlinewidth\":0,\"ticks\":\"\"}}],\"histogram2d\":[{\"type\":\"histogram2d\",\"colorbar\":{\"outlinewidth\":0,\"ticks\":\"\"},\"colorscale\":[[0.0,\"#0d0887\"],[0.1111111111111111,\"#46039f\"],[0.2222222222222222,\"#7201a8\"],[0.3333333333333333,\"#9c179e\"],[0.4444444444444444,\"#bd3786\"],[0.5555555555555556,\"#d8576b\"],[0.6666666666666666,\"#ed7953\"],[0.7777777777777778,\"#fb9f3a\"],[0.8888888888888888,\"#fdca26\"],[1.0,\"#f0f921\"]]}],\"heatmap\":[{\"type\":\"heatmap\",\"colorbar\":{\"outlinewidth\":0,\"ticks\":\"\"},\"colorscale\":[[0.0,\"#0d0887\"],[0.1111111111111111,\"#46039f\"],[0.2222222222222222,\"#7201a8\"],[0.3333333333333333,\"#9c179e\"],[0.4444444444444444,\"#bd3786\"],[0.5555555555555556,\"#d8576b\"],[0.6666666666666666,\"#ed7953\"],[0.7777777777777778,\"#fb9f3a\"],[0.8888888888888888,\"#fdca26\"],[1.0,\"#f0f921\"]]}],\"heatmapgl\":[{\"type\":\"heatmapgl\",\"colorbar\":{\"outlinewidth\":0,\"ticks\":\"\"},\"colorscale\":[[0.0,\"#0d0887\"],[0.1111111111111111,\"#46039f\"],[0.2222222222222222,\"#7201a8\"],[0.3333333333333333,\"#9c179e\"],[0.4444444444444444,\"#bd3786\"],[0.5555555555555556,\"#d8576b\"],[0.6666666666666666,\"#ed7953\"],[0.7777777777777778,\"#fb9f3a\"],[0.8888888888888888,\"#fdca26\"],[1.0,\"#f0f921\"]]}],\"contourcarpet\":[{\"type\":\"contourcarpet\",\"colorbar\":{\"outlinewidth\":0,\"ticks\":\"\"}}],\"contour\":[{\"type\":\"contour\",\"colorbar\":{\"outlinewidth\":0,\"ticks\":\"\"},\"colorscale\":[[0.0,\"#0d0887\"],[0.1111111111111111,\"#46039f\"],[0.2222222222222222,\"#7201a8\"],[0.3333333333333333,\"#9c179e\"],[0.4444444444444444,\"#bd3786\"],[0.5555555555555556,\"#d8576b\"],[0.6666666666666666,\"#ed7953\"],[0.7777777777777778,\"#fb9f3a\"],[0.8888888888888888,\"#fdca26\"],[1.0,\"#f0f921\"]]}],\"surface\":[{\"type\":\"surface\",\"colorbar\":{\"outlinewidth\":0,\"ticks\":\"\"},\"colorscale\":[[0.0,\"#0d0887\"],[0.1111111111111111,\"#46039f\"],[0.2222222222222222,\"#7201a8\"],[0.3333333333333333,\"#9c179e\"],[0.4444444444444444,\"#bd3786\"],[0.5555555555555556,\"#d8576b\"],[0.6666666666666666,\"#ed7953\"],[0.7777777777777778,\"#fb9f3a\"],[0.8888888888888888,\"#fdca26\"],[1.0,\"#f0f921\"]]}],\"mesh3d\":[{\"type\":\"mesh3d\",\"colorbar\":{\"outlinewidth\":0,\"ticks\":\"\"}}],\"scatter\":[{\"fillpattern\":{\"fillmode\":\"overlay\",\"size\":10,\"solidity\":0.2},\"type\":\"scatter\"}],\"parcoords\":[{\"type\":\"parcoords\",\"line\":{\"colorbar\":{\"outlinewidth\":0,\"ticks\":\"\"}}}],\"scatterpolargl\":[{\"type\":\"scatterpolargl\",\"marker\":{\"colorbar\":{\"outlinewidth\":0,\"ticks\":\"\"}}}],\"bar\":[{\"error_x\":{\"color\":\"#2a3f5f\"},\"error_y\":{\"color\":\"#2a3f5f\"},\"marker\":{\"line\":{\"color\":\"#E5ECF6\",\"width\":0.5},\"pattern\":{\"fillmode\":\"overlay\",\"size\":10,\"solidity\":0.2}},\"type\":\"bar\"}],\"scattergeo\":[{\"type\":\"scattergeo\",\"marker\":{\"colorbar\":{\"outlinewidth\":0,\"ticks\":\"\"}}}],\"scatterpolar\":[{\"type\":\"scatterpolar\",\"marker\":{\"colorbar\":{\"outlinewidth\":0,\"ticks\":\"\"}}}],\"histogram\":[{\"marker\":{\"pattern\":{\"fillmode\":\"overlay\",\"size\":10,\"solidity\":0.2}},\"type\":\"histogram\"}],\"scattergl\":[{\"type\":\"scattergl\",\"marker\":{\"colorbar\":{\"outlinewidth\":0,\"ticks\":\"\"}}}],\"scatter3d\":[{\"type\":\"scatter3d\",\"line\":{\"colorbar\":{\"outlinewidth\":0,\"ticks\":\"\"}},\"marker\":{\"colorbar\":{\"outlinewidth\":0,\"ticks\":\"\"}}}],\"scattermapbox\":[{\"type\":\"scattermapbox\",\"marker\":{\"colorbar\":{\"outlinewidth\":0,\"ticks\":\"\"}}}],\"scatterternary\":[{\"type\":\"scatterternary\",\"marker\":{\"colorbar\":{\"outlinewidth\":0,\"ticks\":\"\"}}}],\"scattercarpet\":[{\"type\":\"scattercarpet\",\"marker\":{\"colorbar\":{\"outlinewidth\":0,\"ticks\":\"\"}}}],\"carpet\":[{\"aaxis\":{\"endlinecolor\":\"#2a3f5f\",\"gridcolor\":\"white\",\"linecolor\":\"white\",\"minorgridcolor\":\"white\",\"startlinecolor\":\"#2a3f5f\"},\"baxis\":{\"endlinecolor\":\"#2a3f5f\",\"gridcolor\":\"white\",\"linecolor\":\"white\",\"minorgridcolor\":\"white\",\"startlinecolor\":\"#2a3f5f\"},\"type\":\"carpet\"}],\"table\":[{\"cells\":{\"fill\":{\"color\":\"#EBF0F8\"},\"line\":{\"color\":\"white\"}},\"header\":{\"fill\":{\"color\":\"#C8D4E3\"},\"line\":{\"color\":\"white\"}},\"type\":\"table\"}],\"barpolar\":[{\"marker\":{\"line\":{\"color\":\"#E5ECF6\",\"width\":0.5},\"pattern\":{\"fillmode\":\"overlay\",\"size\":10,\"solidity\":0.2}},\"type\":\"barpolar\"}],\"pie\":[{\"automargin\":true,\"type\":\"pie\"}]},\"layout\":{\"autotypenumbers\":\"strict\",\"colorway\":[\"#636efa\",\"#EF553B\",\"#00cc96\",\"#ab63fa\",\"#FFA15A\",\"#19d3f3\",\"#FF6692\",\"#B6E880\",\"#FF97FF\",\"#FECB52\"],\"font\":{\"color\":\"#2a3f5f\"},\"hovermode\":\"closest\",\"hoverlabel\":{\"align\":\"left\"},\"paper_bgcolor\":\"white\",\"plot_bgcolor\":\"#E5ECF6\",\"polar\":{\"bgcolor\":\"#E5ECF6\",\"angularaxis\":{\"gridcolor\":\"white\",\"linecolor\":\"white\",\"ticks\":\"\"},\"radialaxis\":{\"gridcolor\":\"white\",\"linecolor\":\"white\",\"ticks\":\"\"}},\"ternary\":{\"bgcolor\":\"#E5ECF6\",\"aaxis\":{\"gridcolor\":\"white\",\"linecolor\":\"white\",\"ticks\":\"\"},\"baxis\":{\"gridcolor\":\"white\",\"linecolor\":\"white\",\"ticks\":\"\"},\"caxis\":{\"gridcolor\":\"white\",\"linecolor\":\"white\",\"ticks\":\"\"}},\"coloraxis\":{\"colorbar\":{\"outlinewidth\":0,\"ticks\":\"\"}},\"colorscale\":{\"sequential\":[[0.0,\"#0d0887\"],[0.1111111111111111,\"#46039f\"],[0.2222222222222222,\"#7201a8\"],[0.3333333333333333,\"#9c179e\"],[0.4444444444444444,\"#bd3786\"],[0.5555555555555556,\"#d8576b\"],[0.6666666666666666,\"#ed7953\"],[0.7777777777777778,\"#fb9f3a\"],[0.8888888888888888,\"#fdca26\"],[1.0,\"#f0f921\"]],\"sequentialminus\":[[0.0,\"#0d0887\"],[0.1111111111111111,\"#46039f\"],[0.2222222222222222,\"#7201a8\"],[0.3333333333333333,\"#9c179e\"],[0.4444444444444444,\"#bd3786\"],[0.5555555555555556,\"#d8576b\"],[0.6666666666666666,\"#ed7953\"],[0.7777777777777778,\"#fb9f3a\"],[0.8888888888888888,\"#fdca26\"],[1.0,\"#f0f921\"]],\"diverging\":[[0,\"#8e0152\"],[0.1,\"#c51b7d\"],[0.2,\"#de77ae\"],[0.3,\"#f1b6da\"],[0.4,\"#fde0ef\"],[0.5,\"#f7f7f7\"],[0.6,\"#e6f5d0\"],[0.7,\"#b8e186\"],[0.8,\"#7fbc41\"],[0.9,\"#4d9221\"],[1,\"#276419\"]]},\"xaxis\":{\"gridcolor\":\"white\",\"linecolor\":\"white\",\"ticks\":\"\",\"title\":{\"standoff\":15},\"zerolinecolor\":\"white\",\"automargin\":true,\"zerolinewidth\":2},\"yaxis\":{\"gridcolor\":\"white\",\"linecolor\":\"white\",\"ticks\":\"\",\"title\":{\"standoff\":15},\"zerolinecolor\":\"white\",\"automargin\":true,\"zerolinewidth\":2},\"scene\":{\"xaxis\":{\"backgroundcolor\":\"#E5ECF6\",\"gridcolor\":\"white\",\"linecolor\":\"white\",\"showbackground\":true,\"ticks\":\"\",\"zerolinecolor\":\"white\",\"gridwidth\":2},\"yaxis\":{\"backgroundcolor\":\"#E5ECF6\",\"gridcolor\":\"white\",\"linecolor\":\"white\",\"showbackground\":true,\"ticks\":\"\",\"zerolinecolor\":\"white\",\"gridwidth\":2},\"zaxis\":{\"backgroundcolor\":\"#E5ECF6\",\"gridcolor\":\"white\",\"linecolor\":\"white\",\"showbackground\":true,\"ticks\":\"\",\"zerolinecolor\":\"white\",\"gridwidth\":2}},\"shapedefaults\":{\"line\":{\"color\":\"#2a3f5f\"}},\"annotationdefaults\":{\"arrowcolor\":\"#2a3f5f\",\"arrowhead\":0,\"arrowwidth\":1},\"geo\":{\"bgcolor\":\"white\",\"landcolor\":\"#E5ECF6\",\"subunitcolor\":\"white\",\"showland\":true,\"showlakes\":true,\"lakecolor\":\"white\"},\"title\":{\"x\":0.05},\"mapbox\":{\"style\":\"light\"}}},\"mapbox\":{\"style\":\"carto-positron\"},\"title\":{\"text\":\"World Agricultural Area Map\"}},                        {\"responsive\": true}                    ).then(function(){\n",
       "                            \n",
       "var gd = document.getElementById('9f3424e4-11d8-404e-879d-ecd820307592');\n",
       "var x = new MutationObserver(function (mutations, observer) {{\n",
       "        var display = window.getComputedStyle(gd).display;\n",
       "        if (!display || display === 'none') {{\n",
       "            console.log([gd, 'removed!']);\n",
       "            Plotly.purge(gd);\n",
       "            observer.disconnect();\n",
       "        }}\n",
       "}});\n",
       "\n",
       "// Listen for the removal of the full notebook cells\n",
       "var notebookContainer = gd.closest('#notebook-container');\n",
       "if (notebookContainer) {{\n",
       "    x.observe(notebookContainer, {childList: true});\n",
       "}}\n",
       "\n",
       "// Listen for the clearing of the current output cell\n",
       "var outputEl = gd.closest('.output');\n",
       "if (outputEl) {{\n",
       "    x.observe(outputEl, {childList: true});\n",
       "}}\n",
       "\n",
       "                        })                };                });            </script>        </div>"
      ]
     },
     "metadata": {},
     "output_type": "display_data"
    }
   ],
   "source": [
    "df1 = df.reset_index()\n",
    "scaler = MinMaxScaler(feature_range=(0, 1000))\n",
    "column_data = np.array(df1[\"Agricultural Land(Km2)\"]).reshape(-1, 1)\n",
    "scaled_data = scaler.fit_transform(column_data)\n",
    "df1[\"Agricultural Land(Km2)X\"] = scaled_data\n",
    "df1[\"Agricultural Land(Km2)X\"].fillna(0,inplace=True)\n",
    "\n",
    "# Create a bubble map\n",
    "fig = go.Figure(data=go.Scattermapbox(\n",
    "    lat=df['Latitude'],\n",
    "    lon=df['Longitude'],\n",
    "    mode='markers',\n",
    "    marker=dict(\n",
    "        size=df1[\"Agricultural Land(Km2)X\"],\n",
    "        colorscale='Viridis',\n",
    "        sizemode='area',\n",
    "        sizeref=0.1,\n",
    "        showscale=False\n",
    "    ),\n",
    "    text=df1['Country'] + '<br>: ' + df1['Agricultural Land(Km2)'].astype(str),\n",
    "))\n",
    "\n",
    "# Set the map layout\n",
    "fig.update_layout(\n",
    "    mapbox=dict(\n",
    "        style='carto-positron',\n",
    "    ),\n",
    "    title='World Agricultural Area Map'\n",
    ")\n",
    "\n",
    "# Show the plot\n",
    "fig.show()"
   ]
  },
  {
   "cell_type": "markdown",
   "id": "cd7192f9",
   "metadata": {},
   "source": [
    "### Forested Area per Km2"
   ]
  },
  {
   "cell_type": "code",
   "execution_count": 34,
   "id": "206b7744",
   "metadata": {},
   "outputs": [
    {
     "data": {
      "application/vnd.plotly.v1+json": {
       "config": {
        "plotlyServerURL": "https://plot.ly"
       },
       "data": [
        {
         "lat": [
          33.93911,
          41.153332,
          28.033886,
          42.506285,
          -11.202692,
          17.060816,
          -38.416097,
          40.069099,
          -25.274398,
          47.516231,
          40.143105,
          25.03428,
          26.0667,
          23.684994,
          13.193887,
          53.709807,
          50.503887,
          17.189877,
          9.30769,
          27.514162,
          -16.290154,
          43.915886,
          -22.328474,
          -14.235004,
          4.535277,
          42.733883,
          12.238333,
          -3.373056,
          7.539989,
          16.5388,
          12.565679,
          7.369722,
          56.130366,
          6.611111,
          15.454166,
          -35.675147,
          35.86166,
          4.570868,
          -11.6455,
          -0.228021,
          9.748917,
          45.1,
          21.521757,
          35.126413,
          49.817492,
          -4.038333,
          56.26392,
          11.825138,
          15.414999,
          18.735693,
          -1.831239,
          26.820553,
          13.794185,
          1.650801,
          15.179384,
          58.595272,
          -26.522503,
          9.145,
          -17.713371,
          61.92411,
          46.227638,
          -0.803689,
          13.443182,
          42.315407,
          51.165691,
          7.946527,
          39.074208,
          12.1165,
          15.783471,
          9.945587,
          11.803749,
          4.860416,
          18.971187,
          41.902916,
          15.199999,
          47.162494,
          64.963051,
          20.593684,
          -0.789275,
          32.427908,
          33.223191,
          53.41291,
          31.046051,
          41.87194,
          18.109581,
          36.204824,
          30.585164,
          48.019573,
          -0.023559,
          1.8368976,
          29.31166,
          41.20438,
          19.85627,
          56.879635,
          33.854721,
          -29.609988,
          6.428055,
          26.3351,
          47.1410392,
          55.169438,
          49.815273,
          -18.766947,
          -13.254308,
          4.210484,
          3.202778,
          17.570692,
          35.937496,
          7.131474,
          21.00789,
          -20.348404,
          23.634501,
          7.425554,
          47.411631,
          43.7384176,
          46.862496,
          42.708678,
          31.791702,
          -18.665695,
          21.916221,
          -22.95764,
          -0.522778,
          28.394857,
          52.132633,
          -40.900557,
          12.865416,
          17.607789,
          9.081999,
          40.339852,
          41.608635,
          60.472024,
          21.4735329,
          30.375321,
          7.51498,
          31.952162,
          8.537981,
          -6.314993,
          -23.442503,
          -9.189967,
          12.879721,
          51.919438,
          39.399872,
          25.354826,
          45.943161,
          61.52401,
          -1.940278,
          17.357822,
          13.909444,
          12.984305,
          -13.759029,
          43.94236,
          null,
          23.885942,
          14.497401,
          44.016521,
          -4.679574,
          8.460555,
          1.352083,
          48.669026,
          46.151241,
          -9.64571,
          5.152149,
          -30.559482,
          35.907757,
          6.8769919,
          40.463667,
          7.873054,
          12.862807,
          3.919305,
          60.128161,
          46.818188,
          34.802075,
          38.861034,
          -6.369028,
          15.870032,
          -8.874217,
          8.619543,
          -21.178986,
          10.691803,
          33.886917,
          38.963745,
          38.969719,
          -7.109535,
          1.373333,
          48.379433,
          23.424076,
          55.378051,
          37.09024,
          -32.522779,
          41.377491,
          -15.376706,
          6.42375,
          14.058324,
          15.552727,
          -13.133897,
          -19.015438
         ],
         "lon": [
          67.709953,
          20.168331,
          1.659626,
          1.521801,
          17.873887,
          -61.796428,
          -63.616672,
          45.038189,
          133.775136,
          14.550072,
          47.576927,
          -77.39628,
          50.5577,
          90.356331,
          -59.543198,
          27.953389,
          4.469936,
          -88.49765,
          2.315834,
          90.433601,
          -63.588653,
          17.679076,
          24.684866,
          -51.92528,
          114.727669,
          25.48583,
          -1.561593,
          29.918886,
          -5.54708,
          -23.0418,
          104.990963,
          12.354722,
          -106.346771,
          20.939444,
          18.732207,
          -71.542969,
          104.195397,
          -74.297333,
          43.3333,
          15.827659,
          -83.753428,
          15.2,
          -77.781167,
          33.429859,
          15.472962,
          21.758664,
          9.501785,
          42.590275,
          -61.370976,
          -70.162651,
          -78.183406,
          30.802498,
          -88.89653,
          10.267895,
          39.782334,
          25.013607,
          31.465866,
          40.489673,
          178.065032,
          25.748151,
          2.213749,
          11.609444,
          -15.310139,
          43.356892,
          10.451526,
          -1.023194,
          21.824312,
          -61.679,
          -90.230759,
          -9.696645,
          -15.180413,
          -58.93018,
          -72.285215,
          12.453389,
          -86.241905,
          19.503304,
          -19.020835,
          78.96288,
          113.921327,
          53.688046,
          43.679291,
          -8.24389,
          34.851612,
          12.56738,
          -77.297508,
          138.252924,
          36.238414,
          66.923684,
          37.906193,
          -157.3768317,
          47.481766,
          74.766098,
          102.495496,
          24.603189,
          35.862285,
          28.233608,
          -9.429499,
          17.228331,
          9.520935,
          23.881275,
          6.129583,
          46.869107,
          34.301525,
          101.975766,
          73.22068,
          -3.996166,
          14.375416,
          171.184478,
          -10.940835,
          57.552152,
          -102.552784,
          150.550812,
          28.369885,
          7.4246158,
          103.846656,
          19.37439,
          -7.09262,
          35.529562,
          95.955974,
          18.49041,
          166.931503,
          84.124008,
          5.291266,
          174.885971,
          -85.207229,
          8.081666,
          8.675277,
          127.510093,
          21.745275,
          8.468946,
          55.975413,
          69.345116,
          134.58252,
          35.233154,
          -80.782127,
          143.95555,
          -58.443832,
          -75.015152,
          121.774017,
          19.145136,
          -8.224454,
          51.183884,
          24.96676,
          105.318756,
          29.873888,
          -62.782998,
          -60.978893,
          -61.287228,
          -172.104629,
          12.457777,
          null,
          45.079162,
          -14.452362,
          21.005859,
          55.491977,
          -11.779889,
          103.819836,
          19.699024,
          14.995463,
          160.156194,
          46.199616,
          22.937506,
          127.766922,
          31.3069788,
          -3.74922,
          80.771797,
          30.217636,
          -56.027783,
          18.643501,
          8.227512,
          38.996815,
          71.276093,
          34.888822,
          100.992541,
          125.727539,
          0.824782,
          -175.198242,
          -61.222503,
          9.537499,
          35.243322,
          59.556278,
          177.64933,
          32.290275,
          31.16558,
          53.847818,
          -3.435973,
          -95.712891,
          -55.765835,
          64.585262,
          166.959158,
          -66.58973,
          108.277199,
          48.516388,
          27.849332,
          29.154857
         ],
         "marker": {
          "colorscale": [
           [
            0,
            "#440154"
           ],
           [
            0.1111111111111111,
            "#482878"
           ],
           [
            0.2222222222222222,
            "#3e4989"
           ],
           [
            0.3333333333333333,
            "#31688e"
           ],
           [
            0.4444444444444444,
            "#26828e"
           ],
           [
            0.5555555555555556,
            "#1f9e89"
           ],
           [
            0.6666666666666666,
            "#35b779"
           ],
           [
            0.7777777777777778,
            "#6ece58"
           ],
           [
            0.8888888888888888,
            "#b5de2b"
           ],
           [
            1,
            "#fde725"
           ]
          ],
          "showscale": false,
          "size": [
           1.608567589342247,
           0.9487094019136887,
           2.2377098226714316,
           0.018687190745313942,
           67.78946383302336,
           0.011601865802782925,
           32.000193467386545,
           0.4086861134837298,
           148.1891008223642,
           4.619595103538875,
           1.434023449690362,
           0.8378607257296893,
           0.0007187381055889977,
           1.9178798214267463,
           0.007423437198411854,
           10.386188412881953,
           0.8102630615289427,
           1.6101967290482488,
           4.99958876906037,
           3.269042867457253,
           64.89620742947085,
           2.567388767339158,
           12.912267472720648,
           589.0585532822262,
           0.4881505970355445,
           4.609690962908378,
           6.215041142260313,
           0.35625334659494395,
           12.383599306832062,
           0.10656877867060396,
           11.247019984978092,
           21.943581708177224,
           447.9363708953196,
           26.046306050673728,
           5.730174779068363,
           21.577566441841633,
           252.46486770558806,
           70.48866247479813,
           0.05170862650331826,
           26.2677638236732,
           3.276670651764116,
           2.2863782574526286,
           4.075101780831967,
           0.20316530100789443,
           3.2047242627494565,
           185.05680905986577,
           0.743966517740373,
           0.0054492562253806364,
           0.05062570426939079,
           2.3835081962074987,
           16.717428132578227,
           0.11761115618334997,
           0.3113552334055491,
           1.8283552357731572,
           2.057845846629519,
           2.7248587665529618,
           0,
           16.211243668340078,
           1.199677950836134,
           29.029502663107888,
           23.589866841223255,
           28.29154007480739,
           0.6423075893933573,
           3.323365140454016,
           13.7107742337068,
           11.541571191939493,
           4.9125947992073105,
           0.02049343127864054,
           4.18168206870753,
           7.449404078734463,
           2.961300819763558,
           21.18151626099397,
           0.1140644420021755,
           0,
           5.265578709507893,
           2.5018911737682874,
           0.060482046467048016,
           91.88204593527578,
           111.61344300600366,
           12.775319677797881,
           0.9780502409022225,
           0.9078214245663595,
           0.18782200406657323,
           11.253902606984308,
           0.3988549036315948,
           30.404458641573335,
           0.11541642126223117,
           3.8401754194499214,
           5.3163866820027526,
           0.014286681461585226,
           0.00837024546757174,
           0.774919819831805,
           22.8320077735707,
           4.096109603107744,
           0.16366559214850118,
           0.0570386802487687,
           5.637166192656538,
           0.20664190299151391,
           0.008098722183238118,
           2.668773236380167,
           0.10842164322810033,
           14.75371724771522,
           4.619734740729651,
           26.18656191993607,
           0.0011549134853533012,
           5.534670498132671,
           0.0004082244534358426,
           0.014922271433390399,
           0.2420926030818889,
           0.045520080020636525,
           78.20658910627539,
           0.07576556600710374,
           0.500911839076624,
           0,
           14.695291121064585,
           0.9975873512014821,
           6.607845609868732,
           45.062342497704556,
           34.64364739238434,
           8.034862067674803,
           0,
           4.390406315710514,
           0.5464307446885912,
           12.187011164135509,
           3.965488347686299,
           1.3391782055606767,
           7.811144262632204,
           5.761527497548212,
           0,
           12.625159080700707,
           0,
           1.7763876521582664,
           0.04722109353719715,
           0,
           5.482724523637296,
           40.27804115849534,
           18.009028929011453,
           87.09058046830232,
           9.794568301653989,
           11.347097219729344,
           3.746992198468978,
           0,
           8.427050557936193,
           1000,
           0.6093520379616986,
           0.012965824031265052,
           0.02401806657683286,
           0.03161367208615869,
           0.20081495693809825,
           0,
           0.06317285161006354,
           1.2623072861140627,
           9.888170551648127,
           2.829668868241344,
           0.04723706549509914,
           3.6312645589093915,
           0.019424249626143444,
           2.326520015531508,
           1.4761447910221512,
           2.643592035457296,
           7.488699088162803,
           10.880994971050544,
           7.424902860431095,
           0,
           21.900552548944095,
           2.5350421468025117,
           17.707757873085395,
           18.912097051929834,
           36.436411233908544,
           1.5415389191892592,
           0.5871878929101645,
           0.5076968677224244,
           57.405894351473876,
           19.40412495918695,
           0.793054216416497,
           0.20673526848072032,
           0.0109660409492439,
           0.27702891217512665,
           1.306586016171288,
           14.17141888785867,
           5.044414068912272,
           0.0010168030258479643,
           2.745848033171765,
           11.837199683973205,
           0.4516305978518055,
           3.7478798165412064,
           391.49644211954126,
           2.2143481330998496,
           3.9407282897122253,
           0.5167667084342762,
           56.4479937924328,
           18.709740566172464,
           0.6200501962934837,
           57.629047970591756,
           16.29124849732062
          ],
          "sizemode": "area",
          "sizeref": 0.1
         },
         "mode": "markers",
         "text": [
          "Afghanistan<br>: 13696.83",
          "Albania<br>: 8078.188",
          "Algeria<br>: 19053.928",
          "Andorra<br>: 159.12",
          "Angola<br>: 577222.1",
          "Antigua and Barbuda<br>: 98.789",
          "Argentina<br>: 272479.2",
          "Armenia<br>: 3479.9309999999996",
          "Australia<br>: 1261818.86",
          "Austria<br>: 39335.498999999996",
          "Azerbaijan<br>: 12210.6",
          "The Bahamas<br>: 7134.32",
          "Bahrain<br>: 6.12",
          "Bangladesh<br>: 16330.6",
          "Barbados<br>: 63.21",
          "Belarus<br>: 88437.6",
          "Belgium<br>: 6899.328",
          "Belize<br>: 13710.702",
          "Benin<br>: 42571.115999999995",
          "Bhutan<br>: 27835.65",
          "Bolivia<br>: 552586.243",
          "Bosnia and Herzegovina<br>: 21861.119000000002",
          "Botswana<br>: 109946.97",
          "Brazil<br>: 5015788.53",
          "Brunei<br>: 4156.565",
          "Bulgaria<br>: 39251.166",
          "Burkina Faso<br>: 52920.6",
          "Burundi<br>: 3033.47",
          "Ivory Coast<br>: 105445.40100000001",
          "Cape Verde<br>: 907.425",
          "Cambodia<br>: 95767.515",
          "Cameroon<br>: 186847.92",
          "Canada<br>: 3814143.94",
          "Central African Republic<br>: 221782.30400000003",
          "Chad<br>: 48792.0",
          "Chile<br>: 183731.328",
          "China<br>: 2149719.04",
          "Colombia<br>: 600205.57",
          "Comoros<br>: 440.295",
          "Republic of the Congo<br>: 223668.00000000003",
          "Costa Rica<br>: 27900.6",
          "Croatia<br>: 19468.336",
          "Cuba<br>: 34699.18",
          "Cyprus<br>: 1729.937",
          "Czech Republic<br>: 27287.982000000004",
          "Democratic Republic of the Congo<br>: 1575744.576",
          "Denmark<br>: 6334.817999999999",
          "Djibouti<br>: 46.4",
          "Dominica<br>: 431.074",
          "Dominican Republic<br>: 20295.390000000003",
          "Ecuador<br>: 142347.622",
          "Egypt<br>: 1001.45",
          "El Salvador<br>: 2651.1659999999997",
          "Equatorial Guinea<br>: 15568.305",
          "Eritrea<br>: 17522.4",
          "Estonia<br>: 23201.964",
          "Eswatini<br>: nan",
          "Ethiopia<br>: 138037.5",
          "Fiji<br>: 10215.166",
          "Finland<br>: 247183.99499999997",
          "France<br>: 200865.91199999998",
          "Gabon<br>: 240900.3",
          "The Gambia<br>: 5469.2",
          "Georgia<br>: 28298.2",
          "Germany<br>: 116746.194",
          "Ghana<br>: 98275.59600000002",
          "Greece<br>: 41830.369",
          "Grenada<br>: 174.5",
          "Guatemala<br>: 35606.703",
          "Guinea<br>: 63431.10600000001",
          "Guinea-Bissau<br>: 25215.25",
          "Guyana<br>: 180358.991",
          "Haiti<br>: 971.25",
          "Vatican City<br>: nan",
          "Honduras<br>: 44836.0",
          "Hungary<br>: 21303.411999999997",
          "Iceland<br>: 515.0",
          "India<br>: 782368.594",
          "Indonesia<br>: 950379.931",
          "Iran<br>: 108780.87",
          "Iraq<br>: 8328.023",
          "Republic of Ireland<br>: 7730.03",
          "Israel<br>: 1599.29",
          "Italy<br>: 95826.12",
          "Jamaica<br>: 3396.2189999999996",
          "Japan<br>: 258891.64",
          "Jordan<br>: 982.7620000000002",
          "Kazakhstan<br>: 32698.8",
          "Kenya<br>: 45268.626",
          "Kiribati<br>: 121.65",
          "Kuwait<br>: 71.272",
          "Kyrgyzstan<br>: 6598.382999999999",
          "Laos<br>: 194412.8",
          "Latvia<br>: 34878.06",
          "Lebanon<br>: 1393.6",
          "Lesotho<br>: 485.68",
          "Liberia<br>: 48000.039000000004",
          "Libya<br>: 1759.54",
          "Liechtenstein<br>: 68.96",
          "Lithuania<br>: 22724.4",
          "Luxembourg<br>: 923.2020000000001",
          "Madagascar<br>: 125626.77399999999",
          "Malawi<br>: 39336.688",
          "Malaysia<br>: 222976.572",
          "Maldives<br>: 9.834",
          "Mali<br>: 47127.295999999995",
          "Malta<br>: 3.4760000000000004",
          "Marshall Islands<br>: 127.06200000000001",
          "Mauritania<br>: 2061.4",
          "Mauritius<br>: 387.6",
          "Mexico<br>: 665923.125",
          "Federated States of Micronesia<br>: 645.138",
          "Moldova<br>: 4265.226",
          "Monaco<br>: nan",
          "Mongolia<br>: 125129.28",
          "Montenegro<br>: 8494.38",
          "Morocco<br>: 56265.3",
          "Mozambique<br>: 383702.4",
          "Myanmar<br>: 294988.00800000003",
          "Namibia<br>: 68416.236",
          "Nauru<br>: nan",
          "Nepal<br>: 37383.974",
          "Netherlands<br>: 4652.816",
          "New Zealand<br>: 103771.46800000001",
          "Nicaragua<br>: 33765.83",
          "Niger<br>: 11403.0",
          "Nigeria<br>: 66511.296",
          "North Korea<br>: 49058.96600000001",
          "North Macedonia<br>: nan",
          "Norway<br>: 107502.26400000001",
          "Oman<br>: 0.0",
          "Pakistan<br>: 15125.805",
          "Palau<br>: 402.08399999999995",
          "Palestinian National Authority<br>: nan",
          "Panama<br>: 46684.98",
          "Papua New Guinea<br>: 342964.44",
          "Paraguay<br>: 153345.50400000002",
          "Peru<br>: 741569.632",
          "Philippines<br>: 83400.0",
          "Poland<br>: 96619.665",
          "Portugal<br>: 31905.352000000003",
          "Qatar<br>: 0.0",
          "Romania<br>: 71755.691",
          "Russia<br>: 8514923.52",
          "Rwanda<br>: 5188.585999999999",
          "Saint Kitts and Nevis<br>: 110.40299999999999",
          "Saint Lucia<br>: 204.512",
          "Saint Vincent and the Grenadines<br>: 269.18800000000005",
          "Samoa<br>: 1709.924",
          "San Marino<br>: 0.0",
          "S�����������<br>: 537.9119999999999",
          "Saudi Arabia<br>: 10748.45",
          "Senegal<br>: 84197.016",
          "Serbia<br>: 24094.414",
          "Seychelles<br>: 402.22",
          "Sierra Leone<br>: 30919.94",
          "Singapore<br>: 165.39600000000002",
          "Slovakia<br>: 19810.14",
          "Slovenia<br>: 12569.26",
          "Solomon Islands<br>: 22509.984000000004",
          "Somalia<br>: 63765.7",
          "South Africa<br>: 92650.84",
          "South Korea<br>: 63222.48",
          "South Sudan<br>: nan",
          "Spain<br>: 186481.53",
          "Sri Lanka<br>: 21585.69",
          "Sudan<br>: 150780.204",
          "Suriname<br>: 161035.06",
          "Sweden<br>: 310253.25500000006",
          "Switzerland<br>: 13126.086000000001",
          "Syria<br>: 4999.860000000001",
          "Tajikistan<br>: 4323.0",
          "Tanzania<br>: 488806.8",
          "Thailand<br>: 165224.64",
          "East Timor<br>: 6752.795999999999",
          "Togo<br>: 1760.335",
          "Tonga<br>: 93.375",
          "Trinidad and Tobago<br>: 2358.88",
          "Tunisia<br>: 11125.48",
          "Turkey<br>: 120668.54800000001",
          "Turkmenistan<br>: 42952.8",
          "Tuvalu<br>: 8.658",
          "Uganda<br>: 23380.685999999998",
          "Ukraine<br>: 100792.85",
          "United Arab Emirates<br>: 3845.5999999999995",
          "United Kingdom<br>: 31912.91",
          "United States<br>: 3333562.2630000003",
          "Uruguay<br>: 18855.004999999997",
          "Uzbekistan<br>: 33555.0",
          "Vanuatu<br>: 4400.229",
          "Venezuela<br>: 480650.35",
          "Vietnam<br>: 159312.01",
          "Yemen<br>: 5279.68",
          "Zambia<br>: 490706.936",
          "Zimbabwe<br>: 138718.735"
         ],
         "type": "scattermapbox"
        }
       ],
       "layout": {
        "mapbox": {
         "style": "carto-positron"
        },
        "template": {
         "data": {
          "bar": [
           {
            "error_x": {
             "color": "#2a3f5f"
            },
            "error_y": {
             "color": "#2a3f5f"
            },
            "marker": {
             "line": {
              "color": "#E5ECF6",
              "width": 0.5
             },
             "pattern": {
              "fillmode": "overlay",
              "size": 10,
              "solidity": 0.2
             }
            },
            "type": "bar"
           }
          ],
          "barpolar": [
           {
            "marker": {
             "line": {
              "color": "#E5ECF6",
              "width": 0.5
             },
             "pattern": {
              "fillmode": "overlay",
              "size": 10,
              "solidity": 0.2
             }
            },
            "type": "barpolar"
           }
          ],
          "carpet": [
           {
            "aaxis": {
             "endlinecolor": "#2a3f5f",
             "gridcolor": "white",
             "linecolor": "white",
             "minorgridcolor": "white",
             "startlinecolor": "#2a3f5f"
            },
            "baxis": {
             "endlinecolor": "#2a3f5f",
             "gridcolor": "white",
             "linecolor": "white",
             "minorgridcolor": "white",
             "startlinecolor": "#2a3f5f"
            },
            "type": "carpet"
           }
          ],
          "choropleth": [
           {
            "colorbar": {
             "outlinewidth": 0,
             "ticks": ""
            },
            "type": "choropleth"
           }
          ],
          "contour": [
           {
            "colorbar": {
             "outlinewidth": 0,
             "ticks": ""
            },
            "colorscale": [
             [
              0,
              "#0d0887"
             ],
             [
              0.1111111111111111,
              "#46039f"
             ],
             [
              0.2222222222222222,
              "#7201a8"
             ],
             [
              0.3333333333333333,
              "#9c179e"
             ],
             [
              0.4444444444444444,
              "#bd3786"
             ],
             [
              0.5555555555555556,
              "#d8576b"
             ],
             [
              0.6666666666666666,
              "#ed7953"
             ],
             [
              0.7777777777777778,
              "#fb9f3a"
             ],
             [
              0.8888888888888888,
              "#fdca26"
             ],
             [
              1,
              "#f0f921"
             ]
            ],
            "type": "contour"
           }
          ],
          "contourcarpet": [
           {
            "colorbar": {
             "outlinewidth": 0,
             "ticks": ""
            },
            "type": "contourcarpet"
           }
          ],
          "heatmap": [
           {
            "colorbar": {
             "outlinewidth": 0,
             "ticks": ""
            },
            "colorscale": [
             [
              0,
              "#0d0887"
             ],
             [
              0.1111111111111111,
              "#46039f"
             ],
             [
              0.2222222222222222,
              "#7201a8"
             ],
             [
              0.3333333333333333,
              "#9c179e"
             ],
             [
              0.4444444444444444,
              "#bd3786"
             ],
             [
              0.5555555555555556,
              "#d8576b"
             ],
             [
              0.6666666666666666,
              "#ed7953"
             ],
             [
              0.7777777777777778,
              "#fb9f3a"
             ],
             [
              0.8888888888888888,
              "#fdca26"
             ],
             [
              1,
              "#f0f921"
             ]
            ],
            "type": "heatmap"
           }
          ],
          "heatmapgl": [
           {
            "colorbar": {
             "outlinewidth": 0,
             "ticks": ""
            },
            "colorscale": [
             [
              0,
              "#0d0887"
             ],
             [
              0.1111111111111111,
              "#46039f"
             ],
             [
              0.2222222222222222,
              "#7201a8"
             ],
             [
              0.3333333333333333,
              "#9c179e"
             ],
             [
              0.4444444444444444,
              "#bd3786"
             ],
             [
              0.5555555555555556,
              "#d8576b"
             ],
             [
              0.6666666666666666,
              "#ed7953"
             ],
             [
              0.7777777777777778,
              "#fb9f3a"
             ],
             [
              0.8888888888888888,
              "#fdca26"
             ],
             [
              1,
              "#f0f921"
             ]
            ],
            "type": "heatmapgl"
           }
          ],
          "histogram": [
           {
            "marker": {
             "pattern": {
              "fillmode": "overlay",
              "size": 10,
              "solidity": 0.2
             }
            },
            "type": "histogram"
           }
          ],
          "histogram2d": [
           {
            "colorbar": {
             "outlinewidth": 0,
             "ticks": ""
            },
            "colorscale": [
             [
              0,
              "#0d0887"
             ],
             [
              0.1111111111111111,
              "#46039f"
             ],
             [
              0.2222222222222222,
              "#7201a8"
             ],
             [
              0.3333333333333333,
              "#9c179e"
             ],
             [
              0.4444444444444444,
              "#bd3786"
             ],
             [
              0.5555555555555556,
              "#d8576b"
             ],
             [
              0.6666666666666666,
              "#ed7953"
             ],
             [
              0.7777777777777778,
              "#fb9f3a"
             ],
             [
              0.8888888888888888,
              "#fdca26"
             ],
             [
              1,
              "#f0f921"
             ]
            ],
            "type": "histogram2d"
           }
          ],
          "histogram2dcontour": [
           {
            "colorbar": {
             "outlinewidth": 0,
             "ticks": ""
            },
            "colorscale": [
             [
              0,
              "#0d0887"
             ],
             [
              0.1111111111111111,
              "#46039f"
             ],
             [
              0.2222222222222222,
              "#7201a8"
             ],
             [
              0.3333333333333333,
              "#9c179e"
             ],
             [
              0.4444444444444444,
              "#bd3786"
             ],
             [
              0.5555555555555556,
              "#d8576b"
             ],
             [
              0.6666666666666666,
              "#ed7953"
             ],
             [
              0.7777777777777778,
              "#fb9f3a"
             ],
             [
              0.8888888888888888,
              "#fdca26"
             ],
             [
              1,
              "#f0f921"
             ]
            ],
            "type": "histogram2dcontour"
           }
          ],
          "mesh3d": [
           {
            "colorbar": {
             "outlinewidth": 0,
             "ticks": ""
            },
            "type": "mesh3d"
           }
          ],
          "parcoords": [
           {
            "line": {
             "colorbar": {
              "outlinewidth": 0,
              "ticks": ""
             }
            },
            "type": "parcoords"
           }
          ],
          "pie": [
           {
            "automargin": true,
            "type": "pie"
           }
          ],
          "scatter": [
           {
            "fillpattern": {
             "fillmode": "overlay",
             "size": 10,
             "solidity": 0.2
            },
            "type": "scatter"
           }
          ],
          "scatter3d": [
           {
            "line": {
             "colorbar": {
              "outlinewidth": 0,
              "ticks": ""
             }
            },
            "marker": {
             "colorbar": {
              "outlinewidth": 0,
              "ticks": ""
             }
            },
            "type": "scatter3d"
           }
          ],
          "scattercarpet": [
           {
            "marker": {
             "colorbar": {
              "outlinewidth": 0,
              "ticks": ""
             }
            },
            "type": "scattercarpet"
           }
          ],
          "scattergeo": [
           {
            "marker": {
             "colorbar": {
              "outlinewidth": 0,
              "ticks": ""
             }
            },
            "type": "scattergeo"
           }
          ],
          "scattergl": [
           {
            "marker": {
             "colorbar": {
              "outlinewidth": 0,
              "ticks": ""
             }
            },
            "type": "scattergl"
           }
          ],
          "scattermapbox": [
           {
            "marker": {
             "colorbar": {
              "outlinewidth": 0,
              "ticks": ""
             }
            },
            "type": "scattermapbox"
           }
          ],
          "scatterpolar": [
           {
            "marker": {
             "colorbar": {
              "outlinewidth": 0,
              "ticks": ""
             }
            },
            "type": "scatterpolar"
           }
          ],
          "scatterpolargl": [
           {
            "marker": {
             "colorbar": {
              "outlinewidth": 0,
              "ticks": ""
             }
            },
            "type": "scatterpolargl"
           }
          ],
          "scatterternary": [
           {
            "marker": {
             "colorbar": {
              "outlinewidth": 0,
              "ticks": ""
             }
            },
            "type": "scatterternary"
           }
          ],
          "surface": [
           {
            "colorbar": {
             "outlinewidth": 0,
             "ticks": ""
            },
            "colorscale": [
             [
              0,
              "#0d0887"
             ],
             [
              0.1111111111111111,
              "#46039f"
             ],
             [
              0.2222222222222222,
              "#7201a8"
             ],
             [
              0.3333333333333333,
              "#9c179e"
             ],
             [
              0.4444444444444444,
              "#bd3786"
             ],
             [
              0.5555555555555556,
              "#d8576b"
             ],
             [
              0.6666666666666666,
              "#ed7953"
             ],
             [
              0.7777777777777778,
              "#fb9f3a"
             ],
             [
              0.8888888888888888,
              "#fdca26"
             ],
             [
              1,
              "#f0f921"
             ]
            ],
            "type": "surface"
           }
          ],
          "table": [
           {
            "cells": {
             "fill": {
              "color": "#EBF0F8"
             },
             "line": {
              "color": "white"
             }
            },
            "header": {
             "fill": {
              "color": "#C8D4E3"
             },
             "line": {
              "color": "white"
             }
            },
            "type": "table"
           }
          ]
         },
         "layout": {
          "annotationdefaults": {
           "arrowcolor": "#2a3f5f",
           "arrowhead": 0,
           "arrowwidth": 1
          },
          "autotypenumbers": "strict",
          "coloraxis": {
           "colorbar": {
            "outlinewidth": 0,
            "ticks": ""
           }
          },
          "colorscale": {
           "diverging": [
            [
             0,
             "#8e0152"
            ],
            [
             0.1,
             "#c51b7d"
            ],
            [
             0.2,
             "#de77ae"
            ],
            [
             0.3,
             "#f1b6da"
            ],
            [
             0.4,
             "#fde0ef"
            ],
            [
             0.5,
             "#f7f7f7"
            ],
            [
             0.6,
             "#e6f5d0"
            ],
            [
             0.7,
             "#b8e186"
            ],
            [
             0.8,
             "#7fbc41"
            ],
            [
             0.9,
             "#4d9221"
            ],
            [
             1,
             "#276419"
            ]
           ],
           "sequential": [
            [
             0,
             "#0d0887"
            ],
            [
             0.1111111111111111,
             "#46039f"
            ],
            [
             0.2222222222222222,
             "#7201a8"
            ],
            [
             0.3333333333333333,
             "#9c179e"
            ],
            [
             0.4444444444444444,
             "#bd3786"
            ],
            [
             0.5555555555555556,
             "#d8576b"
            ],
            [
             0.6666666666666666,
             "#ed7953"
            ],
            [
             0.7777777777777778,
             "#fb9f3a"
            ],
            [
             0.8888888888888888,
             "#fdca26"
            ],
            [
             1,
             "#f0f921"
            ]
           ],
           "sequentialminus": [
            [
             0,
             "#0d0887"
            ],
            [
             0.1111111111111111,
             "#46039f"
            ],
            [
             0.2222222222222222,
             "#7201a8"
            ],
            [
             0.3333333333333333,
             "#9c179e"
            ],
            [
             0.4444444444444444,
             "#bd3786"
            ],
            [
             0.5555555555555556,
             "#d8576b"
            ],
            [
             0.6666666666666666,
             "#ed7953"
            ],
            [
             0.7777777777777778,
             "#fb9f3a"
            ],
            [
             0.8888888888888888,
             "#fdca26"
            ],
            [
             1,
             "#f0f921"
            ]
           ]
          },
          "colorway": [
           "#636efa",
           "#EF553B",
           "#00cc96",
           "#ab63fa",
           "#FFA15A",
           "#19d3f3",
           "#FF6692",
           "#B6E880",
           "#FF97FF",
           "#FECB52"
          ],
          "font": {
           "color": "#2a3f5f"
          },
          "geo": {
           "bgcolor": "white",
           "lakecolor": "white",
           "landcolor": "#E5ECF6",
           "showlakes": true,
           "showland": true,
           "subunitcolor": "white"
          },
          "hoverlabel": {
           "align": "left"
          },
          "hovermode": "closest",
          "mapbox": {
           "style": "light"
          },
          "paper_bgcolor": "white",
          "plot_bgcolor": "#E5ECF6",
          "polar": {
           "angularaxis": {
            "gridcolor": "white",
            "linecolor": "white",
            "ticks": ""
           },
           "bgcolor": "#E5ECF6",
           "radialaxis": {
            "gridcolor": "white",
            "linecolor": "white",
            "ticks": ""
           }
          },
          "scene": {
           "xaxis": {
            "backgroundcolor": "#E5ECF6",
            "gridcolor": "white",
            "gridwidth": 2,
            "linecolor": "white",
            "showbackground": true,
            "ticks": "",
            "zerolinecolor": "white"
           },
           "yaxis": {
            "backgroundcolor": "#E5ECF6",
            "gridcolor": "white",
            "gridwidth": 2,
            "linecolor": "white",
            "showbackground": true,
            "ticks": "",
            "zerolinecolor": "white"
           },
           "zaxis": {
            "backgroundcolor": "#E5ECF6",
            "gridcolor": "white",
            "gridwidth": 2,
            "linecolor": "white",
            "showbackground": true,
            "ticks": "",
            "zerolinecolor": "white"
           }
          },
          "shapedefaults": {
           "line": {
            "color": "#2a3f5f"
           }
          },
          "ternary": {
           "aaxis": {
            "gridcolor": "white",
            "linecolor": "white",
            "ticks": ""
           },
           "baxis": {
            "gridcolor": "white",
            "linecolor": "white",
            "ticks": ""
           },
           "bgcolor": "#E5ECF6",
           "caxis": {
            "gridcolor": "white",
            "linecolor": "white",
            "ticks": ""
           }
          },
          "title": {
           "x": 0.05
          },
          "xaxis": {
           "automargin": true,
           "gridcolor": "white",
           "linecolor": "white",
           "ticks": "",
           "title": {
            "standoff": 15
           },
           "zerolinecolor": "white",
           "zerolinewidth": 2
          },
          "yaxis": {
           "automargin": true,
           "gridcolor": "white",
           "linecolor": "white",
           "ticks": "",
           "title": {
            "standoff": 15
           },
           "zerolinecolor": "white",
           "zerolinewidth": 2
          }
         }
        },
        "title": {
         "text": "World Forested Land Area Map"
        }
       }
      },
      "text/html": [
       "<div>                            <div id=\"b7f1013c-b5d4-40cd-87c8-e640380b2bdd\" class=\"plotly-graph-div\" style=\"height:525px; width:100%;\"></div>            <script type=\"text/javascript\">                require([\"plotly\"], function(Plotly) {                    window.PLOTLYENV=window.PLOTLYENV || {};                                    if (document.getElementById(\"b7f1013c-b5d4-40cd-87c8-e640380b2bdd\")) {                    Plotly.newPlot(                        \"b7f1013c-b5d4-40cd-87c8-e640380b2bdd\",                        [{\"lat\":[33.93911,41.153332,28.033886,42.506285,-11.202692,17.060816,-38.416097,40.069099,-25.274398,47.516231,40.143105,25.03428,26.0667,23.684994,13.193887,53.709807,50.503887,17.189877,9.30769,27.514162,-16.290154,43.915886,-22.328474,-14.235004,4.535277,42.733883,12.238333,-3.373056,7.539989,16.5388,12.565679,7.369722,56.130366,6.611111,15.454166,-35.675147,35.86166,4.570868,-11.6455,-0.228021,9.748917,45.1,21.521757,35.126413,49.817492,-4.038333,56.26392,11.825138,15.414999,18.735693,-1.831239,26.820553,13.794185,1.650801,15.179384,58.595272,-26.522503,9.145,-17.713371,61.92411,46.227638,-0.803689,13.443182,42.315407,51.165691,7.946527,39.074208,12.1165,15.783471,9.945587,11.803749,4.860416,18.971187,41.902916,15.199999,47.162494,64.963051,20.593684,-0.789275,32.427908,33.223191,53.41291,31.046051,41.87194,18.109581,36.204824,30.585164,48.019573,-0.023559,1.8368976,29.31166,41.20438,19.85627,56.879635,33.854721,-29.609988,6.428055,26.3351,47.1410392,55.169438,49.815273,-18.766947,-13.254308,4.210484,3.202778,17.570692,35.937496,7.131474,21.00789,-20.348404,23.634501,7.425554,47.411631,43.7384176,46.862496,42.708678,31.791702,-18.665695,21.916221,-22.95764,-0.522778,28.394857,52.132633,-40.900557,12.865416,17.607789,9.081999,40.339852,41.608635,60.472024,21.4735329,30.375321,7.51498,31.952162,8.537981,-6.314993,-23.442503,-9.189967,12.879721,51.919438,39.399872,25.354826,45.943161,61.52401,-1.940278,17.357822,13.909444,12.984305,-13.759029,43.94236,null,23.885942,14.497401,44.016521,-4.679574,8.460555,1.352083,48.669026,46.151241,-9.64571,5.152149,-30.559482,35.907757,6.8769919,40.463667,7.873054,12.862807,3.919305,60.128161,46.818188,34.802075,38.861034,-6.369028,15.870032,-8.874217,8.619543,-21.178986,10.691803,33.886917,38.963745,38.969719,-7.109535,1.373333,48.379433,23.424076,55.378051,37.09024,-32.522779,41.377491,-15.376706,6.42375,14.058324,15.552727,-13.133897,-19.015438],\"lon\":[67.709953,20.168331,1.659626,1.521801,17.873887,-61.796428,-63.616672,45.038189,133.775136,14.550072,47.576927,-77.39628,50.5577,90.356331,-59.543198,27.953389,4.469936,-88.49765,2.315834,90.433601,-63.588653,17.679076,24.684866,-51.92528,114.727669,25.48583,-1.561593,29.918886,-5.54708,-23.0418,104.990963,12.354722,-106.346771,20.939444,18.732207,-71.542969,104.195397,-74.297333,43.3333,15.827659,-83.753428,15.2,-77.781167,33.429859,15.472962,21.758664,9.501785,42.590275,-61.370976,-70.162651,-78.183406,30.802498,-88.89653,10.267895,39.782334,25.013607,31.465866,40.489673,178.065032,25.748151,2.213749,11.609444,-15.310139,43.356892,10.451526,-1.023194,21.824312,-61.679,-90.230759,-9.696645,-15.180413,-58.93018,-72.285215,12.453389,-86.241905,19.503304,-19.020835,78.96288,113.921327,53.688046,43.679291,-8.24389,34.851612,12.56738,-77.297508,138.252924,36.238414,66.923684,37.906193,-157.3768317,47.481766,74.766098,102.495496,24.603189,35.862285,28.233608,-9.429499,17.228331,9.520935,23.881275,6.129583,46.869107,34.301525,101.975766,73.22068,-3.996166,14.375416,171.184478,-10.940835,57.552152,-102.552784,150.550812,28.369885,7.4246158,103.846656,19.37439,-7.09262,35.529562,95.955974,18.49041,166.931503,84.124008,5.291266,174.885971,-85.207229,8.081666,8.675277,127.510093,21.745275,8.468946,55.975413,69.345116,134.58252,35.233154,-80.782127,143.95555,-58.443832,-75.015152,121.774017,19.145136,-8.224454,51.183884,24.96676,105.318756,29.873888,-62.782998,-60.978893,-61.287228,-172.104629,12.457777,null,45.079162,-14.452362,21.005859,55.491977,-11.779889,103.819836,19.699024,14.995463,160.156194,46.199616,22.937506,127.766922,31.3069788,-3.74922,80.771797,30.217636,-56.027783,18.643501,8.227512,38.996815,71.276093,34.888822,100.992541,125.727539,0.824782,-175.198242,-61.222503,9.537499,35.243322,59.556278,177.64933,32.290275,31.16558,53.847818,-3.435973,-95.712891,-55.765835,64.585262,166.959158,-66.58973,108.277199,48.516388,27.849332,29.154857],\"marker\":{\"colorscale\":[[0.0,\"#440154\"],[0.1111111111111111,\"#482878\"],[0.2222222222222222,\"#3e4989\"],[0.3333333333333333,\"#31688e\"],[0.4444444444444444,\"#26828e\"],[0.5555555555555556,\"#1f9e89\"],[0.6666666666666666,\"#35b779\"],[0.7777777777777778,\"#6ece58\"],[0.8888888888888888,\"#b5de2b\"],[1.0,\"#fde725\"]],\"showscale\":false,\"size\":[1.608567589342247,0.9487094019136887,2.2377098226714316,0.018687190745313942,67.78946383302336,0.011601865802782925,32.000193467386545,0.4086861134837298,148.1891008223642,4.619595103538875,1.434023449690362,0.8378607257296893,0.0007187381055889977,1.9178798214267463,0.007423437198411854,10.386188412881953,0.8102630615289427,1.6101967290482488,4.99958876906037,3.269042867457253,64.89620742947085,2.567388767339158,12.912267472720648,589.0585532822262,0.4881505970355445,4.609690962908378,6.215041142260313,0.35625334659494395,12.383599306832062,0.10656877867060396,11.247019984978092,21.943581708177224,447.9363708953196,26.046306050673728,5.730174779068363,21.577566441841633,252.46486770558806,70.48866247479813,0.05170862650331826,26.2677638236732,3.276670651764116,2.2863782574526286,4.075101780831967,0.20316530100789443,3.2047242627494565,185.05680905986577,0.743966517740373,0.0054492562253806364,0.05062570426939079,2.3835081962074987,16.717428132578227,0.11761115618334997,0.3113552334055491,1.8283552357731572,2.057845846629519,2.7248587665529618,0.0,16.211243668340078,1.199677950836134,29.029502663107888,23.589866841223255,28.29154007480739,0.6423075893933573,3.323365140454016,13.7107742337068,11.541571191939493,4.9125947992073105,0.02049343127864054,4.18168206870753,7.449404078734463,2.961300819763558,21.18151626099397,0.1140644420021755,0.0,5.265578709507893,2.5018911737682874,0.060482046467048016,91.88204593527578,111.61344300600366,12.775319677797881,0.9780502409022225,0.9078214245663595,0.18782200406657323,11.253902606984308,0.3988549036315948,30.404458641573335,0.11541642126223117,3.8401754194499214,5.3163866820027526,0.014286681461585226,0.00837024546757174,0.774919819831805,22.8320077735707,4.096109603107744,0.16366559214850118,0.0570386802487687,5.637166192656538,0.20664190299151391,0.008098722183238118,2.668773236380167,0.10842164322810033,14.75371724771522,4.619734740729651,26.18656191993607,0.0011549134853533012,5.534670498132671,0.0004082244534358426,0.014922271433390399,0.2420926030818889,0.045520080020636525,78.20658910627539,0.07576556600710374,0.500911839076624,0.0,14.695291121064585,0.9975873512014821,6.607845609868732,45.062342497704556,34.64364739238434,8.034862067674803,0.0,4.390406315710514,0.5464307446885912,12.187011164135509,3.965488347686299,1.3391782055606767,7.811144262632204,5.761527497548212,0.0,12.625159080700707,0.0,1.7763876521582664,0.04722109353719715,0.0,5.482724523637296,40.27804115849534,18.009028929011453,87.09058046830232,9.794568301653989,11.347097219729344,3.746992198468978,0.0,8.427050557936193,1000.0,0.6093520379616986,0.012965824031265052,0.02401806657683286,0.03161367208615869,0.20081495693809825,0.0,0.06317285161006354,1.2623072861140627,9.888170551648127,2.829668868241344,0.04723706549509914,3.6312645589093915,0.019424249626143444,2.326520015531508,1.4761447910221512,2.643592035457296,7.488699088162803,10.880994971050544,7.424902860431095,0.0,21.900552548944095,2.5350421468025117,17.707757873085395,18.912097051929834,36.436411233908544,1.5415389191892592,0.5871878929101645,0.5076968677224244,57.405894351473876,19.40412495918695,0.793054216416497,0.20673526848072032,0.0109660409492439,0.27702891217512665,1.306586016171288,14.17141888785867,5.044414068912272,0.0010168030258479643,2.745848033171765,11.837199683973205,0.4516305978518055,3.7478798165412064,391.49644211954126,2.2143481330998496,3.9407282897122253,0.5167667084342762,56.4479937924328,18.709740566172464,0.6200501962934837,57.629047970591756,16.29124849732062],\"sizemode\":\"area\",\"sizeref\":0.1},\"mode\":\"markers\",\"text\":[\"Afghanistan<br>: 13696.83\",\"Albania<br>: 8078.188\",\"Algeria<br>: 19053.928\",\"Andorra<br>: 159.12\",\"Angola<br>: 577222.1\",\"Antigua and Barbuda<br>: 98.789\",\"Argentina<br>: 272479.2\",\"Armenia<br>: 3479.9309999999996\",\"Australia<br>: 1261818.86\",\"Austria<br>: 39335.498999999996\",\"Azerbaijan<br>: 12210.6\",\"The Bahamas<br>: 7134.32\",\"Bahrain<br>: 6.12\",\"Bangladesh<br>: 16330.6\",\"Barbados<br>: 63.21\",\"Belarus<br>: 88437.6\",\"Belgium<br>: 6899.328\",\"Belize<br>: 13710.702\",\"Benin<br>: 42571.115999999995\",\"Bhutan<br>: 27835.65\",\"Bolivia<br>: 552586.243\",\"Bosnia and Herzegovina<br>: 21861.119000000002\",\"Botswana<br>: 109946.97\",\"Brazil<br>: 5015788.53\",\"Brunei<br>: 4156.565\",\"Bulgaria<br>: 39251.166\",\"Burkina Faso<br>: 52920.6\",\"Burundi<br>: 3033.47\",\"Ivory Coast<br>: 105445.40100000001\",\"Cape Verde<br>: 907.425\",\"Cambodia<br>: 95767.515\",\"Cameroon<br>: 186847.92\",\"Canada<br>: 3814143.94\",\"Central African Republic<br>: 221782.30400000003\",\"Chad<br>: 48792.0\",\"Chile<br>: 183731.328\",\"China<br>: 2149719.04\",\"Colombia<br>: 600205.57\",\"Comoros<br>: 440.295\",\"Republic of the Congo<br>: 223668.00000000003\",\"Costa Rica<br>: 27900.6\",\"Croatia<br>: 19468.336\",\"Cuba<br>: 34699.18\",\"Cyprus<br>: 1729.937\",\"Czech Republic<br>: 27287.982000000004\",\"Democratic Republic of the Congo<br>: 1575744.576\",\"Denmark<br>: 6334.817999999999\",\"Djibouti<br>: 46.4\",\"Dominica<br>: 431.074\",\"Dominican Republic<br>: 20295.390000000003\",\"Ecuador<br>: 142347.622\",\"Egypt<br>: 1001.45\",\"El Salvador<br>: 2651.1659999999997\",\"Equatorial Guinea<br>: 15568.305\",\"Eritrea<br>: 17522.4\",\"Estonia<br>: 23201.964\",\"Eswatini<br>: nan\",\"Ethiopia<br>: 138037.5\",\"Fiji<br>: 10215.166\",\"Finland<br>: 247183.99499999997\",\"France<br>: 200865.91199999998\",\"Gabon<br>: 240900.3\",\"The Gambia<br>: 5469.2\",\"Georgia<br>: 28298.2\",\"Germany<br>: 116746.194\",\"Ghana<br>: 98275.59600000002\",\"Greece<br>: 41830.369\",\"Grenada<br>: 174.5\",\"Guatemala<br>: 35606.703\",\"Guinea<br>: 63431.10600000001\",\"Guinea-Bissau<br>: 25215.25\",\"Guyana<br>: 180358.991\",\"Haiti<br>: 971.25\",\"Vatican City<br>: nan\",\"Honduras<br>: 44836.0\",\"Hungary<br>: 21303.411999999997\",\"Iceland<br>: 515.0\",\"India<br>: 782368.594\",\"Indonesia<br>: 950379.931\",\"Iran<br>: 108780.87\",\"Iraq<br>: 8328.023\",\"Republic of Ireland<br>: 7730.03\",\"Israel<br>: 1599.29\",\"Italy<br>: 95826.12\",\"Jamaica<br>: 3396.2189999999996\",\"Japan<br>: 258891.64\",\"Jordan<br>: 982.7620000000002\",\"Kazakhstan<br>: 32698.8\",\"Kenya<br>: 45268.626\",\"Kiribati<br>: 121.65\",\"Kuwait<br>: 71.272\",\"Kyrgyzstan<br>: 6598.382999999999\",\"Laos<br>: 194412.8\",\"Latvia<br>: 34878.06\",\"Lebanon<br>: 1393.6\",\"Lesotho<br>: 485.68\",\"Liberia<br>: 48000.039000000004\",\"Libya<br>: 1759.54\",\"Liechtenstein<br>: 68.96\",\"Lithuania<br>: 22724.4\",\"Luxembourg<br>: 923.2020000000001\",\"Madagascar<br>: 125626.77399999999\",\"Malawi<br>: 39336.688\",\"Malaysia<br>: 222976.572\",\"Maldives<br>: 9.834\",\"Mali<br>: 47127.295999999995\",\"Malta<br>: 3.4760000000000004\",\"Marshall Islands<br>: 127.06200000000001\",\"Mauritania<br>: 2061.4\",\"Mauritius<br>: 387.6\",\"Mexico<br>: 665923.125\",\"Federated States of Micronesia<br>: 645.138\",\"Moldova<br>: 4265.226\",\"Monaco<br>: nan\",\"Mongolia<br>: 125129.28\",\"Montenegro<br>: 8494.38\",\"Morocco<br>: 56265.3\",\"Mozambique<br>: 383702.4\",\"Myanmar<br>: 294988.00800000003\",\"Namibia<br>: 68416.236\",\"Nauru<br>: nan\",\"Nepal<br>: 37383.974\",\"Netherlands<br>: 4652.816\",\"New Zealand<br>: 103771.46800000001\",\"Nicaragua<br>: 33765.83\",\"Niger<br>: 11403.0\",\"Nigeria<br>: 66511.296\",\"North Korea<br>: 49058.96600000001\",\"North Macedonia<br>: nan\",\"Norway<br>: 107502.26400000001\",\"Oman<br>: 0.0\",\"Pakistan<br>: 15125.805\",\"Palau<br>: 402.08399999999995\",\"Palestinian National Authority<br>: nan\",\"Panama<br>: 46684.98\",\"Papua New Guinea<br>: 342964.44\",\"Paraguay<br>: 153345.50400000002\",\"Peru<br>: 741569.632\",\"Philippines<br>: 83400.0\",\"Poland<br>: 96619.665\",\"Portugal<br>: 31905.352000000003\",\"Qatar<br>: 0.0\",\"Romania<br>: 71755.691\",\"Russia<br>: 8514923.52\",\"Rwanda<br>: 5188.585999999999\",\"Saint Kitts and Nevis<br>: 110.40299999999999\",\"Saint Lucia<br>: 204.512\",\"Saint Vincent and the Grenadines<br>: 269.18800000000005\",\"Samoa<br>: 1709.924\",\"San Marino<br>: 0.0\",\"S\\ufffd\\ufffd\\ufffd\\ufffd\\ufffd\\ufffd\\ufffd\\ufffd\\ufffd\\ufffd\\ufffd<br>: 537.9119999999999\",\"Saudi Arabia<br>: 10748.45\",\"Senegal<br>: 84197.016\",\"Serbia<br>: 24094.414\",\"Seychelles<br>: 402.22\",\"Sierra Leone<br>: 30919.94\",\"Singapore<br>: 165.39600000000002\",\"Slovakia<br>: 19810.14\",\"Slovenia<br>: 12569.26\",\"Solomon Islands<br>: 22509.984000000004\",\"Somalia<br>: 63765.7\",\"South Africa<br>: 92650.84\",\"South Korea<br>: 63222.48\",\"South Sudan<br>: nan\",\"Spain<br>: 186481.53\",\"Sri Lanka<br>: 21585.69\",\"Sudan<br>: 150780.204\",\"Suriname<br>: 161035.06\",\"Sweden<br>: 310253.25500000006\",\"Switzerland<br>: 13126.086000000001\",\"Syria<br>: 4999.860000000001\",\"Tajikistan<br>: 4323.0\",\"Tanzania<br>: 488806.8\",\"Thailand<br>: 165224.64\",\"East Timor<br>: 6752.795999999999\",\"Togo<br>: 1760.335\",\"Tonga<br>: 93.375\",\"Trinidad and Tobago<br>: 2358.88\",\"Tunisia<br>: 11125.48\",\"Turkey<br>: 120668.54800000001\",\"Turkmenistan<br>: 42952.8\",\"Tuvalu<br>: 8.658\",\"Uganda<br>: 23380.685999999998\",\"Ukraine<br>: 100792.85\",\"United Arab Emirates<br>: 3845.5999999999995\",\"United Kingdom<br>: 31912.91\",\"United States<br>: 3333562.2630000003\",\"Uruguay<br>: 18855.004999999997\",\"Uzbekistan<br>: 33555.0\",\"Vanuatu<br>: 4400.229\",\"Venezuela<br>: 480650.35\",\"Vietnam<br>: 159312.01\",\"Yemen<br>: 5279.68\",\"Zambia<br>: 490706.936\",\"Zimbabwe<br>: 138718.735\"],\"type\":\"scattermapbox\"}],                        {\"template\":{\"data\":{\"histogram2dcontour\":[{\"type\":\"histogram2dcontour\",\"colorbar\":{\"outlinewidth\":0,\"ticks\":\"\"},\"colorscale\":[[0.0,\"#0d0887\"],[0.1111111111111111,\"#46039f\"],[0.2222222222222222,\"#7201a8\"],[0.3333333333333333,\"#9c179e\"],[0.4444444444444444,\"#bd3786\"],[0.5555555555555556,\"#d8576b\"],[0.6666666666666666,\"#ed7953\"],[0.7777777777777778,\"#fb9f3a\"],[0.8888888888888888,\"#fdca26\"],[1.0,\"#f0f921\"]]}],\"choropleth\":[{\"type\":\"choropleth\",\"colorbar\":{\"outlinewidth\":0,\"ticks\":\"\"}}],\"histogram2d\":[{\"type\":\"histogram2d\",\"colorbar\":{\"outlinewidth\":0,\"ticks\":\"\"},\"colorscale\":[[0.0,\"#0d0887\"],[0.1111111111111111,\"#46039f\"],[0.2222222222222222,\"#7201a8\"],[0.3333333333333333,\"#9c179e\"],[0.4444444444444444,\"#bd3786\"],[0.5555555555555556,\"#d8576b\"],[0.6666666666666666,\"#ed7953\"],[0.7777777777777778,\"#fb9f3a\"],[0.8888888888888888,\"#fdca26\"],[1.0,\"#f0f921\"]]}],\"heatmap\":[{\"type\":\"heatmap\",\"colorbar\":{\"outlinewidth\":0,\"ticks\":\"\"},\"colorscale\":[[0.0,\"#0d0887\"],[0.1111111111111111,\"#46039f\"],[0.2222222222222222,\"#7201a8\"],[0.3333333333333333,\"#9c179e\"],[0.4444444444444444,\"#bd3786\"],[0.5555555555555556,\"#d8576b\"],[0.6666666666666666,\"#ed7953\"],[0.7777777777777778,\"#fb9f3a\"],[0.8888888888888888,\"#fdca26\"],[1.0,\"#f0f921\"]]}],\"heatmapgl\":[{\"type\":\"heatmapgl\",\"colorbar\":{\"outlinewidth\":0,\"ticks\":\"\"},\"colorscale\":[[0.0,\"#0d0887\"],[0.1111111111111111,\"#46039f\"],[0.2222222222222222,\"#7201a8\"],[0.3333333333333333,\"#9c179e\"],[0.4444444444444444,\"#bd3786\"],[0.5555555555555556,\"#d8576b\"],[0.6666666666666666,\"#ed7953\"],[0.7777777777777778,\"#fb9f3a\"],[0.8888888888888888,\"#fdca26\"],[1.0,\"#f0f921\"]]}],\"contourcarpet\":[{\"type\":\"contourcarpet\",\"colorbar\":{\"outlinewidth\":0,\"ticks\":\"\"}}],\"contour\":[{\"type\":\"contour\",\"colorbar\":{\"outlinewidth\":0,\"ticks\":\"\"},\"colorscale\":[[0.0,\"#0d0887\"],[0.1111111111111111,\"#46039f\"],[0.2222222222222222,\"#7201a8\"],[0.3333333333333333,\"#9c179e\"],[0.4444444444444444,\"#bd3786\"],[0.5555555555555556,\"#d8576b\"],[0.6666666666666666,\"#ed7953\"],[0.7777777777777778,\"#fb9f3a\"],[0.8888888888888888,\"#fdca26\"],[1.0,\"#f0f921\"]]}],\"surface\":[{\"type\":\"surface\",\"colorbar\":{\"outlinewidth\":0,\"ticks\":\"\"},\"colorscale\":[[0.0,\"#0d0887\"],[0.1111111111111111,\"#46039f\"],[0.2222222222222222,\"#7201a8\"],[0.3333333333333333,\"#9c179e\"],[0.4444444444444444,\"#bd3786\"],[0.5555555555555556,\"#d8576b\"],[0.6666666666666666,\"#ed7953\"],[0.7777777777777778,\"#fb9f3a\"],[0.8888888888888888,\"#fdca26\"],[1.0,\"#f0f921\"]]}],\"mesh3d\":[{\"type\":\"mesh3d\",\"colorbar\":{\"outlinewidth\":0,\"ticks\":\"\"}}],\"scatter\":[{\"fillpattern\":{\"fillmode\":\"overlay\",\"size\":10,\"solidity\":0.2},\"type\":\"scatter\"}],\"parcoords\":[{\"type\":\"parcoords\",\"line\":{\"colorbar\":{\"outlinewidth\":0,\"ticks\":\"\"}}}],\"scatterpolargl\":[{\"type\":\"scatterpolargl\",\"marker\":{\"colorbar\":{\"outlinewidth\":0,\"ticks\":\"\"}}}],\"bar\":[{\"error_x\":{\"color\":\"#2a3f5f\"},\"error_y\":{\"color\":\"#2a3f5f\"},\"marker\":{\"line\":{\"color\":\"#E5ECF6\",\"width\":0.5},\"pattern\":{\"fillmode\":\"overlay\",\"size\":10,\"solidity\":0.2}},\"type\":\"bar\"}],\"scattergeo\":[{\"type\":\"scattergeo\",\"marker\":{\"colorbar\":{\"outlinewidth\":0,\"ticks\":\"\"}}}],\"scatterpolar\":[{\"type\":\"scatterpolar\",\"marker\":{\"colorbar\":{\"outlinewidth\":0,\"ticks\":\"\"}}}],\"histogram\":[{\"marker\":{\"pattern\":{\"fillmode\":\"overlay\",\"size\":10,\"solidity\":0.2}},\"type\":\"histogram\"}],\"scattergl\":[{\"type\":\"scattergl\",\"marker\":{\"colorbar\":{\"outlinewidth\":0,\"ticks\":\"\"}}}],\"scatter3d\":[{\"type\":\"scatter3d\",\"line\":{\"colorbar\":{\"outlinewidth\":0,\"ticks\":\"\"}},\"marker\":{\"colorbar\":{\"outlinewidth\":0,\"ticks\":\"\"}}}],\"scattermapbox\":[{\"type\":\"scattermapbox\",\"marker\":{\"colorbar\":{\"outlinewidth\":0,\"ticks\":\"\"}}}],\"scatterternary\":[{\"type\":\"scatterternary\",\"marker\":{\"colorbar\":{\"outlinewidth\":0,\"ticks\":\"\"}}}],\"scattercarpet\":[{\"type\":\"scattercarpet\",\"marker\":{\"colorbar\":{\"outlinewidth\":0,\"ticks\":\"\"}}}],\"carpet\":[{\"aaxis\":{\"endlinecolor\":\"#2a3f5f\",\"gridcolor\":\"white\",\"linecolor\":\"white\",\"minorgridcolor\":\"white\",\"startlinecolor\":\"#2a3f5f\"},\"baxis\":{\"endlinecolor\":\"#2a3f5f\",\"gridcolor\":\"white\",\"linecolor\":\"white\",\"minorgridcolor\":\"white\",\"startlinecolor\":\"#2a3f5f\"},\"type\":\"carpet\"}],\"table\":[{\"cells\":{\"fill\":{\"color\":\"#EBF0F8\"},\"line\":{\"color\":\"white\"}},\"header\":{\"fill\":{\"color\":\"#C8D4E3\"},\"line\":{\"color\":\"white\"}},\"type\":\"table\"}],\"barpolar\":[{\"marker\":{\"line\":{\"color\":\"#E5ECF6\",\"width\":0.5},\"pattern\":{\"fillmode\":\"overlay\",\"size\":10,\"solidity\":0.2}},\"type\":\"barpolar\"}],\"pie\":[{\"automargin\":true,\"type\":\"pie\"}]},\"layout\":{\"autotypenumbers\":\"strict\",\"colorway\":[\"#636efa\",\"#EF553B\",\"#00cc96\",\"#ab63fa\",\"#FFA15A\",\"#19d3f3\",\"#FF6692\",\"#B6E880\",\"#FF97FF\",\"#FECB52\"],\"font\":{\"color\":\"#2a3f5f\"},\"hovermode\":\"closest\",\"hoverlabel\":{\"align\":\"left\"},\"paper_bgcolor\":\"white\",\"plot_bgcolor\":\"#E5ECF6\",\"polar\":{\"bgcolor\":\"#E5ECF6\",\"angularaxis\":{\"gridcolor\":\"white\",\"linecolor\":\"white\",\"ticks\":\"\"},\"radialaxis\":{\"gridcolor\":\"white\",\"linecolor\":\"white\",\"ticks\":\"\"}},\"ternary\":{\"bgcolor\":\"#E5ECF6\",\"aaxis\":{\"gridcolor\":\"white\",\"linecolor\":\"white\",\"ticks\":\"\"},\"baxis\":{\"gridcolor\":\"white\",\"linecolor\":\"white\",\"ticks\":\"\"},\"caxis\":{\"gridcolor\":\"white\",\"linecolor\":\"white\",\"ticks\":\"\"}},\"coloraxis\":{\"colorbar\":{\"outlinewidth\":0,\"ticks\":\"\"}},\"colorscale\":{\"sequential\":[[0.0,\"#0d0887\"],[0.1111111111111111,\"#46039f\"],[0.2222222222222222,\"#7201a8\"],[0.3333333333333333,\"#9c179e\"],[0.4444444444444444,\"#bd3786\"],[0.5555555555555556,\"#d8576b\"],[0.6666666666666666,\"#ed7953\"],[0.7777777777777778,\"#fb9f3a\"],[0.8888888888888888,\"#fdca26\"],[1.0,\"#f0f921\"]],\"sequentialminus\":[[0.0,\"#0d0887\"],[0.1111111111111111,\"#46039f\"],[0.2222222222222222,\"#7201a8\"],[0.3333333333333333,\"#9c179e\"],[0.4444444444444444,\"#bd3786\"],[0.5555555555555556,\"#d8576b\"],[0.6666666666666666,\"#ed7953\"],[0.7777777777777778,\"#fb9f3a\"],[0.8888888888888888,\"#fdca26\"],[1.0,\"#f0f921\"]],\"diverging\":[[0,\"#8e0152\"],[0.1,\"#c51b7d\"],[0.2,\"#de77ae\"],[0.3,\"#f1b6da\"],[0.4,\"#fde0ef\"],[0.5,\"#f7f7f7\"],[0.6,\"#e6f5d0\"],[0.7,\"#b8e186\"],[0.8,\"#7fbc41\"],[0.9,\"#4d9221\"],[1,\"#276419\"]]},\"xaxis\":{\"gridcolor\":\"white\",\"linecolor\":\"white\",\"ticks\":\"\",\"title\":{\"standoff\":15},\"zerolinecolor\":\"white\",\"automargin\":true,\"zerolinewidth\":2},\"yaxis\":{\"gridcolor\":\"white\",\"linecolor\":\"white\",\"ticks\":\"\",\"title\":{\"standoff\":15},\"zerolinecolor\":\"white\",\"automargin\":true,\"zerolinewidth\":2},\"scene\":{\"xaxis\":{\"backgroundcolor\":\"#E5ECF6\",\"gridcolor\":\"white\",\"linecolor\":\"white\",\"showbackground\":true,\"ticks\":\"\",\"zerolinecolor\":\"white\",\"gridwidth\":2},\"yaxis\":{\"backgroundcolor\":\"#E5ECF6\",\"gridcolor\":\"white\",\"linecolor\":\"white\",\"showbackground\":true,\"ticks\":\"\",\"zerolinecolor\":\"white\",\"gridwidth\":2},\"zaxis\":{\"backgroundcolor\":\"#E5ECF6\",\"gridcolor\":\"white\",\"linecolor\":\"white\",\"showbackground\":true,\"ticks\":\"\",\"zerolinecolor\":\"white\",\"gridwidth\":2}},\"shapedefaults\":{\"line\":{\"color\":\"#2a3f5f\"}},\"annotationdefaults\":{\"arrowcolor\":\"#2a3f5f\",\"arrowhead\":0,\"arrowwidth\":1},\"geo\":{\"bgcolor\":\"white\",\"landcolor\":\"#E5ECF6\",\"subunitcolor\":\"white\",\"showland\":true,\"showlakes\":true,\"lakecolor\":\"white\"},\"title\":{\"x\":0.05},\"mapbox\":{\"style\":\"light\"}}},\"mapbox\":{\"style\":\"carto-positron\"},\"title\":{\"text\":\"World Forested Land Area Map\"}},                        {\"responsive\": true}                    ).then(function(){\n",
       "                            \n",
       "var gd = document.getElementById('b7f1013c-b5d4-40cd-87c8-e640380b2bdd');\n",
       "var x = new MutationObserver(function (mutations, observer) {{\n",
       "        var display = window.getComputedStyle(gd).display;\n",
       "        if (!display || display === 'none') {{\n",
       "            console.log([gd, 'removed!']);\n",
       "            Plotly.purge(gd);\n",
       "            observer.disconnect();\n",
       "        }}\n",
       "}});\n",
       "\n",
       "// Listen for the removal of the full notebook cells\n",
       "var notebookContainer = gd.closest('#notebook-container');\n",
       "if (notebookContainer) {{\n",
       "    x.observe(notebookContainer, {childList: true});\n",
       "}}\n",
       "\n",
       "// Listen for the clearing of the current output cell\n",
       "var outputEl = gd.closest('.output');\n",
       "if (outputEl) {{\n",
       "    x.observe(outputEl, {childList: true});\n",
       "}}\n",
       "\n",
       "                        })                };                });            </script>        </div>"
      ]
     },
     "metadata": {},
     "output_type": "display_data"
    }
   ],
   "source": [
    "scaler = MinMaxScaler(feature_range=(0, 1000))\n",
    "column_data = np.array(df1[\"Forested Area(Km2)\"]).reshape(-1, 1)\n",
    "scaled_data = scaler.fit_transform(column_data)\n",
    "df1[\"Forested Area(Km2)X\"] = scaled_data\n",
    "df1[\"Forested Area(Km2)X\"].fillna(0,inplace=True)\n",
    "\n",
    "# Create a bubble map\n",
    "fig = go.Figure(data=go.Scattermapbox(\n",
    "    lat=df['Latitude'],\n",
    "    lon=df['Longitude'],\n",
    "    mode='markers',\n",
    "    marker=dict(\n",
    "        size=df1[\"Forested Area(Km2)X\"],\n",
    "        colorscale='Viridis',\n",
    "        sizemode='area',\n",
    "        sizeref=0.1,\n",
    "        showscale=False\n",
    "    ),\n",
    "    text=df1['Country'] + '<br>: ' + df1['Forested Area(Km2)'].astype(str),\n",
    "))\n",
    "\n",
    "# Set the map layout\n",
    "fig.update_layout(\n",
    "    mapbox=dict(\n",
    "        style='carto-positron',\n",
    "    ),\n",
    "    title='World Forested Land Area Map'\n",
    ")\n",
    "\n",
    "# Show the plot\n",
    "fig.show()"
   ]
  },
  {
   "cell_type": "markdown",
   "id": "5d32f2e8",
   "metadata": {},
   "source": [
    "### Analysis\n",
    "- #### China and United States have the largest amount of Agricultural land per KM2\n",
    "- #### Russia, Brazil, and Canada have the largest amount of forested Area per KM2"
   ]
  },
  {
   "cell_type": "markdown",
   "id": "bb5a0cd3",
   "metadata": {},
   "source": [
    "# Health Analysis\n",
    "Now lets analyse the health metrics of various countries in the world"
   ]
  },
  {
   "cell_type": "code",
   "execution_count": 35,
   "id": "6f472220",
   "metadata": {},
   "outputs": [
    {
     "name": "stdout",
     "output_type": "stream",
     "text": [
      "This is the format of your plot grid:\n",
      "[ (1,1) x,y   ]\n",
      "[ (2,1) x2,y2 ]\n",
      "[ (3,1) x3,y3 ]\n",
      "[ (4,1) x4,y4 ]\n",
      "[ (5,1) x5,y5 ]\n",
      "\n"
     ]
    },
    {
     "data": {
      "application/vnd.plotly.v1+json": {
       "config": {
        "plotlyServerURL": "https://plot.ly"
       },
       "data": [
        {
         "marker": {
          "opacity": 0.5,
          "showscale": false
         },
         "mode": "lines",
         "name": "Infant mortality",
         "showlegend": true,
         "type": "scatter",
         "x": [
          "United States",
          "China",
          "Japan",
          "Germany",
          "United Kingdom",
          "France",
          "India",
          "South Korea",
          "Italy",
          "Brazil",
          "Canada",
          "Russia",
          "Spain",
          "Australia",
          "Mexico",
          "Indonesia",
          "Netherlands",
          "Saudi Arabia",
          "Turkey",
          "Switzerland"
         ],
         "xaxis": "x",
         "y": [
          5.6,
          7.4,
          1.8,
          3.1,
          3.6,
          3.4,
          29.9,
          2.7,
          2.6,
          12.8,
          4.3,
          6.1,
          2.5,
          3.1,
          11,
          21.1,
          3.3,
          6,
          9.1,
          3.7
         ],
         "yaxis": "y"
        },
        {
         "marker": {
          "opacity": 0.5,
          "showscale": false
         },
         "mode": "lines",
         "name": "Maternal mortality ratio",
         "showlegend": true,
         "type": "scatter",
         "x": [
          "United States",
          "China",
          "Japan",
          "Germany",
          "United Kingdom",
          "France",
          "India",
          "South Korea",
          "Italy",
          "Brazil",
          "Canada",
          "Russia",
          "Spain",
          "Australia",
          "Mexico",
          "Indonesia",
          "Netherlands",
          "Saudi Arabia",
          "Turkey",
          "Switzerland"
         ],
         "xaxis": "x2",
         "y": [
          19,
          29,
          5,
          7,
          7,
          8,
          145,
          11,
          2,
          60,
          10,
          17,
          4,
          6,
          33,
          177,
          5,
          17,
          17,
          5
         ],
         "yaxis": "y2"
        },
        {
         "marker": {
          "opacity": 0.5,
          "showscale": false
         },
         "mode": "lines",
         "name": "Fertility Rate",
         "showlegend": true,
         "type": "scatter",
         "x": [
          "United States",
          "China",
          "Japan",
          "Germany",
          "United Kingdom",
          "France",
          "India",
          "South Korea",
          "Italy",
          "Brazil",
          "Canada",
          "Russia",
          "Spain",
          "Australia",
          "Mexico",
          "Indonesia",
          "Netherlands",
          "Saudi Arabia",
          "Turkey",
          "Switzerland"
         ],
         "xaxis": "x3",
         "y": [
          1.73,
          1.69,
          1.42,
          1.56,
          1.68,
          1.88,
          2.22,
          0.98,
          1.29,
          1.73,
          1.5,
          1.57,
          1.26,
          1.74,
          2.13,
          2.31,
          1.59,
          2.32,
          2.07,
          1.52
         ],
         "yaxis": "y3"
        },
        {
         "marker": {
          "opacity": 0.5,
          "showscale": false
         },
         "mode": "lines",
         "name": "Life expectancy",
         "showlegend": true,
         "type": "scatter",
         "x": [
          "United States",
          "China",
          "Japan",
          "Germany",
          "United Kingdom",
          "France",
          "India",
          "South Korea",
          "Italy",
          "Brazil",
          "Canada",
          "Russia",
          "Spain",
          "Australia",
          "Mexico",
          "Indonesia",
          "Netherlands",
          "Saudi Arabia",
          "Turkey",
          "Switzerland"
         ],
         "xaxis": "x4",
         "y": [
          78.5,
          77,
          84.2,
          80.9,
          81.3,
          82.5,
          69.4,
          82.6,
          82.9,
          75.7,
          81.9,
          72.7,
          83.3,
          82.7,
          75,
          71.5,
          81.8,
          75,
          77.4,
          83.6
         ],
         "yaxis": "y4"
        },
        {
         "marker": {
          "opacity": 0.5,
          "showscale": false
         },
         "mode": "lines",
         "name": "GDP per capita",
         "showlegend": true,
         "type": "scatter",
         "x": [
          "United States",
          "China",
          "Japan",
          "Germany",
          "United Kingdom",
          "France",
          "India",
          "South Korea",
          "Italy",
          "Brazil",
          "Canada",
          "Russia",
          "Spain",
          "Australia",
          "Mexico",
          "Indonesia",
          "Netherlands",
          "Saudi Arabia",
          "Turkey",
          "Switzerland"
         ],
         "xaxis": "x5",
         "y": [
          65280.6822413034,
          14244.677920749224,
          40259.112030836484,
          46258.8782897109,
          42300.26712583137,
          40493.9285720389,
          1910.8358277376421,
          39238.74286107253,
          33189.56579886136,
          8655.264804221777,
          46940.59584210967,
          11774.156384485565,
          29613.67113798626,
          54049.8288124881,
          9985.29113811174,
          4142.022784788127,
          52447.83143920359,
          23139.798656131363,
          9042.492982893424,
          81993.72714940654
         ],
         "yaxis": "y5"
        }
       ],
       "layout": {
        "annotations": [
         {
          "font": {
           "size": 16
          },
          "showarrow": false,
          "text": "Infant mortality",
          "x": 0.5,
          "xanchor": "center",
          "xref": "paper",
          "y": 1,
          "yanchor": "bottom",
          "yref": "paper"
         },
         {
          "font": {
           "size": 16
          },
          "showarrow": false,
          "text": "Maternal mortality ratio",
          "x": 0.5,
          "xanchor": "center",
          "xref": "paper",
          "y": 0.7900000000000001,
          "yanchor": "bottom",
          "yref": "paper"
         },
         {
          "font": {
           "size": 16
          },
          "showarrow": false,
          "text": "Fertility Rate",
          "x": 0.5,
          "xanchor": "center",
          "xref": "paper",
          "y": 0.5800000000000001,
          "yanchor": "bottom",
          "yref": "paper"
         },
         {
          "font": {
           "size": 16
          },
          "showarrow": false,
          "text": "Life expectancy",
          "x": 0.5,
          "xanchor": "center",
          "xref": "paper",
          "y": 0.37000000000000005,
          "yanchor": "bottom",
          "yref": "paper"
         },
         {
          "font": {
           "size": 16
          },
          "showarrow": false,
          "text": "GDP per capita",
          "x": 0.5,
          "xanchor": "center",
          "xref": "paper",
          "y": 0.16000000000000003,
          "yanchor": "bottom",
          "yref": "paper"
         }
        ],
        "font": {
         "size": 12
        },
        "height": 800,
        "template": {
         "data": {
          "bar": [
           {
            "error_x": {
             "color": "#2a3f5f"
            },
            "error_y": {
             "color": "#2a3f5f"
            },
            "marker": {
             "line": {
              "color": "#E5ECF6",
              "width": 0.5
             },
             "pattern": {
              "fillmode": "overlay",
              "size": 10,
              "solidity": 0.2
             }
            },
            "type": "bar"
           }
          ],
          "barpolar": [
           {
            "marker": {
             "line": {
              "color": "#E5ECF6",
              "width": 0.5
             },
             "pattern": {
              "fillmode": "overlay",
              "size": 10,
              "solidity": 0.2
             }
            },
            "type": "barpolar"
           }
          ],
          "carpet": [
           {
            "aaxis": {
             "endlinecolor": "#2a3f5f",
             "gridcolor": "white",
             "linecolor": "white",
             "minorgridcolor": "white",
             "startlinecolor": "#2a3f5f"
            },
            "baxis": {
             "endlinecolor": "#2a3f5f",
             "gridcolor": "white",
             "linecolor": "white",
             "minorgridcolor": "white",
             "startlinecolor": "#2a3f5f"
            },
            "type": "carpet"
           }
          ],
          "choropleth": [
           {
            "colorbar": {
             "outlinewidth": 0,
             "ticks": ""
            },
            "type": "choropleth"
           }
          ],
          "contour": [
           {
            "colorbar": {
             "outlinewidth": 0,
             "ticks": ""
            },
            "colorscale": [
             [
              0,
              "#0d0887"
             ],
             [
              0.1111111111111111,
              "#46039f"
             ],
             [
              0.2222222222222222,
              "#7201a8"
             ],
             [
              0.3333333333333333,
              "#9c179e"
             ],
             [
              0.4444444444444444,
              "#bd3786"
             ],
             [
              0.5555555555555556,
              "#d8576b"
             ],
             [
              0.6666666666666666,
              "#ed7953"
             ],
             [
              0.7777777777777778,
              "#fb9f3a"
             ],
             [
              0.8888888888888888,
              "#fdca26"
             ],
             [
              1,
              "#f0f921"
             ]
            ],
            "type": "contour"
           }
          ],
          "contourcarpet": [
           {
            "colorbar": {
             "outlinewidth": 0,
             "ticks": ""
            },
            "type": "contourcarpet"
           }
          ],
          "heatmap": [
           {
            "colorbar": {
             "outlinewidth": 0,
             "ticks": ""
            },
            "colorscale": [
             [
              0,
              "#0d0887"
             ],
             [
              0.1111111111111111,
              "#46039f"
             ],
             [
              0.2222222222222222,
              "#7201a8"
             ],
             [
              0.3333333333333333,
              "#9c179e"
             ],
             [
              0.4444444444444444,
              "#bd3786"
             ],
             [
              0.5555555555555556,
              "#d8576b"
             ],
             [
              0.6666666666666666,
              "#ed7953"
             ],
             [
              0.7777777777777778,
              "#fb9f3a"
             ],
             [
              0.8888888888888888,
              "#fdca26"
             ],
             [
              1,
              "#f0f921"
             ]
            ],
            "type": "heatmap"
           }
          ],
          "heatmapgl": [
           {
            "colorbar": {
             "outlinewidth": 0,
             "ticks": ""
            },
            "colorscale": [
             [
              0,
              "#0d0887"
             ],
             [
              0.1111111111111111,
              "#46039f"
             ],
             [
              0.2222222222222222,
              "#7201a8"
             ],
             [
              0.3333333333333333,
              "#9c179e"
             ],
             [
              0.4444444444444444,
              "#bd3786"
             ],
             [
              0.5555555555555556,
              "#d8576b"
             ],
             [
              0.6666666666666666,
              "#ed7953"
             ],
             [
              0.7777777777777778,
              "#fb9f3a"
             ],
             [
              0.8888888888888888,
              "#fdca26"
             ],
             [
              1,
              "#f0f921"
             ]
            ],
            "type": "heatmapgl"
           }
          ],
          "histogram": [
           {
            "marker": {
             "pattern": {
              "fillmode": "overlay",
              "size": 10,
              "solidity": 0.2
             }
            },
            "type": "histogram"
           }
          ],
          "histogram2d": [
           {
            "colorbar": {
             "outlinewidth": 0,
             "ticks": ""
            },
            "colorscale": [
             [
              0,
              "#0d0887"
             ],
             [
              0.1111111111111111,
              "#46039f"
             ],
             [
              0.2222222222222222,
              "#7201a8"
             ],
             [
              0.3333333333333333,
              "#9c179e"
             ],
             [
              0.4444444444444444,
              "#bd3786"
             ],
             [
              0.5555555555555556,
              "#d8576b"
             ],
             [
              0.6666666666666666,
              "#ed7953"
             ],
             [
              0.7777777777777778,
              "#fb9f3a"
             ],
             [
              0.8888888888888888,
              "#fdca26"
             ],
             [
              1,
              "#f0f921"
             ]
            ],
            "type": "histogram2d"
           }
          ],
          "histogram2dcontour": [
           {
            "colorbar": {
             "outlinewidth": 0,
             "ticks": ""
            },
            "colorscale": [
             [
              0,
              "#0d0887"
             ],
             [
              0.1111111111111111,
              "#46039f"
             ],
             [
              0.2222222222222222,
              "#7201a8"
             ],
             [
              0.3333333333333333,
              "#9c179e"
             ],
             [
              0.4444444444444444,
              "#bd3786"
             ],
             [
              0.5555555555555556,
              "#d8576b"
             ],
             [
              0.6666666666666666,
              "#ed7953"
             ],
             [
              0.7777777777777778,
              "#fb9f3a"
             ],
             [
              0.8888888888888888,
              "#fdca26"
             ],
             [
              1,
              "#f0f921"
             ]
            ],
            "type": "histogram2dcontour"
           }
          ],
          "mesh3d": [
           {
            "colorbar": {
             "outlinewidth": 0,
             "ticks": ""
            },
            "type": "mesh3d"
           }
          ],
          "parcoords": [
           {
            "line": {
             "colorbar": {
              "outlinewidth": 0,
              "ticks": ""
             }
            },
            "type": "parcoords"
           }
          ],
          "pie": [
           {
            "automargin": true,
            "type": "pie"
           }
          ],
          "scatter": [
           {
            "fillpattern": {
             "fillmode": "overlay",
             "size": 10,
             "solidity": 0.2
            },
            "type": "scatter"
           }
          ],
          "scatter3d": [
           {
            "line": {
             "colorbar": {
              "outlinewidth": 0,
              "ticks": ""
             }
            },
            "marker": {
             "colorbar": {
              "outlinewidth": 0,
              "ticks": ""
             }
            },
            "type": "scatter3d"
           }
          ],
          "scattercarpet": [
           {
            "marker": {
             "colorbar": {
              "outlinewidth": 0,
              "ticks": ""
             }
            },
            "type": "scattercarpet"
           }
          ],
          "scattergeo": [
           {
            "marker": {
             "colorbar": {
              "outlinewidth": 0,
              "ticks": ""
             }
            },
            "type": "scattergeo"
           }
          ],
          "scattergl": [
           {
            "marker": {
             "colorbar": {
              "outlinewidth": 0,
              "ticks": ""
             }
            },
            "type": "scattergl"
           }
          ],
          "scattermapbox": [
           {
            "marker": {
             "colorbar": {
              "outlinewidth": 0,
              "ticks": ""
             }
            },
            "type": "scattermapbox"
           }
          ],
          "scatterpolar": [
           {
            "marker": {
             "colorbar": {
              "outlinewidth": 0,
              "ticks": ""
             }
            },
            "type": "scatterpolar"
           }
          ],
          "scatterpolargl": [
           {
            "marker": {
             "colorbar": {
              "outlinewidth": 0,
              "ticks": ""
             }
            },
            "type": "scatterpolargl"
           }
          ],
          "scatterternary": [
           {
            "marker": {
             "colorbar": {
              "outlinewidth": 0,
              "ticks": ""
             }
            },
            "type": "scatterternary"
           }
          ],
          "surface": [
           {
            "colorbar": {
             "outlinewidth": 0,
             "ticks": ""
            },
            "colorscale": [
             [
              0,
              "#0d0887"
             ],
             [
              0.1111111111111111,
              "#46039f"
             ],
             [
              0.2222222222222222,
              "#7201a8"
             ],
             [
              0.3333333333333333,
              "#9c179e"
             ],
             [
              0.4444444444444444,
              "#bd3786"
             ],
             [
              0.5555555555555556,
              "#d8576b"
             ],
             [
              0.6666666666666666,
              "#ed7953"
             ],
             [
              0.7777777777777778,
              "#fb9f3a"
             ],
             [
              0.8888888888888888,
              "#fdca26"
             ],
             [
              1,
              "#f0f921"
             ]
            ],
            "type": "surface"
           }
          ],
          "table": [
           {
            "cells": {
             "fill": {
              "color": "#EBF0F8"
             },
             "line": {
              "color": "white"
             }
            },
            "header": {
             "fill": {
              "color": "#C8D4E3"
             },
             "line": {
              "color": "white"
             }
            },
            "type": "table"
           }
          ]
         },
         "layout": {
          "annotationdefaults": {
           "arrowcolor": "#2a3f5f",
           "arrowhead": 0,
           "arrowwidth": 1
          },
          "autotypenumbers": "strict",
          "coloraxis": {
           "colorbar": {
            "outlinewidth": 0,
            "ticks": ""
           }
          },
          "colorscale": {
           "diverging": [
            [
             0,
             "#8e0152"
            ],
            [
             0.1,
             "#c51b7d"
            ],
            [
             0.2,
             "#de77ae"
            ],
            [
             0.3,
             "#f1b6da"
            ],
            [
             0.4,
             "#fde0ef"
            ],
            [
             0.5,
             "#f7f7f7"
            ],
            [
             0.6,
             "#e6f5d0"
            ],
            [
             0.7,
             "#b8e186"
            ],
            [
             0.8,
             "#7fbc41"
            ],
            [
             0.9,
             "#4d9221"
            ],
            [
             1,
             "#276419"
            ]
           ],
           "sequential": [
            [
             0,
             "#0d0887"
            ],
            [
             0.1111111111111111,
             "#46039f"
            ],
            [
             0.2222222222222222,
             "#7201a8"
            ],
            [
             0.3333333333333333,
             "#9c179e"
            ],
            [
             0.4444444444444444,
             "#bd3786"
            ],
            [
             0.5555555555555556,
             "#d8576b"
            ],
            [
             0.6666666666666666,
             "#ed7953"
            ],
            [
             0.7777777777777778,
             "#fb9f3a"
            ],
            [
             0.8888888888888888,
             "#fdca26"
            ],
            [
             1,
             "#f0f921"
            ]
           ],
           "sequentialminus": [
            [
             0,
             "#0d0887"
            ],
            [
             0.1111111111111111,
             "#46039f"
            ],
            [
             0.2222222222222222,
             "#7201a8"
            ],
            [
             0.3333333333333333,
             "#9c179e"
            ],
            [
             0.4444444444444444,
             "#bd3786"
            ],
            [
             0.5555555555555556,
             "#d8576b"
            ],
            [
             0.6666666666666666,
             "#ed7953"
            ],
            [
             0.7777777777777778,
             "#fb9f3a"
            ],
            [
             0.8888888888888888,
             "#fdca26"
            ],
            [
             1,
             "#f0f921"
            ]
           ]
          },
          "colorway": [
           "#636efa",
           "#EF553B",
           "#00cc96",
           "#ab63fa",
           "#FFA15A",
           "#19d3f3",
           "#FF6692",
           "#B6E880",
           "#FF97FF",
           "#FECB52"
          ],
          "font": {
           "color": "#2a3f5f"
          },
          "geo": {
           "bgcolor": "white",
           "lakecolor": "white",
           "landcolor": "#E5ECF6",
           "showlakes": true,
           "showland": true,
           "subunitcolor": "white"
          },
          "hoverlabel": {
           "align": "left"
          },
          "hovermode": "closest",
          "mapbox": {
           "style": "light"
          },
          "paper_bgcolor": "white",
          "plot_bgcolor": "#E5ECF6",
          "polar": {
           "angularaxis": {
            "gridcolor": "white",
            "linecolor": "white",
            "ticks": ""
           },
           "bgcolor": "#E5ECF6",
           "radialaxis": {
            "gridcolor": "white",
            "linecolor": "white",
            "ticks": ""
           }
          },
          "scene": {
           "xaxis": {
            "backgroundcolor": "#E5ECF6",
            "gridcolor": "white",
            "gridwidth": 2,
            "linecolor": "white",
            "showbackground": true,
            "ticks": "",
            "zerolinecolor": "white"
           },
           "yaxis": {
            "backgroundcolor": "#E5ECF6",
            "gridcolor": "white",
            "gridwidth": 2,
            "linecolor": "white",
            "showbackground": true,
            "ticks": "",
            "zerolinecolor": "white"
           },
           "zaxis": {
            "backgroundcolor": "#E5ECF6",
            "gridcolor": "white",
            "gridwidth": 2,
            "linecolor": "white",
            "showbackground": true,
            "ticks": "",
            "zerolinecolor": "white"
           }
          },
          "shapedefaults": {
           "line": {
            "color": "#2a3f5f"
           }
          },
          "ternary": {
           "aaxis": {
            "gridcolor": "white",
            "linecolor": "white",
            "ticks": ""
           },
           "baxis": {
            "gridcolor": "white",
            "linecolor": "white",
            "ticks": ""
           },
           "bgcolor": "#E5ECF6",
           "caxis": {
            "gridcolor": "white",
            "linecolor": "white",
            "ticks": ""
           }
          },
          "title": {
           "x": 0.05
          },
          "xaxis": {
           "automargin": true,
           "gridcolor": "white",
           "linecolor": "white",
           "ticks": "",
           "title": {
            "standoff": 15
           },
           "zerolinecolor": "white",
           "zerolinewidth": 2
          },
          "yaxis": {
           "automargin": true,
           "gridcolor": "white",
           "linecolor": "white",
           "ticks": "",
           "title": {
            "standoff": 15
           },
           "zerolinecolor": "white",
           "zerolinewidth": 2
          }
         }
        },
        "title": {
         "text": "Top 20 Countries by GDP",
         "x": 0.5
        },
        "xaxis": {
         "anchor": "y",
         "domain": [
          0,
          1
         ],
         "matches": "x5",
         "showticklabels": false
        },
        "xaxis2": {
         "anchor": "y2",
         "domain": [
          0,
          1
         ],
         "matches": "x5",
         "showticklabels": false
        },
        "xaxis3": {
         "anchor": "y3",
         "domain": [
          0,
          1
         ],
         "matches": "x5",
         "showticklabels": false
        },
        "xaxis4": {
         "anchor": "y4",
         "domain": [
          0,
          1
         ],
         "matches": "x5",
         "showticklabels": false
        },
        "xaxis5": {
         "anchor": "y5",
         "domain": [
          0,
          1
         ],
         "showticklabels": true
        },
        "yaxis": {
         "anchor": "x",
         "domain": [
          0.8400000000000001,
          1
         ]
        },
        "yaxis2": {
         "anchor": "x2",
         "domain": [
          0.6300000000000001,
          0.7900000000000001
         ]
        },
        "yaxis3": {
         "anchor": "x3",
         "domain": [
          0.42000000000000004,
          0.5800000000000001
         ]
        },
        "yaxis4": {
         "anchor": "x4",
         "domain": [
          0.21000000000000002,
          0.37000000000000005
         ]
        },
        "yaxis5": {
         "anchor": "x5",
         "domain": [
          0,
          0.16000000000000003
         ]
        }
       }
      },
      "text/html": [
       "<div>                            <div id=\"f9be391a-0490-4c12-9512-a9e16849eaf4\" class=\"plotly-graph-div\" style=\"height:800px; width:100%;\"></div>            <script type=\"text/javascript\">                require([\"plotly\"], function(Plotly) {                    window.PLOTLYENV=window.PLOTLYENV || {};                                    if (document.getElementById(\"f9be391a-0490-4c12-9512-a9e16849eaf4\")) {                    Plotly.newPlot(                        \"f9be391a-0490-4c12-9512-a9e16849eaf4\",                        [{\"marker\":{\"opacity\":0.5,\"showscale\":false},\"mode\":\"lines\",\"name\":\"Infant mortality\",\"showlegend\":true,\"x\":[\"United States\",\"China\",\"Japan\",\"Germany\",\"United Kingdom\",\"France\",\"India\",\"South Korea\",\"Italy\",\"Brazil\",\"Canada\",\"Russia\",\"Spain\",\"Australia\",\"Mexico\",\"Indonesia\",\"Netherlands\",\"Saudi Arabia\",\"Turkey\",\"Switzerland\"],\"y\":[5.6,7.4,1.8,3.1,3.6,3.4,29.9,2.7,2.6,12.8,4.3,6.1,2.5,3.1,11.0,21.1,3.3,6.0,9.1,3.7],\"type\":\"scatter\",\"xaxis\":\"x\",\"yaxis\":\"y\"},{\"marker\":{\"opacity\":0.5,\"showscale\":false},\"mode\":\"lines\",\"name\":\"Maternal mortality ratio\",\"showlegend\":true,\"x\":[\"United States\",\"China\",\"Japan\",\"Germany\",\"United Kingdom\",\"France\",\"India\",\"South Korea\",\"Italy\",\"Brazil\",\"Canada\",\"Russia\",\"Spain\",\"Australia\",\"Mexico\",\"Indonesia\",\"Netherlands\",\"Saudi Arabia\",\"Turkey\",\"Switzerland\"],\"y\":[19.0,29.0,5.0,7.0,7.0,8.0,145.0,11.0,2.0,60.0,10.0,17.0,4.0,6.0,33.0,177.0,5.0,17.0,17.0,5.0],\"type\":\"scatter\",\"xaxis\":\"x2\",\"yaxis\":\"y2\"},{\"marker\":{\"opacity\":0.5,\"showscale\":false},\"mode\":\"lines\",\"name\":\"Fertility Rate\",\"showlegend\":true,\"x\":[\"United States\",\"China\",\"Japan\",\"Germany\",\"United Kingdom\",\"France\",\"India\",\"South Korea\",\"Italy\",\"Brazil\",\"Canada\",\"Russia\",\"Spain\",\"Australia\",\"Mexico\",\"Indonesia\",\"Netherlands\",\"Saudi Arabia\",\"Turkey\",\"Switzerland\"],\"y\":[1.73,1.69,1.42,1.56,1.68,1.88,2.22,0.98,1.29,1.73,1.5,1.57,1.26,1.74,2.13,2.31,1.59,2.32,2.07,1.52],\"type\":\"scatter\",\"xaxis\":\"x3\",\"yaxis\":\"y3\"},{\"marker\":{\"opacity\":0.5,\"showscale\":false},\"mode\":\"lines\",\"name\":\"Life expectancy\",\"showlegend\":true,\"x\":[\"United States\",\"China\",\"Japan\",\"Germany\",\"United Kingdom\",\"France\",\"India\",\"South Korea\",\"Italy\",\"Brazil\",\"Canada\",\"Russia\",\"Spain\",\"Australia\",\"Mexico\",\"Indonesia\",\"Netherlands\",\"Saudi Arabia\",\"Turkey\",\"Switzerland\"],\"y\":[78.5,77.0,84.2,80.9,81.3,82.5,69.4,82.6,82.9,75.7,81.9,72.7,83.3,82.7,75.0,71.5,81.8,75.0,77.4,83.6],\"type\":\"scatter\",\"xaxis\":\"x4\",\"yaxis\":\"y4\"},{\"marker\":{\"opacity\":0.5,\"showscale\":false},\"mode\":\"lines\",\"name\":\"GDP per capita\",\"showlegend\":true,\"x\":[\"United States\",\"China\",\"Japan\",\"Germany\",\"United Kingdom\",\"France\",\"India\",\"South Korea\",\"Italy\",\"Brazil\",\"Canada\",\"Russia\",\"Spain\",\"Australia\",\"Mexico\",\"Indonesia\",\"Netherlands\",\"Saudi Arabia\",\"Turkey\",\"Switzerland\"],\"y\":[65280.6822413034,14244.677920749224,40259.112030836484,46258.8782897109,42300.26712583137,40493.9285720389,1910.8358277376421,39238.74286107253,33189.56579886136,8655.264804221777,46940.59584210967,11774.156384485565,29613.67113798626,54049.8288124881,9985.29113811174,4142.022784788127,52447.83143920359,23139.798656131363,9042.492982893424,81993.72714940654],\"type\":\"scatter\",\"xaxis\":\"x5\",\"yaxis\":\"y5\"}],                        {\"template\":{\"data\":{\"histogram2dcontour\":[{\"type\":\"histogram2dcontour\",\"colorbar\":{\"outlinewidth\":0,\"ticks\":\"\"},\"colorscale\":[[0.0,\"#0d0887\"],[0.1111111111111111,\"#46039f\"],[0.2222222222222222,\"#7201a8\"],[0.3333333333333333,\"#9c179e\"],[0.4444444444444444,\"#bd3786\"],[0.5555555555555556,\"#d8576b\"],[0.6666666666666666,\"#ed7953\"],[0.7777777777777778,\"#fb9f3a\"],[0.8888888888888888,\"#fdca26\"],[1.0,\"#f0f921\"]]}],\"choropleth\":[{\"type\":\"choropleth\",\"colorbar\":{\"outlinewidth\":0,\"ticks\":\"\"}}],\"histogram2d\":[{\"type\":\"histogram2d\",\"colorbar\":{\"outlinewidth\":0,\"ticks\":\"\"},\"colorscale\":[[0.0,\"#0d0887\"],[0.1111111111111111,\"#46039f\"],[0.2222222222222222,\"#7201a8\"],[0.3333333333333333,\"#9c179e\"],[0.4444444444444444,\"#bd3786\"],[0.5555555555555556,\"#d8576b\"],[0.6666666666666666,\"#ed7953\"],[0.7777777777777778,\"#fb9f3a\"],[0.8888888888888888,\"#fdca26\"],[1.0,\"#f0f921\"]]}],\"heatmap\":[{\"type\":\"heatmap\",\"colorbar\":{\"outlinewidth\":0,\"ticks\":\"\"},\"colorscale\":[[0.0,\"#0d0887\"],[0.1111111111111111,\"#46039f\"],[0.2222222222222222,\"#7201a8\"],[0.3333333333333333,\"#9c179e\"],[0.4444444444444444,\"#bd3786\"],[0.5555555555555556,\"#d8576b\"],[0.6666666666666666,\"#ed7953\"],[0.7777777777777778,\"#fb9f3a\"],[0.8888888888888888,\"#fdca26\"],[1.0,\"#f0f921\"]]}],\"heatmapgl\":[{\"type\":\"heatmapgl\",\"colorbar\":{\"outlinewidth\":0,\"ticks\":\"\"},\"colorscale\":[[0.0,\"#0d0887\"],[0.1111111111111111,\"#46039f\"],[0.2222222222222222,\"#7201a8\"],[0.3333333333333333,\"#9c179e\"],[0.4444444444444444,\"#bd3786\"],[0.5555555555555556,\"#d8576b\"],[0.6666666666666666,\"#ed7953\"],[0.7777777777777778,\"#fb9f3a\"],[0.8888888888888888,\"#fdca26\"],[1.0,\"#f0f921\"]]}],\"contourcarpet\":[{\"type\":\"contourcarpet\",\"colorbar\":{\"outlinewidth\":0,\"ticks\":\"\"}}],\"contour\":[{\"type\":\"contour\",\"colorbar\":{\"outlinewidth\":0,\"ticks\":\"\"},\"colorscale\":[[0.0,\"#0d0887\"],[0.1111111111111111,\"#46039f\"],[0.2222222222222222,\"#7201a8\"],[0.3333333333333333,\"#9c179e\"],[0.4444444444444444,\"#bd3786\"],[0.5555555555555556,\"#d8576b\"],[0.6666666666666666,\"#ed7953\"],[0.7777777777777778,\"#fb9f3a\"],[0.8888888888888888,\"#fdca26\"],[1.0,\"#f0f921\"]]}],\"surface\":[{\"type\":\"surface\",\"colorbar\":{\"outlinewidth\":0,\"ticks\":\"\"},\"colorscale\":[[0.0,\"#0d0887\"],[0.1111111111111111,\"#46039f\"],[0.2222222222222222,\"#7201a8\"],[0.3333333333333333,\"#9c179e\"],[0.4444444444444444,\"#bd3786\"],[0.5555555555555556,\"#d8576b\"],[0.6666666666666666,\"#ed7953\"],[0.7777777777777778,\"#fb9f3a\"],[0.8888888888888888,\"#fdca26\"],[1.0,\"#f0f921\"]]}],\"mesh3d\":[{\"type\":\"mesh3d\",\"colorbar\":{\"outlinewidth\":0,\"ticks\":\"\"}}],\"scatter\":[{\"fillpattern\":{\"fillmode\":\"overlay\",\"size\":10,\"solidity\":0.2},\"type\":\"scatter\"}],\"parcoords\":[{\"type\":\"parcoords\",\"line\":{\"colorbar\":{\"outlinewidth\":0,\"ticks\":\"\"}}}],\"scatterpolargl\":[{\"type\":\"scatterpolargl\",\"marker\":{\"colorbar\":{\"outlinewidth\":0,\"ticks\":\"\"}}}],\"bar\":[{\"error_x\":{\"color\":\"#2a3f5f\"},\"error_y\":{\"color\":\"#2a3f5f\"},\"marker\":{\"line\":{\"color\":\"#E5ECF6\",\"width\":0.5},\"pattern\":{\"fillmode\":\"overlay\",\"size\":10,\"solidity\":0.2}},\"type\":\"bar\"}],\"scattergeo\":[{\"type\":\"scattergeo\",\"marker\":{\"colorbar\":{\"outlinewidth\":0,\"ticks\":\"\"}}}],\"scatterpolar\":[{\"type\":\"scatterpolar\",\"marker\":{\"colorbar\":{\"outlinewidth\":0,\"ticks\":\"\"}}}],\"histogram\":[{\"marker\":{\"pattern\":{\"fillmode\":\"overlay\",\"size\":10,\"solidity\":0.2}},\"type\":\"histogram\"}],\"scattergl\":[{\"type\":\"scattergl\",\"marker\":{\"colorbar\":{\"outlinewidth\":0,\"ticks\":\"\"}}}],\"scatter3d\":[{\"type\":\"scatter3d\",\"line\":{\"colorbar\":{\"outlinewidth\":0,\"ticks\":\"\"}},\"marker\":{\"colorbar\":{\"outlinewidth\":0,\"ticks\":\"\"}}}],\"scattermapbox\":[{\"type\":\"scattermapbox\",\"marker\":{\"colorbar\":{\"outlinewidth\":0,\"ticks\":\"\"}}}],\"scatterternary\":[{\"type\":\"scatterternary\",\"marker\":{\"colorbar\":{\"outlinewidth\":0,\"ticks\":\"\"}}}],\"scattercarpet\":[{\"type\":\"scattercarpet\",\"marker\":{\"colorbar\":{\"outlinewidth\":0,\"ticks\":\"\"}}}],\"carpet\":[{\"aaxis\":{\"endlinecolor\":\"#2a3f5f\",\"gridcolor\":\"white\",\"linecolor\":\"white\",\"minorgridcolor\":\"white\",\"startlinecolor\":\"#2a3f5f\"},\"baxis\":{\"endlinecolor\":\"#2a3f5f\",\"gridcolor\":\"white\",\"linecolor\":\"white\",\"minorgridcolor\":\"white\",\"startlinecolor\":\"#2a3f5f\"},\"type\":\"carpet\"}],\"table\":[{\"cells\":{\"fill\":{\"color\":\"#EBF0F8\"},\"line\":{\"color\":\"white\"}},\"header\":{\"fill\":{\"color\":\"#C8D4E3\"},\"line\":{\"color\":\"white\"}},\"type\":\"table\"}],\"barpolar\":[{\"marker\":{\"line\":{\"color\":\"#E5ECF6\",\"width\":0.5},\"pattern\":{\"fillmode\":\"overlay\",\"size\":10,\"solidity\":0.2}},\"type\":\"barpolar\"}],\"pie\":[{\"automargin\":true,\"type\":\"pie\"}]},\"layout\":{\"autotypenumbers\":\"strict\",\"colorway\":[\"#636efa\",\"#EF553B\",\"#00cc96\",\"#ab63fa\",\"#FFA15A\",\"#19d3f3\",\"#FF6692\",\"#B6E880\",\"#FF97FF\",\"#FECB52\"],\"font\":{\"color\":\"#2a3f5f\"},\"hovermode\":\"closest\",\"hoverlabel\":{\"align\":\"left\"},\"paper_bgcolor\":\"white\",\"plot_bgcolor\":\"#E5ECF6\",\"polar\":{\"bgcolor\":\"#E5ECF6\",\"angularaxis\":{\"gridcolor\":\"white\",\"linecolor\":\"white\",\"ticks\":\"\"},\"radialaxis\":{\"gridcolor\":\"white\",\"linecolor\":\"white\",\"ticks\":\"\"}},\"ternary\":{\"bgcolor\":\"#E5ECF6\",\"aaxis\":{\"gridcolor\":\"white\",\"linecolor\":\"white\",\"ticks\":\"\"},\"baxis\":{\"gridcolor\":\"white\",\"linecolor\":\"white\",\"ticks\":\"\"},\"caxis\":{\"gridcolor\":\"white\",\"linecolor\":\"white\",\"ticks\":\"\"}},\"coloraxis\":{\"colorbar\":{\"outlinewidth\":0,\"ticks\":\"\"}},\"colorscale\":{\"sequential\":[[0.0,\"#0d0887\"],[0.1111111111111111,\"#46039f\"],[0.2222222222222222,\"#7201a8\"],[0.3333333333333333,\"#9c179e\"],[0.4444444444444444,\"#bd3786\"],[0.5555555555555556,\"#d8576b\"],[0.6666666666666666,\"#ed7953\"],[0.7777777777777778,\"#fb9f3a\"],[0.8888888888888888,\"#fdca26\"],[1.0,\"#f0f921\"]],\"sequentialminus\":[[0.0,\"#0d0887\"],[0.1111111111111111,\"#46039f\"],[0.2222222222222222,\"#7201a8\"],[0.3333333333333333,\"#9c179e\"],[0.4444444444444444,\"#bd3786\"],[0.5555555555555556,\"#d8576b\"],[0.6666666666666666,\"#ed7953\"],[0.7777777777777778,\"#fb9f3a\"],[0.8888888888888888,\"#fdca26\"],[1.0,\"#f0f921\"]],\"diverging\":[[0,\"#8e0152\"],[0.1,\"#c51b7d\"],[0.2,\"#de77ae\"],[0.3,\"#f1b6da\"],[0.4,\"#fde0ef\"],[0.5,\"#f7f7f7\"],[0.6,\"#e6f5d0\"],[0.7,\"#b8e186\"],[0.8,\"#7fbc41\"],[0.9,\"#4d9221\"],[1,\"#276419\"]]},\"xaxis\":{\"gridcolor\":\"white\",\"linecolor\":\"white\",\"ticks\":\"\",\"title\":{\"standoff\":15},\"zerolinecolor\":\"white\",\"automargin\":true,\"zerolinewidth\":2},\"yaxis\":{\"gridcolor\":\"white\",\"linecolor\":\"white\",\"ticks\":\"\",\"title\":{\"standoff\":15},\"zerolinecolor\":\"white\",\"automargin\":true,\"zerolinewidth\":2},\"scene\":{\"xaxis\":{\"backgroundcolor\":\"#E5ECF6\",\"gridcolor\":\"white\",\"linecolor\":\"white\",\"showbackground\":true,\"ticks\":\"\",\"zerolinecolor\":\"white\",\"gridwidth\":2},\"yaxis\":{\"backgroundcolor\":\"#E5ECF6\",\"gridcolor\":\"white\",\"linecolor\":\"white\",\"showbackground\":true,\"ticks\":\"\",\"zerolinecolor\":\"white\",\"gridwidth\":2},\"zaxis\":{\"backgroundcolor\":\"#E5ECF6\",\"gridcolor\":\"white\",\"linecolor\":\"white\",\"showbackground\":true,\"ticks\":\"\",\"zerolinecolor\":\"white\",\"gridwidth\":2}},\"shapedefaults\":{\"line\":{\"color\":\"#2a3f5f\"}},\"annotationdefaults\":{\"arrowcolor\":\"#2a3f5f\",\"arrowhead\":0,\"arrowwidth\":1},\"geo\":{\"bgcolor\":\"white\",\"landcolor\":\"#E5ECF6\",\"subunitcolor\":\"white\",\"showland\":true,\"showlakes\":true,\"lakecolor\":\"white\"},\"title\":{\"x\":0.05},\"mapbox\":{\"style\":\"light\"}}},\"xaxis\":{\"anchor\":\"y\",\"domain\":[0.0,1.0],\"matches\":\"x5\",\"showticklabels\":false},\"yaxis\":{\"anchor\":\"x\",\"domain\":[0.8400000000000001,1.0]},\"xaxis2\":{\"anchor\":\"y2\",\"domain\":[0.0,1.0],\"matches\":\"x5\",\"showticklabels\":false},\"yaxis2\":{\"anchor\":\"x2\",\"domain\":[0.6300000000000001,0.7900000000000001]},\"xaxis3\":{\"anchor\":\"y3\",\"domain\":[0.0,1.0],\"matches\":\"x5\",\"showticklabels\":false},\"yaxis3\":{\"anchor\":\"x3\",\"domain\":[0.42000000000000004,0.5800000000000001]},\"xaxis4\":{\"anchor\":\"y4\",\"domain\":[0.0,1.0],\"matches\":\"x5\",\"showticklabels\":false},\"yaxis4\":{\"anchor\":\"x4\",\"domain\":[0.21000000000000002,0.37000000000000005]},\"xaxis5\":{\"anchor\":\"y5\",\"domain\":[0.0,1.0],\"showticklabels\":true},\"yaxis5\":{\"anchor\":\"x5\",\"domain\":[0.0,0.16000000000000003]},\"annotations\":[{\"font\":{\"size\":16},\"showarrow\":false,\"text\":\"Infant mortality\",\"x\":0.5,\"xanchor\":\"center\",\"xref\":\"paper\",\"y\":1.0,\"yanchor\":\"bottom\",\"yref\":\"paper\"},{\"font\":{\"size\":16},\"showarrow\":false,\"text\":\"Maternal mortality ratio\",\"x\":0.5,\"xanchor\":\"center\",\"xref\":\"paper\",\"y\":0.7900000000000001,\"yanchor\":\"bottom\",\"yref\":\"paper\"},{\"font\":{\"size\":16},\"showarrow\":false,\"text\":\"Fertility Rate\",\"x\":0.5,\"xanchor\":\"center\",\"xref\":\"paper\",\"y\":0.5800000000000001,\"yanchor\":\"bottom\",\"yref\":\"paper\"},{\"font\":{\"size\":16},\"showarrow\":false,\"text\":\"Life expectancy\",\"x\":0.5,\"xanchor\":\"center\",\"xref\":\"paper\",\"y\":0.37000000000000005,\"yanchor\":\"bottom\",\"yref\":\"paper\"},{\"font\":{\"size\":16},\"showarrow\":false,\"text\":\"GDP per capita\",\"x\":0.5,\"xanchor\":\"center\",\"xref\":\"paper\",\"y\":0.16000000000000003,\"yanchor\":\"bottom\",\"yref\":\"paper\"}],\"title\":{\"text\":\"Top 20 Countries by GDP\",\"x\":0.5},\"font\":{\"size\":12},\"height\":800},                        {\"responsive\": true}                    ).then(function(){\n",
       "                            \n",
       "var gd = document.getElementById('f9be391a-0490-4c12-9512-a9e16849eaf4');\n",
       "var x = new MutationObserver(function (mutations, observer) {{\n",
       "        var display = window.getComputedStyle(gd).display;\n",
       "        if (!display || display === 'none') {{\n",
       "            console.log([gd, 'removed!']);\n",
       "            Plotly.purge(gd);\n",
       "            observer.disconnect();\n",
       "        }}\n",
       "}});\n",
       "\n",
       "// Listen for the removal of the full notebook cells\n",
       "var notebookContainer = gd.closest('#notebook-container');\n",
       "if (notebookContainer) {{\n",
       "    x.observe(notebookContainer, {childList: true});\n",
       "}}\n",
       "\n",
       "// Listen for the clearing of the current output cell\n",
       "var outputEl = gd.closest('.output');\n",
       "if (outputEl) {{\n",
       "    x.observe(outputEl, {childList: true});\n",
       "}}\n",
       "\n",
       "                        })                };                });            </script>        </div>"
      ]
     },
     "metadata": {},
     "output_type": "display_data"
    }
   ],
   "source": [
    "country_by_gdp = df1.sort_values(by='GDP', ascending=False).head(20)\n",
    "\n",
    "# Increase the height of the subplots\n",
    "fig = make_subplots(rows=5, cols=1, shared_xaxes=True, vertical_spacing=0.05, subplot_titles=(\"Infant mortality\", \"Maternal mortality ratio\", \"Fertility Rate\", \"Life expectancy\", \"GDP per capita\"), row_heights=[0.2, 0.2, 0.2, 0.2, 0.2], print_grid=True)\n",
    "\n",
    "fig.add_trace(go.Scatter(\n",
    "            name=\"Infant mortality\",\n",
    "            x=country_by_gdp[\"Country\"], \n",
    "            y=country_by_gdp[\"Infant mortality\"],\n",
    "            mode='lines',\n",
    "            showlegend=True,\n",
    "            marker=dict(\n",
    "                opacity=0.5,\n",
    "                showscale=False,\n",
    "            )),row=1,col=1,\n",
    "        )\n",
    "\n",
    "fig.add_trace(go.Scatter(\n",
    "            name=\"Maternal mortality ratio\",\n",
    "            x=country_by_gdp[\"Country\"], \n",
    "            y=country_by_gdp[\"Maternal mortality ratio\"],\n",
    "            mode='lines',\n",
    "            showlegend=True,\n",
    "            marker=dict(\n",
    "                opacity=0.5,\n",
    "                showscale=False,\n",
    "            )),row=2,col=1,\n",
    "        )\n",
    "\n",
    "fig.add_trace(go.Scatter(\n",
    "            name=\"Fertility Rate\",\n",
    "            x=country_by_gdp[\"Country\"], \n",
    "            y=country_by_gdp[\"Fertility Rate\"],\n",
    "            mode='lines',\n",
    "            showlegend=True,\n",
    "            marker=dict(\n",
    "                opacity=0.5,\n",
    "                showscale=False,\n",
    "            )),row=3,col=1,\n",
    "        )\n",
    "\n",
    "fig.add_trace(go.Scatter(\n",
    "            name=\"Life expectancy\",\n",
    "            x=country_by_gdp[\"Country\"], \n",
    "            y=country_by_gdp[\"Life expectancy\"],\n",
    "            mode='lines',\n",
    "            showlegend=True,\n",
    "            marker=dict(\n",
    "                opacity=0.5,\n",
    "                showscale=False,\n",
    "            )),row=4,col=1,\n",
    "        )\n",
    "\n",
    "fig.add_trace(go.Scatter(\n",
    "            name=\"GDP per capita\",\n",
    "            x=country_by_gdp[\"Country\"], \n",
    "            y=country_by_gdp[\"GDP_per_capita\"],\n",
    "            mode='lines',\n",
    "            showlegend=True,\n",
    "            marker=dict(\n",
    "                opacity=0.5,\n",
    "                showscale=False,\n",
    "            )),row=5,col=1,\n",
    "        )\n",
    "\n",
    "# Update x-axis labels for the last subplot\n",
    "fig.update_xaxes(showticklabels=True, row=5, col=1)\n",
    "\n",
    "# Update layout properties for better readability\n",
    "fig.update_layout(\n",
    "    height=800,    \n",
    "    title_text=\"Top 20 Countries by GDP\",\n",
    "    title_x=0.5,\n",
    "    font=dict(size=12),\n",
    ")\n",
    "\n",
    "fig.show()"
   ]
  },
  {
   "cell_type": "markdown",
   "id": "4b1359d3",
   "metadata": {},
   "source": [
    "### Analysis\n",
    "- #### Fertility Rate is negatively correlated with life expectancy and GDP per Capita"
   ]
  },
  {
   "cell_type": "markdown",
   "id": "c136f2c7",
   "metadata": {},
   "source": [
    "## Economic Analysis\n",
    "\n"
   ]
  },
  {
   "cell_type": "markdown",
   "id": "1ba44780",
   "metadata": {},
   "source": [
    "### GDP of Top 10 Countries"
   ]
  },
  {
   "cell_type": "code",
   "execution_count": 38,
   "id": "0ad9dca2",
   "metadata": {},
   "outputs": [
    {
     "data": {
      "application/vnd.plotly.v1+json": {
       "config": {
        "plotlyServerURL": "https://plot.ly"
       },
       "data": [
        {
         "alignmentgroup": "True",
         "hovertemplate": "color=United States<br>x=%{x}<br>y=%{y}<br>text=%{text}<extra></extra>",
         "legendgroup": "United States",
         "marker": {
          "color": "#636efa",
          "pattern": {
           "shape": ""
          }
         },
         "name": "United States",
         "offsetgroup": "United States",
         "orientation": "v",
         "showlegend": true,
         "text": [
          21427700000000
         ],
         "textposition": "auto",
         "type": "bar",
         "x": [
          "United States"
         ],
         "xaxis": "x",
         "y": [
          21427700000000
         ],
         "yaxis": "y"
        },
        {
         "alignmentgroup": "True",
         "hovertemplate": "color=China<br>x=%{x}<br>y=%{y}<br>text=%{text}<extra></extra>",
         "legendgroup": "China",
         "marker": {
          "color": "#EF553B",
          "pattern": {
           "shape": ""
          }
         },
         "name": "China",
         "offsetgroup": "China",
         "orientation": "v",
         "showlegend": true,
         "text": [
          19910000000000
         ],
         "textposition": "auto",
         "type": "bar",
         "x": [
          "China"
         ],
         "xaxis": "x",
         "y": [
          19910000000000
         ],
         "yaxis": "y"
        },
        {
         "alignmentgroup": "True",
         "hovertemplate": "color=Japan<br>x=%{x}<br>y=%{y}<br>text=%{text}<extra></extra>",
         "legendgroup": "Japan",
         "marker": {
          "color": "#00cc96",
          "pattern": {
           "shape": ""
          }
         },
         "name": "Japan",
         "offsetgroup": "Japan",
         "orientation": "v",
         "showlegend": true,
         "text": [
          5081769542380
         ],
         "textposition": "auto",
         "type": "bar",
         "x": [
          "Japan"
         ],
         "xaxis": "x",
         "y": [
          5081769542380
         ],
         "yaxis": "y"
        },
        {
         "alignmentgroup": "True",
         "hovertemplate": "color=Germany<br>x=%{x}<br>y=%{y}<br>text=%{text}<extra></extra>",
         "legendgroup": "Germany",
         "marker": {
          "color": "#ab63fa",
          "pattern": {
           "shape": ""
          }
         },
         "name": "Germany",
         "offsetgroup": "Germany",
         "orientation": "v",
         "showlegend": true,
         "text": [
          3845630030824
         ],
         "textposition": "auto",
         "type": "bar",
         "x": [
          "Germany"
         ],
         "xaxis": "x",
         "y": [
          3845630030824
         ],
         "yaxis": "y"
        },
        {
         "alignmentgroup": "True",
         "hovertemplate": "color=United Kingdom<br>x=%{x}<br>y=%{y}<br>text=%{text}<extra></extra>",
         "legendgroup": "United Kingdom",
         "marker": {
          "color": "#FFA15A",
          "pattern": {
           "shape": ""
          }
         },
         "name": "United Kingdom",
         "offsetgroup": "United Kingdom",
         "orientation": "v",
         "showlegend": true,
         "text": [
          2827113184696
         ],
         "textposition": "auto",
         "type": "bar",
         "x": [
          "United Kingdom"
         ],
         "xaxis": "x",
         "y": [
          2827113184696
         ],
         "yaxis": "y"
        },
        {
         "alignmentgroup": "True",
         "hovertemplate": "color=France<br>x=%{x}<br>y=%{y}<br>text=%{text}<extra></extra>",
         "legendgroup": "France",
         "marker": {
          "color": "#19d3f3",
          "pattern": {
           "shape": ""
          }
         },
         "name": "France",
         "offsetgroup": "France",
         "orientation": "v",
         "showlegend": true,
         "text": [
          2715518274227
         ],
         "textposition": "auto",
         "type": "bar",
         "x": [
          "France"
         ],
         "xaxis": "x",
         "y": [
          2715518274227
         ],
         "yaxis": "y"
        },
        {
         "alignmentgroup": "True",
         "hovertemplate": "color=India<br>x=%{x}<br>y=%{y}<br>text=%{text}<extra></extra>",
         "legendgroup": "India",
         "marker": {
          "color": "#FF6692",
          "pattern": {
           "shape": ""
          }
         },
         "name": "India",
         "offsetgroup": "India",
         "orientation": "v",
         "showlegend": true,
         "text": [
          2611000000000
         ],
         "textposition": "auto",
         "type": "bar",
         "x": [
          "India"
         ],
         "xaxis": "x",
         "y": [
          2611000000000
         ],
         "yaxis": "y"
        },
        {
         "alignmentgroup": "True",
         "hovertemplate": "color=South Korea<br>x=%{x}<br>y=%{y}<br>text=%{text}<extra></extra>",
         "legendgroup": "South Korea",
         "marker": {
          "color": "#B6E880",
          "pattern": {
           "shape": ""
          }
         },
         "name": "South Korea",
         "offsetgroup": "South Korea",
         "orientation": "v",
         "showlegend": true,
         "text": [
          2029000000000
         ],
         "textposition": "auto",
         "type": "bar",
         "x": [
          "South Korea"
         ],
         "xaxis": "x",
         "y": [
          2029000000000
         ],
         "yaxis": "y"
        },
        {
         "alignmentgroup": "True",
         "hovertemplate": "color=Italy<br>x=%{x}<br>y=%{y}<br>text=%{text}<extra></extra>",
         "legendgroup": "Italy",
         "marker": {
          "color": "#FF97FF",
          "pattern": {
           "shape": ""
          }
         },
         "name": "Italy",
         "offsetgroup": "Italy",
         "orientation": "v",
         "showlegend": true,
         "text": [
          2001244392042
         ],
         "textposition": "auto",
         "type": "bar",
         "x": [
          "Italy"
         ],
         "xaxis": "x",
         "y": [
          2001244392042
         ],
         "yaxis": "y"
        },
        {
         "alignmentgroup": "True",
         "hovertemplate": "color=Brazil<br>x=%{x}<br>y=%{y}<br>text=%{text}<extra></extra>",
         "legendgroup": "Brazil",
         "marker": {
          "color": "#FECB52",
          "pattern": {
           "shape": ""
          }
         },
         "name": "Brazil",
         "offsetgroup": "Brazil",
         "orientation": "v",
         "showlegend": true,
         "text": [
          1839758040766
         ],
         "textposition": "auto",
         "type": "bar",
         "x": [
          "Brazil"
         ],
         "xaxis": "x",
         "y": [
          1839758040766
         ],
         "yaxis": "y"
        }
       ],
       "layout": {
        "barmode": "relative",
        "height": 600,
        "legend": {
         "title": {
          "text": "GDP"
         },
         "tracegroupgap": 0
        },
        "margin": {
         "l": 80,
         "t": 100
        },
        "showlegend": true,
        "template": {
         "data": {
          "bar": [
           {
            "error_x": {
             "color": "#2a3f5f"
            },
            "error_y": {
             "color": "#2a3f5f"
            },
            "marker": {
             "line": {
              "color": "white",
              "width": 0.5
             },
             "pattern": {
              "fillmode": "overlay",
              "size": 10,
              "solidity": 0.2
             }
            },
            "type": "bar"
           }
          ],
          "barpolar": [
           {
            "marker": {
             "line": {
              "color": "white",
              "width": 0.5
             },
             "pattern": {
              "fillmode": "overlay",
              "size": 10,
              "solidity": 0.2
             }
            },
            "type": "barpolar"
           }
          ],
          "carpet": [
           {
            "aaxis": {
             "endlinecolor": "#2a3f5f",
             "gridcolor": "#C8D4E3",
             "linecolor": "#C8D4E3",
             "minorgridcolor": "#C8D4E3",
             "startlinecolor": "#2a3f5f"
            },
            "baxis": {
             "endlinecolor": "#2a3f5f",
             "gridcolor": "#C8D4E3",
             "linecolor": "#C8D4E3",
             "minorgridcolor": "#C8D4E3",
             "startlinecolor": "#2a3f5f"
            },
            "type": "carpet"
           }
          ],
          "choropleth": [
           {
            "colorbar": {
             "outlinewidth": 0,
             "ticks": ""
            },
            "type": "choropleth"
           }
          ],
          "contour": [
           {
            "colorbar": {
             "outlinewidth": 0,
             "ticks": ""
            },
            "colorscale": [
             [
              0,
              "#0d0887"
             ],
             [
              0.1111111111111111,
              "#46039f"
             ],
             [
              0.2222222222222222,
              "#7201a8"
             ],
             [
              0.3333333333333333,
              "#9c179e"
             ],
             [
              0.4444444444444444,
              "#bd3786"
             ],
             [
              0.5555555555555556,
              "#d8576b"
             ],
             [
              0.6666666666666666,
              "#ed7953"
             ],
             [
              0.7777777777777778,
              "#fb9f3a"
             ],
             [
              0.8888888888888888,
              "#fdca26"
             ],
             [
              1,
              "#f0f921"
             ]
            ],
            "type": "contour"
           }
          ],
          "contourcarpet": [
           {
            "colorbar": {
             "outlinewidth": 0,
             "ticks": ""
            },
            "type": "contourcarpet"
           }
          ],
          "heatmap": [
           {
            "colorbar": {
             "outlinewidth": 0,
             "ticks": ""
            },
            "colorscale": [
             [
              0,
              "#0d0887"
             ],
             [
              0.1111111111111111,
              "#46039f"
             ],
             [
              0.2222222222222222,
              "#7201a8"
             ],
             [
              0.3333333333333333,
              "#9c179e"
             ],
             [
              0.4444444444444444,
              "#bd3786"
             ],
             [
              0.5555555555555556,
              "#d8576b"
             ],
             [
              0.6666666666666666,
              "#ed7953"
             ],
             [
              0.7777777777777778,
              "#fb9f3a"
             ],
             [
              0.8888888888888888,
              "#fdca26"
             ],
             [
              1,
              "#f0f921"
             ]
            ],
            "type": "heatmap"
           }
          ],
          "heatmapgl": [
           {
            "colorbar": {
             "outlinewidth": 0,
             "ticks": ""
            },
            "colorscale": [
             [
              0,
              "#0d0887"
             ],
             [
              0.1111111111111111,
              "#46039f"
             ],
             [
              0.2222222222222222,
              "#7201a8"
             ],
             [
              0.3333333333333333,
              "#9c179e"
             ],
             [
              0.4444444444444444,
              "#bd3786"
             ],
             [
              0.5555555555555556,
              "#d8576b"
             ],
             [
              0.6666666666666666,
              "#ed7953"
             ],
             [
              0.7777777777777778,
              "#fb9f3a"
             ],
             [
              0.8888888888888888,
              "#fdca26"
             ],
             [
              1,
              "#f0f921"
             ]
            ],
            "type": "heatmapgl"
           }
          ],
          "histogram": [
           {
            "marker": {
             "pattern": {
              "fillmode": "overlay",
              "size": 10,
              "solidity": 0.2
             }
            },
            "type": "histogram"
           }
          ],
          "histogram2d": [
           {
            "colorbar": {
             "outlinewidth": 0,
             "ticks": ""
            },
            "colorscale": [
             [
              0,
              "#0d0887"
             ],
             [
              0.1111111111111111,
              "#46039f"
             ],
             [
              0.2222222222222222,
              "#7201a8"
             ],
             [
              0.3333333333333333,
              "#9c179e"
             ],
             [
              0.4444444444444444,
              "#bd3786"
             ],
             [
              0.5555555555555556,
              "#d8576b"
             ],
             [
              0.6666666666666666,
              "#ed7953"
             ],
             [
              0.7777777777777778,
              "#fb9f3a"
             ],
             [
              0.8888888888888888,
              "#fdca26"
             ],
             [
              1,
              "#f0f921"
             ]
            ],
            "type": "histogram2d"
           }
          ],
          "histogram2dcontour": [
           {
            "colorbar": {
             "outlinewidth": 0,
             "ticks": ""
            },
            "colorscale": [
             [
              0,
              "#0d0887"
             ],
             [
              0.1111111111111111,
              "#46039f"
             ],
             [
              0.2222222222222222,
              "#7201a8"
             ],
             [
              0.3333333333333333,
              "#9c179e"
             ],
             [
              0.4444444444444444,
              "#bd3786"
             ],
             [
              0.5555555555555556,
              "#d8576b"
             ],
             [
              0.6666666666666666,
              "#ed7953"
             ],
             [
              0.7777777777777778,
              "#fb9f3a"
             ],
             [
              0.8888888888888888,
              "#fdca26"
             ],
             [
              1,
              "#f0f921"
             ]
            ],
            "type": "histogram2dcontour"
           }
          ],
          "mesh3d": [
           {
            "colorbar": {
             "outlinewidth": 0,
             "ticks": ""
            },
            "type": "mesh3d"
           }
          ],
          "parcoords": [
           {
            "line": {
             "colorbar": {
              "outlinewidth": 0,
              "ticks": ""
             }
            },
            "type": "parcoords"
           }
          ],
          "pie": [
           {
            "automargin": true,
            "type": "pie"
           }
          ],
          "scatter": [
           {
            "fillpattern": {
             "fillmode": "overlay",
             "size": 10,
             "solidity": 0.2
            },
            "type": "scatter"
           }
          ],
          "scatter3d": [
           {
            "line": {
             "colorbar": {
              "outlinewidth": 0,
              "ticks": ""
             }
            },
            "marker": {
             "colorbar": {
              "outlinewidth": 0,
              "ticks": ""
             }
            },
            "type": "scatter3d"
           }
          ],
          "scattercarpet": [
           {
            "marker": {
             "colorbar": {
              "outlinewidth": 0,
              "ticks": ""
             }
            },
            "type": "scattercarpet"
           }
          ],
          "scattergeo": [
           {
            "marker": {
             "colorbar": {
              "outlinewidth": 0,
              "ticks": ""
             }
            },
            "type": "scattergeo"
           }
          ],
          "scattergl": [
           {
            "marker": {
             "colorbar": {
              "outlinewidth": 0,
              "ticks": ""
             }
            },
            "type": "scattergl"
           }
          ],
          "scattermapbox": [
           {
            "marker": {
             "colorbar": {
              "outlinewidth": 0,
              "ticks": ""
             }
            },
            "type": "scattermapbox"
           }
          ],
          "scatterpolar": [
           {
            "marker": {
             "colorbar": {
              "outlinewidth": 0,
              "ticks": ""
             }
            },
            "type": "scatterpolar"
           }
          ],
          "scatterpolargl": [
           {
            "marker": {
             "colorbar": {
              "outlinewidth": 0,
              "ticks": ""
             }
            },
            "type": "scatterpolargl"
           }
          ],
          "scatterternary": [
           {
            "marker": {
             "colorbar": {
              "outlinewidth": 0,
              "ticks": ""
             }
            },
            "type": "scatterternary"
           }
          ],
          "surface": [
           {
            "colorbar": {
             "outlinewidth": 0,
             "ticks": ""
            },
            "colorscale": [
             [
              0,
              "#0d0887"
             ],
             [
              0.1111111111111111,
              "#46039f"
             ],
             [
              0.2222222222222222,
              "#7201a8"
             ],
             [
              0.3333333333333333,
              "#9c179e"
             ],
             [
              0.4444444444444444,
              "#bd3786"
             ],
             [
              0.5555555555555556,
              "#d8576b"
             ],
             [
              0.6666666666666666,
              "#ed7953"
             ],
             [
              0.7777777777777778,
              "#fb9f3a"
             ],
             [
              0.8888888888888888,
              "#fdca26"
             ],
             [
              1,
              "#f0f921"
             ]
            ],
            "type": "surface"
           }
          ],
          "table": [
           {
            "cells": {
             "fill": {
              "color": "#EBF0F8"
             },
             "line": {
              "color": "white"
             }
            },
            "header": {
             "fill": {
              "color": "#C8D4E3"
             },
             "line": {
              "color": "white"
             }
            },
            "type": "table"
           }
          ]
         },
         "layout": {
          "annotationdefaults": {
           "arrowcolor": "#2a3f5f",
           "arrowhead": 0,
           "arrowwidth": 1
          },
          "autotypenumbers": "strict",
          "coloraxis": {
           "colorbar": {
            "outlinewidth": 0,
            "ticks": ""
           }
          },
          "colorscale": {
           "diverging": [
            [
             0,
             "#8e0152"
            ],
            [
             0.1,
             "#c51b7d"
            ],
            [
             0.2,
             "#de77ae"
            ],
            [
             0.3,
             "#f1b6da"
            ],
            [
             0.4,
             "#fde0ef"
            ],
            [
             0.5,
             "#f7f7f7"
            ],
            [
             0.6,
             "#e6f5d0"
            ],
            [
             0.7,
             "#b8e186"
            ],
            [
             0.8,
             "#7fbc41"
            ],
            [
             0.9,
             "#4d9221"
            ],
            [
             1,
             "#276419"
            ]
           ],
           "sequential": [
            [
             0,
             "#0d0887"
            ],
            [
             0.1111111111111111,
             "#46039f"
            ],
            [
             0.2222222222222222,
             "#7201a8"
            ],
            [
             0.3333333333333333,
             "#9c179e"
            ],
            [
             0.4444444444444444,
             "#bd3786"
            ],
            [
             0.5555555555555556,
             "#d8576b"
            ],
            [
             0.6666666666666666,
             "#ed7953"
            ],
            [
             0.7777777777777778,
             "#fb9f3a"
            ],
            [
             0.8888888888888888,
             "#fdca26"
            ],
            [
             1,
             "#f0f921"
            ]
           ],
           "sequentialminus": [
            [
             0,
             "#0d0887"
            ],
            [
             0.1111111111111111,
             "#46039f"
            ],
            [
             0.2222222222222222,
             "#7201a8"
            ],
            [
             0.3333333333333333,
             "#9c179e"
            ],
            [
             0.4444444444444444,
             "#bd3786"
            ],
            [
             0.5555555555555556,
             "#d8576b"
            ],
            [
             0.6666666666666666,
             "#ed7953"
            ],
            [
             0.7777777777777778,
             "#fb9f3a"
            ],
            [
             0.8888888888888888,
             "#fdca26"
            ],
            [
             1,
             "#f0f921"
            ]
           ]
          },
          "colorway": [
           "#636efa",
           "#EF553B",
           "#00cc96",
           "#ab63fa",
           "#FFA15A",
           "#19d3f3",
           "#FF6692",
           "#B6E880",
           "#FF97FF",
           "#FECB52"
          ],
          "font": {
           "color": "#2a3f5f"
          },
          "geo": {
           "bgcolor": "white",
           "lakecolor": "white",
           "landcolor": "white",
           "showlakes": true,
           "showland": true,
           "subunitcolor": "#C8D4E3"
          },
          "hoverlabel": {
           "align": "left"
          },
          "hovermode": "closest",
          "mapbox": {
           "style": "light"
          },
          "paper_bgcolor": "white",
          "plot_bgcolor": "white",
          "polar": {
           "angularaxis": {
            "gridcolor": "#EBF0F8",
            "linecolor": "#EBF0F8",
            "ticks": ""
           },
           "bgcolor": "white",
           "radialaxis": {
            "gridcolor": "#EBF0F8",
            "linecolor": "#EBF0F8",
            "ticks": ""
           }
          },
          "scene": {
           "xaxis": {
            "backgroundcolor": "white",
            "gridcolor": "#DFE8F3",
            "gridwidth": 2,
            "linecolor": "#EBF0F8",
            "showbackground": true,
            "ticks": "",
            "zerolinecolor": "#EBF0F8"
           },
           "yaxis": {
            "backgroundcolor": "white",
            "gridcolor": "#DFE8F3",
            "gridwidth": 2,
            "linecolor": "#EBF0F8",
            "showbackground": true,
            "ticks": "",
            "zerolinecolor": "#EBF0F8"
           },
           "zaxis": {
            "backgroundcolor": "white",
            "gridcolor": "#DFE8F3",
            "gridwidth": 2,
            "linecolor": "#EBF0F8",
            "showbackground": true,
            "ticks": "",
            "zerolinecolor": "#EBF0F8"
           }
          },
          "shapedefaults": {
           "line": {
            "color": "#2a3f5f"
           }
          },
          "ternary": {
           "aaxis": {
            "gridcolor": "#DFE8F3",
            "linecolor": "#A2B1C6",
            "ticks": ""
           },
           "baxis": {
            "gridcolor": "#DFE8F3",
            "linecolor": "#A2B1C6",
            "ticks": ""
           },
           "bgcolor": "white",
           "caxis": {
            "gridcolor": "#DFE8F3",
            "linecolor": "#A2B1C6",
            "ticks": ""
           }
          },
          "title": {
           "x": 0.05
          },
          "xaxis": {
           "automargin": true,
           "gridcolor": "#EBF0F8",
           "linecolor": "#EBF0F8",
           "ticks": "",
           "title": {
            "standoff": 15
           },
           "zerolinecolor": "#EBF0F8",
           "zerolinewidth": 2
          },
          "yaxis": {
           "automargin": true,
           "gridcolor": "#EBF0F8",
           "linecolor": "#EBF0F8",
           "ticks": "",
           "title": {
            "standoff": 15
           },
           "zerolinecolor": "#EBF0F8",
           "zerolinewidth": 2
          }
         }
        },
        "title": {
         "text": "<b>Top 10 highest GDP<br> <sup> Barplot</sup></b>"
        },
        "width": 1000,
        "xaxis": {
         "anchor": "y",
         "domain": [
          0,
          1
         ],
         "title": {
          "text": "GDP"
         }
        },
        "yaxis": {
         "anchor": "x",
         "domain": [
          0,
          1
         ],
         "title": {
          "text": "Count"
         }
        }
       }
      },
      "text/html": [
       "<div>                            <div id=\"610714b5-cce3-478b-89ab-16f0af5886a0\" class=\"plotly-graph-div\" style=\"height:600px; width:1000px;\"></div>            <script type=\"text/javascript\">                require([\"plotly\"], function(Plotly) {                    window.PLOTLYENV=window.PLOTLYENV || {};                                    if (document.getElementById(\"610714b5-cce3-478b-89ab-16f0af5886a0\")) {                    Plotly.newPlot(                        \"610714b5-cce3-478b-89ab-16f0af5886a0\",                        [{\"alignmentgroup\":\"True\",\"hovertemplate\":\"color=United States<br>x=%{x}<br>y=%{y}<br>text=%{text}<extra></extra>\",\"legendgroup\":\"United States\",\"marker\":{\"color\":\"#636efa\",\"pattern\":{\"shape\":\"\"}},\"name\":\"United States\",\"offsetgroup\":\"United States\",\"orientation\":\"v\",\"showlegend\":true,\"text\":[21427700000000.0],\"textposition\":\"auto\",\"x\":[\"United States\"],\"xaxis\":\"x\",\"y\":[21427700000000.0],\"yaxis\":\"y\",\"type\":\"bar\"},{\"alignmentgroup\":\"True\",\"hovertemplate\":\"color=China<br>x=%{x}<br>y=%{y}<br>text=%{text}<extra></extra>\",\"legendgroup\":\"China\",\"marker\":{\"color\":\"#EF553B\",\"pattern\":{\"shape\":\"\"}},\"name\":\"China\",\"offsetgroup\":\"China\",\"orientation\":\"v\",\"showlegend\":true,\"text\":[19910000000000.0],\"textposition\":\"auto\",\"x\":[\"China\"],\"xaxis\":\"x\",\"y\":[19910000000000.0],\"yaxis\":\"y\",\"type\":\"bar\"},{\"alignmentgroup\":\"True\",\"hovertemplate\":\"color=Japan<br>x=%{x}<br>y=%{y}<br>text=%{text}<extra></extra>\",\"legendgroup\":\"Japan\",\"marker\":{\"color\":\"#00cc96\",\"pattern\":{\"shape\":\"\"}},\"name\":\"Japan\",\"offsetgroup\":\"Japan\",\"orientation\":\"v\",\"showlegend\":true,\"text\":[5081769542380.0],\"textposition\":\"auto\",\"x\":[\"Japan\"],\"xaxis\":\"x\",\"y\":[5081769542380.0],\"yaxis\":\"y\",\"type\":\"bar\"},{\"alignmentgroup\":\"True\",\"hovertemplate\":\"color=Germany<br>x=%{x}<br>y=%{y}<br>text=%{text}<extra></extra>\",\"legendgroup\":\"Germany\",\"marker\":{\"color\":\"#ab63fa\",\"pattern\":{\"shape\":\"\"}},\"name\":\"Germany\",\"offsetgroup\":\"Germany\",\"orientation\":\"v\",\"showlegend\":true,\"text\":[3845630030824.0],\"textposition\":\"auto\",\"x\":[\"Germany\"],\"xaxis\":\"x\",\"y\":[3845630030824.0],\"yaxis\":\"y\",\"type\":\"bar\"},{\"alignmentgroup\":\"True\",\"hovertemplate\":\"color=United Kingdom<br>x=%{x}<br>y=%{y}<br>text=%{text}<extra></extra>\",\"legendgroup\":\"United Kingdom\",\"marker\":{\"color\":\"#FFA15A\",\"pattern\":{\"shape\":\"\"}},\"name\":\"United Kingdom\",\"offsetgroup\":\"United Kingdom\",\"orientation\":\"v\",\"showlegend\":true,\"text\":[2827113184696.0],\"textposition\":\"auto\",\"x\":[\"United Kingdom\"],\"xaxis\":\"x\",\"y\":[2827113184696.0],\"yaxis\":\"y\",\"type\":\"bar\"},{\"alignmentgroup\":\"True\",\"hovertemplate\":\"color=France<br>x=%{x}<br>y=%{y}<br>text=%{text}<extra></extra>\",\"legendgroup\":\"France\",\"marker\":{\"color\":\"#19d3f3\",\"pattern\":{\"shape\":\"\"}},\"name\":\"France\",\"offsetgroup\":\"France\",\"orientation\":\"v\",\"showlegend\":true,\"text\":[2715518274227.0],\"textposition\":\"auto\",\"x\":[\"France\"],\"xaxis\":\"x\",\"y\":[2715518274227.0],\"yaxis\":\"y\",\"type\":\"bar\"},{\"alignmentgroup\":\"True\",\"hovertemplate\":\"color=India<br>x=%{x}<br>y=%{y}<br>text=%{text}<extra></extra>\",\"legendgroup\":\"India\",\"marker\":{\"color\":\"#FF6692\",\"pattern\":{\"shape\":\"\"}},\"name\":\"India\",\"offsetgroup\":\"India\",\"orientation\":\"v\",\"showlegend\":true,\"text\":[2611000000000.0],\"textposition\":\"auto\",\"x\":[\"India\"],\"xaxis\":\"x\",\"y\":[2611000000000.0],\"yaxis\":\"y\",\"type\":\"bar\"},{\"alignmentgroup\":\"True\",\"hovertemplate\":\"color=South Korea<br>x=%{x}<br>y=%{y}<br>text=%{text}<extra></extra>\",\"legendgroup\":\"South Korea\",\"marker\":{\"color\":\"#B6E880\",\"pattern\":{\"shape\":\"\"}},\"name\":\"South Korea\",\"offsetgroup\":\"South Korea\",\"orientation\":\"v\",\"showlegend\":true,\"text\":[2029000000000.0],\"textposition\":\"auto\",\"x\":[\"South Korea\"],\"xaxis\":\"x\",\"y\":[2029000000000.0],\"yaxis\":\"y\",\"type\":\"bar\"},{\"alignmentgroup\":\"True\",\"hovertemplate\":\"color=Italy<br>x=%{x}<br>y=%{y}<br>text=%{text}<extra></extra>\",\"legendgroup\":\"Italy\",\"marker\":{\"color\":\"#FF97FF\",\"pattern\":{\"shape\":\"\"}},\"name\":\"Italy\",\"offsetgroup\":\"Italy\",\"orientation\":\"v\",\"showlegend\":true,\"text\":[2001244392042.0],\"textposition\":\"auto\",\"x\":[\"Italy\"],\"xaxis\":\"x\",\"y\":[2001244392042.0],\"yaxis\":\"y\",\"type\":\"bar\"},{\"alignmentgroup\":\"True\",\"hovertemplate\":\"color=Brazil<br>x=%{x}<br>y=%{y}<br>text=%{text}<extra></extra>\",\"legendgroup\":\"Brazil\",\"marker\":{\"color\":\"#FECB52\",\"pattern\":{\"shape\":\"\"}},\"name\":\"Brazil\",\"offsetgroup\":\"Brazil\",\"orientation\":\"v\",\"showlegend\":true,\"text\":[1839758040766.0],\"textposition\":\"auto\",\"x\":[\"Brazil\"],\"xaxis\":\"x\",\"y\":[1839758040766.0],\"yaxis\":\"y\",\"type\":\"bar\"}],                        {\"template\":{\"data\":{\"barpolar\":[{\"marker\":{\"line\":{\"color\":\"white\",\"width\":0.5},\"pattern\":{\"fillmode\":\"overlay\",\"size\":10,\"solidity\":0.2}},\"type\":\"barpolar\"}],\"bar\":[{\"error_x\":{\"color\":\"#2a3f5f\"},\"error_y\":{\"color\":\"#2a3f5f\"},\"marker\":{\"line\":{\"color\":\"white\",\"width\":0.5},\"pattern\":{\"fillmode\":\"overlay\",\"size\":10,\"solidity\":0.2}},\"type\":\"bar\"}],\"carpet\":[{\"aaxis\":{\"endlinecolor\":\"#2a3f5f\",\"gridcolor\":\"#C8D4E3\",\"linecolor\":\"#C8D4E3\",\"minorgridcolor\":\"#C8D4E3\",\"startlinecolor\":\"#2a3f5f\"},\"baxis\":{\"endlinecolor\":\"#2a3f5f\",\"gridcolor\":\"#C8D4E3\",\"linecolor\":\"#C8D4E3\",\"minorgridcolor\":\"#C8D4E3\",\"startlinecolor\":\"#2a3f5f\"},\"type\":\"carpet\"}],\"choropleth\":[{\"colorbar\":{\"outlinewidth\":0,\"ticks\":\"\"},\"type\":\"choropleth\"}],\"contourcarpet\":[{\"colorbar\":{\"outlinewidth\":0,\"ticks\":\"\"},\"type\":\"contourcarpet\"}],\"contour\":[{\"colorbar\":{\"outlinewidth\":0,\"ticks\":\"\"},\"colorscale\":[[0.0,\"#0d0887\"],[0.1111111111111111,\"#46039f\"],[0.2222222222222222,\"#7201a8\"],[0.3333333333333333,\"#9c179e\"],[0.4444444444444444,\"#bd3786\"],[0.5555555555555556,\"#d8576b\"],[0.6666666666666666,\"#ed7953\"],[0.7777777777777778,\"#fb9f3a\"],[0.8888888888888888,\"#fdca26\"],[1.0,\"#f0f921\"]],\"type\":\"contour\"}],\"heatmapgl\":[{\"colorbar\":{\"outlinewidth\":0,\"ticks\":\"\"},\"colorscale\":[[0.0,\"#0d0887\"],[0.1111111111111111,\"#46039f\"],[0.2222222222222222,\"#7201a8\"],[0.3333333333333333,\"#9c179e\"],[0.4444444444444444,\"#bd3786\"],[0.5555555555555556,\"#d8576b\"],[0.6666666666666666,\"#ed7953\"],[0.7777777777777778,\"#fb9f3a\"],[0.8888888888888888,\"#fdca26\"],[1.0,\"#f0f921\"]],\"type\":\"heatmapgl\"}],\"heatmap\":[{\"colorbar\":{\"outlinewidth\":0,\"ticks\":\"\"},\"colorscale\":[[0.0,\"#0d0887\"],[0.1111111111111111,\"#46039f\"],[0.2222222222222222,\"#7201a8\"],[0.3333333333333333,\"#9c179e\"],[0.4444444444444444,\"#bd3786\"],[0.5555555555555556,\"#d8576b\"],[0.6666666666666666,\"#ed7953\"],[0.7777777777777778,\"#fb9f3a\"],[0.8888888888888888,\"#fdca26\"],[1.0,\"#f0f921\"]],\"type\":\"heatmap\"}],\"histogram2dcontour\":[{\"colorbar\":{\"outlinewidth\":0,\"ticks\":\"\"},\"colorscale\":[[0.0,\"#0d0887\"],[0.1111111111111111,\"#46039f\"],[0.2222222222222222,\"#7201a8\"],[0.3333333333333333,\"#9c179e\"],[0.4444444444444444,\"#bd3786\"],[0.5555555555555556,\"#d8576b\"],[0.6666666666666666,\"#ed7953\"],[0.7777777777777778,\"#fb9f3a\"],[0.8888888888888888,\"#fdca26\"],[1.0,\"#f0f921\"]],\"type\":\"histogram2dcontour\"}],\"histogram2d\":[{\"colorbar\":{\"outlinewidth\":0,\"ticks\":\"\"},\"colorscale\":[[0.0,\"#0d0887\"],[0.1111111111111111,\"#46039f\"],[0.2222222222222222,\"#7201a8\"],[0.3333333333333333,\"#9c179e\"],[0.4444444444444444,\"#bd3786\"],[0.5555555555555556,\"#d8576b\"],[0.6666666666666666,\"#ed7953\"],[0.7777777777777778,\"#fb9f3a\"],[0.8888888888888888,\"#fdca26\"],[1.0,\"#f0f921\"]],\"type\":\"histogram2d\"}],\"histogram\":[{\"marker\":{\"pattern\":{\"fillmode\":\"overlay\",\"size\":10,\"solidity\":0.2}},\"type\":\"histogram\"}],\"mesh3d\":[{\"colorbar\":{\"outlinewidth\":0,\"ticks\":\"\"},\"type\":\"mesh3d\"}],\"parcoords\":[{\"line\":{\"colorbar\":{\"outlinewidth\":0,\"ticks\":\"\"}},\"type\":\"parcoords\"}],\"pie\":[{\"automargin\":true,\"type\":\"pie\"}],\"scatter3d\":[{\"line\":{\"colorbar\":{\"outlinewidth\":0,\"ticks\":\"\"}},\"marker\":{\"colorbar\":{\"outlinewidth\":0,\"ticks\":\"\"}},\"type\":\"scatter3d\"}],\"scattercarpet\":[{\"marker\":{\"colorbar\":{\"outlinewidth\":0,\"ticks\":\"\"}},\"type\":\"scattercarpet\"}],\"scattergeo\":[{\"marker\":{\"colorbar\":{\"outlinewidth\":0,\"ticks\":\"\"}},\"type\":\"scattergeo\"}],\"scattergl\":[{\"marker\":{\"colorbar\":{\"outlinewidth\":0,\"ticks\":\"\"}},\"type\":\"scattergl\"}],\"scattermapbox\":[{\"marker\":{\"colorbar\":{\"outlinewidth\":0,\"ticks\":\"\"}},\"type\":\"scattermapbox\"}],\"scatterpolargl\":[{\"marker\":{\"colorbar\":{\"outlinewidth\":0,\"ticks\":\"\"}},\"type\":\"scatterpolargl\"}],\"scatterpolar\":[{\"marker\":{\"colorbar\":{\"outlinewidth\":0,\"ticks\":\"\"}},\"type\":\"scatterpolar\"}],\"scatter\":[{\"fillpattern\":{\"fillmode\":\"overlay\",\"size\":10,\"solidity\":0.2},\"type\":\"scatter\"}],\"scatterternary\":[{\"marker\":{\"colorbar\":{\"outlinewidth\":0,\"ticks\":\"\"}},\"type\":\"scatterternary\"}],\"surface\":[{\"colorbar\":{\"outlinewidth\":0,\"ticks\":\"\"},\"colorscale\":[[0.0,\"#0d0887\"],[0.1111111111111111,\"#46039f\"],[0.2222222222222222,\"#7201a8\"],[0.3333333333333333,\"#9c179e\"],[0.4444444444444444,\"#bd3786\"],[0.5555555555555556,\"#d8576b\"],[0.6666666666666666,\"#ed7953\"],[0.7777777777777778,\"#fb9f3a\"],[0.8888888888888888,\"#fdca26\"],[1.0,\"#f0f921\"]],\"type\":\"surface\"}],\"table\":[{\"cells\":{\"fill\":{\"color\":\"#EBF0F8\"},\"line\":{\"color\":\"white\"}},\"header\":{\"fill\":{\"color\":\"#C8D4E3\"},\"line\":{\"color\":\"white\"}},\"type\":\"table\"}]},\"layout\":{\"annotationdefaults\":{\"arrowcolor\":\"#2a3f5f\",\"arrowhead\":0,\"arrowwidth\":1},\"autotypenumbers\":\"strict\",\"coloraxis\":{\"colorbar\":{\"outlinewidth\":0,\"ticks\":\"\"}},\"colorscale\":{\"diverging\":[[0,\"#8e0152\"],[0.1,\"#c51b7d\"],[0.2,\"#de77ae\"],[0.3,\"#f1b6da\"],[0.4,\"#fde0ef\"],[0.5,\"#f7f7f7\"],[0.6,\"#e6f5d0\"],[0.7,\"#b8e186\"],[0.8,\"#7fbc41\"],[0.9,\"#4d9221\"],[1,\"#276419\"]],\"sequential\":[[0.0,\"#0d0887\"],[0.1111111111111111,\"#46039f\"],[0.2222222222222222,\"#7201a8\"],[0.3333333333333333,\"#9c179e\"],[0.4444444444444444,\"#bd3786\"],[0.5555555555555556,\"#d8576b\"],[0.6666666666666666,\"#ed7953\"],[0.7777777777777778,\"#fb9f3a\"],[0.8888888888888888,\"#fdca26\"],[1.0,\"#f0f921\"]],\"sequentialminus\":[[0.0,\"#0d0887\"],[0.1111111111111111,\"#46039f\"],[0.2222222222222222,\"#7201a8\"],[0.3333333333333333,\"#9c179e\"],[0.4444444444444444,\"#bd3786\"],[0.5555555555555556,\"#d8576b\"],[0.6666666666666666,\"#ed7953\"],[0.7777777777777778,\"#fb9f3a\"],[0.8888888888888888,\"#fdca26\"],[1.0,\"#f0f921\"]]},\"colorway\":[\"#636efa\",\"#EF553B\",\"#00cc96\",\"#ab63fa\",\"#FFA15A\",\"#19d3f3\",\"#FF6692\",\"#B6E880\",\"#FF97FF\",\"#FECB52\"],\"font\":{\"color\":\"#2a3f5f\"},\"geo\":{\"bgcolor\":\"white\",\"lakecolor\":\"white\",\"landcolor\":\"white\",\"showlakes\":true,\"showland\":true,\"subunitcolor\":\"#C8D4E3\"},\"hoverlabel\":{\"align\":\"left\"},\"hovermode\":\"closest\",\"mapbox\":{\"style\":\"light\"},\"paper_bgcolor\":\"white\",\"plot_bgcolor\":\"white\",\"polar\":{\"angularaxis\":{\"gridcolor\":\"#EBF0F8\",\"linecolor\":\"#EBF0F8\",\"ticks\":\"\"},\"bgcolor\":\"white\",\"radialaxis\":{\"gridcolor\":\"#EBF0F8\",\"linecolor\":\"#EBF0F8\",\"ticks\":\"\"}},\"scene\":{\"xaxis\":{\"backgroundcolor\":\"white\",\"gridcolor\":\"#DFE8F3\",\"gridwidth\":2,\"linecolor\":\"#EBF0F8\",\"showbackground\":true,\"ticks\":\"\",\"zerolinecolor\":\"#EBF0F8\"},\"yaxis\":{\"backgroundcolor\":\"white\",\"gridcolor\":\"#DFE8F3\",\"gridwidth\":2,\"linecolor\":\"#EBF0F8\",\"showbackground\":true,\"ticks\":\"\",\"zerolinecolor\":\"#EBF0F8\"},\"zaxis\":{\"backgroundcolor\":\"white\",\"gridcolor\":\"#DFE8F3\",\"gridwidth\":2,\"linecolor\":\"#EBF0F8\",\"showbackground\":true,\"ticks\":\"\",\"zerolinecolor\":\"#EBF0F8\"}},\"shapedefaults\":{\"line\":{\"color\":\"#2a3f5f\"}},\"ternary\":{\"aaxis\":{\"gridcolor\":\"#DFE8F3\",\"linecolor\":\"#A2B1C6\",\"ticks\":\"\"},\"baxis\":{\"gridcolor\":\"#DFE8F3\",\"linecolor\":\"#A2B1C6\",\"ticks\":\"\"},\"bgcolor\":\"white\",\"caxis\":{\"gridcolor\":\"#DFE8F3\",\"linecolor\":\"#A2B1C6\",\"ticks\":\"\"}},\"title\":{\"x\":0.05},\"xaxis\":{\"automargin\":true,\"gridcolor\":\"#EBF0F8\",\"linecolor\":\"#EBF0F8\",\"ticks\":\"\",\"title\":{\"standoff\":15},\"zerolinecolor\":\"#EBF0F8\",\"zerolinewidth\":2},\"yaxis\":{\"automargin\":true,\"gridcolor\":\"#EBF0F8\",\"linecolor\":\"#EBF0F8\",\"ticks\":\"\",\"title\":{\"standoff\":15},\"zerolinecolor\":\"#EBF0F8\",\"zerolinewidth\":2}}},\"xaxis\":{\"anchor\":\"y\",\"domain\":[0.0,1.0],\"title\":{\"text\":\"GDP\"}},\"yaxis\":{\"anchor\":\"x\",\"domain\":[0.0,1.0],\"title\":{\"text\":\"Count\"}},\"legend\":{\"title\":{\"text\":\"GDP\"},\"tracegroupgap\":0},\"margin\":{\"t\":100,\"l\":80},\"barmode\":\"relative\",\"title\":{\"text\":\"<b>Top 10 highest GDP<br> <sup> Barplot</sup></b>\"},\"showlegend\":true,\"height\":600,\"width\":1000},                        {\"responsive\": true}                    ).then(function(){\n",
       "                            \n",
       "var gd = document.getElementById('610714b5-cce3-478b-89ab-16f0af5886a0');\n",
       "var x = new MutationObserver(function (mutations, observer) {{\n",
       "        var display = window.getComputedStyle(gd).display;\n",
       "        if (!display || display === 'none') {{\n",
       "            console.log([gd, 'removed!']);\n",
       "            Plotly.purge(gd);\n",
       "            observer.disconnect();\n",
       "        }}\n",
       "}});\n",
       "\n",
       "// Listen for the removal of the full notebook cells\n",
       "var notebookContainer = gd.closest('#notebook-container');\n",
       "if (notebookContainer) {{\n",
       "    x.observe(notebookContainer, {childList: true});\n",
       "}}\n",
       "\n",
       "// Listen for the clearing of the current output cell\n",
       "var outputEl = gd.closest('.output');\n",
       "if (outputEl) {{\n",
       "    x.observe(outputEl, {childList: true});\n",
       "}}\n",
       "\n",
       "                        })                };                });            </script>        </div>"
      ]
     },
     "metadata": {},
     "output_type": "display_data"
    }
   ],
   "source": [
    "top10_barplot(df, 'GDP')"
   ]
  },
  {
   "cell_type": "markdown",
   "id": "b7e2de74",
   "metadata": {},
   "source": [
    "### GDP per capita of Top 10 Countries"
   ]
  },
  {
   "cell_type": "code",
   "execution_count": 40,
   "id": "f68b52a2",
   "metadata": {},
   "outputs": [
    {
     "data": {
      "application/vnd.plotly.v1+json": {
       "config": {
        "plotlyServerURL": "https://plot.ly"
       },
       "data": [
        {
         "alignmentgroup": "True",
         "hovertemplate": "color=Monaco<br>x=%{x}<br>y=%{y}<br>text=%{text}<extra></extra>",
         "legendgroup": "Monaco",
         "marker": {
          "color": "#636efa",
          "pattern": {
           "shape": ""
          }
         },
         "name": "Monaco",
         "offsetgroup": "Monaco",
         "orientation": "v",
         "showlegend": true,
         "text": [
          184396.98678267119
         ],
         "textposition": "auto",
         "type": "bar",
         "x": [
          "Monaco"
         ],
         "xaxis": "x",
         "y": [
          184396.98678267119
         ],
         "yaxis": "y"
        },
        {
         "alignmentgroup": "True",
         "hovertemplate": "color=Liechtenstein<br>x=%{x}<br>y=%{y}<br>text=%{text}<extra></extra>",
         "legendgroup": "Liechtenstein",
         "marker": {
          "color": "#EF553B",
          "pattern": {
           "shape": ""
          }
         },
         "name": "Liechtenstein",
         "offsetgroup": "Liechtenstein",
         "orientation": "v",
         "showlegend": true,
         "text": [
          172357.4722901707
         ],
         "textposition": "auto",
         "type": "bar",
         "x": [
          "Liechtenstein"
         ],
         "xaxis": "x",
         "y": [
          172357.4722901707
         ],
         "yaxis": "y"
        },
        {
         "alignmentgroup": "True",
         "hovertemplate": "color=Luxembourg<br>x=%{x}<br>y=%{y}<br>text=%{text}<extra></extra>",
         "legendgroup": "Luxembourg",
         "marker": {
          "color": "#00cc96",
          "pattern": {
           "shape": ""
          }
         },
         "name": "Luxembourg",
         "offsetgroup": "Luxembourg",
         "orientation": "v",
         "showlegend": true,
         "text": [
          110172.37314087298
         ],
         "textposition": "auto",
         "type": "bar",
         "x": [
          "Luxembourg"
         ],
         "xaxis": "x",
         "y": [
          110172.37314087298
         ],
         "yaxis": "y"
        },
        {
         "alignmentgroup": "True",
         "hovertemplate": "color=Switzerland<br>x=%{x}<br>y=%{y}<br>text=%{text}<extra></extra>",
         "legendgroup": "Switzerland",
         "marker": {
          "color": "#ab63fa",
          "pattern": {
           "shape": ""
          }
         },
         "name": "Switzerland",
         "offsetgroup": "Switzerland",
         "orientation": "v",
         "showlegend": true,
         "text": [
          81993.72714940654
         ],
         "textposition": "auto",
         "type": "bar",
         "x": [
          "Switzerland"
         ],
         "xaxis": "x",
         "y": [
          81993.72714940654
         ],
         "yaxis": "y"
        },
        {
         "alignmentgroup": "True",
         "hovertemplate": "color=Republic of Ireland<br>x=%{x}<br>y=%{y}<br>text=%{text}<extra></extra>",
         "legendgroup": "Republic of Ireland",
         "marker": {
          "color": "#FFA15A",
          "pattern": {
           "shape": ""
          }
         },
         "name": "Republic of Ireland",
         "offsetgroup": "Republic of Ireland",
         "orientation": "v",
         "showlegend": true,
         "text": [
          77629.9889911643
         ],
         "textposition": "auto",
         "type": "bar",
         "x": [
          "Republic of Ireland"
         ],
         "xaxis": "x",
         "y": [
          77629.9889911643
         ],
         "yaxis": "y"
        },
        {
         "alignmentgroup": "True",
         "hovertemplate": "color=Norway<br>x=%{x}<br>y=%{y}<br>text=%{text}<extra></extra>",
         "legendgroup": "Norway",
         "marker": {
          "color": "#19d3f3",
          "pattern": {
           "shape": ""
          }
         },
         "name": "Norway",
         "offsetgroup": "Norway",
         "orientation": "v",
         "showlegend": true,
         "text": [
          75419.6348687409
         ],
         "textposition": "auto",
         "type": "bar",
         "x": [
          "Norway"
         ],
         "xaxis": "x",
         "y": [
          75419.6348687409
         ],
         "yaxis": "y"
        },
        {
         "alignmentgroup": "True",
         "hovertemplate": "color=Iceland<br>x=%{x}<br>y=%{y}<br>text=%{text}<extra></extra>",
         "legendgroup": "Iceland",
         "marker": {
          "color": "#FF6692",
          "pattern": {
           "shape": ""
          }
         },
         "name": "Iceland",
         "offsetgroup": "Iceland",
         "orientation": "v",
         "showlegend": true,
         "text": [
          66944.82550863102
         ],
         "textposition": "auto",
         "type": "bar",
         "x": [
          "Iceland"
         ],
         "xaxis": "x",
         "y": [
          66944.82550863102
         ],
         "yaxis": "y"
        },
        {
         "alignmentgroup": "True",
         "hovertemplate": "color=United States<br>x=%{x}<br>y=%{y}<br>text=%{text}<extra></extra>",
         "legendgroup": "United States",
         "marker": {
          "color": "#B6E880",
          "pattern": {
           "shape": ""
          }
         },
         "name": "United States",
         "offsetgroup": "United States",
         "orientation": "v",
         "showlegend": true,
         "text": [
          65280.6822413034
         ],
         "textposition": "auto",
         "type": "bar",
         "x": [
          "United States"
         ],
         "xaxis": "x",
         "y": [
          65280.6822413034
         ],
         "yaxis": "y"
        },
        {
         "alignmentgroup": "True",
         "hovertemplate": "color=Singapore<br>x=%{x}<br>y=%{y}<br>text=%{text}<extra></extra>",
         "legendgroup": "Singapore",
         "marker": {
          "color": "#FF97FF",
          "pattern": {
           "shape": ""
          }
         },
         "name": "Singapore",
         "offsetgroup": "Singapore",
         "orientation": "v",
         "showlegend": true,
         "text": [
          65233.28243929371
         ],
         "textposition": "auto",
         "type": "bar",
         "x": [
          "Singapore"
         ],
         "xaxis": "x",
         "y": [
          65233.28243929371
         ],
         "yaxis": "y"
        },
        {
         "alignmentgroup": "True",
         "hovertemplate": "color=Qatar<br>x=%{x}<br>y=%{y}<br>text=%{text}<extra></extra>",
         "legendgroup": "Qatar",
         "marker": {
          "color": "#FECB52",
          "pattern": {
           "shape": ""
          }
         },
         "name": "Qatar",
         "offsetgroup": "Qatar",
         "orientation": "v",
         "showlegend": true,
         "text": [
          64781.73319734314
         ],
         "textposition": "auto",
         "type": "bar",
         "x": [
          "Qatar"
         ],
         "xaxis": "x",
         "y": [
          64781.73319734314
         ],
         "yaxis": "y"
        }
       ],
       "layout": {
        "barmode": "relative",
        "height": 600,
        "legend": {
         "title": {
          "text": "GDP_per_capita"
         },
         "tracegroupgap": 0
        },
        "margin": {
         "l": 80,
         "t": 100
        },
        "showlegend": true,
        "template": {
         "data": {
          "bar": [
           {
            "error_x": {
             "color": "#2a3f5f"
            },
            "error_y": {
             "color": "#2a3f5f"
            },
            "marker": {
             "line": {
              "color": "white",
              "width": 0.5
             },
             "pattern": {
              "fillmode": "overlay",
              "size": 10,
              "solidity": 0.2
             }
            },
            "type": "bar"
           }
          ],
          "barpolar": [
           {
            "marker": {
             "line": {
              "color": "white",
              "width": 0.5
             },
             "pattern": {
              "fillmode": "overlay",
              "size": 10,
              "solidity": 0.2
             }
            },
            "type": "barpolar"
           }
          ],
          "carpet": [
           {
            "aaxis": {
             "endlinecolor": "#2a3f5f",
             "gridcolor": "#C8D4E3",
             "linecolor": "#C8D4E3",
             "minorgridcolor": "#C8D4E3",
             "startlinecolor": "#2a3f5f"
            },
            "baxis": {
             "endlinecolor": "#2a3f5f",
             "gridcolor": "#C8D4E3",
             "linecolor": "#C8D4E3",
             "minorgridcolor": "#C8D4E3",
             "startlinecolor": "#2a3f5f"
            },
            "type": "carpet"
           }
          ],
          "choropleth": [
           {
            "colorbar": {
             "outlinewidth": 0,
             "ticks": ""
            },
            "type": "choropleth"
           }
          ],
          "contour": [
           {
            "colorbar": {
             "outlinewidth": 0,
             "ticks": ""
            },
            "colorscale": [
             [
              0,
              "#0d0887"
             ],
             [
              0.1111111111111111,
              "#46039f"
             ],
             [
              0.2222222222222222,
              "#7201a8"
             ],
             [
              0.3333333333333333,
              "#9c179e"
             ],
             [
              0.4444444444444444,
              "#bd3786"
             ],
             [
              0.5555555555555556,
              "#d8576b"
             ],
             [
              0.6666666666666666,
              "#ed7953"
             ],
             [
              0.7777777777777778,
              "#fb9f3a"
             ],
             [
              0.8888888888888888,
              "#fdca26"
             ],
             [
              1,
              "#f0f921"
             ]
            ],
            "type": "contour"
           }
          ],
          "contourcarpet": [
           {
            "colorbar": {
             "outlinewidth": 0,
             "ticks": ""
            },
            "type": "contourcarpet"
           }
          ],
          "heatmap": [
           {
            "colorbar": {
             "outlinewidth": 0,
             "ticks": ""
            },
            "colorscale": [
             [
              0,
              "#0d0887"
             ],
             [
              0.1111111111111111,
              "#46039f"
             ],
             [
              0.2222222222222222,
              "#7201a8"
             ],
             [
              0.3333333333333333,
              "#9c179e"
             ],
             [
              0.4444444444444444,
              "#bd3786"
             ],
             [
              0.5555555555555556,
              "#d8576b"
             ],
             [
              0.6666666666666666,
              "#ed7953"
             ],
             [
              0.7777777777777778,
              "#fb9f3a"
             ],
             [
              0.8888888888888888,
              "#fdca26"
             ],
             [
              1,
              "#f0f921"
             ]
            ],
            "type": "heatmap"
           }
          ],
          "heatmapgl": [
           {
            "colorbar": {
             "outlinewidth": 0,
             "ticks": ""
            },
            "colorscale": [
             [
              0,
              "#0d0887"
             ],
             [
              0.1111111111111111,
              "#46039f"
             ],
             [
              0.2222222222222222,
              "#7201a8"
             ],
             [
              0.3333333333333333,
              "#9c179e"
             ],
             [
              0.4444444444444444,
              "#bd3786"
             ],
             [
              0.5555555555555556,
              "#d8576b"
             ],
             [
              0.6666666666666666,
              "#ed7953"
             ],
             [
              0.7777777777777778,
              "#fb9f3a"
             ],
             [
              0.8888888888888888,
              "#fdca26"
             ],
             [
              1,
              "#f0f921"
             ]
            ],
            "type": "heatmapgl"
           }
          ],
          "histogram": [
           {
            "marker": {
             "pattern": {
              "fillmode": "overlay",
              "size": 10,
              "solidity": 0.2
             }
            },
            "type": "histogram"
           }
          ],
          "histogram2d": [
           {
            "colorbar": {
             "outlinewidth": 0,
             "ticks": ""
            },
            "colorscale": [
             [
              0,
              "#0d0887"
             ],
             [
              0.1111111111111111,
              "#46039f"
             ],
             [
              0.2222222222222222,
              "#7201a8"
             ],
             [
              0.3333333333333333,
              "#9c179e"
             ],
             [
              0.4444444444444444,
              "#bd3786"
             ],
             [
              0.5555555555555556,
              "#d8576b"
             ],
             [
              0.6666666666666666,
              "#ed7953"
             ],
             [
              0.7777777777777778,
              "#fb9f3a"
             ],
             [
              0.8888888888888888,
              "#fdca26"
             ],
             [
              1,
              "#f0f921"
             ]
            ],
            "type": "histogram2d"
           }
          ],
          "histogram2dcontour": [
           {
            "colorbar": {
             "outlinewidth": 0,
             "ticks": ""
            },
            "colorscale": [
             [
              0,
              "#0d0887"
             ],
             [
              0.1111111111111111,
              "#46039f"
             ],
             [
              0.2222222222222222,
              "#7201a8"
             ],
             [
              0.3333333333333333,
              "#9c179e"
             ],
             [
              0.4444444444444444,
              "#bd3786"
             ],
             [
              0.5555555555555556,
              "#d8576b"
             ],
             [
              0.6666666666666666,
              "#ed7953"
             ],
             [
              0.7777777777777778,
              "#fb9f3a"
             ],
             [
              0.8888888888888888,
              "#fdca26"
             ],
             [
              1,
              "#f0f921"
             ]
            ],
            "type": "histogram2dcontour"
           }
          ],
          "mesh3d": [
           {
            "colorbar": {
             "outlinewidth": 0,
             "ticks": ""
            },
            "type": "mesh3d"
           }
          ],
          "parcoords": [
           {
            "line": {
             "colorbar": {
              "outlinewidth": 0,
              "ticks": ""
             }
            },
            "type": "parcoords"
           }
          ],
          "pie": [
           {
            "automargin": true,
            "type": "pie"
           }
          ],
          "scatter": [
           {
            "fillpattern": {
             "fillmode": "overlay",
             "size": 10,
             "solidity": 0.2
            },
            "type": "scatter"
           }
          ],
          "scatter3d": [
           {
            "line": {
             "colorbar": {
              "outlinewidth": 0,
              "ticks": ""
             }
            },
            "marker": {
             "colorbar": {
              "outlinewidth": 0,
              "ticks": ""
             }
            },
            "type": "scatter3d"
           }
          ],
          "scattercarpet": [
           {
            "marker": {
             "colorbar": {
              "outlinewidth": 0,
              "ticks": ""
             }
            },
            "type": "scattercarpet"
           }
          ],
          "scattergeo": [
           {
            "marker": {
             "colorbar": {
              "outlinewidth": 0,
              "ticks": ""
             }
            },
            "type": "scattergeo"
           }
          ],
          "scattergl": [
           {
            "marker": {
             "colorbar": {
              "outlinewidth": 0,
              "ticks": ""
             }
            },
            "type": "scattergl"
           }
          ],
          "scattermapbox": [
           {
            "marker": {
             "colorbar": {
              "outlinewidth": 0,
              "ticks": ""
             }
            },
            "type": "scattermapbox"
           }
          ],
          "scatterpolar": [
           {
            "marker": {
             "colorbar": {
              "outlinewidth": 0,
              "ticks": ""
             }
            },
            "type": "scatterpolar"
           }
          ],
          "scatterpolargl": [
           {
            "marker": {
             "colorbar": {
              "outlinewidth": 0,
              "ticks": ""
             }
            },
            "type": "scatterpolargl"
           }
          ],
          "scatterternary": [
           {
            "marker": {
             "colorbar": {
              "outlinewidth": 0,
              "ticks": ""
             }
            },
            "type": "scatterternary"
           }
          ],
          "surface": [
           {
            "colorbar": {
             "outlinewidth": 0,
             "ticks": ""
            },
            "colorscale": [
             [
              0,
              "#0d0887"
             ],
             [
              0.1111111111111111,
              "#46039f"
             ],
             [
              0.2222222222222222,
              "#7201a8"
             ],
             [
              0.3333333333333333,
              "#9c179e"
             ],
             [
              0.4444444444444444,
              "#bd3786"
             ],
             [
              0.5555555555555556,
              "#d8576b"
             ],
             [
              0.6666666666666666,
              "#ed7953"
             ],
             [
              0.7777777777777778,
              "#fb9f3a"
             ],
             [
              0.8888888888888888,
              "#fdca26"
             ],
             [
              1,
              "#f0f921"
             ]
            ],
            "type": "surface"
           }
          ],
          "table": [
           {
            "cells": {
             "fill": {
              "color": "#EBF0F8"
             },
             "line": {
              "color": "white"
             }
            },
            "header": {
             "fill": {
              "color": "#C8D4E3"
             },
             "line": {
              "color": "white"
             }
            },
            "type": "table"
           }
          ]
         },
         "layout": {
          "annotationdefaults": {
           "arrowcolor": "#2a3f5f",
           "arrowhead": 0,
           "arrowwidth": 1
          },
          "autotypenumbers": "strict",
          "coloraxis": {
           "colorbar": {
            "outlinewidth": 0,
            "ticks": ""
           }
          },
          "colorscale": {
           "diverging": [
            [
             0,
             "#8e0152"
            ],
            [
             0.1,
             "#c51b7d"
            ],
            [
             0.2,
             "#de77ae"
            ],
            [
             0.3,
             "#f1b6da"
            ],
            [
             0.4,
             "#fde0ef"
            ],
            [
             0.5,
             "#f7f7f7"
            ],
            [
             0.6,
             "#e6f5d0"
            ],
            [
             0.7,
             "#b8e186"
            ],
            [
             0.8,
             "#7fbc41"
            ],
            [
             0.9,
             "#4d9221"
            ],
            [
             1,
             "#276419"
            ]
           ],
           "sequential": [
            [
             0,
             "#0d0887"
            ],
            [
             0.1111111111111111,
             "#46039f"
            ],
            [
             0.2222222222222222,
             "#7201a8"
            ],
            [
             0.3333333333333333,
             "#9c179e"
            ],
            [
             0.4444444444444444,
             "#bd3786"
            ],
            [
             0.5555555555555556,
             "#d8576b"
            ],
            [
             0.6666666666666666,
             "#ed7953"
            ],
            [
             0.7777777777777778,
             "#fb9f3a"
            ],
            [
             0.8888888888888888,
             "#fdca26"
            ],
            [
             1,
             "#f0f921"
            ]
           ],
           "sequentialminus": [
            [
             0,
             "#0d0887"
            ],
            [
             0.1111111111111111,
             "#46039f"
            ],
            [
             0.2222222222222222,
             "#7201a8"
            ],
            [
             0.3333333333333333,
             "#9c179e"
            ],
            [
             0.4444444444444444,
             "#bd3786"
            ],
            [
             0.5555555555555556,
             "#d8576b"
            ],
            [
             0.6666666666666666,
             "#ed7953"
            ],
            [
             0.7777777777777778,
             "#fb9f3a"
            ],
            [
             0.8888888888888888,
             "#fdca26"
            ],
            [
             1,
             "#f0f921"
            ]
           ]
          },
          "colorway": [
           "#636efa",
           "#EF553B",
           "#00cc96",
           "#ab63fa",
           "#FFA15A",
           "#19d3f3",
           "#FF6692",
           "#B6E880",
           "#FF97FF",
           "#FECB52"
          ],
          "font": {
           "color": "#2a3f5f"
          },
          "geo": {
           "bgcolor": "white",
           "lakecolor": "white",
           "landcolor": "white",
           "showlakes": true,
           "showland": true,
           "subunitcolor": "#C8D4E3"
          },
          "hoverlabel": {
           "align": "left"
          },
          "hovermode": "closest",
          "mapbox": {
           "style": "light"
          },
          "paper_bgcolor": "white",
          "plot_bgcolor": "white",
          "polar": {
           "angularaxis": {
            "gridcolor": "#EBF0F8",
            "linecolor": "#EBF0F8",
            "ticks": ""
           },
           "bgcolor": "white",
           "radialaxis": {
            "gridcolor": "#EBF0F8",
            "linecolor": "#EBF0F8",
            "ticks": ""
           }
          },
          "scene": {
           "xaxis": {
            "backgroundcolor": "white",
            "gridcolor": "#DFE8F3",
            "gridwidth": 2,
            "linecolor": "#EBF0F8",
            "showbackground": true,
            "ticks": "",
            "zerolinecolor": "#EBF0F8"
           },
           "yaxis": {
            "backgroundcolor": "white",
            "gridcolor": "#DFE8F3",
            "gridwidth": 2,
            "linecolor": "#EBF0F8",
            "showbackground": true,
            "ticks": "",
            "zerolinecolor": "#EBF0F8"
           },
           "zaxis": {
            "backgroundcolor": "white",
            "gridcolor": "#DFE8F3",
            "gridwidth": 2,
            "linecolor": "#EBF0F8",
            "showbackground": true,
            "ticks": "",
            "zerolinecolor": "#EBF0F8"
           }
          },
          "shapedefaults": {
           "line": {
            "color": "#2a3f5f"
           }
          },
          "ternary": {
           "aaxis": {
            "gridcolor": "#DFE8F3",
            "linecolor": "#A2B1C6",
            "ticks": ""
           },
           "baxis": {
            "gridcolor": "#DFE8F3",
            "linecolor": "#A2B1C6",
            "ticks": ""
           },
           "bgcolor": "white",
           "caxis": {
            "gridcolor": "#DFE8F3",
            "linecolor": "#A2B1C6",
            "ticks": ""
           }
          },
          "title": {
           "x": 0.05
          },
          "xaxis": {
           "automargin": true,
           "gridcolor": "#EBF0F8",
           "linecolor": "#EBF0F8",
           "ticks": "",
           "title": {
            "standoff": 15
           },
           "zerolinecolor": "#EBF0F8",
           "zerolinewidth": 2
          },
          "yaxis": {
           "automargin": true,
           "gridcolor": "#EBF0F8",
           "linecolor": "#EBF0F8",
           "ticks": "",
           "title": {
            "standoff": 15
           },
           "zerolinecolor": "#EBF0F8",
           "zerolinewidth": 2
          }
         }
        },
        "title": {
         "text": "<b>Top 10 highest GDP_per_capita<br> <sup> Barplot</sup></b>"
        },
        "width": 1000,
        "xaxis": {
         "anchor": "y",
         "domain": [
          0,
          1
         ],
         "title": {
          "text": "GDP_per_capita"
         }
        },
        "yaxis": {
         "anchor": "x",
         "domain": [
          0,
          1
         ],
         "title": {
          "text": "Count"
         }
        }
       }
      },
      "text/html": [
       "<div>                            <div id=\"4391f694-626f-4c23-b574-7fa29b2978ec\" class=\"plotly-graph-div\" style=\"height:600px; width:1000px;\"></div>            <script type=\"text/javascript\">                require([\"plotly\"], function(Plotly) {                    window.PLOTLYENV=window.PLOTLYENV || {};                                    if (document.getElementById(\"4391f694-626f-4c23-b574-7fa29b2978ec\")) {                    Plotly.newPlot(                        \"4391f694-626f-4c23-b574-7fa29b2978ec\",                        [{\"alignmentgroup\":\"True\",\"hovertemplate\":\"color=Monaco<br>x=%{x}<br>y=%{y}<br>text=%{text}<extra></extra>\",\"legendgroup\":\"Monaco\",\"marker\":{\"color\":\"#636efa\",\"pattern\":{\"shape\":\"\"}},\"name\":\"Monaco\",\"offsetgroup\":\"Monaco\",\"orientation\":\"v\",\"showlegend\":true,\"text\":[184396.98678267119],\"textposition\":\"auto\",\"x\":[\"Monaco\"],\"xaxis\":\"x\",\"y\":[184396.98678267119],\"yaxis\":\"y\",\"type\":\"bar\"},{\"alignmentgroup\":\"True\",\"hovertemplate\":\"color=Liechtenstein<br>x=%{x}<br>y=%{y}<br>text=%{text}<extra></extra>\",\"legendgroup\":\"Liechtenstein\",\"marker\":{\"color\":\"#EF553B\",\"pattern\":{\"shape\":\"\"}},\"name\":\"Liechtenstein\",\"offsetgroup\":\"Liechtenstein\",\"orientation\":\"v\",\"showlegend\":true,\"text\":[172357.4722901707],\"textposition\":\"auto\",\"x\":[\"Liechtenstein\"],\"xaxis\":\"x\",\"y\":[172357.4722901707],\"yaxis\":\"y\",\"type\":\"bar\"},{\"alignmentgroup\":\"True\",\"hovertemplate\":\"color=Luxembourg<br>x=%{x}<br>y=%{y}<br>text=%{text}<extra></extra>\",\"legendgroup\":\"Luxembourg\",\"marker\":{\"color\":\"#00cc96\",\"pattern\":{\"shape\":\"\"}},\"name\":\"Luxembourg\",\"offsetgroup\":\"Luxembourg\",\"orientation\":\"v\",\"showlegend\":true,\"text\":[110172.37314087298],\"textposition\":\"auto\",\"x\":[\"Luxembourg\"],\"xaxis\":\"x\",\"y\":[110172.37314087298],\"yaxis\":\"y\",\"type\":\"bar\"},{\"alignmentgroup\":\"True\",\"hovertemplate\":\"color=Switzerland<br>x=%{x}<br>y=%{y}<br>text=%{text}<extra></extra>\",\"legendgroup\":\"Switzerland\",\"marker\":{\"color\":\"#ab63fa\",\"pattern\":{\"shape\":\"\"}},\"name\":\"Switzerland\",\"offsetgroup\":\"Switzerland\",\"orientation\":\"v\",\"showlegend\":true,\"text\":[81993.72714940654],\"textposition\":\"auto\",\"x\":[\"Switzerland\"],\"xaxis\":\"x\",\"y\":[81993.72714940654],\"yaxis\":\"y\",\"type\":\"bar\"},{\"alignmentgroup\":\"True\",\"hovertemplate\":\"color=Republic of Ireland<br>x=%{x}<br>y=%{y}<br>text=%{text}<extra></extra>\",\"legendgroup\":\"Republic of Ireland\",\"marker\":{\"color\":\"#FFA15A\",\"pattern\":{\"shape\":\"\"}},\"name\":\"Republic of Ireland\",\"offsetgroup\":\"Republic of Ireland\",\"orientation\":\"v\",\"showlegend\":true,\"text\":[77629.9889911643],\"textposition\":\"auto\",\"x\":[\"Republic of Ireland\"],\"xaxis\":\"x\",\"y\":[77629.9889911643],\"yaxis\":\"y\",\"type\":\"bar\"},{\"alignmentgroup\":\"True\",\"hovertemplate\":\"color=Norway<br>x=%{x}<br>y=%{y}<br>text=%{text}<extra></extra>\",\"legendgroup\":\"Norway\",\"marker\":{\"color\":\"#19d3f3\",\"pattern\":{\"shape\":\"\"}},\"name\":\"Norway\",\"offsetgroup\":\"Norway\",\"orientation\":\"v\",\"showlegend\":true,\"text\":[75419.6348687409],\"textposition\":\"auto\",\"x\":[\"Norway\"],\"xaxis\":\"x\",\"y\":[75419.6348687409],\"yaxis\":\"y\",\"type\":\"bar\"},{\"alignmentgroup\":\"True\",\"hovertemplate\":\"color=Iceland<br>x=%{x}<br>y=%{y}<br>text=%{text}<extra></extra>\",\"legendgroup\":\"Iceland\",\"marker\":{\"color\":\"#FF6692\",\"pattern\":{\"shape\":\"\"}},\"name\":\"Iceland\",\"offsetgroup\":\"Iceland\",\"orientation\":\"v\",\"showlegend\":true,\"text\":[66944.82550863102],\"textposition\":\"auto\",\"x\":[\"Iceland\"],\"xaxis\":\"x\",\"y\":[66944.82550863102],\"yaxis\":\"y\",\"type\":\"bar\"},{\"alignmentgroup\":\"True\",\"hovertemplate\":\"color=United States<br>x=%{x}<br>y=%{y}<br>text=%{text}<extra></extra>\",\"legendgroup\":\"United States\",\"marker\":{\"color\":\"#B6E880\",\"pattern\":{\"shape\":\"\"}},\"name\":\"United States\",\"offsetgroup\":\"United States\",\"orientation\":\"v\",\"showlegend\":true,\"text\":[65280.6822413034],\"textposition\":\"auto\",\"x\":[\"United States\"],\"xaxis\":\"x\",\"y\":[65280.6822413034],\"yaxis\":\"y\",\"type\":\"bar\"},{\"alignmentgroup\":\"True\",\"hovertemplate\":\"color=Singapore<br>x=%{x}<br>y=%{y}<br>text=%{text}<extra></extra>\",\"legendgroup\":\"Singapore\",\"marker\":{\"color\":\"#FF97FF\",\"pattern\":{\"shape\":\"\"}},\"name\":\"Singapore\",\"offsetgroup\":\"Singapore\",\"orientation\":\"v\",\"showlegend\":true,\"text\":[65233.28243929371],\"textposition\":\"auto\",\"x\":[\"Singapore\"],\"xaxis\":\"x\",\"y\":[65233.28243929371],\"yaxis\":\"y\",\"type\":\"bar\"},{\"alignmentgroup\":\"True\",\"hovertemplate\":\"color=Qatar<br>x=%{x}<br>y=%{y}<br>text=%{text}<extra></extra>\",\"legendgroup\":\"Qatar\",\"marker\":{\"color\":\"#FECB52\",\"pattern\":{\"shape\":\"\"}},\"name\":\"Qatar\",\"offsetgroup\":\"Qatar\",\"orientation\":\"v\",\"showlegend\":true,\"text\":[64781.73319734314],\"textposition\":\"auto\",\"x\":[\"Qatar\"],\"xaxis\":\"x\",\"y\":[64781.73319734314],\"yaxis\":\"y\",\"type\":\"bar\"}],                        {\"template\":{\"data\":{\"barpolar\":[{\"marker\":{\"line\":{\"color\":\"white\",\"width\":0.5},\"pattern\":{\"fillmode\":\"overlay\",\"size\":10,\"solidity\":0.2}},\"type\":\"barpolar\"}],\"bar\":[{\"error_x\":{\"color\":\"#2a3f5f\"},\"error_y\":{\"color\":\"#2a3f5f\"},\"marker\":{\"line\":{\"color\":\"white\",\"width\":0.5},\"pattern\":{\"fillmode\":\"overlay\",\"size\":10,\"solidity\":0.2}},\"type\":\"bar\"}],\"carpet\":[{\"aaxis\":{\"endlinecolor\":\"#2a3f5f\",\"gridcolor\":\"#C8D4E3\",\"linecolor\":\"#C8D4E3\",\"minorgridcolor\":\"#C8D4E3\",\"startlinecolor\":\"#2a3f5f\"},\"baxis\":{\"endlinecolor\":\"#2a3f5f\",\"gridcolor\":\"#C8D4E3\",\"linecolor\":\"#C8D4E3\",\"minorgridcolor\":\"#C8D4E3\",\"startlinecolor\":\"#2a3f5f\"},\"type\":\"carpet\"}],\"choropleth\":[{\"colorbar\":{\"outlinewidth\":0,\"ticks\":\"\"},\"type\":\"choropleth\"}],\"contourcarpet\":[{\"colorbar\":{\"outlinewidth\":0,\"ticks\":\"\"},\"type\":\"contourcarpet\"}],\"contour\":[{\"colorbar\":{\"outlinewidth\":0,\"ticks\":\"\"},\"colorscale\":[[0.0,\"#0d0887\"],[0.1111111111111111,\"#46039f\"],[0.2222222222222222,\"#7201a8\"],[0.3333333333333333,\"#9c179e\"],[0.4444444444444444,\"#bd3786\"],[0.5555555555555556,\"#d8576b\"],[0.6666666666666666,\"#ed7953\"],[0.7777777777777778,\"#fb9f3a\"],[0.8888888888888888,\"#fdca26\"],[1.0,\"#f0f921\"]],\"type\":\"contour\"}],\"heatmapgl\":[{\"colorbar\":{\"outlinewidth\":0,\"ticks\":\"\"},\"colorscale\":[[0.0,\"#0d0887\"],[0.1111111111111111,\"#46039f\"],[0.2222222222222222,\"#7201a8\"],[0.3333333333333333,\"#9c179e\"],[0.4444444444444444,\"#bd3786\"],[0.5555555555555556,\"#d8576b\"],[0.6666666666666666,\"#ed7953\"],[0.7777777777777778,\"#fb9f3a\"],[0.8888888888888888,\"#fdca26\"],[1.0,\"#f0f921\"]],\"type\":\"heatmapgl\"}],\"heatmap\":[{\"colorbar\":{\"outlinewidth\":0,\"ticks\":\"\"},\"colorscale\":[[0.0,\"#0d0887\"],[0.1111111111111111,\"#46039f\"],[0.2222222222222222,\"#7201a8\"],[0.3333333333333333,\"#9c179e\"],[0.4444444444444444,\"#bd3786\"],[0.5555555555555556,\"#d8576b\"],[0.6666666666666666,\"#ed7953\"],[0.7777777777777778,\"#fb9f3a\"],[0.8888888888888888,\"#fdca26\"],[1.0,\"#f0f921\"]],\"type\":\"heatmap\"}],\"histogram2dcontour\":[{\"colorbar\":{\"outlinewidth\":0,\"ticks\":\"\"},\"colorscale\":[[0.0,\"#0d0887\"],[0.1111111111111111,\"#46039f\"],[0.2222222222222222,\"#7201a8\"],[0.3333333333333333,\"#9c179e\"],[0.4444444444444444,\"#bd3786\"],[0.5555555555555556,\"#d8576b\"],[0.6666666666666666,\"#ed7953\"],[0.7777777777777778,\"#fb9f3a\"],[0.8888888888888888,\"#fdca26\"],[1.0,\"#f0f921\"]],\"type\":\"histogram2dcontour\"}],\"histogram2d\":[{\"colorbar\":{\"outlinewidth\":0,\"ticks\":\"\"},\"colorscale\":[[0.0,\"#0d0887\"],[0.1111111111111111,\"#46039f\"],[0.2222222222222222,\"#7201a8\"],[0.3333333333333333,\"#9c179e\"],[0.4444444444444444,\"#bd3786\"],[0.5555555555555556,\"#d8576b\"],[0.6666666666666666,\"#ed7953\"],[0.7777777777777778,\"#fb9f3a\"],[0.8888888888888888,\"#fdca26\"],[1.0,\"#f0f921\"]],\"type\":\"histogram2d\"}],\"histogram\":[{\"marker\":{\"pattern\":{\"fillmode\":\"overlay\",\"size\":10,\"solidity\":0.2}},\"type\":\"histogram\"}],\"mesh3d\":[{\"colorbar\":{\"outlinewidth\":0,\"ticks\":\"\"},\"type\":\"mesh3d\"}],\"parcoords\":[{\"line\":{\"colorbar\":{\"outlinewidth\":0,\"ticks\":\"\"}},\"type\":\"parcoords\"}],\"pie\":[{\"automargin\":true,\"type\":\"pie\"}],\"scatter3d\":[{\"line\":{\"colorbar\":{\"outlinewidth\":0,\"ticks\":\"\"}},\"marker\":{\"colorbar\":{\"outlinewidth\":0,\"ticks\":\"\"}},\"type\":\"scatter3d\"}],\"scattercarpet\":[{\"marker\":{\"colorbar\":{\"outlinewidth\":0,\"ticks\":\"\"}},\"type\":\"scattercarpet\"}],\"scattergeo\":[{\"marker\":{\"colorbar\":{\"outlinewidth\":0,\"ticks\":\"\"}},\"type\":\"scattergeo\"}],\"scattergl\":[{\"marker\":{\"colorbar\":{\"outlinewidth\":0,\"ticks\":\"\"}},\"type\":\"scattergl\"}],\"scattermapbox\":[{\"marker\":{\"colorbar\":{\"outlinewidth\":0,\"ticks\":\"\"}},\"type\":\"scattermapbox\"}],\"scatterpolargl\":[{\"marker\":{\"colorbar\":{\"outlinewidth\":0,\"ticks\":\"\"}},\"type\":\"scatterpolargl\"}],\"scatterpolar\":[{\"marker\":{\"colorbar\":{\"outlinewidth\":0,\"ticks\":\"\"}},\"type\":\"scatterpolar\"}],\"scatter\":[{\"fillpattern\":{\"fillmode\":\"overlay\",\"size\":10,\"solidity\":0.2},\"type\":\"scatter\"}],\"scatterternary\":[{\"marker\":{\"colorbar\":{\"outlinewidth\":0,\"ticks\":\"\"}},\"type\":\"scatterternary\"}],\"surface\":[{\"colorbar\":{\"outlinewidth\":0,\"ticks\":\"\"},\"colorscale\":[[0.0,\"#0d0887\"],[0.1111111111111111,\"#46039f\"],[0.2222222222222222,\"#7201a8\"],[0.3333333333333333,\"#9c179e\"],[0.4444444444444444,\"#bd3786\"],[0.5555555555555556,\"#d8576b\"],[0.6666666666666666,\"#ed7953\"],[0.7777777777777778,\"#fb9f3a\"],[0.8888888888888888,\"#fdca26\"],[1.0,\"#f0f921\"]],\"type\":\"surface\"}],\"table\":[{\"cells\":{\"fill\":{\"color\":\"#EBF0F8\"},\"line\":{\"color\":\"white\"}},\"header\":{\"fill\":{\"color\":\"#C8D4E3\"},\"line\":{\"color\":\"white\"}},\"type\":\"table\"}]},\"layout\":{\"annotationdefaults\":{\"arrowcolor\":\"#2a3f5f\",\"arrowhead\":0,\"arrowwidth\":1},\"autotypenumbers\":\"strict\",\"coloraxis\":{\"colorbar\":{\"outlinewidth\":0,\"ticks\":\"\"}},\"colorscale\":{\"diverging\":[[0,\"#8e0152\"],[0.1,\"#c51b7d\"],[0.2,\"#de77ae\"],[0.3,\"#f1b6da\"],[0.4,\"#fde0ef\"],[0.5,\"#f7f7f7\"],[0.6,\"#e6f5d0\"],[0.7,\"#b8e186\"],[0.8,\"#7fbc41\"],[0.9,\"#4d9221\"],[1,\"#276419\"]],\"sequential\":[[0.0,\"#0d0887\"],[0.1111111111111111,\"#46039f\"],[0.2222222222222222,\"#7201a8\"],[0.3333333333333333,\"#9c179e\"],[0.4444444444444444,\"#bd3786\"],[0.5555555555555556,\"#d8576b\"],[0.6666666666666666,\"#ed7953\"],[0.7777777777777778,\"#fb9f3a\"],[0.8888888888888888,\"#fdca26\"],[1.0,\"#f0f921\"]],\"sequentialminus\":[[0.0,\"#0d0887\"],[0.1111111111111111,\"#46039f\"],[0.2222222222222222,\"#7201a8\"],[0.3333333333333333,\"#9c179e\"],[0.4444444444444444,\"#bd3786\"],[0.5555555555555556,\"#d8576b\"],[0.6666666666666666,\"#ed7953\"],[0.7777777777777778,\"#fb9f3a\"],[0.8888888888888888,\"#fdca26\"],[1.0,\"#f0f921\"]]},\"colorway\":[\"#636efa\",\"#EF553B\",\"#00cc96\",\"#ab63fa\",\"#FFA15A\",\"#19d3f3\",\"#FF6692\",\"#B6E880\",\"#FF97FF\",\"#FECB52\"],\"font\":{\"color\":\"#2a3f5f\"},\"geo\":{\"bgcolor\":\"white\",\"lakecolor\":\"white\",\"landcolor\":\"white\",\"showlakes\":true,\"showland\":true,\"subunitcolor\":\"#C8D4E3\"},\"hoverlabel\":{\"align\":\"left\"},\"hovermode\":\"closest\",\"mapbox\":{\"style\":\"light\"},\"paper_bgcolor\":\"white\",\"plot_bgcolor\":\"white\",\"polar\":{\"angularaxis\":{\"gridcolor\":\"#EBF0F8\",\"linecolor\":\"#EBF0F8\",\"ticks\":\"\"},\"bgcolor\":\"white\",\"radialaxis\":{\"gridcolor\":\"#EBF0F8\",\"linecolor\":\"#EBF0F8\",\"ticks\":\"\"}},\"scene\":{\"xaxis\":{\"backgroundcolor\":\"white\",\"gridcolor\":\"#DFE8F3\",\"gridwidth\":2,\"linecolor\":\"#EBF0F8\",\"showbackground\":true,\"ticks\":\"\",\"zerolinecolor\":\"#EBF0F8\"},\"yaxis\":{\"backgroundcolor\":\"white\",\"gridcolor\":\"#DFE8F3\",\"gridwidth\":2,\"linecolor\":\"#EBF0F8\",\"showbackground\":true,\"ticks\":\"\",\"zerolinecolor\":\"#EBF0F8\"},\"zaxis\":{\"backgroundcolor\":\"white\",\"gridcolor\":\"#DFE8F3\",\"gridwidth\":2,\"linecolor\":\"#EBF0F8\",\"showbackground\":true,\"ticks\":\"\",\"zerolinecolor\":\"#EBF0F8\"}},\"shapedefaults\":{\"line\":{\"color\":\"#2a3f5f\"}},\"ternary\":{\"aaxis\":{\"gridcolor\":\"#DFE8F3\",\"linecolor\":\"#A2B1C6\",\"ticks\":\"\"},\"baxis\":{\"gridcolor\":\"#DFE8F3\",\"linecolor\":\"#A2B1C6\",\"ticks\":\"\"},\"bgcolor\":\"white\",\"caxis\":{\"gridcolor\":\"#DFE8F3\",\"linecolor\":\"#A2B1C6\",\"ticks\":\"\"}},\"title\":{\"x\":0.05},\"xaxis\":{\"automargin\":true,\"gridcolor\":\"#EBF0F8\",\"linecolor\":\"#EBF0F8\",\"ticks\":\"\",\"title\":{\"standoff\":15},\"zerolinecolor\":\"#EBF0F8\",\"zerolinewidth\":2},\"yaxis\":{\"automargin\":true,\"gridcolor\":\"#EBF0F8\",\"linecolor\":\"#EBF0F8\",\"ticks\":\"\",\"title\":{\"standoff\":15},\"zerolinecolor\":\"#EBF0F8\",\"zerolinewidth\":2}}},\"xaxis\":{\"anchor\":\"y\",\"domain\":[0.0,1.0],\"title\":{\"text\":\"GDP_per_capita\"}},\"yaxis\":{\"anchor\":\"x\",\"domain\":[0.0,1.0],\"title\":{\"text\":\"Count\"}},\"legend\":{\"title\":{\"text\":\"GDP_per_capita\"},\"tracegroupgap\":0},\"margin\":{\"t\":100,\"l\":80},\"barmode\":\"relative\",\"title\":{\"text\":\"<b>Top 10 highest GDP_per_capita<br> <sup> Barplot</sup></b>\"},\"showlegend\":true,\"height\":600,\"width\":1000},                        {\"responsive\": true}                    ).then(function(){\n",
       "                            \n",
       "var gd = document.getElementById('4391f694-626f-4c23-b574-7fa29b2978ec');\n",
       "var x = new MutationObserver(function (mutations, observer) {{\n",
       "        var display = window.getComputedStyle(gd).display;\n",
       "        if (!display || display === 'none') {{\n",
       "            console.log([gd, 'removed!']);\n",
       "            Plotly.purge(gd);\n",
       "            observer.disconnect();\n",
       "        }}\n",
       "}});\n",
       "\n",
       "// Listen for the removal of the full notebook cells\n",
       "var notebookContainer = gd.closest('#notebook-container');\n",
       "if (notebookContainer) {{\n",
       "    x.observe(notebookContainer, {childList: true});\n",
       "}}\n",
       "\n",
       "// Listen for the clearing of the current output cell\n",
       "var outputEl = gd.closest('.output');\n",
       "if (outputEl) {{\n",
       "    x.observe(outputEl, {childList: true});\n",
       "}}\n",
       "\n",
       "                        })                };                });            </script>        </div>"
      ]
     },
     "metadata": {},
     "output_type": "display_data"
    }
   ],
   "source": [
    "# Top10['GDP_per_capita'].plot(kind=\"bar\")\n",
    "\n",
    "top10_barplot(df, 'GDP_per_capita')"
   ]
  },
  {
   "cell_type": "markdown",
   "id": "f78740b5",
   "metadata": {},
   "source": [
    "## Armed forces Size"
   ]
  },
  {
   "cell_type": "code",
   "execution_count": 41,
   "id": "4e6c1032",
   "metadata": {},
   "outputs": [
    {
     "data": {
      "application/vnd.plotly.v1+json": {
       "config": {
        "plotlyServerURL": "https://plot.ly"
       },
       "data": [
        {
         "alignmentgroup": "True",
         "hovertemplate": "color=India<br>x=%{x}<br>y=%{y}<br>text=%{text}<extra></extra>",
         "legendgroup": "India",
         "marker": {
          "color": "#636efa",
          "pattern": {
           "shape": ""
          }
         },
         "name": "India",
         "offsetgroup": "India",
         "orientation": "v",
         "showlegend": true,
         "text": [
          3031000
         ],
         "textposition": "auto",
         "type": "bar",
         "x": [
          "India"
         ],
         "xaxis": "x",
         "y": [
          3031000
         ],
         "yaxis": "y"
        },
        {
         "alignmentgroup": "True",
         "hovertemplate": "color=China<br>x=%{x}<br>y=%{y}<br>text=%{text}<extra></extra>",
         "legendgroup": "China",
         "marker": {
          "color": "#EF553B",
          "pattern": {
           "shape": ""
          }
         },
         "name": "China",
         "offsetgroup": "China",
         "orientation": "v",
         "showlegend": true,
         "text": [
          2695000
         ],
         "textposition": "auto",
         "type": "bar",
         "x": [
          "China"
         ],
         "xaxis": "x",
         "y": [
          2695000
         ],
         "yaxis": "y"
        },
        {
         "alignmentgroup": "True",
         "hovertemplate": "color=North Korea<br>x=%{x}<br>y=%{y}<br>text=%{text}<extra></extra>",
         "legendgroup": "North Korea",
         "marker": {
          "color": "#00cc96",
          "pattern": {
           "shape": ""
          }
         },
         "name": "North Korea",
         "offsetgroup": "North Korea",
         "orientation": "v",
         "showlegend": true,
         "text": [
          1469000
         ],
         "textposition": "auto",
         "type": "bar",
         "x": [
          "North Korea"
         ],
         "xaxis": "x",
         "y": [
          1469000
         ],
         "yaxis": "y"
        },
        {
         "alignmentgroup": "True",
         "hovertemplate": "color=Russia<br>x=%{x}<br>y=%{y}<br>text=%{text}<extra></extra>",
         "legendgroup": "Russia",
         "marker": {
          "color": "#ab63fa",
          "pattern": {
           "shape": ""
          }
         },
         "name": "Russia",
         "offsetgroup": "Russia",
         "orientation": "v",
         "showlegend": true,
         "text": [
          1454000
         ],
         "textposition": "auto",
         "type": "bar",
         "x": [
          "Russia"
         ],
         "xaxis": "x",
         "y": [
          1454000
         ],
         "yaxis": "y"
        },
        {
         "alignmentgroup": "True",
         "hovertemplate": "color=United States<br>x=%{x}<br>y=%{y}<br>text=%{text}<extra></extra>",
         "legendgroup": "United States",
         "marker": {
          "color": "#FFA15A",
          "pattern": {
           "shape": ""
          }
         },
         "name": "United States",
         "offsetgroup": "United States",
         "orientation": "v",
         "showlegend": true,
         "text": [
          1359000
         ],
         "textposition": "auto",
         "type": "bar",
         "x": [
          "United States"
         ],
         "xaxis": "x",
         "y": [
          1359000
         ],
         "yaxis": "y"
        },
        {
         "alignmentgroup": "True",
         "hovertemplate": "color=Pakistan<br>x=%{x}<br>y=%{y}<br>text=%{text}<extra></extra>",
         "legendgroup": "Pakistan",
         "marker": {
          "color": "#19d3f3",
          "pattern": {
           "shape": ""
          }
         },
         "name": "Pakistan",
         "offsetgroup": "Pakistan",
         "orientation": "v",
         "showlegend": true,
         "text": [
          936000
         ],
         "textposition": "auto",
         "type": "bar",
         "x": [
          "Pakistan"
         ],
         "xaxis": "x",
         "y": [
          936000
         ],
         "yaxis": "y"
        },
        {
         "alignmentgroup": "True",
         "hovertemplate": "color=Egypt<br>x=%{x}<br>y=%{y}<br>text=%{text}<extra></extra>",
         "legendgroup": "Egypt",
         "marker": {
          "color": "#FF6692",
          "pattern": {
           "shape": ""
          }
         },
         "name": "Egypt",
         "offsetgroup": "Egypt",
         "orientation": "v",
         "showlegend": true,
         "text": [
          836000
         ],
         "textposition": "auto",
         "type": "bar",
         "x": [
          "Egypt"
         ],
         "xaxis": "x",
         "y": [
          836000
         ],
         "yaxis": "y"
        },
        {
         "alignmentgroup": "True",
         "hovertemplate": "color=Brazil<br>x=%{x}<br>y=%{y}<br>text=%{text}<extra></extra>",
         "legendgroup": "Brazil",
         "marker": {
          "color": "#B6E880",
          "pattern": {
           "shape": ""
          }
         },
         "name": "Brazil",
         "offsetgroup": "Brazil",
         "orientation": "v",
         "showlegend": true,
         "text": [
          730000
         ],
         "textposition": "auto",
         "type": "bar",
         "x": [
          "Brazil"
         ],
         "xaxis": "x",
         "y": [
          730000
         ],
         "yaxis": "y"
        },
        {
         "alignmentgroup": "True",
         "hovertemplate": "color=Indonesia<br>x=%{x}<br>y=%{y}<br>text=%{text}<extra></extra>",
         "legendgroup": "Indonesia",
         "marker": {
          "color": "#FF97FF",
          "pattern": {
           "shape": ""
          }
         },
         "name": "Indonesia",
         "offsetgroup": "Indonesia",
         "orientation": "v",
         "showlegend": true,
         "text": [
          676000
         ],
         "textposition": "auto",
         "type": "bar",
         "x": [
          "Indonesia"
         ],
         "xaxis": "x",
         "y": [
          676000
         ],
         "yaxis": "y"
        },
        {
         "alignmentgroup": "True",
         "hovertemplate": "color=South Korea<br>x=%{x}<br>y=%{y}<br>text=%{text}<extra></extra>",
         "legendgroup": "South Korea",
         "marker": {
          "color": "#FECB52",
          "pattern": {
           "shape": ""
          }
         },
         "name": "South Korea",
         "offsetgroup": "South Korea",
         "orientation": "v",
         "showlegend": true,
         "text": [
          634000
         ],
         "textposition": "auto",
         "type": "bar",
         "x": [
          "South Korea"
         ],
         "xaxis": "x",
         "y": [
          634000
         ],
         "yaxis": "y"
        }
       ],
       "layout": {
        "barmode": "relative",
        "height": 600,
        "legend": {
         "title": {
          "text": "Armed Forces size"
         },
         "tracegroupgap": 0
        },
        "margin": {
         "l": 80,
         "t": 100
        },
        "showlegend": true,
        "template": {
         "data": {
          "bar": [
           {
            "error_x": {
             "color": "#2a3f5f"
            },
            "error_y": {
             "color": "#2a3f5f"
            },
            "marker": {
             "line": {
              "color": "white",
              "width": 0.5
             },
             "pattern": {
              "fillmode": "overlay",
              "size": 10,
              "solidity": 0.2
             }
            },
            "type": "bar"
           }
          ],
          "barpolar": [
           {
            "marker": {
             "line": {
              "color": "white",
              "width": 0.5
             },
             "pattern": {
              "fillmode": "overlay",
              "size": 10,
              "solidity": 0.2
             }
            },
            "type": "barpolar"
           }
          ],
          "carpet": [
           {
            "aaxis": {
             "endlinecolor": "#2a3f5f",
             "gridcolor": "#C8D4E3",
             "linecolor": "#C8D4E3",
             "minorgridcolor": "#C8D4E3",
             "startlinecolor": "#2a3f5f"
            },
            "baxis": {
             "endlinecolor": "#2a3f5f",
             "gridcolor": "#C8D4E3",
             "linecolor": "#C8D4E3",
             "minorgridcolor": "#C8D4E3",
             "startlinecolor": "#2a3f5f"
            },
            "type": "carpet"
           }
          ],
          "choropleth": [
           {
            "colorbar": {
             "outlinewidth": 0,
             "ticks": ""
            },
            "type": "choropleth"
           }
          ],
          "contour": [
           {
            "colorbar": {
             "outlinewidth": 0,
             "ticks": ""
            },
            "colorscale": [
             [
              0,
              "#0d0887"
             ],
             [
              0.1111111111111111,
              "#46039f"
             ],
             [
              0.2222222222222222,
              "#7201a8"
             ],
             [
              0.3333333333333333,
              "#9c179e"
             ],
             [
              0.4444444444444444,
              "#bd3786"
             ],
             [
              0.5555555555555556,
              "#d8576b"
             ],
             [
              0.6666666666666666,
              "#ed7953"
             ],
             [
              0.7777777777777778,
              "#fb9f3a"
             ],
             [
              0.8888888888888888,
              "#fdca26"
             ],
             [
              1,
              "#f0f921"
             ]
            ],
            "type": "contour"
           }
          ],
          "contourcarpet": [
           {
            "colorbar": {
             "outlinewidth": 0,
             "ticks": ""
            },
            "type": "contourcarpet"
           }
          ],
          "heatmap": [
           {
            "colorbar": {
             "outlinewidth": 0,
             "ticks": ""
            },
            "colorscale": [
             [
              0,
              "#0d0887"
             ],
             [
              0.1111111111111111,
              "#46039f"
             ],
             [
              0.2222222222222222,
              "#7201a8"
             ],
             [
              0.3333333333333333,
              "#9c179e"
             ],
             [
              0.4444444444444444,
              "#bd3786"
             ],
             [
              0.5555555555555556,
              "#d8576b"
             ],
             [
              0.6666666666666666,
              "#ed7953"
             ],
             [
              0.7777777777777778,
              "#fb9f3a"
             ],
             [
              0.8888888888888888,
              "#fdca26"
             ],
             [
              1,
              "#f0f921"
             ]
            ],
            "type": "heatmap"
           }
          ],
          "heatmapgl": [
           {
            "colorbar": {
             "outlinewidth": 0,
             "ticks": ""
            },
            "colorscale": [
             [
              0,
              "#0d0887"
             ],
             [
              0.1111111111111111,
              "#46039f"
             ],
             [
              0.2222222222222222,
              "#7201a8"
             ],
             [
              0.3333333333333333,
              "#9c179e"
             ],
             [
              0.4444444444444444,
              "#bd3786"
             ],
             [
              0.5555555555555556,
              "#d8576b"
             ],
             [
              0.6666666666666666,
              "#ed7953"
             ],
             [
              0.7777777777777778,
              "#fb9f3a"
             ],
             [
              0.8888888888888888,
              "#fdca26"
             ],
             [
              1,
              "#f0f921"
             ]
            ],
            "type": "heatmapgl"
           }
          ],
          "histogram": [
           {
            "marker": {
             "pattern": {
              "fillmode": "overlay",
              "size": 10,
              "solidity": 0.2
             }
            },
            "type": "histogram"
           }
          ],
          "histogram2d": [
           {
            "colorbar": {
             "outlinewidth": 0,
             "ticks": ""
            },
            "colorscale": [
             [
              0,
              "#0d0887"
             ],
             [
              0.1111111111111111,
              "#46039f"
             ],
             [
              0.2222222222222222,
              "#7201a8"
             ],
             [
              0.3333333333333333,
              "#9c179e"
             ],
             [
              0.4444444444444444,
              "#bd3786"
             ],
             [
              0.5555555555555556,
              "#d8576b"
             ],
             [
              0.6666666666666666,
              "#ed7953"
             ],
             [
              0.7777777777777778,
              "#fb9f3a"
             ],
             [
              0.8888888888888888,
              "#fdca26"
             ],
             [
              1,
              "#f0f921"
             ]
            ],
            "type": "histogram2d"
           }
          ],
          "histogram2dcontour": [
           {
            "colorbar": {
             "outlinewidth": 0,
             "ticks": ""
            },
            "colorscale": [
             [
              0,
              "#0d0887"
             ],
             [
              0.1111111111111111,
              "#46039f"
             ],
             [
              0.2222222222222222,
              "#7201a8"
             ],
             [
              0.3333333333333333,
              "#9c179e"
             ],
             [
              0.4444444444444444,
              "#bd3786"
             ],
             [
              0.5555555555555556,
              "#d8576b"
             ],
             [
              0.6666666666666666,
              "#ed7953"
             ],
             [
              0.7777777777777778,
              "#fb9f3a"
             ],
             [
              0.8888888888888888,
              "#fdca26"
             ],
             [
              1,
              "#f0f921"
             ]
            ],
            "type": "histogram2dcontour"
           }
          ],
          "mesh3d": [
           {
            "colorbar": {
             "outlinewidth": 0,
             "ticks": ""
            },
            "type": "mesh3d"
           }
          ],
          "parcoords": [
           {
            "line": {
             "colorbar": {
              "outlinewidth": 0,
              "ticks": ""
             }
            },
            "type": "parcoords"
           }
          ],
          "pie": [
           {
            "automargin": true,
            "type": "pie"
           }
          ],
          "scatter": [
           {
            "fillpattern": {
             "fillmode": "overlay",
             "size": 10,
             "solidity": 0.2
            },
            "type": "scatter"
           }
          ],
          "scatter3d": [
           {
            "line": {
             "colorbar": {
              "outlinewidth": 0,
              "ticks": ""
             }
            },
            "marker": {
             "colorbar": {
              "outlinewidth": 0,
              "ticks": ""
             }
            },
            "type": "scatter3d"
           }
          ],
          "scattercarpet": [
           {
            "marker": {
             "colorbar": {
              "outlinewidth": 0,
              "ticks": ""
             }
            },
            "type": "scattercarpet"
           }
          ],
          "scattergeo": [
           {
            "marker": {
             "colorbar": {
              "outlinewidth": 0,
              "ticks": ""
             }
            },
            "type": "scattergeo"
           }
          ],
          "scattergl": [
           {
            "marker": {
             "colorbar": {
              "outlinewidth": 0,
              "ticks": ""
             }
            },
            "type": "scattergl"
           }
          ],
          "scattermapbox": [
           {
            "marker": {
             "colorbar": {
              "outlinewidth": 0,
              "ticks": ""
             }
            },
            "type": "scattermapbox"
           }
          ],
          "scatterpolar": [
           {
            "marker": {
             "colorbar": {
              "outlinewidth": 0,
              "ticks": ""
             }
            },
            "type": "scatterpolar"
           }
          ],
          "scatterpolargl": [
           {
            "marker": {
             "colorbar": {
              "outlinewidth": 0,
              "ticks": ""
             }
            },
            "type": "scatterpolargl"
           }
          ],
          "scatterternary": [
           {
            "marker": {
             "colorbar": {
              "outlinewidth": 0,
              "ticks": ""
             }
            },
            "type": "scatterternary"
           }
          ],
          "surface": [
           {
            "colorbar": {
             "outlinewidth": 0,
             "ticks": ""
            },
            "colorscale": [
             [
              0,
              "#0d0887"
             ],
             [
              0.1111111111111111,
              "#46039f"
             ],
             [
              0.2222222222222222,
              "#7201a8"
             ],
             [
              0.3333333333333333,
              "#9c179e"
             ],
             [
              0.4444444444444444,
              "#bd3786"
             ],
             [
              0.5555555555555556,
              "#d8576b"
             ],
             [
              0.6666666666666666,
              "#ed7953"
             ],
             [
              0.7777777777777778,
              "#fb9f3a"
             ],
             [
              0.8888888888888888,
              "#fdca26"
             ],
             [
              1,
              "#f0f921"
             ]
            ],
            "type": "surface"
           }
          ],
          "table": [
           {
            "cells": {
             "fill": {
              "color": "#EBF0F8"
             },
             "line": {
              "color": "white"
             }
            },
            "header": {
             "fill": {
              "color": "#C8D4E3"
             },
             "line": {
              "color": "white"
             }
            },
            "type": "table"
           }
          ]
         },
         "layout": {
          "annotationdefaults": {
           "arrowcolor": "#2a3f5f",
           "arrowhead": 0,
           "arrowwidth": 1
          },
          "autotypenumbers": "strict",
          "coloraxis": {
           "colorbar": {
            "outlinewidth": 0,
            "ticks": ""
           }
          },
          "colorscale": {
           "diverging": [
            [
             0,
             "#8e0152"
            ],
            [
             0.1,
             "#c51b7d"
            ],
            [
             0.2,
             "#de77ae"
            ],
            [
             0.3,
             "#f1b6da"
            ],
            [
             0.4,
             "#fde0ef"
            ],
            [
             0.5,
             "#f7f7f7"
            ],
            [
             0.6,
             "#e6f5d0"
            ],
            [
             0.7,
             "#b8e186"
            ],
            [
             0.8,
             "#7fbc41"
            ],
            [
             0.9,
             "#4d9221"
            ],
            [
             1,
             "#276419"
            ]
           ],
           "sequential": [
            [
             0,
             "#0d0887"
            ],
            [
             0.1111111111111111,
             "#46039f"
            ],
            [
             0.2222222222222222,
             "#7201a8"
            ],
            [
             0.3333333333333333,
             "#9c179e"
            ],
            [
             0.4444444444444444,
             "#bd3786"
            ],
            [
             0.5555555555555556,
             "#d8576b"
            ],
            [
             0.6666666666666666,
             "#ed7953"
            ],
            [
             0.7777777777777778,
             "#fb9f3a"
            ],
            [
             0.8888888888888888,
             "#fdca26"
            ],
            [
             1,
             "#f0f921"
            ]
           ],
           "sequentialminus": [
            [
             0,
             "#0d0887"
            ],
            [
             0.1111111111111111,
             "#46039f"
            ],
            [
             0.2222222222222222,
             "#7201a8"
            ],
            [
             0.3333333333333333,
             "#9c179e"
            ],
            [
             0.4444444444444444,
             "#bd3786"
            ],
            [
             0.5555555555555556,
             "#d8576b"
            ],
            [
             0.6666666666666666,
             "#ed7953"
            ],
            [
             0.7777777777777778,
             "#fb9f3a"
            ],
            [
             0.8888888888888888,
             "#fdca26"
            ],
            [
             1,
             "#f0f921"
            ]
           ]
          },
          "colorway": [
           "#636efa",
           "#EF553B",
           "#00cc96",
           "#ab63fa",
           "#FFA15A",
           "#19d3f3",
           "#FF6692",
           "#B6E880",
           "#FF97FF",
           "#FECB52"
          ],
          "font": {
           "color": "#2a3f5f"
          },
          "geo": {
           "bgcolor": "white",
           "lakecolor": "white",
           "landcolor": "white",
           "showlakes": true,
           "showland": true,
           "subunitcolor": "#C8D4E3"
          },
          "hoverlabel": {
           "align": "left"
          },
          "hovermode": "closest",
          "mapbox": {
           "style": "light"
          },
          "paper_bgcolor": "white",
          "plot_bgcolor": "white",
          "polar": {
           "angularaxis": {
            "gridcolor": "#EBF0F8",
            "linecolor": "#EBF0F8",
            "ticks": ""
           },
           "bgcolor": "white",
           "radialaxis": {
            "gridcolor": "#EBF0F8",
            "linecolor": "#EBF0F8",
            "ticks": ""
           }
          },
          "scene": {
           "xaxis": {
            "backgroundcolor": "white",
            "gridcolor": "#DFE8F3",
            "gridwidth": 2,
            "linecolor": "#EBF0F8",
            "showbackground": true,
            "ticks": "",
            "zerolinecolor": "#EBF0F8"
           },
           "yaxis": {
            "backgroundcolor": "white",
            "gridcolor": "#DFE8F3",
            "gridwidth": 2,
            "linecolor": "#EBF0F8",
            "showbackground": true,
            "ticks": "",
            "zerolinecolor": "#EBF0F8"
           },
           "zaxis": {
            "backgroundcolor": "white",
            "gridcolor": "#DFE8F3",
            "gridwidth": 2,
            "linecolor": "#EBF0F8",
            "showbackground": true,
            "ticks": "",
            "zerolinecolor": "#EBF0F8"
           }
          },
          "shapedefaults": {
           "line": {
            "color": "#2a3f5f"
           }
          },
          "ternary": {
           "aaxis": {
            "gridcolor": "#DFE8F3",
            "linecolor": "#A2B1C6",
            "ticks": ""
           },
           "baxis": {
            "gridcolor": "#DFE8F3",
            "linecolor": "#A2B1C6",
            "ticks": ""
           },
           "bgcolor": "white",
           "caxis": {
            "gridcolor": "#DFE8F3",
            "linecolor": "#A2B1C6",
            "ticks": ""
           }
          },
          "title": {
           "x": 0.05
          },
          "xaxis": {
           "automargin": true,
           "gridcolor": "#EBF0F8",
           "linecolor": "#EBF0F8",
           "ticks": "",
           "title": {
            "standoff": 15
           },
           "zerolinecolor": "#EBF0F8",
           "zerolinewidth": 2
          },
          "yaxis": {
           "automargin": true,
           "gridcolor": "#EBF0F8",
           "linecolor": "#EBF0F8",
           "ticks": "",
           "title": {
            "standoff": 15
           },
           "zerolinecolor": "#EBF0F8",
           "zerolinewidth": 2
          }
         }
        },
        "title": {
         "text": "<b>Top 10 highest Armed Forces size<br> <sup> Barplot</sup></b>"
        },
        "width": 1000,
        "xaxis": {
         "anchor": "y",
         "domain": [
          0,
          1
         ],
         "title": {
          "text": "Armed Forces size"
         }
        },
        "yaxis": {
         "anchor": "x",
         "domain": [
          0,
          1
         ],
         "title": {
          "text": "Count"
         }
        }
       }
      },
      "text/html": [
       "<div>                            <div id=\"ab9f88fd-1eb7-4378-b68c-e0acef1acacd\" class=\"plotly-graph-div\" style=\"height:600px; width:1000px;\"></div>            <script type=\"text/javascript\">                require([\"plotly\"], function(Plotly) {                    window.PLOTLYENV=window.PLOTLYENV || {};                                    if (document.getElementById(\"ab9f88fd-1eb7-4378-b68c-e0acef1acacd\")) {                    Plotly.newPlot(                        \"ab9f88fd-1eb7-4378-b68c-e0acef1acacd\",                        [{\"alignmentgroup\":\"True\",\"hovertemplate\":\"color=India<br>x=%{x}<br>y=%{y}<br>text=%{text}<extra></extra>\",\"legendgroup\":\"India\",\"marker\":{\"color\":\"#636efa\",\"pattern\":{\"shape\":\"\"}},\"name\":\"India\",\"offsetgroup\":\"India\",\"orientation\":\"v\",\"showlegend\":true,\"text\":[3031000.0],\"textposition\":\"auto\",\"x\":[\"India\"],\"xaxis\":\"x\",\"y\":[3031000.0],\"yaxis\":\"y\",\"type\":\"bar\"},{\"alignmentgroup\":\"True\",\"hovertemplate\":\"color=China<br>x=%{x}<br>y=%{y}<br>text=%{text}<extra></extra>\",\"legendgroup\":\"China\",\"marker\":{\"color\":\"#EF553B\",\"pattern\":{\"shape\":\"\"}},\"name\":\"China\",\"offsetgroup\":\"China\",\"orientation\":\"v\",\"showlegend\":true,\"text\":[2695000.0],\"textposition\":\"auto\",\"x\":[\"China\"],\"xaxis\":\"x\",\"y\":[2695000.0],\"yaxis\":\"y\",\"type\":\"bar\"},{\"alignmentgroup\":\"True\",\"hovertemplate\":\"color=North Korea<br>x=%{x}<br>y=%{y}<br>text=%{text}<extra></extra>\",\"legendgroup\":\"North Korea\",\"marker\":{\"color\":\"#00cc96\",\"pattern\":{\"shape\":\"\"}},\"name\":\"North Korea\",\"offsetgroup\":\"North Korea\",\"orientation\":\"v\",\"showlegend\":true,\"text\":[1469000.0],\"textposition\":\"auto\",\"x\":[\"North Korea\"],\"xaxis\":\"x\",\"y\":[1469000.0],\"yaxis\":\"y\",\"type\":\"bar\"},{\"alignmentgroup\":\"True\",\"hovertemplate\":\"color=Russia<br>x=%{x}<br>y=%{y}<br>text=%{text}<extra></extra>\",\"legendgroup\":\"Russia\",\"marker\":{\"color\":\"#ab63fa\",\"pattern\":{\"shape\":\"\"}},\"name\":\"Russia\",\"offsetgroup\":\"Russia\",\"orientation\":\"v\",\"showlegend\":true,\"text\":[1454000.0],\"textposition\":\"auto\",\"x\":[\"Russia\"],\"xaxis\":\"x\",\"y\":[1454000.0],\"yaxis\":\"y\",\"type\":\"bar\"},{\"alignmentgroup\":\"True\",\"hovertemplate\":\"color=United States<br>x=%{x}<br>y=%{y}<br>text=%{text}<extra></extra>\",\"legendgroup\":\"United States\",\"marker\":{\"color\":\"#FFA15A\",\"pattern\":{\"shape\":\"\"}},\"name\":\"United States\",\"offsetgroup\":\"United States\",\"orientation\":\"v\",\"showlegend\":true,\"text\":[1359000.0],\"textposition\":\"auto\",\"x\":[\"United States\"],\"xaxis\":\"x\",\"y\":[1359000.0],\"yaxis\":\"y\",\"type\":\"bar\"},{\"alignmentgroup\":\"True\",\"hovertemplate\":\"color=Pakistan<br>x=%{x}<br>y=%{y}<br>text=%{text}<extra></extra>\",\"legendgroup\":\"Pakistan\",\"marker\":{\"color\":\"#19d3f3\",\"pattern\":{\"shape\":\"\"}},\"name\":\"Pakistan\",\"offsetgroup\":\"Pakistan\",\"orientation\":\"v\",\"showlegend\":true,\"text\":[936000.0],\"textposition\":\"auto\",\"x\":[\"Pakistan\"],\"xaxis\":\"x\",\"y\":[936000.0],\"yaxis\":\"y\",\"type\":\"bar\"},{\"alignmentgroup\":\"True\",\"hovertemplate\":\"color=Egypt<br>x=%{x}<br>y=%{y}<br>text=%{text}<extra></extra>\",\"legendgroup\":\"Egypt\",\"marker\":{\"color\":\"#FF6692\",\"pattern\":{\"shape\":\"\"}},\"name\":\"Egypt\",\"offsetgroup\":\"Egypt\",\"orientation\":\"v\",\"showlegend\":true,\"text\":[836000.0],\"textposition\":\"auto\",\"x\":[\"Egypt\"],\"xaxis\":\"x\",\"y\":[836000.0],\"yaxis\":\"y\",\"type\":\"bar\"},{\"alignmentgroup\":\"True\",\"hovertemplate\":\"color=Brazil<br>x=%{x}<br>y=%{y}<br>text=%{text}<extra></extra>\",\"legendgroup\":\"Brazil\",\"marker\":{\"color\":\"#B6E880\",\"pattern\":{\"shape\":\"\"}},\"name\":\"Brazil\",\"offsetgroup\":\"Brazil\",\"orientation\":\"v\",\"showlegend\":true,\"text\":[730000.0],\"textposition\":\"auto\",\"x\":[\"Brazil\"],\"xaxis\":\"x\",\"y\":[730000.0],\"yaxis\":\"y\",\"type\":\"bar\"},{\"alignmentgroup\":\"True\",\"hovertemplate\":\"color=Indonesia<br>x=%{x}<br>y=%{y}<br>text=%{text}<extra></extra>\",\"legendgroup\":\"Indonesia\",\"marker\":{\"color\":\"#FF97FF\",\"pattern\":{\"shape\":\"\"}},\"name\":\"Indonesia\",\"offsetgroup\":\"Indonesia\",\"orientation\":\"v\",\"showlegend\":true,\"text\":[676000.0],\"textposition\":\"auto\",\"x\":[\"Indonesia\"],\"xaxis\":\"x\",\"y\":[676000.0],\"yaxis\":\"y\",\"type\":\"bar\"},{\"alignmentgroup\":\"True\",\"hovertemplate\":\"color=South Korea<br>x=%{x}<br>y=%{y}<br>text=%{text}<extra></extra>\",\"legendgroup\":\"South Korea\",\"marker\":{\"color\":\"#FECB52\",\"pattern\":{\"shape\":\"\"}},\"name\":\"South Korea\",\"offsetgroup\":\"South Korea\",\"orientation\":\"v\",\"showlegend\":true,\"text\":[634000.0],\"textposition\":\"auto\",\"x\":[\"South Korea\"],\"xaxis\":\"x\",\"y\":[634000.0],\"yaxis\":\"y\",\"type\":\"bar\"}],                        {\"template\":{\"data\":{\"barpolar\":[{\"marker\":{\"line\":{\"color\":\"white\",\"width\":0.5},\"pattern\":{\"fillmode\":\"overlay\",\"size\":10,\"solidity\":0.2}},\"type\":\"barpolar\"}],\"bar\":[{\"error_x\":{\"color\":\"#2a3f5f\"},\"error_y\":{\"color\":\"#2a3f5f\"},\"marker\":{\"line\":{\"color\":\"white\",\"width\":0.5},\"pattern\":{\"fillmode\":\"overlay\",\"size\":10,\"solidity\":0.2}},\"type\":\"bar\"}],\"carpet\":[{\"aaxis\":{\"endlinecolor\":\"#2a3f5f\",\"gridcolor\":\"#C8D4E3\",\"linecolor\":\"#C8D4E3\",\"minorgridcolor\":\"#C8D4E3\",\"startlinecolor\":\"#2a3f5f\"},\"baxis\":{\"endlinecolor\":\"#2a3f5f\",\"gridcolor\":\"#C8D4E3\",\"linecolor\":\"#C8D4E3\",\"minorgridcolor\":\"#C8D4E3\",\"startlinecolor\":\"#2a3f5f\"},\"type\":\"carpet\"}],\"choropleth\":[{\"colorbar\":{\"outlinewidth\":0,\"ticks\":\"\"},\"type\":\"choropleth\"}],\"contourcarpet\":[{\"colorbar\":{\"outlinewidth\":0,\"ticks\":\"\"},\"type\":\"contourcarpet\"}],\"contour\":[{\"colorbar\":{\"outlinewidth\":0,\"ticks\":\"\"},\"colorscale\":[[0.0,\"#0d0887\"],[0.1111111111111111,\"#46039f\"],[0.2222222222222222,\"#7201a8\"],[0.3333333333333333,\"#9c179e\"],[0.4444444444444444,\"#bd3786\"],[0.5555555555555556,\"#d8576b\"],[0.6666666666666666,\"#ed7953\"],[0.7777777777777778,\"#fb9f3a\"],[0.8888888888888888,\"#fdca26\"],[1.0,\"#f0f921\"]],\"type\":\"contour\"}],\"heatmapgl\":[{\"colorbar\":{\"outlinewidth\":0,\"ticks\":\"\"},\"colorscale\":[[0.0,\"#0d0887\"],[0.1111111111111111,\"#46039f\"],[0.2222222222222222,\"#7201a8\"],[0.3333333333333333,\"#9c179e\"],[0.4444444444444444,\"#bd3786\"],[0.5555555555555556,\"#d8576b\"],[0.6666666666666666,\"#ed7953\"],[0.7777777777777778,\"#fb9f3a\"],[0.8888888888888888,\"#fdca26\"],[1.0,\"#f0f921\"]],\"type\":\"heatmapgl\"}],\"heatmap\":[{\"colorbar\":{\"outlinewidth\":0,\"ticks\":\"\"},\"colorscale\":[[0.0,\"#0d0887\"],[0.1111111111111111,\"#46039f\"],[0.2222222222222222,\"#7201a8\"],[0.3333333333333333,\"#9c179e\"],[0.4444444444444444,\"#bd3786\"],[0.5555555555555556,\"#d8576b\"],[0.6666666666666666,\"#ed7953\"],[0.7777777777777778,\"#fb9f3a\"],[0.8888888888888888,\"#fdca26\"],[1.0,\"#f0f921\"]],\"type\":\"heatmap\"}],\"histogram2dcontour\":[{\"colorbar\":{\"outlinewidth\":0,\"ticks\":\"\"},\"colorscale\":[[0.0,\"#0d0887\"],[0.1111111111111111,\"#46039f\"],[0.2222222222222222,\"#7201a8\"],[0.3333333333333333,\"#9c179e\"],[0.4444444444444444,\"#bd3786\"],[0.5555555555555556,\"#d8576b\"],[0.6666666666666666,\"#ed7953\"],[0.7777777777777778,\"#fb9f3a\"],[0.8888888888888888,\"#fdca26\"],[1.0,\"#f0f921\"]],\"type\":\"histogram2dcontour\"}],\"histogram2d\":[{\"colorbar\":{\"outlinewidth\":0,\"ticks\":\"\"},\"colorscale\":[[0.0,\"#0d0887\"],[0.1111111111111111,\"#46039f\"],[0.2222222222222222,\"#7201a8\"],[0.3333333333333333,\"#9c179e\"],[0.4444444444444444,\"#bd3786\"],[0.5555555555555556,\"#d8576b\"],[0.6666666666666666,\"#ed7953\"],[0.7777777777777778,\"#fb9f3a\"],[0.8888888888888888,\"#fdca26\"],[1.0,\"#f0f921\"]],\"type\":\"histogram2d\"}],\"histogram\":[{\"marker\":{\"pattern\":{\"fillmode\":\"overlay\",\"size\":10,\"solidity\":0.2}},\"type\":\"histogram\"}],\"mesh3d\":[{\"colorbar\":{\"outlinewidth\":0,\"ticks\":\"\"},\"type\":\"mesh3d\"}],\"parcoords\":[{\"line\":{\"colorbar\":{\"outlinewidth\":0,\"ticks\":\"\"}},\"type\":\"parcoords\"}],\"pie\":[{\"automargin\":true,\"type\":\"pie\"}],\"scatter3d\":[{\"line\":{\"colorbar\":{\"outlinewidth\":0,\"ticks\":\"\"}},\"marker\":{\"colorbar\":{\"outlinewidth\":0,\"ticks\":\"\"}},\"type\":\"scatter3d\"}],\"scattercarpet\":[{\"marker\":{\"colorbar\":{\"outlinewidth\":0,\"ticks\":\"\"}},\"type\":\"scattercarpet\"}],\"scattergeo\":[{\"marker\":{\"colorbar\":{\"outlinewidth\":0,\"ticks\":\"\"}},\"type\":\"scattergeo\"}],\"scattergl\":[{\"marker\":{\"colorbar\":{\"outlinewidth\":0,\"ticks\":\"\"}},\"type\":\"scattergl\"}],\"scattermapbox\":[{\"marker\":{\"colorbar\":{\"outlinewidth\":0,\"ticks\":\"\"}},\"type\":\"scattermapbox\"}],\"scatterpolargl\":[{\"marker\":{\"colorbar\":{\"outlinewidth\":0,\"ticks\":\"\"}},\"type\":\"scatterpolargl\"}],\"scatterpolar\":[{\"marker\":{\"colorbar\":{\"outlinewidth\":0,\"ticks\":\"\"}},\"type\":\"scatterpolar\"}],\"scatter\":[{\"fillpattern\":{\"fillmode\":\"overlay\",\"size\":10,\"solidity\":0.2},\"type\":\"scatter\"}],\"scatterternary\":[{\"marker\":{\"colorbar\":{\"outlinewidth\":0,\"ticks\":\"\"}},\"type\":\"scatterternary\"}],\"surface\":[{\"colorbar\":{\"outlinewidth\":0,\"ticks\":\"\"},\"colorscale\":[[0.0,\"#0d0887\"],[0.1111111111111111,\"#46039f\"],[0.2222222222222222,\"#7201a8\"],[0.3333333333333333,\"#9c179e\"],[0.4444444444444444,\"#bd3786\"],[0.5555555555555556,\"#d8576b\"],[0.6666666666666666,\"#ed7953\"],[0.7777777777777778,\"#fb9f3a\"],[0.8888888888888888,\"#fdca26\"],[1.0,\"#f0f921\"]],\"type\":\"surface\"}],\"table\":[{\"cells\":{\"fill\":{\"color\":\"#EBF0F8\"},\"line\":{\"color\":\"white\"}},\"header\":{\"fill\":{\"color\":\"#C8D4E3\"},\"line\":{\"color\":\"white\"}},\"type\":\"table\"}]},\"layout\":{\"annotationdefaults\":{\"arrowcolor\":\"#2a3f5f\",\"arrowhead\":0,\"arrowwidth\":1},\"autotypenumbers\":\"strict\",\"coloraxis\":{\"colorbar\":{\"outlinewidth\":0,\"ticks\":\"\"}},\"colorscale\":{\"diverging\":[[0,\"#8e0152\"],[0.1,\"#c51b7d\"],[0.2,\"#de77ae\"],[0.3,\"#f1b6da\"],[0.4,\"#fde0ef\"],[0.5,\"#f7f7f7\"],[0.6,\"#e6f5d0\"],[0.7,\"#b8e186\"],[0.8,\"#7fbc41\"],[0.9,\"#4d9221\"],[1,\"#276419\"]],\"sequential\":[[0.0,\"#0d0887\"],[0.1111111111111111,\"#46039f\"],[0.2222222222222222,\"#7201a8\"],[0.3333333333333333,\"#9c179e\"],[0.4444444444444444,\"#bd3786\"],[0.5555555555555556,\"#d8576b\"],[0.6666666666666666,\"#ed7953\"],[0.7777777777777778,\"#fb9f3a\"],[0.8888888888888888,\"#fdca26\"],[1.0,\"#f0f921\"]],\"sequentialminus\":[[0.0,\"#0d0887\"],[0.1111111111111111,\"#46039f\"],[0.2222222222222222,\"#7201a8\"],[0.3333333333333333,\"#9c179e\"],[0.4444444444444444,\"#bd3786\"],[0.5555555555555556,\"#d8576b\"],[0.6666666666666666,\"#ed7953\"],[0.7777777777777778,\"#fb9f3a\"],[0.8888888888888888,\"#fdca26\"],[1.0,\"#f0f921\"]]},\"colorway\":[\"#636efa\",\"#EF553B\",\"#00cc96\",\"#ab63fa\",\"#FFA15A\",\"#19d3f3\",\"#FF6692\",\"#B6E880\",\"#FF97FF\",\"#FECB52\"],\"font\":{\"color\":\"#2a3f5f\"},\"geo\":{\"bgcolor\":\"white\",\"lakecolor\":\"white\",\"landcolor\":\"white\",\"showlakes\":true,\"showland\":true,\"subunitcolor\":\"#C8D4E3\"},\"hoverlabel\":{\"align\":\"left\"},\"hovermode\":\"closest\",\"mapbox\":{\"style\":\"light\"},\"paper_bgcolor\":\"white\",\"plot_bgcolor\":\"white\",\"polar\":{\"angularaxis\":{\"gridcolor\":\"#EBF0F8\",\"linecolor\":\"#EBF0F8\",\"ticks\":\"\"},\"bgcolor\":\"white\",\"radialaxis\":{\"gridcolor\":\"#EBF0F8\",\"linecolor\":\"#EBF0F8\",\"ticks\":\"\"}},\"scene\":{\"xaxis\":{\"backgroundcolor\":\"white\",\"gridcolor\":\"#DFE8F3\",\"gridwidth\":2,\"linecolor\":\"#EBF0F8\",\"showbackground\":true,\"ticks\":\"\",\"zerolinecolor\":\"#EBF0F8\"},\"yaxis\":{\"backgroundcolor\":\"white\",\"gridcolor\":\"#DFE8F3\",\"gridwidth\":2,\"linecolor\":\"#EBF0F8\",\"showbackground\":true,\"ticks\":\"\",\"zerolinecolor\":\"#EBF0F8\"},\"zaxis\":{\"backgroundcolor\":\"white\",\"gridcolor\":\"#DFE8F3\",\"gridwidth\":2,\"linecolor\":\"#EBF0F8\",\"showbackground\":true,\"ticks\":\"\",\"zerolinecolor\":\"#EBF0F8\"}},\"shapedefaults\":{\"line\":{\"color\":\"#2a3f5f\"}},\"ternary\":{\"aaxis\":{\"gridcolor\":\"#DFE8F3\",\"linecolor\":\"#A2B1C6\",\"ticks\":\"\"},\"baxis\":{\"gridcolor\":\"#DFE8F3\",\"linecolor\":\"#A2B1C6\",\"ticks\":\"\"},\"bgcolor\":\"white\",\"caxis\":{\"gridcolor\":\"#DFE8F3\",\"linecolor\":\"#A2B1C6\",\"ticks\":\"\"}},\"title\":{\"x\":0.05},\"xaxis\":{\"automargin\":true,\"gridcolor\":\"#EBF0F8\",\"linecolor\":\"#EBF0F8\",\"ticks\":\"\",\"title\":{\"standoff\":15},\"zerolinecolor\":\"#EBF0F8\",\"zerolinewidth\":2},\"yaxis\":{\"automargin\":true,\"gridcolor\":\"#EBF0F8\",\"linecolor\":\"#EBF0F8\",\"ticks\":\"\",\"title\":{\"standoff\":15},\"zerolinecolor\":\"#EBF0F8\",\"zerolinewidth\":2}}},\"xaxis\":{\"anchor\":\"y\",\"domain\":[0.0,1.0],\"title\":{\"text\":\"Armed Forces size\"}},\"yaxis\":{\"anchor\":\"x\",\"domain\":[0.0,1.0],\"title\":{\"text\":\"Count\"}},\"legend\":{\"title\":{\"text\":\"Armed Forces size\"},\"tracegroupgap\":0},\"margin\":{\"t\":100,\"l\":80},\"barmode\":\"relative\",\"title\":{\"text\":\"<b>Top 10 highest Armed Forces size<br> <sup> Barplot</sup></b>\"},\"showlegend\":true,\"height\":600,\"width\":1000},                        {\"responsive\": true}                    ).then(function(){\n",
       "                            \n",
       "var gd = document.getElementById('ab9f88fd-1eb7-4378-b68c-e0acef1acacd');\n",
       "var x = new MutationObserver(function (mutations, observer) {{\n",
       "        var display = window.getComputedStyle(gd).display;\n",
       "        if (!display || display === 'none') {{\n",
       "            console.log([gd, 'removed!']);\n",
       "            Plotly.purge(gd);\n",
       "            observer.disconnect();\n",
       "        }}\n",
       "}});\n",
       "\n",
       "// Listen for the removal of the full notebook cells\n",
       "var notebookContainer = gd.closest('#notebook-container');\n",
       "if (notebookContainer) {{\n",
       "    x.observe(notebookContainer, {childList: true});\n",
       "}}\n",
       "\n",
       "// Listen for the clearing of the current output cell\n",
       "var outputEl = gd.closest('.output');\n",
       "if (outputEl) {{\n",
       "    x.observe(outputEl, {childList: true});\n",
       "}}\n",
       "\n",
       "                        })                };                });            </script>        </div>"
      ]
     },
     "metadata": {},
     "output_type": "display_data"
    }
   ],
   "source": [
    "top10_barplot(df, 'Armed Forces size')"
   ]
  },
  {
   "cell_type": "markdown",
   "id": "ba329aa7",
   "metadata": {},
   "source": [
    "## Inflation\n",
    "\n"
   ]
  },
  {
   "cell_type": "code",
   "execution_count": 42,
   "id": "73bfd0bf",
   "metadata": {},
   "outputs": [
    {
     "data": {
      "application/vnd.plotly.v1+json": {
       "config": {
        "plotlyServerURL": "https://plot.ly"
       },
       "data": [
        {
         "alignmentgroup": "True",
         "hovertemplate": "color=South Sudan<br>x=%{x}<br>y=%{y}<br>text=%{text}<extra></extra>",
         "legendgroup": "South Sudan",
         "marker": {
          "color": "#636efa",
          "pattern": {
           "shape": ""
          }
         },
         "name": "South Sudan",
         "offsetgroup": "South Sudan",
         "orientation": "v",
         "showlegend": true,
         "text": [
          4583.71
         ],
         "textposition": "auto",
         "type": "bar",
         "x": [
          "South Sudan"
         ],
         "xaxis": "x",
         "y": [
          4583.71
         ],
         "yaxis": "y"
        },
        {
         "alignmentgroup": "True",
         "hovertemplate": "color=Venezuela<br>x=%{x}<br>y=%{y}<br>text=%{text}<extra></extra>",
         "legendgroup": "Venezuela",
         "marker": {
          "color": "#EF553B",
          "pattern": {
           "shape": ""
          }
         },
         "name": "Venezuela",
         "offsetgroup": "Venezuela",
         "orientation": "v",
         "showlegend": true,
         "text": [
          2740.27
         ],
         "textposition": "auto",
         "type": "bar",
         "x": [
          "Venezuela"
         ],
         "xaxis": "x",
         "y": [
          2740.27
         ],
         "yaxis": "y"
        },
        {
         "alignmentgroup": "True",
         "hovertemplate": "color=Sudan<br>x=%{x}<br>y=%{y}<br>text=%{text}<extra></extra>",
         "legendgroup": "Sudan",
         "marker": {
          "color": "#00cc96",
          "pattern": {
           "shape": ""
          }
         },
         "name": "Sudan",
         "offsetgroup": "Sudan",
         "orientation": "v",
         "showlegend": true,
         "text": [
          1344.19
         ],
         "textposition": "auto",
         "type": "bar",
         "x": [
          "Sudan"
         ],
         "xaxis": "x",
         "y": [
          1344.19
         ],
         "yaxis": "y"
        },
        {
         "alignmentgroup": "True",
         "hovertemplate": "color=Iran<br>x=%{x}<br>y=%{y}<br>text=%{text}<extra></extra>",
         "legendgroup": "Iran",
         "marker": {
          "color": "#ab63fa",
          "pattern": {
           "shape": ""
          }
         },
         "name": "Iran",
         "offsetgroup": "Iran",
         "orientation": "v",
         "showlegend": true,
         "text": [
          550.93
         ],
         "textposition": "auto",
         "type": "bar",
         "x": [
          "Iran"
         ],
         "xaxis": "x",
         "y": [
          550.93
         ],
         "yaxis": "y"
        },
        {
         "alignmentgroup": "True",
         "hovertemplate": "color=Malawi<br>x=%{x}<br>y=%{y}<br>text=%{text}<extra></extra>",
         "legendgroup": "Malawi",
         "marker": {
          "color": "#FFA15A",
          "pattern": {
           "shape": ""
          }
         },
         "name": "Malawi",
         "offsetgroup": "Malawi",
         "orientation": "v",
         "showlegend": true,
         "text": [
          418.34
         ],
         "textposition": "auto",
         "type": "bar",
         "x": [
          "Malawi"
         ],
         "xaxis": "x",
         "y": [
          418.34
         ],
         "yaxis": "y"
        },
        {
         "alignmentgroup": "True",
         "hovertemplate": "color=Suriname<br>x=%{x}<br>y=%{y}<br>text=%{text}<extra></extra>",
         "legendgroup": "Suriname",
         "marker": {
          "color": "#19d3f3",
          "pattern": {
           "shape": ""
          }
         },
         "name": "Suriname",
         "offsetgroup": "Suriname",
         "orientation": "v",
         "showlegend": true,
         "text": [
          294.66
         ],
         "textposition": "auto",
         "type": "bar",
         "x": [
          "Suriname"
         ],
         "xaxis": "x",
         "y": [
          294.66
         ],
         "yaxis": "y"
        },
        {
         "alignmentgroup": "True",
         "hovertemplate": "color=Egypt<br>x=%{x}<br>y=%{y}<br>text=%{text}<extra></extra>",
         "legendgroup": "Egypt",
         "marker": {
          "color": "#FF6692",
          "pattern": {
           "shape": ""
          }
         },
         "name": "Egypt",
         "offsetgroup": "Egypt",
         "orientation": "v",
         "showlegend": true,
         "text": [
          288.57
         ],
         "textposition": "auto",
         "type": "bar",
         "x": [
          "Egypt"
         ],
         "xaxis": "x",
         "y": [
          288.57
         ],
         "yaxis": "y"
        },
        {
         "alignmentgroup": "True",
         "hovertemplate": "color=Ukraine<br>x=%{x}<br>y=%{y}<br>text=%{text}<extra></extra>",
         "legendgroup": "Ukraine",
         "marker": {
          "color": "#B6E880",
          "pattern": {
           "shape": ""
          }
         },
         "name": "Ukraine",
         "offsetgroup": "Ukraine",
         "orientation": "v",
         "showlegend": true,
         "text": [
          281.66
         ],
         "textposition": "auto",
         "type": "bar",
         "x": [
          "Ukraine"
         ],
         "xaxis": "x",
         "y": [
          281.66
         ],
         "yaxis": "y"
        },
        {
         "alignmentgroup": "True",
         "hovertemplate": "color=Ghana<br>x=%{x}<br>y=%{y}<br>text=%{text}<extra></extra>",
         "legendgroup": "Ghana",
         "marker": {
          "color": "#FF97FF",
          "pattern": {
           "shape": ""
          }
         },
         "name": "Ghana",
         "offsetgroup": "Ghana",
         "orientation": "v",
         "showlegend": true,
         "text": [
          268.36
         ],
         "textposition": "auto",
         "type": "bar",
         "x": [
          "Ghana"
         ],
         "xaxis": "x",
         "y": [
          268.36
         ],
         "yaxis": "y"
        },
        {
         "alignmentgroup": "True",
         "hovertemplate": "color=Nigeria<br>x=%{x}<br>y=%{y}<br>text=%{text}<extra></extra>",
         "legendgroup": "Nigeria",
         "marker": {
          "color": "#FECB52",
          "pattern": {
           "shape": ""
          }
         },
         "name": "Nigeria",
         "offsetgroup": "Nigeria",
         "orientation": "v",
         "showlegend": true,
         "text": [
          267.51
         ],
         "textposition": "auto",
         "type": "bar",
         "x": [
          "Nigeria"
         ],
         "xaxis": "x",
         "y": [
          267.51
         ],
         "yaxis": "y"
        }
       ],
       "layout": {
        "barmode": "relative",
        "height": 600,
        "legend": {
         "title": {
          "text": "CPI"
         },
         "tracegroupgap": 0
        },
        "margin": {
         "l": 80,
         "t": 100
        },
        "showlegend": true,
        "template": {
         "data": {
          "bar": [
           {
            "error_x": {
             "color": "#2a3f5f"
            },
            "error_y": {
             "color": "#2a3f5f"
            },
            "marker": {
             "line": {
              "color": "white",
              "width": 0.5
             },
             "pattern": {
              "fillmode": "overlay",
              "size": 10,
              "solidity": 0.2
             }
            },
            "type": "bar"
           }
          ],
          "barpolar": [
           {
            "marker": {
             "line": {
              "color": "white",
              "width": 0.5
             },
             "pattern": {
              "fillmode": "overlay",
              "size": 10,
              "solidity": 0.2
             }
            },
            "type": "barpolar"
           }
          ],
          "carpet": [
           {
            "aaxis": {
             "endlinecolor": "#2a3f5f",
             "gridcolor": "#C8D4E3",
             "linecolor": "#C8D4E3",
             "minorgridcolor": "#C8D4E3",
             "startlinecolor": "#2a3f5f"
            },
            "baxis": {
             "endlinecolor": "#2a3f5f",
             "gridcolor": "#C8D4E3",
             "linecolor": "#C8D4E3",
             "minorgridcolor": "#C8D4E3",
             "startlinecolor": "#2a3f5f"
            },
            "type": "carpet"
           }
          ],
          "choropleth": [
           {
            "colorbar": {
             "outlinewidth": 0,
             "ticks": ""
            },
            "type": "choropleth"
           }
          ],
          "contour": [
           {
            "colorbar": {
             "outlinewidth": 0,
             "ticks": ""
            },
            "colorscale": [
             [
              0,
              "#0d0887"
             ],
             [
              0.1111111111111111,
              "#46039f"
             ],
             [
              0.2222222222222222,
              "#7201a8"
             ],
             [
              0.3333333333333333,
              "#9c179e"
             ],
             [
              0.4444444444444444,
              "#bd3786"
             ],
             [
              0.5555555555555556,
              "#d8576b"
             ],
             [
              0.6666666666666666,
              "#ed7953"
             ],
             [
              0.7777777777777778,
              "#fb9f3a"
             ],
             [
              0.8888888888888888,
              "#fdca26"
             ],
             [
              1,
              "#f0f921"
             ]
            ],
            "type": "contour"
           }
          ],
          "contourcarpet": [
           {
            "colorbar": {
             "outlinewidth": 0,
             "ticks": ""
            },
            "type": "contourcarpet"
           }
          ],
          "heatmap": [
           {
            "colorbar": {
             "outlinewidth": 0,
             "ticks": ""
            },
            "colorscale": [
             [
              0,
              "#0d0887"
             ],
             [
              0.1111111111111111,
              "#46039f"
             ],
             [
              0.2222222222222222,
              "#7201a8"
             ],
             [
              0.3333333333333333,
              "#9c179e"
             ],
             [
              0.4444444444444444,
              "#bd3786"
             ],
             [
              0.5555555555555556,
              "#d8576b"
             ],
             [
              0.6666666666666666,
              "#ed7953"
             ],
             [
              0.7777777777777778,
              "#fb9f3a"
             ],
             [
              0.8888888888888888,
              "#fdca26"
             ],
             [
              1,
              "#f0f921"
             ]
            ],
            "type": "heatmap"
           }
          ],
          "heatmapgl": [
           {
            "colorbar": {
             "outlinewidth": 0,
             "ticks": ""
            },
            "colorscale": [
             [
              0,
              "#0d0887"
             ],
             [
              0.1111111111111111,
              "#46039f"
             ],
             [
              0.2222222222222222,
              "#7201a8"
             ],
             [
              0.3333333333333333,
              "#9c179e"
             ],
             [
              0.4444444444444444,
              "#bd3786"
             ],
             [
              0.5555555555555556,
              "#d8576b"
             ],
             [
              0.6666666666666666,
              "#ed7953"
             ],
             [
              0.7777777777777778,
              "#fb9f3a"
             ],
             [
              0.8888888888888888,
              "#fdca26"
             ],
             [
              1,
              "#f0f921"
             ]
            ],
            "type": "heatmapgl"
           }
          ],
          "histogram": [
           {
            "marker": {
             "pattern": {
              "fillmode": "overlay",
              "size": 10,
              "solidity": 0.2
             }
            },
            "type": "histogram"
           }
          ],
          "histogram2d": [
           {
            "colorbar": {
             "outlinewidth": 0,
             "ticks": ""
            },
            "colorscale": [
             [
              0,
              "#0d0887"
             ],
             [
              0.1111111111111111,
              "#46039f"
             ],
             [
              0.2222222222222222,
              "#7201a8"
             ],
             [
              0.3333333333333333,
              "#9c179e"
             ],
             [
              0.4444444444444444,
              "#bd3786"
             ],
             [
              0.5555555555555556,
              "#d8576b"
             ],
             [
              0.6666666666666666,
              "#ed7953"
             ],
             [
              0.7777777777777778,
              "#fb9f3a"
             ],
             [
              0.8888888888888888,
              "#fdca26"
             ],
             [
              1,
              "#f0f921"
             ]
            ],
            "type": "histogram2d"
           }
          ],
          "histogram2dcontour": [
           {
            "colorbar": {
             "outlinewidth": 0,
             "ticks": ""
            },
            "colorscale": [
             [
              0,
              "#0d0887"
             ],
             [
              0.1111111111111111,
              "#46039f"
             ],
             [
              0.2222222222222222,
              "#7201a8"
             ],
             [
              0.3333333333333333,
              "#9c179e"
             ],
             [
              0.4444444444444444,
              "#bd3786"
             ],
             [
              0.5555555555555556,
              "#d8576b"
             ],
             [
              0.6666666666666666,
              "#ed7953"
             ],
             [
              0.7777777777777778,
              "#fb9f3a"
             ],
             [
              0.8888888888888888,
              "#fdca26"
             ],
             [
              1,
              "#f0f921"
             ]
            ],
            "type": "histogram2dcontour"
           }
          ],
          "mesh3d": [
           {
            "colorbar": {
             "outlinewidth": 0,
             "ticks": ""
            },
            "type": "mesh3d"
           }
          ],
          "parcoords": [
           {
            "line": {
             "colorbar": {
              "outlinewidth": 0,
              "ticks": ""
             }
            },
            "type": "parcoords"
           }
          ],
          "pie": [
           {
            "automargin": true,
            "type": "pie"
           }
          ],
          "scatter": [
           {
            "fillpattern": {
             "fillmode": "overlay",
             "size": 10,
             "solidity": 0.2
            },
            "type": "scatter"
           }
          ],
          "scatter3d": [
           {
            "line": {
             "colorbar": {
              "outlinewidth": 0,
              "ticks": ""
             }
            },
            "marker": {
             "colorbar": {
              "outlinewidth": 0,
              "ticks": ""
             }
            },
            "type": "scatter3d"
           }
          ],
          "scattercarpet": [
           {
            "marker": {
             "colorbar": {
              "outlinewidth": 0,
              "ticks": ""
             }
            },
            "type": "scattercarpet"
           }
          ],
          "scattergeo": [
           {
            "marker": {
             "colorbar": {
              "outlinewidth": 0,
              "ticks": ""
             }
            },
            "type": "scattergeo"
           }
          ],
          "scattergl": [
           {
            "marker": {
             "colorbar": {
              "outlinewidth": 0,
              "ticks": ""
             }
            },
            "type": "scattergl"
           }
          ],
          "scattermapbox": [
           {
            "marker": {
             "colorbar": {
              "outlinewidth": 0,
              "ticks": ""
             }
            },
            "type": "scattermapbox"
           }
          ],
          "scatterpolar": [
           {
            "marker": {
             "colorbar": {
              "outlinewidth": 0,
              "ticks": ""
             }
            },
            "type": "scatterpolar"
           }
          ],
          "scatterpolargl": [
           {
            "marker": {
             "colorbar": {
              "outlinewidth": 0,
              "ticks": ""
             }
            },
            "type": "scatterpolargl"
           }
          ],
          "scatterternary": [
           {
            "marker": {
             "colorbar": {
              "outlinewidth": 0,
              "ticks": ""
             }
            },
            "type": "scatterternary"
           }
          ],
          "surface": [
           {
            "colorbar": {
             "outlinewidth": 0,
             "ticks": ""
            },
            "colorscale": [
             [
              0,
              "#0d0887"
             ],
             [
              0.1111111111111111,
              "#46039f"
             ],
             [
              0.2222222222222222,
              "#7201a8"
             ],
             [
              0.3333333333333333,
              "#9c179e"
             ],
             [
              0.4444444444444444,
              "#bd3786"
             ],
             [
              0.5555555555555556,
              "#d8576b"
             ],
             [
              0.6666666666666666,
              "#ed7953"
             ],
             [
              0.7777777777777778,
              "#fb9f3a"
             ],
             [
              0.8888888888888888,
              "#fdca26"
             ],
             [
              1,
              "#f0f921"
             ]
            ],
            "type": "surface"
           }
          ],
          "table": [
           {
            "cells": {
             "fill": {
              "color": "#EBF0F8"
             },
             "line": {
              "color": "white"
             }
            },
            "header": {
             "fill": {
              "color": "#C8D4E3"
             },
             "line": {
              "color": "white"
             }
            },
            "type": "table"
           }
          ]
         },
         "layout": {
          "annotationdefaults": {
           "arrowcolor": "#2a3f5f",
           "arrowhead": 0,
           "arrowwidth": 1
          },
          "autotypenumbers": "strict",
          "coloraxis": {
           "colorbar": {
            "outlinewidth": 0,
            "ticks": ""
           }
          },
          "colorscale": {
           "diverging": [
            [
             0,
             "#8e0152"
            ],
            [
             0.1,
             "#c51b7d"
            ],
            [
             0.2,
             "#de77ae"
            ],
            [
             0.3,
             "#f1b6da"
            ],
            [
             0.4,
             "#fde0ef"
            ],
            [
             0.5,
             "#f7f7f7"
            ],
            [
             0.6,
             "#e6f5d0"
            ],
            [
             0.7,
             "#b8e186"
            ],
            [
             0.8,
             "#7fbc41"
            ],
            [
             0.9,
             "#4d9221"
            ],
            [
             1,
             "#276419"
            ]
           ],
           "sequential": [
            [
             0,
             "#0d0887"
            ],
            [
             0.1111111111111111,
             "#46039f"
            ],
            [
             0.2222222222222222,
             "#7201a8"
            ],
            [
             0.3333333333333333,
             "#9c179e"
            ],
            [
             0.4444444444444444,
             "#bd3786"
            ],
            [
             0.5555555555555556,
             "#d8576b"
            ],
            [
             0.6666666666666666,
             "#ed7953"
            ],
            [
             0.7777777777777778,
             "#fb9f3a"
            ],
            [
             0.8888888888888888,
             "#fdca26"
            ],
            [
             1,
             "#f0f921"
            ]
           ],
           "sequentialminus": [
            [
             0,
             "#0d0887"
            ],
            [
             0.1111111111111111,
             "#46039f"
            ],
            [
             0.2222222222222222,
             "#7201a8"
            ],
            [
             0.3333333333333333,
             "#9c179e"
            ],
            [
             0.4444444444444444,
             "#bd3786"
            ],
            [
             0.5555555555555556,
             "#d8576b"
            ],
            [
             0.6666666666666666,
             "#ed7953"
            ],
            [
             0.7777777777777778,
             "#fb9f3a"
            ],
            [
             0.8888888888888888,
             "#fdca26"
            ],
            [
             1,
             "#f0f921"
            ]
           ]
          },
          "colorway": [
           "#636efa",
           "#EF553B",
           "#00cc96",
           "#ab63fa",
           "#FFA15A",
           "#19d3f3",
           "#FF6692",
           "#B6E880",
           "#FF97FF",
           "#FECB52"
          ],
          "font": {
           "color": "#2a3f5f"
          },
          "geo": {
           "bgcolor": "white",
           "lakecolor": "white",
           "landcolor": "white",
           "showlakes": true,
           "showland": true,
           "subunitcolor": "#C8D4E3"
          },
          "hoverlabel": {
           "align": "left"
          },
          "hovermode": "closest",
          "mapbox": {
           "style": "light"
          },
          "paper_bgcolor": "white",
          "plot_bgcolor": "white",
          "polar": {
           "angularaxis": {
            "gridcolor": "#EBF0F8",
            "linecolor": "#EBF0F8",
            "ticks": ""
           },
           "bgcolor": "white",
           "radialaxis": {
            "gridcolor": "#EBF0F8",
            "linecolor": "#EBF0F8",
            "ticks": ""
           }
          },
          "scene": {
           "xaxis": {
            "backgroundcolor": "white",
            "gridcolor": "#DFE8F3",
            "gridwidth": 2,
            "linecolor": "#EBF0F8",
            "showbackground": true,
            "ticks": "",
            "zerolinecolor": "#EBF0F8"
           },
           "yaxis": {
            "backgroundcolor": "white",
            "gridcolor": "#DFE8F3",
            "gridwidth": 2,
            "linecolor": "#EBF0F8",
            "showbackground": true,
            "ticks": "",
            "zerolinecolor": "#EBF0F8"
           },
           "zaxis": {
            "backgroundcolor": "white",
            "gridcolor": "#DFE8F3",
            "gridwidth": 2,
            "linecolor": "#EBF0F8",
            "showbackground": true,
            "ticks": "",
            "zerolinecolor": "#EBF0F8"
           }
          },
          "shapedefaults": {
           "line": {
            "color": "#2a3f5f"
           }
          },
          "ternary": {
           "aaxis": {
            "gridcolor": "#DFE8F3",
            "linecolor": "#A2B1C6",
            "ticks": ""
           },
           "baxis": {
            "gridcolor": "#DFE8F3",
            "linecolor": "#A2B1C6",
            "ticks": ""
           },
           "bgcolor": "white",
           "caxis": {
            "gridcolor": "#DFE8F3",
            "linecolor": "#A2B1C6",
            "ticks": ""
           }
          },
          "title": {
           "x": 0.05
          },
          "xaxis": {
           "automargin": true,
           "gridcolor": "#EBF0F8",
           "linecolor": "#EBF0F8",
           "ticks": "",
           "title": {
            "standoff": 15
           },
           "zerolinecolor": "#EBF0F8",
           "zerolinewidth": 2
          },
          "yaxis": {
           "automargin": true,
           "gridcolor": "#EBF0F8",
           "linecolor": "#EBF0F8",
           "ticks": "",
           "title": {
            "standoff": 15
           },
           "zerolinecolor": "#EBF0F8",
           "zerolinewidth": 2
          }
         }
        },
        "title": {
         "text": "<b>Top 10 highest CPI<br> <sup> Barplot</sup></b>"
        },
        "width": 1000,
        "xaxis": {
         "anchor": "y",
         "domain": [
          0,
          1
         ],
         "title": {
          "text": "CPI"
         }
        },
        "yaxis": {
         "anchor": "x",
         "domain": [
          0,
          1
         ],
         "title": {
          "text": "Count"
         }
        }
       }
      },
      "text/html": [
       "<div>                            <div id=\"097a392e-8d26-4bca-92fe-0983ba93cc0a\" class=\"plotly-graph-div\" style=\"height:600px; width:1000px;\"></div>            <script type=\"text/javascript\">                require([\"plotly\"], function(Plotly) {                    window.PLOTLYENV=window.PLOTLYENV || {};                                    if (document.getElementById(\"097a392e-8d26-4bca-92fe-0983ba93cc0a\")) {                    Plotly.newPlot(                        \"097a392e-8d26-4bca-92fe-0983ba93cc0a\",                        [{\"alignmentgroup\":\"True\",\"hovertemplate\":\"color=South Sudan<br>x=%{x}<br>y=%{y}<br>text=%{text}<extra></extra>\",\"legendgroup\":\"South Sudan\",\"marker\":{\"color\":\"#636efa\",\"pattern\":{\"shape\":\"\"}},\"name\":\"South Sudan\",\"offsetgroup\":\"South Sudan\",\"orientation\":\"v\",\"showlegend\":true,\"text\":[4583.71],\"textposition\":\"auto\",\"x\":[\"South Sudan\"],\"xaxis\":\"x\",\"y\":[4583.71],\"yaxis\":\"y\",\"type\":\"bar\"},{\"alignmentgroup\":\"True\",\"hovertemplate\":\"color=Venezuela<br>x=%{x}<br>y=%{y}<br>text=%{text}<extra></extra>\",\"legendgroup\":\"Venezuela\",\"marker\":{\"color\":\"#EF553B\",\"pattern\":{\"shape\":\"\"}},\"name\":\"Venezuela\",\"offsetgroup\":\"Venezuela\",\"orientation\":\"v\",\"showlegend\":true,\"text\":[2740.27],\"textposition\":\"auto\",\"x\":[\"Venezuela\"],\"xaxis\":\"x\",\"y\":[2740.27],\"yaxis\":\"y\",\"type\":\"bar\"},{\"alignmentgroup\":\"True\",\"hovertemplate\":\"color=Sudan<br>x=%{x}<br>y=%{y}<br>text=%{text}<extra></extra>\",\"legendgroup\":\"Sudan\",\"marker\":{\"color\":\"#00cc96\",\"pattern\":{\"shape\":\"\"}},\"name\":\"Sudan\",\"offsetgroup\":\"Sudan\",\"orientation\":\"v\",\"showlegend\":true,\"text\":[1344.19],\"textposition\":\"auto\",\"x\":[\"Sudan\"],\"xaxis\":\"x\",\"y\":[1344.19],\"yaxis\":\"y\",\"type\":\"bar\"},{\"alignmentgroup\":\"True\",\"hovertemplate\":\"color=Iran<br>x=%{x}<br>y=%{y}<br>text=%{text}<extra></extra>\",\"legendgroup\":\"Iran\",\"marker\":{\"color\":\"#ab63fa\",\"pattern\":{\"shape\":\"\"}},\"name\":\"Iran\",\"offsetgroup\":\"Iran\",\"orientation\":\"v\",\"showlegend\":true,\"text\":[550.93],\"textposition\":\"auto\",\"x\":[\"Iran\"],\"xaxis\":\"x\",\"y\":[550.93],\"yaxis\":\"y\",\"type\":\"bar\"},{\"alignmentgroup\":\"True\",\"hovertemplate\":\"color=Malawi<br>x=%{x}<br>y=%{y}<br>text=%{text}<extra></extra>\",\"legendgroup\":\"Malawi\",\"marker\":{\"color\":\"#FFA15A\",\"pattern\":{\"shape\":\"\"}},\"name\":\"Malawi\",\"offsetgroup\":\"Malawi\",\"orientation\":\"v\",\"showlegend\":true,\"text\":[418.34],\"textposition\":\"auto\",\"x\":[\"Malawi\"],\"xaxis\":\"x\",\"y\":[418.34],\"yaxis\":\"y\",\"type\":\"bar\"},{\"alignmentgroup\":\"True\",\"hovertemplate\":\"color=Suriname<br>x=%{x}<br>y=%{y}<br>text=%{text}<extra></extra>\",\"legendgroup\":\"Suriname\",\"marker\":{\"color\":\"#19d3f3\",\"pattern\":{\"shape\":\"\"}},\"name\":\"Suriname\",\"offsetgroup\":\"Suriname\",\"orientation\":\"v\",\"showlegend\":true,\"text\":[294.66],\"textposition\":\"auto\",\"x\":[\"Suriname\"],\"xaxis\":\"x\",\"y\":[294.66],\"yaxis\":\"y\",\"type\":\"bar\"},{\"alignmentgroup\":\"True\",\"hovertemplate\":\"color=Egypt<br>x=%{x}<br>y=%{y}<br>text=%{text}<extra></extra>\",\"legendgroup\":\"Egypt\",\"marker\":{\"color\":\"#FF6692\",\"pattern\":{\"shape\":\"\"}},\"name\":\"Egypt\",\"offsetgroup\":\"Egypt\",\"orientation\":\"v\",\"showlegend\":true,\"text\":[288.57],\"textposition\":\"auto\",\"x\":[\"Egypt\"],\"xaxis\":\"x\",\"y\":[288.57],\"yaxis\":\"y\",\"type\":\"bar\"},{\"alignmentgroup\":\"True\",\"hovertemplate\":\"color=Ukraine<br>x=%{x}<br>y=%{y}<br>text=%{text}<extra></extra>\",\"legendgroup\":\"Ukraine\",\"marker\":{\"color\":\"#B6E880\",\"pattern\":{\"shape\":\"\"}},\"name\":\"Ukraine\",\"offsetgroup\":\"Ukraine\",\"orientation\":\"v\",\"showlegend\":true,\"text\":[281.66],\"textposition\":\"auto\",\"x\":[\"Ukraine\"],\"xaxis\":\"x\",\"y\":[281.66],\"yaxis\":\"y\",\"type\":\"bar\"},{\"alignmentgroup\":\"True\",\"hovertemplate\":\"color=Ghana<br>x=%{x}<br>y=%{y}<br>text=%{text}<extra></extra>\",\"legendgroup\":\"Ghana\",\"marker\":{\"color\":\"#FF97FF\",\"pattern\":{\"shape\":\"\"}},\"name\":\"Ghana\",\"offsetgroup\":\"Ghana\",\"orientation\":\"v\",\"showlegend\":true,\"text\":[268.36],\"textposition\":\"auto\",\"x\":[\"Ghana\"],\"xaxis\":\"x\",\"y\":[268.36],\"yaxis\":\"y\",\"type\":\"bar\"},{\"alignmentgroup\":\"True\",\"hovertemplate\":\"color=Nigeria<br>x=%{x}<br>y=%{y}<br>text=%{text}<extra></extra>\",\"legendgroup\":\"Nigeria\",\"marker\":{\"color\":\"#FECB52\",\"pattern\":{\"shape\":\"\"}},\"name\":\"Nigeria\",\"offsetgroup\":\"Nigeria\",\"orientation\":\"v\",\"showlegend\":true,\"text\":[267.51],\"textposition\":\"auto\",\"x\":[\"Nigeria\"],\"xaxis\":\"x\",\"y\":[267.51],\"yaxis\":\"y\",\"type\":\"bar\"}],                        {\"template\":{\"data\":{\"barpolar\":[{\"marker\":{\"line\":{\"color\":\"white\",\"width\":0.5},\"pattern\":{\"fillmode\":\"overlay\",\"size\":10,\"solidity\":0.2}},\"type\":\"barpolar\"}],\"bar\":[{\"error_x\":{\"color\":\"#2a3f5f\"},\"error_y\":{\"color\":\"#2a3f5f\"},\"marker\":{\"line\":{\"color\":\"white\",\"width\":0.5},\"pattern\":{\"fillmode\":\"overlay\",\"size\":10,\"solidity\":0.2}},\"type\":\"bar\"}],\"carpet\":[{\"aaxis\":{\"endlinecolor\":\"#2a3f5f\",\"gridcolor\":\"#C8D4E3\",\"linecolor\":\"#C8D4E3\",\"minorgridcolor\":\"#C8D4E3\",\"startlinecolor\":\"#2a3f5f\"},\"baxis\":{\"endlinecolor\":\"#2a3f5f\",\"gridcolor\":\"#C8D4E3\",\"linecolor\":\"#C8D4E3\",\"minorgridcolor\":\"#C8D4E3\",\"startlinecolor\":\"#2a3f5f\"},\"type\":\"carpet\"}],\"choropleth\":[{\"colorbar\":{\"outlinewidth\":0,\"ticks\":\"\"},\"type\":\"choropleth\"}],\"contourcarpet\":[{\"colorbar\":{\"outlinewidth\":0,\"ticks\":\"\"},\"type\":\"contourcarpet\"}],\"contour\":[{\"colorbar\":{\"outlinewidth\":0,\"ticks\":\"\"},\"colorscale\":[[0.0,\"#0d0887\"],[0.1111111111111111,\"#46039f\"],[0.2222222222222222,\"#7201a8\"],[0.3333333333333333,\"#9c179e\"],[0.4444444444444444,\"#bd3786\"],[0.5555555555555556,\"#d8576b\"],[0.6666666666666666,\"#ed7953\"],[0.7777777777777778,\"#fb9f3a\"],[0.8888888888888888,\"#fdca26\"],[1.0,\"#f0f921\"]],\"type\":\"contour\"}],\"heatmapgl\":[{\"colorbar\":{\"outlinewidth\":0,\"ticks\":\"\"},\"colorscale\":[[0.0,\"#0d0887\"],[0.1111111111111111,\"#46039f\"],[0.2222222222222222,\"#7201a8\"],[0.3333333333333333,\"#9c179e\"],[0.4444444444444444,\"#bd3786\"],[0.5555555555555556,\"#d8576b\"],[0.6666666666666666,\"#ed7953\"],[0.7777777777777778,\"#fb9f3a\"],[0.8888888888888888,\"#fdca26\"],[1.0,\"#f0f921\"]],\"type\":\"heatmapgl\"}],\"heatmap\":[{\"colorbar\":{\"outlinewidth\":0,\"ticks\":\"\"},\"colorscale\":[[0.0,\"#0d0887\"],[0.1111111111111111,\"#46039f\"],[0.2222222222222222,\"#7201a8\"],[0.3333333333333333,\"#9c179e\"],[0.4444444444444444,\"#bd3786\"],[0.5555555555555556,\"#d8576b\"],[0.6666666666666666,\"#ed7953\"],[0.7777777777777778,\"#fb9f3a\"],[0.8888888888888888,\"#fdca26\"],[1.0,\"#f0f921\"]],\"type\":\"heatmap\"}],\"histogram2dcontour\":[{\"colorbar\":{\"outlinewidth\":0,\"ticks\":\"\"},\"colorscale\":[[0.0,\"#0d0887\"],[0.1111111111111111,\"#46039f\"],[0.2222222222222222,\"#7201a8\"],[0.3333333333333333,\"#9c179e\"],[0.4444444444444444,\"#bd3786\"],[0.5555555555555556,\"#d8576b\"],[0.6666666666666666,\"#ed7953\"],[0.7777777777777778,\"#fb9f3a\"],[0.8888888888888888,\"#fdca26\"],[1.0,\"#f0f921\"]],\"type\":\"histogram2dcontour\"}],\"histogram2d\":[{\"colorbar\":{\"outlinewidth\":0,\"ticks\":\"\"},\"colorscale\":[[0.0,\"#0d0887\"],[0.1111111111111111,\"#46039f\"],[0.2222222222222222,\"#7201a8\"],[0.3333333333333333,\"#9c179e\"],[0.4444444444444444,\"#bd3786\"],[0.5555555555555556,\"#d8576b\"],[0.6666666666666666,\"#ed7953\"],[0.7777777777777778,\"#fb9f3a\"],[0.8888888888888888,\"#fdca26\"],[1.0,\"#f0f921\"]],\"type\":\"histogram2d\"}],\"histogram\":[{\"marker\":{\"pattern\":{\"fillmode\":\"overlay\",\"size\":10,\"solidity\":0.2}},\"type\":\"histogram\"}],\"mesh3d\":[{\"colorbar\":{\"outlinewidth\":0,\"ticks\":\"\"},\"type\":\"mesh3d\"}],\"parcoords\":[{\"line\":{\"colorbar\":{\"outlinewidth\":0,\"ticks\":\"\"}},\"type\":\"parcoords\"}],\"pie\":[{\"automargin\":true,\"type\":\"pie\"}],\"scatter3d\":[{\"line\":{\"colorbar\":{\"outlinewidth\":0,\"ticks\":\"\"}},\"marker\":{\"colorbar\":{\"outlinewidth\":0,\"ticks\":\"\"}},\"type\":\"scatter3d\"}],\"scattercarpet\":[{\"marker\":{\"colorbar\":{\"outlinewidth\":0,\"ticks\":\"\"}},\"type\":\"scattercarpet\"}],\"scattergeo\":[{\"marker\":{\"colorbar\":{\"outlinewidth\":0,\"ticks\":\"\"}},\"type\":\"scattergeo\"}],\"scattergl\":[{\"marker\":{\"colorbar\":{\"outlinewidth\":0,\"ticks\":\"\"}},\"type\":\"scattergl\"}],\"scattermapbox\":[{\"marker\":{\"colorbar\":{\"outlinewidth\":0,\"ticks\":\"\"}},\"type\":\"scattermapbox\"}],\"scatterpolargl\":[{\"marker\":{\"colorbar\":{\"outlinewidth\":0,\"ticks\":\"\"}},\"type\":\"scatterpolargl\"}],\"scatterpolar\":[{\"marker\":{\"colorbar\":{\"outlinewidth\":0,\"ticks\":\"\"}},\"type\":\"scatterpolar\"}],\"scatter\":[{\"fillpattern\":{\"fillmode\":\"overlay\",\"size\":10,\"solidity\":0.2},\"type\":\"scatter\"}],\"scatterternary\":[{\"marker\":{\"colorbar\":{\"outlinewidth\":0,\"ticks\":\"\"}},\"type\":\"scatterternary\"}],\"surface\":[{\"colorbar\":{\"outlinewidth\":0,\"ticks\":\"\"},\"colorscale\":[[0.0,\"#0d0887\"],[0.1111111111111111,\"#46039f\"],[0.2222222222222222,\"#7201a8\"],[0.3333333333333333,\"#9c179e\"],[0.4444444444444444,\"#bd3786\"],[0.5555555555555556,\"#d8576b\"],[0.6666666666666666,\"#ed7953\"],[0.7777777777777778,\"#fb9f3a\"],[0.8888888888888888,\"#fdca26\"],[1.0,\"#f0f921\"]],\"type\":\"surface\"}],\"table\":[{\"cells\":{\"fill\":{\"color\":\"#EBF0F8\"},\"line\":{\"color\":\"white\"}},\"header\":{\"fill\":{\"color\":\"#C8D4E3\"},\"line\":{\"color\":\"white\"}},\"type\":\"table\"}]},\"layout\":{\"annotationdefaults\":{\"arrowcolor\":\"#2a3f5f\",\"arrowhead\":0,\"arrowwidth\":1},\"autotypenumbers\":\"strict\",\"coloraxis\":{\"colorbar\":{\"outlinewidth\":0,\"ticks\":\"\"}},\"colorscale\":{\"diverging\":[[0,\"#8e0152\"],[0.1,\"#c51b7d\"],[0.2,\"#de77ae\"],[0.3,\"#f1b6da\"],[0.4,\"#fde0ef\"],[0.5,\"#f7f7f7\"],[0.6,\"#e6f5d0\"],[0.7,\"#b8e186\"],[0.8,\"#7fbc41\"],[0.9,\"#4d9221\"],[1,\"#276419\"]],\"sequential\":[[0.0,\"#0d0887\"],[0.1111111111111111,\"#46039f\"],[0.2222222222222222,\"#7201a8\"],[0.3333333333333333,\"#9c179e\"],[0.4444444444444444,\"#bd3786\"],[0.5555555555555556,\"#d8576b\"],[0.6666666666666666,\"#ed7953\"],[0.7777777777777778,\"#fb9f3a\"],[0.8888888888888888,\"#fdca26\"],[1.0,\"#f0f921\"]],\"sequentialminus\":[[0.0,\"#0d0887\"],[0.1111111111111111,\"#46039f\"],[0.2222222222222222,\"#7201a8\"],[0.3333333333333333,\"#9c179e\"],[0.4444444444444444,\"#bd3786\"],[0.5555555555555556,\"#d8576b\"],[0.6666666666666666,\"#ed7953\"],[0.7777777777777778,\"#fb9f3a\"],[0.8888888888888888,\"#fdca26\"],[1.0,\"#f0f921\"]]},\"colorway\":[\"#636efa\",\"#EF553B\",\"#00cc96\",\"#ab63fa\",\"#FFA15A\",\"#19d3f3\",\"#FF6692\",\"#B6E880\",\"#FF97FF\",\"#FECB52\"],\"font\":{\"color\":\"#2a3f5f\"},\"geo\":{\"bgcolor\":\"white\",\"lakecolor\":\"white\",\"landcolor\":\"white\",\"showlakes\":true,\"showland\":true,\"subunitcolor\":\"#C8D4E3\"},\"hoverlabel\":{\"align\":\"left\"},\"hovermode\":\"closest\",\"mapbox\":{\"style\":\"light\"},\"paper_bgcolor\":\"white\",\"plot_bgcolor\":\"white\",\"polar\":{\"angularaxis\":{\"gridcolor\":\"#EBF0F8\",\"linecolor\":\"#EBF0F8\",\"ticks\":\"\"},\"bgcolor\":\"white\",\"radialaxis\":{\"gridcolor\":\"#EBF0F8\",\"linecolor\":\"#EBF0F8\",\"ticks\":\"\"}},\"scene\":{\"xaxis\":{\"backgroundcolor\":\"white\",\"gridcolor\":\"#DFE8F3\",\"gridwidth\":2,\"linecolor\":\"#EBF0F8\",\"showbackground\":true,\"ticks\":\"\",\"zerolinecolor\":\"#EBF0F8\"},\"yaxis\":{\"backgroundcolor\":\"white\",\"gridcolor\":\"#DFE8F3\",\"gridwidth\":2,\"linecolor\":\"#EBF0F8\",\"showbackground\":true,\"ticks\":\"\",\"zerolinecolor\":\"#EBF0F8\"},\"zaxis\":{\"backgroundcolor\":\"white\",\"gridcolor\":\"#DFE8F3\",\"gridwidth\":2,\"linecolor\":\"#EBF0F8\",\"showbackground\":true,\"ticks\":\"\",\"zerolinecolor\":\"#EBF0F8\"}},\"shapedefaults\":{\"line\":{\"color\":\"#2a3f5f\"}},\"ternary\":{\"aaxis\":{\"gridcolor\":\"#DFE8F3\",\"linecolor\":\"#A2B1C6\",\"ticks\":\"\"},\"baxis\":{\"gridcolor\":\"#DFE8F3\",\"linecolor\":\"#A2B1C6\",\"ticks\":\"\"},\"bgcolor\":\"white\",\"caxis\":{\"gridcolor\":\"#DFE8F3\",\"linecolor\":\"#A2B1C6\",\"ticks\":\"\"}},\"title\":{\"x\":0.05},\"xaxis\":{\"automargin\":true,\"gridcolor\":\"#EBF0F8\",\"linecolor\":\"#EBF0F8\",\"ticks\":\"\",\"title\":{\"standoff\":15},\"zerolinecolor\":\"#EBF0F8\",\"zerolinewidth\":2},\"yaxis\":{\"automargin\":true,\"gridcolor\":\"#EBF0F8\",\"linecolor\":\"#EBF0F8\",\"ticks\":\"\",\"title\":{\"standoff\":15},\"zerolinecolor\":\"#EBF0F8\",\"zerolinewidth\":2}}},\"xaxis\":{\"anchor\":\"y\",\"domain\":[0.0,1.0],\"title\":{\"text\":\"CPI\"}},\"yaxis\":{\"anchor\":\"x\",\"domain\":[0.0,1.0],\"title\":{\"text\":\"Count\"}},\"legend\":{\"title\":{\"text\":\"CPI\"},\"tracegroupgap\":0},\"margin\":{\"t\":100,\"l\":80},\"barmode\":\"relative\",\"title\":{\"text\":\"<b>Top 10 highest CPI<br> <sup> Barplot</sup></b>\"},\"showlegend\":true,\"height\":600,\"width\":1000},                        {\"responsive\": true}                    ).then(function(){\n",
       "                            \n",
       "var gd = document.getElementById('097a392e-8d26-4bca-92fe-0983ba93cc0a');\n",
       "var x = new MutationObserver(function (mutations, observer) {{\n",
       "        var display = window.getComputedStyle(gd).display;\n",
       "        if (!display || display === 'none') {{\n",
       "            console.log([gd, 'removed!']);\n",
       "            Plotly.purge(gd);\n",
       "            observer.disconnect();\n",
       "        }}\n",
       "}});\n",
       "\n",
       "// Listen for the removal of the full notebook cells\n",
       "var notebookContainer = gd.closest('#notebook-container');\n",
       "if (notebookContainer) {{\n",
       "    x.observe(notebookContainer, {childList: true});\n",
       "}}\n",
       "\n",
       "// Listen for the clearing of the current output cell\n",
       "var outputEl = gd.closest('.output');\n",
       "if (outputEl) {{\n",
       "    x.observe(outputEl, {childList: true});\n",
       "}}\n",
       "\n",
       "                        })                };                });            </script>        </div>"
      ]
     },
     "metadata": {},
     "output_type": "display_data"
    }
   ],
   "source": [
    "top10_barplot(df, 'CPI')"
   ]
  },
  {
   "cell_type": "markdown",
   "id": "4040b913",
   "metadata": {},
   "source": [
    "## Unemployment Rate"
   ]
  },
  {
   "cell_type": "code",
   "execution_count": 43,
   "id": "50932847",
   "metadata": {},
   "outputs": [
    {
     "data": {
      "application/vnd.plotly.v1+json": {
       "config": {
        "plotlyServerURL": "https://plot.ly"
       },
       "data": [
        {
         "alignmentgroup": "True",
         "hovertemplate": "color=South Africa<br>x=%{x}<br>y=%{y}<br>text=%{text}<extra></extra>",
         "legendgroup": "South Africa",
         "marker": {
          "color": "#636efa",
          "pattern": {
           "shape": ""
          }
         },
         "name": "South Africa",
         "offsetgroup": "South Africa",
         "orientation": "v",
         "showlegend": true,
         "text": [
          28.18
         ],
         "textposition": "auto",
         "type": "bar",
         "x": [
          "South Africa"
         ],
         "xaxis": "x",
         "y": [
          28.18
         ],
         "yaxis": "y"
        },
        {
         "alignmentgroup": "True",
         "hovertemplate": "color=Lesotho<br>x=%{x}<br>y=%{y}<br>text=%{text}<extra></extra>",
         "legendgroup": "Lesotho",
         "marker": {
          "color": "#EF553B",
          "pattern": {
           "shape": ""
          }
         },
         "name": "Lesotho",
         "offsetgroup": "Lesotho",
         "orientation": "v",
         "showlegend": true,
         "text": [
          23.41
         ],
         "textposition": "auto",
         "type": "bar",
         "x": [
          "Lesotho"
         ],
         "xaxis": "x",
         "y": [
          23.41
         ],
         "yaxis": "y"
        },
        {
         "alignmentgroup": "True",
         "hovertemplate": "color=Saint Lucia<br>x=%{x}<br>y=%{y}<br>text=%{text}<extra></extra>",
         "legendgroup": "Saint Lucia",
         "marker": {
          "color": "#00cc96",
          "pattern": {
           "shape": ""
          }
         },
         "name": "Saint Lucia",
         "offsetgroup": "Saint Lucia",
         "orientation": "v",
         "showlegend": true,
         "text": [
          20.71
         ],
         "textposition": "auto",
         "type": "bar",
         "x": [
          "Saint Lucia"
         ],
         "xaxis": "x",
         "y": [
          20.71
         ],
         "yaxis": "y"
        },
        {
         "alignmentgroup": "True",
         "hovertemplate": "color=Namibia<br>x=%{x}<br>y=%{y}<br>text=%{text}<extra></extra>",
         "legendgroup": "Namibia",
         "marker": {
          "color": "#ab63fa",
          "pattern": {
           "shape": ""
          }
         },
         "name": "Namibia",
         "offsetgroup": "Namibia",
         "orientation": "v",
         "showlegend": true,
         "text": [
          20.27
         ],
         "textposition": "auto",
         "type": "bar",
         "x": [
          "Namibia"
         ],
         "xaxis": "x",
         "y": [
          20.27
         ],
         "yaxis": "y"
        },
        {
         "alignmentgroup": "True",
         "hovertemplate": "color=Gabon<br>x=%{x}<br>y=%{y}<br>text=%{text}<extra></extra>",
         "legendgroup": "Gabon",
         "marker": {
          "color": "#FFA15A",
          "pattern": {
           "shape": ""
          }
         },
         "name": "Gabon",
         "offsetgroup": "Gabon",
         "orientation": "v",
         "showlegend": true,
         "text": [
          20
         ],
         "textposition": "auto",
         "type": "bar",
         "x": [
          "Gabon"
         ],
         "xaxis": "x",
         "y": [
          20
         ],
         "yaxis": "y"
        },
        {
         "alignmentgroup": "True",
         "hovertemplate": "color=Saint Vincent and the Grenadines<br>x=%{x}<br>y=%{y}<br>text=%{text}<extra></extra>",
         "legendgroup": "Saint Vincent and the Grenadines",
         "marker": {
          "color": "#19d3f3",
          "pattern": {
           "shape": ""
          }
         },
         "name": "Saint Vincent and the Grenadines",
         "offsetgroup": "Saint Vincent and the Grenadines",
         "orientation": "v",
         "showlegend": true,
         "text": [
          18.88
         ],
         "textposition": "auto",
         "type": "bar",
         "x": [
          "Saint Vincent and the Grenadines"
         ],
         "xaxis": "x",
         "y": [
          18.88
         ],
         "yaxis": "y"
        },
        {
         "alignmentgroup": "True",
         "hovertemplate": "color=Libya<br>x=%{x}<br>y=%{y}<br>text=%{text}<extra></extra>",
         "legendgroup": "Libya",
         "marker": {
          "color": "#FF6692",
          "pattern": {
           "shape": ""
          }
         },
         "name": "Libya",
         "offsetgroup": "Libya",
         "orientation": "v",
         "showlegend": true,
         "text": [
          18.56
         ],
         "textposition": "auto",
         "type": "bar",
         "x": [
          "Libya"
         ],
         "xaxis": "x",
         "y": [
          18.56
         ],
         "yaxis": "y"
        },
        {
         "alignmentgroup": "True",
         "hovertemplate": "color=Bosnia and Herzegovina<br>x=%{x}<br>y=%{y}<br>text=%{text}<extra></extra>",
         "legendgroup": "Bosnia and Herzegovina",
         "marker": {
          "color": "#B6E880",
          "pattern": {
           "shape": ""
          }
         },
         "name": "Bosnia and Herzegovina",
         "offsetgroup": "Bosnia and Herzegovina",
         "orientation": "v",
         "showlegend": true,
         "text": [
          18.42
         ],
         "textposition": "auto",
         "type": "bar",
         "x": [
          "Bosnia and Herzegovina"
         ],
         "xaxis": "x",
         "y": [
          18.42
         ],
         "yaxis": "y"
        },
        {
         "alignmentgroup": "True",
         "hovertemplate": "color=Botswana<br>x=%{x}<br>y=%{y}<br>text=%{text}<extra></extra>",
         "legendgroup": "Botswana",
         "marker": {
          "color": "#FF97FF",
          "pattern": {
           "shape": ""
          }
         },
         "name": "Botswana",
         "offsetgroup": "Botswana",
         "orientation": "v",
         "showlegend": true,
         "text": [
          18.19
         ],
         "textposition": "auto",
         "type": "bar",
         "x": [
          "Botswana"
         ],
         "xaxis": "x",
         "y": [
          18.19
         ],
         "yaxis": "y"
        },
        {
         "alignmentgroup": "True",
         "hovertemplate": "color=Greece<br>x=%{x}<br>y=%{y}<br>text=%{text}<extra></extra>",
         "legendgroup": "Greece",
         "marker": {
          "color": "#FECB52",
          "pattern": {
           "shape": ""
          }
         },
         "name": "Greece",
         "offsetgroup": "Greece",
         "orientation": "v",
         "showlegend": true,
         "text": [
          17.24
         ],
         "textposition": "auto",
         "type": "bar",
         "x": [
          "Greece"
         ],
         "xaxis": "x",
         "y": [
          17.24
         ],
         "yaxis": "y"
        }
       ],
       "layout": {
        "barmode": "relative",
        "height": 600,
        "legend": {
         "title": {
          "text": "Unemployment rate"
         },
         "tracegroupgap": 0
        },
        "margin": {
         "l": 80,
         "t": 100
        },
        "showlegend": true,
        "template": {
         "data": {
          "bar": [
           {
            "error_x": {
             "color": "#2a3f5f"
            },
            "error_y": {
             "color": "#2a3f5f"
            },
            "marker": {
             "line": {
              "color": "white",
              "width": 0.5
             },
             "pattern": {
              "fillmode": "overlay",
              "size": 10,
              "solidity": 0.2
             }
            },
            "type": "bar"
           }
          ],
          "barpolar": [
           {
            "marker": {
             "line": {
              "color": "white",
              "width": 0.5
             },
             "pattern": {
              "fillmode": "overlay",
              "size": 10,
              "solidity": 0.2
             }
            },
            "type": "barpolar"
           }
          ],
          "carpet": [
           {
            "aaxis": {
             "endlinecolor": "#2a3f5f",
             "gridcolor": "#C8D4E3",
             "linecolor": "#C8D4E3",
             "minorgridcolor": "#C8D4E3",
             "startlinecolor": "#2a3f5f"
            },
            "baxis": {
             "endlinecolor": "#2a3f5f",
             "gridcolor": "#C8D4E3",
             "linecolor": "#C8D4E3",
             "minorgridcolor": "#C8D4E3",
             "startlinecolor": "#2a3f5f"
            },
            "type": "carpet"
           }
          ],
          "choropleth": [
           {
            "colorbar": {
             "outlinewidth": 0,
             "ticks": ""
            },
            "type": "choropleth"
           }
          ],
          "contour": [
           {
            "colorbar": {
             "outlinewidth": 0,
             "ticks": ""
            },
            "colorscale": [
             [
              0,
              "#0d0887"
             ],
             [
              0.1111111111111111,
              "#46039f"
             ],
             [
              0.2222222222222222,
              "#7201a8"
             ],
             [
              0.3333333333333333,
              "#9c179e"
             ],
             [
              0.4444444444444444,
              "#bd3786"
             ],
             [
              0.5555555555555556,
              "#d8576b"
             ],
             [
              0.6666666666666666,
              "#ed7953"
             ],
             [
              0.7777777777777778,
              "#fb9f3a"
             ],
             [
              0.8888888888888888,
              "#fdca26"
             ],
             [
              1,
              "#f0f921"
             ]
            ],
            "type": "contour"
           }
          ],
          "contourcarpet": [
           {
            "colorbar": {
             "outlinewidth": 0,
             "ticks": ""
            },
            "type": "contourcarpet"
           }
          ],
          "heatmap": [
           {
            "colorbar": {
             "outlinewidth": 0,
             "ticks": ""
            },
            "colorscale": [
             [
              0,
              "#0d0887"
             ],
             [
              0.1111111111111111,
              "#46039f"
             ],
             [
              0.2222222222222222,
              "#7201a8"
             ],
             [
              0.3333333333333333,
              "#9c179e"
             ],
             [
              0.4444444444444444,
              "#bd3786"
             ],
             [
              0.5555555555555556,
              "#d8576b"
             ],
             [
              0.6666666666666666,
              "#ed7953"
             ],
             [
              0.7777777777777778,
              "#fb9f3a"
             ],
             [
              0.8888888888888888,
              "#fdca26"
             ],
             [
              1,
              "#f0f921"
             ]
            ],
            "type": "heatmap"
           }
          ],
          "heatmapgl": [
           {
            "colorbar": {
             "outlinewidth": 0,
             "ticks": ""
            },
            "colorscale": [
             [
              0,
              "#0d0887"
             ],
             [
              0.1111111111111111,
              "#46039f"
             ],
             [
              0.2222222222222222,
              "#7201a8"
             ],
             [
              0.3333333333333333,
              "#9c179e"
             ],
             [
              0.4444444444444444,
              "#bd3786"
             ],
             [
              0.5555555555555556,
              "#d8576b"
             ],
             [
              0.6666666666666666,
              "#ed7953"
             ],
             [
              0.7777777777777778,
              "#fb9f3a"
             ],
             [
              0.8888888888888888,
              "#fdca26"
             ],
             [
              1,
              "#f0f921"
             ]
            ],
            "type": "heatmapgl"
           }
          ],
          "histogram": [
           {
            "marker": {
             "pattern": {
              "fillmode": "overlay",
              "size": 10,
              "solidity": 0.2
             }
            },
            "type": "histogram"
           }
          ],
          "histogram2d": [
           {
            "colorbar": {
             "outlinewidth": 0,
             "ticks": ""
            },
            "colorscale": [
             [
              0,
              "#0d0887"
             ],
             [
              0.1111111111111111,
              "#46039f"
             ],
             [
              0.2222222222222222,
              "#7201a8"
             ],
             [
              0.3333333333333333,
              "#9c179e"
             ],
             [
              0.4444444444444444,
              "#bd3786"
             ],
             [
              0.5555555555555556,
              "#d8576b"
             ],
             [
              0.6666666666666666,
              "#ed7953"
             ],
             [
              0.7777777777777778,
              "#fb9f3a"
             ],
             [
              0.8888888888888888,
              "#fdca26"
             ],
             [
              1,
              "#f0f921"
             ]
            ],
            "type": "histogram2d"
           }
          ],
          "histogram2dcontour": [
           {
            "colorbar": {
             "outlinewidth": 0,
             "ticks": ""
            },
            "colorscale": [
             [
              0,
              "#0d0887"
             ],
             [
              0.1111111111111111,
              "#46039f"
             ],
             [
              0.2222222222222222,
              "#7201a8"
             ],
             [
              0.3333333333333333,
              "#9c179e"
             ],
             [
              0.4444444444444444,
              "#bd3786"
             ],
             [
              0.5555555555555556,
              "#d8576b"
             ],
             [
              0.6666666666666666,
              "#ed7953"
             ],
             [
              0.7777777777777778,
              "#fb9f3a"
             ],
             [
              0.8888888888888888,
              "#fdca26"
             ],
             [
              1,
              "#f0f921"
             ]
            ],
            "type": "histogram2dcontour"
           }
          ],
          "mesh3d": [
           {
            "colorbar": {
             "outlinewidth": 0,
             "ticks": ""
            },
            "type": "mesh3d"
           }
          ],
          "parcoords": [
           {
            "line": {
             "colorbar": {
              "outlinewidth": 0,
              "ticks": ""
             }
            },
            "type": "parcoords"
           }
          ],
          "pie": [
           {
            "automargin": true,
            "type": "pie"
           }
          ],
          "scatter": [
           {
            "fillpattern": {
             "fillmode": "overlay",
             "size": 10,
             "solidity": 0.2
            },
            "type": "scatter"
           }
          ],
          "scatter3d": [
           {
            "line": {
             "colorbar": {
              "outlinewidth": 0,
              "ticks": ""
             }
            },
            "marker": {
             "colorbar": {
              "outlinewidth": 0,
              "ticks": ""
             }
            },
            "type": "scatter3d"
           }
          ],
          "scattercarpet": [
           {
            "marker": {
             "colorbar": {
              "outlinewidth": 0,
              "ticks": ""
             }
            },
            "type": "scattercarpet"
           }
          ],
          "scattergeo": [
           {
            "marker": {
             "colorbar": {
              "outlinewidth": 0,
              "ticks": ""
             }
            },
            "type": "scattergeo"
           }
          ],
          "scattergl": [
           {
            "marker": {
             "colorbar": {
              "outlinewidth": 0,
              "ticks": ""
             }
            },
            "type": "scattergl"
           }
          ],
          "scattermapbox": [
           {
            "marker": {
             "colorbar": {
              "outlinewidth": 0,
              "ticks": ""
             }
            },
            "type": "scattermapbox"
           }
          ],
          "scatterpolar": [
           {
            "marker": {
             "colorbar": {
              "outlinewidth": 0,
              "ticks": ""
             }
            },
            "type": "scatterpolar"
           }
          ],
          "scatterpolargl": [
           {
            "marker": {
             "colorbar": {
              "outlinewidth": 0,
              "ticks": ""
             }
            },
            "type": "scatterpolargl"
           }
          ],
          "scatterternary": [
           {
            "marker": {
             "colorbar": {
              "outlinewidth": 0,
              "ticks": ""
             }
            },
            "type": "scatterternary"
           }
          ],
          "surface": [
           {
            "colorbar": {
             "outlinewidth": 0,
             "ticks": ""
            },
            "colorscale": [
             [
              0,
              "#0d0887"
             ],
             [
              0.1111111111111111,
              "#46039f"
             ],
             [
              0.2222222222222222,
              "#7201a8"
             ],
             [
              0.3333333333333333,
              "#9c179e"
             ],
             [
              0.4444444444444444,
              "#bd3786"
             ],
             [
              0.5555555555555556,
              "#d8576b"
             ],
             [
              0.6666666666666666,
              "#ed7953"
             ],
             [
              0.7777777777777778,
              "#fb9f3a"
             ],
             [
              0.8888888888888888,
              "#fdca26"
             ],
             [
              1,
              "#f0f921"
             ]
            ],
            "type": "surface"
           }
          ],
          "table": [
           {
            "cells": {
             "fill": {
              "color": "#EBF0F8"
             },
             "line": {
              "color": "white"
             }
            },
            "header": {
             "fill": {
              "color": "#C8D4E3"
             },
             "line": {
              "color": "white"
             }
            },
            "type": "table"
           }
          ]
         },
         "layout": {
          "annotationdefaults": {
           "arrowcolor": "#2a3f5f",
           "arrowhead": 0,
           "arrowwidth": 1
          },
          "autotypenumbers": "strict",
          "coloraxis": {
           "colorbar": {
            "outlinewidth": 0,
            "ticks": ""
           }
          },
          "colorscale": {
           "diverging": [
            [
             0,
             "#8e0152"
            ],
            [
             0.1,
             "#c51b7d"
            ],
            [
             0.2,
             "#de77ae"
            ],
            [
             0.3,
             "#f1b6da"
            ],
            [
             0.4,
             "#fde0ef"
            ],
            [
             0.5,
             "#f7f7f7"
            ],
            [
             0.6,
             "#e6f5d0"
            ],
            [
             0.7,
             "#b8e186"
            ],
            [
             0.8,
             "#7fbc41"
            ],
            [
             0.9,
             "#4d9221"
            ],
            [
             1,
             "#276419"
            ]
           ],
           "sequential": [
            [
             0,
             "#0d0887"
            ],
            [
             0.1111111111111111,
             "#46039f"
            ],
            [
             0.2222222222222222,
             "#7201a8"
            ],
            [
             0.3333333333333333,
             "#9c179e"
            ],
            [
             0.4444444444444444,
             "#bd3786"
            ],
            [
             0.5555555555555556,
             "#d8576b"
            ],
            [
             0.6666666666666666,
             "#ed7953"
            ],
            [
             0.7777777777777778,
             "#fb9f3a"
            ],
            [
             0.8888888888888888,
             "#fdca26"
            ],
            [
             1,
             "#f0f921"
            ]
           ],
           "sequentialminus": [
            [
             0,
             "#0d0887"
            ],
            [
             0.1111111111111111,
             "#46039f"
            ],
            [
             0.2222222222222222,
             "#7201a8"
            ],
            [
             0.3333333333333333,
             "#9c179e"
            ],
            [
             0.4444444444444444,
             "#bd3786"
            ],
            [
             0.5555555555555556,
             "#d8576b"
            ],
            [
             0.6666666666666666,
             "#ed7953"
            ],
            [
             0.7777777777777778,
             "#fb9f3a"
            ],
            [
             0.8888888888888888,
             "#fdca26"
            ],
            [
             1,
             "#f0f921"
            ]
           ]
          },
          "colorway": [
           "#636efa",
           "#EF553B",
           "#00cc96",
           "#ab63fa",
           "#FFA15A",
           "#19d3f3",
           "#FF6692",
           "#B6E880",
           "#FF97FF",
           "#FECB52"
          ],
          "font": {
           "color": "#2a3f5f"
          },
          "geo": {
           "bgcolor": "white",
           "lakecolor": "white",
           "landcolor": "white",
           "showlakes": true,
           "showland": true,
           "subunitcolor": "#C8D4E3"
          },
          "hoverlabel": {
           "align": "left"
          },
          "hovermode": "closest",
          "mapbox": {
           "style": "light"
          },
          "paper_bgcolor": "white",
          "plot_bgcolor": "white",
          "polar": {
           "angularaxis": {
            "gridcolor": "#EBF0F8",
            "linecolor": "#EBF0F8",
            "ticks": ""
           },
           "bgcolor": "white",
           "radialaxis": {
            "gridcolor": "#EBF0F8",
            "linecolor": "#EBF0F8",
            "ticks": ""
           }
          },
          "scene": {
           "xaxis": {
            "backgroundcolor": "white",
            "gridcolor": "#DFE8F3",
            "gridwidth": 2,
            "linecolor": "#EBF0F8",
            "showbackground": true,
            "ticks": "",
            "zerolinecolor": "#EBF0F8"
           },
           "yaxis": {
            "backgroundcolor": "white",
            "gridcolor": "#DFE8F3",
            "gridwidth": 2,
            "linecolor": "#EBF0F8",
            "showbackground": true,
            "ticks": "",
            "zerolinecolor": "#EBF0F8"
           },
           "zaxis": {
            "backgroundcolor": "white",
            "gridcolor": "#DFE8F3",
            "gridwidth": 2,
            "linecolor": "#EBF0F8",
            "showbackground": true,
            "ticks": "",
            "zerolinecolor": "#EBF0F8"
           }
          },
          "shapedefaults": {
           "line": {
            "color": "#2a3f5f"
           }
          },
          "ternary": {
           "aaxis": {
            "gridcolor": "#DFE8F3",
            "linecolor": "#A2B1C6",
            "ticks": ""
           },
           "baxis": {
            "gridcolor": "#DFE8F3",
            "linecolor": "#A2B1C6",
            "ticks": ""
           },
           "bgcolor": "white",
           "caxis": {
            "gridcolor": "#DFE8F3",
            "linecolor": "#A2B1C6",
            "ticks": ""
           }
          },
          "title": {
           "x": 0.05
          },
          "xaxis": {
           "automargin": true,
           "gridcolor": "#EBF0F8",
           "linecolor": "#EBF0F8",
           "ticks": "",
           "title": {
            "standoff": 15
           },
           "zerolinecolor": "#EBF0F8",
           "zerolinewidth": 2
          },
          "yaxis": {
           "automargin": true,
           "gridcolor": "#EBF0F8",
           "linecolor": "#EBF0F8",
           "ticks": "",
           "title": {
            "standoff": 15
           },
           "zerolinecolor": "#EBF0F8",
           "zerolinewidth": 2
          }
         }
        },
        "title": {
         "text": "<b>Top 10 highest Unemployment rate<br> <sup> Barplot</sup></b>"
        },
        "width": 1000,
        "xaxis": {
         "anchor": "y",
         "domain": [
          0,
          1
         ],
         "title": {
          "text": "Unemployment rate"
         }
        },
        "yaxis": {
         "anchor": "x",
         "domain": [
          0,
          1
         ],
         "title": {
          "text": "Count"
         }
        }
       }
      },
      "text/html": [
       "<div>                            <div id=\"1c3e0e03-2f1c-4ea0-bab2-183fe4c769cc\" class=\"plotly-graph-div\" style=\"height:600px; width:1000px;\"></div>            <script type=\"text/javascript\">                require([\"plotly\"], function(Plotly) {                    window.PLOTLYENV=window.PLOTLYENV || {};                                    if (document.getElementById(\"1c3e0e03-2f1c-4ea0-bab2-183fe4c769cc\")) {                    Plotly.newPlot(                        \"1c3e0e03-2f1c-4ea0-bab2-183fe4c769cc\",                        [{\"alignmentgroup\":\"True\",\"hovertemplate\":\"color=South Africa<br>x=%{x}<br>y=%{y}<br>text=%{text}<extra></extra>\",\"legendgroup\":\"South Africa\",\"marker\":{\"color\":\"#636efa\",\"pattern\":{\"shape\":\"\"}},\"name\":\"South Africa\",\"offsetgroup\":\"South Africa\",\"orientation\":\"v\",\"showlegend\":true,\"text\":[28.18],\"textposition\":\"auto\",\"x\":[\"South Africa\"],\"xaxis\":\"x\",\"y\":[28.18],\"yaxis\":\"y\",\"type\":\"bar\"},{\"alignmentgroup\":\"True\",\"hovertemplate\":\"color=Lesotho<br>x=%{x}<br>y=%{y}<br>text=%{text}<extra></extra>\",\"legendgroup\":\"Lesotho\",\"marker\":{\"color\":\"#EF553B\",\"pattern\":{\"shape\":\"\"}},\"name\":\"Lesotho\",\"offsetgroup\":\"Lesotho\",\"orientation\":\"v\",\"showlegend\":true,\"text\":[23.41],\"textposition\":\"auto\",\"x\":[\"Lesotho\"],\"xaxis\":\"x\",\"y\":[23.41],\"yaxis\":\"y\",\"type\":\"bar\"},{\"alignmentgroup\":\"True\",\"hovertemplate\":\"color=Saint Lucia<br>x=%{x}<br>y=%{y}<br>text=%{text}<extra></extra>\",\"legendgroup\":\"Saint Lucia\",\"marker\":{\"color\":\"#00cc96\",\"pattern\":{\"shape\":\"\"}},\"name\":\"Saint Lucia\",\"offsetgroup\":\"Saint Lucia\",\"orientation\":\"v\",\"showlegend\":true,\"text\":[20.71],\"textposition\":\"auto\",\"x\":[\"Saint Lucia\"],\"xaxis\":\"x\",\"y\":[20.71],\"yaxis\":\"y\",\"type\":\"bar\"},{\"alignmentgroup\":\"True\",\"hovertemplate\":\"color=Namibia<br>x=%{x}<br>y=%{y}<br>text=%{text}<extra></extra>\",\"legendgroup\":\"Namibia\",\"marker\":{\"color\":\"#ab63fa\",\"pattern\":{\"shape\":\"\"}},\"name\":\"Namibia\",\"offsetgroup\":\"Namibia\",\"orientation\":\"v\",\"showlegend\":true,\"text\":[20.27],\"textposition\":\"auto\",\"x\":[\"Namibia\"],\"xaxis\":\"x\",\"y\":[20.27],\"yaxis\":\"y\",\"type\":\"bar\"},{\"alignmentgroup\":\"True\",\"hovertemplate\":\"color=Gabon<br>x=%{x}<br>y=%{y}<br>text=%{text}<extra></extra>\",\"legendgroup\":\"Gabon\",\"marker\":{\"color\":\"#FFA15A\",\"pattern\":{\"shape\":\"\"}},\"name\":\"Gabon\",\"offsetgroup\":\"Gabon\",\"orientation\":\"v\",\"showlegend\":true,\"text\":[20.0],\"textposition\":\"auto\",\"x\":[\"Gabon\"],\"xaxis\":\"x\",\"y\":[20.0],\"yaxis\":\"y\",\"type\":\"bar\"},{\"alignmentgroup\":\"True\",\"hovertemplate\":\"color=Saint Vincent and the Grenadines<br>x=%{x}<br>y=%{y}<br>text=%{text}<extra></extra>\",\"legendgroup\":\"Saint Vincent and the Grenadines\",\"marker\":{\"color\":\"#19d3f3\",\"pattern\":{\"shape\":\"\"}},\"name\":\"Saint Vincent and the Grenadines\",\"offsetgroup\":\"Saint Vincent and the Grenadines\",\"orientation\":\"v\",\"showlegend\":true,\"text\":[18.88],\"textposition\":\"auto\",\"x\":[\"Saint Vincent and the Grenadines\"],\"xaxis\":\"x\",\"y\":[18.88],\"yaxis\":\"y\",\"type\":\"bar\"},{\"alignmentgroup\":\"True\",\"hovertemplate\":\"color=Libya<br>x=%{x}<br>y=%{y}<br>text=%{text}<extra></extra>\",\"legendgroup\":\"Libya\",\"marker\":{\"color\":\"#FF6692\",\"pattern\":{\"shape\":\"\"}},\"name\":\"Libya\",\"offsetgroup\":\"Libya\",\"orientation\":\"v\",\"showlegend\":true,\"text\":[18.56],\"textposition\":\"auto\",\"x\":[\"Libya\"],\"xaxis\":\"x\",\"y\":[18.56],\"yaxis\":\"y\",\"type\":\"bar\"},{\"alignmentgroup\":\"True\",\"hovertemplate\":\"color=Bosnia and Herzegovina<br>x=%{x}<br>y=%{y}<br>text=%{text}<extra></extra>\",\"legendgroup\":\"Bosnia and Herzegovina\",\"marker\":{\"color\":\"#B6E880\",\"pattern\":{\"shape\":\"\"}},\"name\":\"Bosnia and Herzegovina\",\"offsetgroup\":\"Bosnia and Herzegovina\",\"orientation\":\"v\",\"showlegend\":true,\"text\":[18.42],\"textposition\":\"auto\",\"x\":[\"Bosnia and Herzegovina\"],\"xaxis\":\"x\",\"y\":[18.42],\"yaxis\":\"y\",\"type\":\"bar\"},{\"alignmentgroup\":\"True\",\"hovertemplate\":\"color=Botswana<br>x=%{x}<br>y=%{y}<br>text=%{text}<extra></extra>\",\"legendgroup\":\"Botswana\",\"marker\":{\"color\":\"#FF97FF\",\"pattern\":{\"shape\":\"\"}},\"name\":\"Botswana\",\"offsetgroup\":\"Botswana\",\"orientation\":\"v\",\"showlegend\":true,\"text\":[18.19],\"textposition\":\"auto\",\"x\":[\"Botswana\"],\"xaxis\":\"x\",\"y\":[18.19],\"yaxis\":\"y\",\"type\":\"bar\"},{\"alignmentgroup\":\"True\",\"hovertemplate\":\"color=Greece<br>x=%{x}<br>y=%{y}<br>text=%{text}<extra></extra>\",\"legendgroup\":\"Greece\",\"marker\":{\"color\":\"#FECB52\",\"pattern\":{\"shape\":\"\"}},\"name\":\"Greece\",\"offsetgroup\":\"Greece\",\"orientation\":\"v\",\"showlegend\":true,\"text\":[17.24],\"textposition\":\"auto\",\"x\":[\"Greece\"],\"xaxis\":\"x\",\"y\":[17.24],\"yaxis\":\"y\",\"type\":\"bar\"}],                        {\"template\":{\"data\":{\"barpolar\":[{\"marker\":{\"line\":{\"color\":\"white\",\"width\":0.5},\"pattern\":{\"fillmode\":\"overlay\",\"size\":10,\"solidity\":0.2}},\"type\":\"barpolar\"}],\"bar\":[{\"error_x\":{\"color\":\"#2a3f5f\"},\"error_y\":{\"color\":\"#2a3f5f\"},\"marker\":{\"line\":{\"color\":\"white\",\"width\":0.5},\"pattern\":{\"fillmode\":\"overlay\",\"size\":10,\"solidity\":0.2}},\"type\":\"bar\"}],\"carpet\":[{\"aaxis\":{\"endlinecolor\":\"#2a3f5f\",\"gridcolor\":\"#C8D4E3\",\"linecolor\":\"#C8D4E3\",\"minorgridcolor\":\"#C8D4E3\",\"startlinecolor\":\"#2a3f5f\"},\"baxis\":{\"endlinecolor\":\"#2a3f5f\",\"gridcolor\":\"#C8D4E3\",\"linecolor\":\"#C8D4E3\",\"minorgridcolor\":\"#C8D4E3\",\"startlinecolor\":\"#2a3f5f\"},\"type\":\"carpet\"}],\"choropleth\":[{\"colorbar\":{\"outlinewidth\":0,\"ticks\":\"\"},\"type\":\"choropleth\"}],\"contourcarpet\":[{\"colorbar\":{\"outlinewidth\":0,\"ticks\":\"\"},\"type\":\"contourcarpet\"}],\"contour\":[{\"colorbar\":{\"outlinewidth\":0,\"ticks\":\"\"},\"colorscale\":[[0.0,\"#0d0887\"],[0.1111111111111111,\"#46039f\"],[0.2222222222222222,\"#7201a8\"],[0.3333333333333333,\"#9c179e\"],[0.4444444444444444,\"#bd3786\"],[0.5555555555555556,\"#d8576b\"],[0.6666666666666666,\"#ed7953\"],[0.7777777777777778,\"#fb9f3a\"],[0.8888888888888888,\"#fdca26\"],[1.0,\"#f0f921\"]],\"type\":\"contour\"}],\"heatmapgl\":[{\"colorbar\":{\"outlinewidth\":0,\"ticks\":\"\"},\"colorscale\":[[0.0,\"#0d0887\"],[0.1111111111111111,\"#46039f\"],[0.2222222222222222,\"#7201a8\"],[0.3333333333333333,\"#9c179e\"],[0.4444444444444444,\"#bd3786\"],[0.5555555555555556,\"#d8576b\"],[0.6666666666666666,\"#ed7953\"],[0.7777777777777778,\"#fb9f3a\"],[0.8888888888888888,\"#fdca26\"],[1.0,\"#f0f921\"]],\"type\":\"heatmapgl\"}],\"heatmap\":[{\"colorbar\":{\"outlinewidth\":0,\"ticks\":\"\"},\"colorscale\":[[0.0,\"#0d0887\"],[0.1111111111111111,\"#46039f\"],[0.2222222222222222,\"#7201a8\"],[0.3333333333333333,\"#9c179e\"],[0.4444444444444444,\"#bd3786\"],[0.5555555555555556,\"#d8576b\"],[0.6666666666666666,\"#ed7953\"],[0.7777777777777778,\"#fb9f3a\"],[0.8888888888888888,\"#fdca26\"],[1.0,\"#f0f921\"]],\"type\":\"heatmap\"}],\"histogram2dcontour\":[{\"colorbar\":{\"outlinewidth\":0,\"ticks\":\"\"},\"colorscale\":[[0.0,\"#0d0887\"],[0.1111111111111111,\"#46039f\"],[0.2222222222222222,\"#7201a8\"],[0.3333333333333333,\"#9c179e\"],[0.4444444444444444,\"#bd3786\"],[0.5555555555555556,\"#d8576b\"],[0.6666666666666666,\"#ed7953\"],[0.7777777777777778,\"#fb9f3a\"],[0.8888888888888888,\"#fdca26\"],[1.0,\"#f0f921\"]],\"type\":\"histogram2dcontour\"}],\"histogram2d\":[{\"colorbar\":{\"outlinewidth\":0,\"ticks\":\"\"},\"colorscale\":[[0.0,\"#0d0887\"],[0.1111111111111111,\"#46039f\"],[0.2222222222222222,\"#7201a8\"],[0.3333333333333333,\"#9c179e\"],[0.4444444444444444,\"#bd3786\"],[0.5555555555555556,\"#d8576b\"],[0.6666666666666666,\"#ed7953\"],[0.7777777777777778,\"#fb9f3a\"],[0.8888888888888888,\"#fdca26\"],[1.0,\"#f0f921\"]],\"type\":\"histogram2d\"}],\"histogram\":[{\"marker\":{\"pattern\":{\"fillmode\":\"overlay\",\"size\":10,\"solidity\":0.2}},\"type\":\"histogram\"}],\"mesh3d\":[{\"colorbar\":{\"outlinewidth\":0,\"ticks\":\"\"},\"type\":\"mesh3d\"}],\"parcoords\":[{\"line\":{\"colorbar\":{\"outlinewidth\":0,\"ticks\":\"\"}},\"type\":\"parcoords\"}],\"pie\":[{\"automargin\":true,\"type\":\"pie\"}],\"scatter3d\":[{\"line\":{\"colorbar\":{\"outlinewidth\":0,\"ticks\":\"\"}},\"marker\":{\"colorbar\":{\"outlinewidth\":0,\"ticks\":\"\"}},\"type\":\"scatter3d\"}],\"scattercarpet\":[{\"marker\":{\"colorbar\":{\"outlinewidth\":0,\"ticks\":\"\"}},\"type\":\"scattercarpet\"}],\"scattergeo\":[{\"marker\":{\"colorbar\":{\"outlinewidth\":0,\"ticks\":\"\"}},\"type\":\"scattergeo\"}],\"scattergl\":[{\"marker\":{\"colorbar\":{\"outlinewidth\":0,\"ticks\":\"\"}},\"type\":\"scattergl\"}],\"scattermapbox\":[{\"marker\":{\"colorbar\":{\"outlinewidth\":0,\"ticks\":\"\"}},\"type\":\"scattermapbox\"}],\"scatterpolargl\":[{\"marker\":{\"colorbar\":{\"outlinewidth\":0,\"ticks\":\"\"}},\"type\":\"scatterpolargl\"}],\"scatterpolar\":[{\"marker\":{\"colorbar\":{\"outlinewidth\":0,\"ticks\":\"\"}},\"type\":\"scatterpolar\"}],\"scatter\":[{\"fillpattern\":{\"fillmode\":\"overlay\",\"size\":10,\"solidity\":0.2},\"type\":\"scatter\"}],\"scatterternary\":[{\"marker\":{\"colorbar\":{\"outlinewidth\":0,\"ticks\":\"\"}},\"type\":\"scatterternary\"}],\"surface\":[{\"colorbar\":{\"outlinewidth\":0,\"ticks\":\"\"},\"colorscale\":[[0.0,\"#0d0887\"],[0.1111111111111111,\"#46039f\"],[0.2222222222222222,\"#7201a8\"],[0.3333333333333333,\"#9c179e\"],[0.4444444444444444,\"#bd3786\"],[0.5555555555555556,\"#d8576b\"],[0.6666666666666666,\"#ed7953\"],[0.7777777777777778,\"#fb9f3a\"],[0.8888888888888888,\"#fdca26\"],[1.0,\"#f0f921\"]],\"type\":\"surface\"}],\"table\":[{\"cells\":{\"fill\":{\"color\":\"#EBF0F8\"},\"line\":{\"color\":\"white\"}},\"header\":{\"fill\":{\"color\":\"#C8D4E3\"},\"line\":{\"color\":\"white\"}},\"type\":\"table\"}]},\"layout\":{\"annotationdefaults\":{\"arrowcolor\":\"#2a3f5f\",\"arrowhead\":0,\"arrowwidth\":1},\"autotypenumbers\":\"strict\",\"coloraxis\":{\"colorbar\":{\"outlinewidth\":0,\"ticks\":\"\"}},\"colorscale\":{\"diverging\":[[0,\"#8e0152\"],[0.1,\"#c51b7d\"],[0.2,\"#de77ae\"],[0.3,\"#f1b6da\"],[0.4,\"#fde0ef\"],[0.5,\"#f7f7f7\"],[0.6,\"#e6f5d0\"],[0.7,\"#b8e186\"],[0.8,\"#7fbc41\"],[0.9,\"#4d9221\"],[1,\"#276419\"]],\"sequential\":[[0.0,\"#0d0887\"],[0.1111111111111111,\"#46039f\"],[0.2222222222222222,\"#7201a8\"],[0.3333333333333333,\"#9c179e\"],[0.4444444444444444,\"#bd3786\"],[0.5555555555555556,\"#d8576b\"],[0.6666666666666666,\"#ed7953\"],[0.7777777777777778,\"#fb9f3a\"],[0.8888888888888888,\"#fdca26\"],[1.0,\"#f0f921\"]],\"sequentialminus\":[[0.0,\"#0d0887\"],[0.1111111111111111,\"#46039f\"],[0.2222222222222222,\"#7201a8\"],[0.3333333333333333,\"#9c179e\"],[0.4444444444444444,\"#bd3786\"],[0.5555555555555556,\"#d8576b\"],[0.6666666666666666,\"#ed7953\"],[0.7777777777777778,\"#fb9f3a\"],[0.8888888888888888,\"#fdca26\"],[1.0,\"#f0f921\"]]},\"colorway\":[\"#636efa\",\"#EF553B\",\"#00cc96\",\"#ab63fa\",\"#FFA15A\",\"#19d3f3\",\"#FF6692\",\"#B6E880\",\"#FF97FF\",\"#FECB52\"],\"font\":{\"color\":\"#2a3f5f\"},\"geo\":{\"bgcolor\":\"white\",\"lakecolor\":\"white\",\"landcolor\":\"white\",\"showlakes\":true,\"showland\":true,\"subunitcolor\":\"#C8D4E3\"},\"hoverlabel\":{\"align\":\"left\"},\"hovermode\":\"closest\",\"mapbox\":{\"style\":\"light\"},\"paper_bgcolor\":\"white\",\"plot_bgcolor\":\"white\",\"polar\":{\"angularaxis\":{\"gridcolor\":\"#EBF0F8\",\"linecolor\":\"#EBF0F8\",\"ticks\":\"\"},\"bgcolor\":\"white\",\"radialaxis\":{\"gridcolor\":\"#EBF0F8\",\"linecolor\":\"#EBF0F8\",\"ticks\":\"\"}},\"scene\":{\"xaxis\":{\"backgroundcolor\":\"white\",\"gridcolor\":\"#DFE8F3\",\"gridwidth\":2,\"linecolor\":\"#EBF0F8\",\"showbackground\":true,\"ticks\":\"\",\"zerolinecolor\":\"#EBF0F8\"},\"yaxis\":{\"backgroundcolor\":\"white\",\"gridcolor\":\"#DFE8F3\",\"gridwidth\":2,\"linecolor\":\"#EBF0F8\",\"showbackground\":true,\"ticks\":\"\",\"zerolinecolor\":\"#EBF0F8\"},\"zaxis\":{\"backgroundcolor\":\"white\",\"gridcolor\":\"#DFE8F3\",\"gridwidth\":2,\"linecolor\":\"#EBF0F8\",\"showbackground\":true,\"ticks\":\"\",\"zerolinecolor\":\"#EBF0F8\"}},\"shapedefaults\":{\"line\":{\"color\":\"#2a3f5f\"}},\"ternary\":{\"aaxis\":{\"gridcolor\":\"#DFE8F3\",\"linecolor\":\"#A2B1C6\",\"ticks\":\"\"},\"baxis\":{\"gridcolor\":\"#DFE8F3\",\"linecolor\":\"#A2B1C6\",\"ticks\":\"\"},\"bgcolor\":\"white\",\"caxis\":{\"gridcolor\":\"#DFE8F3\",\"linecolor\":\"#A2B1C6\",\"ticks\":\"\"}},\"title\":{\"x\":0.05},\"xaxis\":{\"automargin\":true,\"gridcolor\":\"#EBF0F8\",\"linecolor\":\"#EBF0F8\",\"ticks\":\"\",\"title\":{\"standoff\":15},\"zerolinecolor\":\"#EBF0F8\",\"zerolinewidth\":2},\"yaxis\":{\"automargin\":true,\"gridcolor\":\"#EBF0F8\",\"linecolor\":\"#EBF0F8\",\"ticks\":\"\",\"title\":{\"standoff\":15},\"zerolinecolor\":\"#EBF0F8\",\"zerolinewidth\":2}}},\"xaxis\":{\"anchor\":\"y\",\"domain\":[0.0,1.0],\"title\":{\"text\":\"Unemployment rate\"}},\"yaxis\":{\"anchor\":\"x\",\"domain\":[0.0,1.0],\"title\":{\"text\":\"Count\"}},\"legend\":{\"title\":{\"text\":\"Unemployment rate\"},\"tracegroupgap\":0},\"margin\":{\"t\":100,\"l\":80},\"barmode\":\"relative\",\"title\":{\"text\":\"<b>Top 10 highest Unemployment rate<br> <sup> Barplot</sup></b>\"},\"showlegend\":true,\"height\":600,\"width\":1000},                        {\"responsive\": true}                    ).then(function(){\n",
       "                            \n",
       "var gd = document.getElementById('1c3e0e03-2f1c-4ea0-bab2-183fe4c769cc');\n",
       "var x = new MutationObserver(function (mutations, observer) {{\n",
       "        var display = window.getComputedStyle(gd).display;\n",
       "        if (!display || display === 'none') {{\n",
       "            console.log([gd, 'removed!']);\n",
       "            Plotly.purge(gd);\n",
       "            observer.disconnect();\n",
       "        }}\n",
       "}});\n",
       "\n",
       "// Listen for the removal of the full notebook cells\n",
       "var notebookContainer = gd.closest('#notebook-container');\n",
       "if (notebookContainer) {{\n",
       "    x.observe(notebookContainer, {childList: true});\n",
       "}}\n",
       "\n",
       "// Listen for the clearing of the current output cell\n",
       "var outputEl = gd.closest('.output');\n",
       "if (outputEl) {{\n",
       "    x.observe(outputEl, {childList: true});\n",
       "}}\n",
       "\n",
       "                        })                };                });            </script>        </div>"
      ]
     },
     "metadata": {},
     "output_type": "display_data"
    }
   ],
   "source": [
    "top10_barplot(df, 'Unemployment rate')"
   ]
  },
  {
   "cell_type": "markdown",
   "id": "accb71f2",
   "metadata": {},
   "source": [
    "### Analysis\n",
    "- #### United States and China have the highest GDP worldwide\n",
    "- #### Monaco and Liechtenstein have the highest GDP per capita\n",
    "- #### India and China have the largest Armed Forces\n",
    "- #### South Sudan and Venezuela have the highest Inflation\n",
    "- #### South Africa and Leotho have the highest unemployment rate"
   ]
  },
  {
   "cell_type": "markdown",
   "id": "95ca825b",
   "metadata": {},
   "source": [
    "## Demographic Analysis"
   ]
  },
  {
   "cell_type": "markdown",
   "id": "05157075",
   "metadata": {},
   "source": [
    "### Categorical Variable Analysis"
   ]
  },
  {
   "cell_type": "code",
   "execution_count": 44,
   "id": "2f889621",
   "metadata": {},
   "outputs": [],
   "source": [
    "df = df.reset_index()"
   ]
  },
  {
   "cell_type": "code",
   "execution_count": 45,
   "id": "16843dd2",
   "metadata": {},
   "outputs": [
    {
     "data": {
      "text/html": [
       "<div>\n",
       "<style scoped>\n",
       "    .dataframe tbody tr th:only-of-type {\n",
       "        vertical-align: middle;\n",
       "    }\n",
       "\n",
       "    .dataframe tbody tr th {\n",
       "        vertical-align: top;\n",
       "    }\n",
       "\n",
       "    .dataframe thead th {\n",
       "        text-align: right;\n",
       "    }\n",
       "</style>\n",
       "<table border=\"1\" class=\"dataframe\">\n",
       "  <thead>\n",
       "    <tr style=\"text-align: right;\">\n",
       "      <th></th>\n",
       "      <th>Country</th>\n",
       "      <th>Density\\n(P/Km2)</th>\n",
       "      <th>Abbreviation</th>\n",
       "      <th>Agricultural Land( %)</th>\n",
       "      <th>Land Area(Km2)</th>\n",
       "      <th>Armed Forces size</th>\n",
       "      <th>Birth Rate</th>\n",
       "      <th>Calling Code</th>\n",
       "      <th>Capital/Major City</th>\n",
       "      <th>Co2-Emissions</th>\n",
       "      <th>...</th>\n",
       "      <th>Urban_population</th>\n",
       "      <th>Latitude</th>\n",
       "      <th>Longitude</th>\n",
       "      <th>GDP_per_capita</th>\n",
       "      <th>Armed_forces_per_capita</th>\n",
       "      <th>Urban_population_ratio</th>\n",
       "      <th>C02_per_capita</th>\n",
       "      <th>C02_per_urban_population</th>\n",
       "      <th>Agricultural Land(Km2)</th>\n",
       "      <th>Forested Area(Km2)</th>\n",
       "    </tr>\n",
       "  </thead>\n",
       "  <tbody>\n",
       "    <tr>\n",
       "      <th>0</th>\n",
       "      <td>Afghanistan</td>\n",
       "      <td>60.0</td>\n",
       "      <td>AF</td>\n",
       "      <td>58.1</td>\n",
       "      <td>652230.0</td>\n",
       "      <td>323000.0</td>\n",
       "      <td>32.49</td>\n",
       "      <td>93.0</td>\n",
       "      <td>Kabul</td>\n",
       "      <td>8672.0</td>\n",
       "      <td>...</td>\n",
       "      <td>9797273.0</td>\n",
       "      <td>33.939110</td>\n",
       "      <td>67.709953</td>\n",
       "      <td>502.115487</td>\n",
       "      <td>0.008491</td>\n",
       "      <td>0.257540</td>\n",
       "      <td>0.000228</td>\n",
       "      <td>0.000885</td>\n",
       "      <td>378945.630</td>\n",
       "      <td>13696.830</td>\n",
       "    </tr>\n",
       "    <tr>\n",
       "      <th>1</th>\n",
       "      <td>Albania</td>\n",
       "      <td>105.0</td>\n",
       "      <td>AL</td>\n",
       "      <td>43.1</td>\n",
       "      <td>28748.0</td>\n",
       "      <td>9000.0</td>\n",
       "      <td>11.78</td>\n",
       "      <td>355.0</td>\n",
       "      <td>Tirana</td>\n",
       "      <td>4536.0</td>\n",
       "      <td>...</td>\n",
       "      <td>1747593.0</td>\n",
       "      <td>41.153332</td>\n",
       "      <td>20.168331</td>\n",
       "      <td>5352.857411</td>\n",
       "      <td>0.003153</td>\n",
       "      <td>0.612290</td>\n",
       "      <td>0.001589</td>\n",
       "      <td>0.002596</td>\n",
       "      <td>12390.388</td>\n",
       "      <td>8078.188</td>\n",
       "    </tr>\n",
       "    <tr>\n",
       "      <th>2</th>\n",
       "      <td>Algeria</td>\n",
       "      <td>18.0</td>\n",
       "      <td>DZ</td>\n",
       "      <td>17.4</td>\n",
       "      <td>2381741.0</td>\n",
       "      <td>317000.0</td>\n",
       "      <td>24.28</td>\n",
       "      <td>213.0</td>\n",
       "      <td>Algiers</td>\n",
       "      <td>150006.0</td>\n",
       "      <td>...</td>\n",
       "      <td>31510100.0</td>\n",
       "      <td>28.033886</td>\n",
       "      <td>1.659626</td>\n",
       "      <td>3948.343279</td>\n",
       "      <td>0.007363</td>\n",
       "      <td>0.731890</td>\n",
       "      <td>0.003484</td>\n",
       "      <td>0.004761</td>\n",
       "      <td>414422.934</td>\n",
       "      <td>19053.928</td>\n",
       "    </tr>\n",
       "    <tr>\n",
       "      <th>3</th>\n",
       "      <td>Andorra</td>\n",
       "      <td>164.0</td>\n",
       "      <td>AD</td>\n",
       "      <td>40.0</td>\n",
       "      <td>468.0</td>\n",
       "      <td>NaN</td>\n",
       "      <td>7.20</td>\n",
       "      <td>376.0</td>\n",
       "      <td>Andorra la Vella</td>\n",
       "      <td>469.0</td>\n",
       "      <td>...</td>\n",
       "      <td>67873.0</td>\n",
       "      <td>42.506285</td>\n",
       "      <td>1.521801</td>\n",
       "      <td>40886.391162</td>\n",
       "      <td>NaN</td>\n",
       "      <td>0.879845</td>\n",
       "      <td>0.006080</td>\n",
       "      <td>0.006910</td>\n",
       "      <td>187.200</td>\n",
       "      <td>159.120</td>\n",
       "    </tr>\n",
       "    <tr>\n",
       "      <th>4</th>\n",
       "      <td>Angola</td>\n",
       "      <td>26.0</td>\n",
       "      <td>AO</td>\n",
       "      <td>47.5</td>\n",
       "      <td>1246700.0</td>\n",
       "      <td>117000.0</td>\n",
       "      <td>40.73</td>\n",
       "      <td>244.0</td>\n",
       "      <td>Luanda</td>\n",
       "      <td>34693.0</td>\n",
       "      <td>...</td>\n",
       "      <td>21061025.0</td>\n",
       "      <td>-11.202692</td>\n",
       "      <td>17.873887</td>\n",
       "      <td>2973.591160</td>\n",
       "      <td>0.003676</td>\n",
       "      <td>0.661770</td>\n",
       "      <td>0.001090</td>\n",
       "      <td>0.001647</td>\n",
       "      <td>592182.500</td>\n",
       "      <td>577222.100</td>\n",
       "    </tr>\n",
       "    <tr>\n",
       "      <th>...</th>\n",
       "      <td>...</td>\n",
       "      <td>...</td>\n",
       "      <td>...</td>\n",
       "      <td>...</td>\n",
       "      <td>...</td>\n",
       "      <td>...</td>\n",
       "      <td>...</td>\n",
       "      <td>...</td>\n",
       "      <td>...</td>\n",
       "      <td>...</td>\n",
       "      <td>...</td>\n",
       "      <td>...</td>\n",
       "      <td>...</td>\n",
       "      <td>...</td>\n",
       "      <td>...</td>\n",
       "      <td>...</td>\n",
       "      <td>...</td>\n",
       "      <td>...</td>\n",
       "      <td>...</td>\n",
       "      <td>...</td>\n",
       "      <td>...</td>\n",
       "    </tr>\n",
       "    <tr>\n",
       "      <th>190</th>\n",
       "      <td>Venezuela</td>\n",
       "      <td>32.0</td>\n",
       "      <td>VE</td>\n",
       "      <td>24.5</td>\n",
       "      <td>912050.0</td>\n",
       "      <td>343000.0</td>\n",
       "      <td>17.88</td>\n",
       "      <td>58.0</td>\n",
       "      <td>Caracas</td>\n",
       "      <td>164175.0</td>\n",
       "      <td>...</td>\n",
       "      <td>25162368.0</td>\n",
       "      <td>6.423750</td>\n",
       "      <td>-66.589730</td>\n",
       "      <td>16915.493453</td>\n",
       "      <td>0.012028</td>\n",
       "      <td>0.882400</td>\n",
       "      <td>0.005757</td>\n",
       "      <td>0.006525</td>\n",
       "      <td>223452.250</td>\n",
       "      <td>480650.350</td>\n",
       "    </tr>\n",
       "    <tr>\n",
       "      <th>191</th>\n",
       "      <td>Vietnam</td>\n",
       "      <td>314.0</td>\n",
       "      <td>VN</td>\n",
       "      <td>39.3</td>\n",
       "      <td>331210.0</td>\n",
       "      <td>522000.0</td>\n",
       "      <td>16.75</td>\n",
       "      <td>84.0</td>\n",
       "      <td>Hanoi</td>\n",
       "      <td>192668.0</td>\n",
       "      <td>...</td>\n",
       "      <td>35332140.0</td>\n",
       "      <td>14.058324</td>\n",
       "      <td>108.277199</td>\n",
       "      <td>2715.276036</td>\n",
       "      <td>0.005411</td>\n",
       "      <td>0.366280</td>\n",
       "      <td>0.001997</td>\n",
       "      <td>0.005453</td>\n",
       "      <td>130165.530</td>\n",
       "      <td>159312.010</td>\n",
       "    </tr>\n",
       "    <tr>\n",
       "      <th>192</th>\n",
       "      <td>Yemen</td>\n",
       "      <td>56.0</td>\n",
       "      <td>YE</td>\n",
       "      <td>44.6</td>\n",
       "      <td>527968.0</td>\n",
       "      <td>40000.0</td>\n",
       "      <td>30.45</td>\n",
       "      <td>967.0</td>\n",
       "      <td>Sanaa</td>\n",
       "      <td>10609.0</td>\n",
       "      <td>...</td>\n",
       "      <td>10869523.0</td>\n",
       "      <td>15.552727</td>\n",
       "      <td>48.516388</td>\n",
       "      <td>922.929642</td>\n",
       "      <td>0.001372</td>\n",
       "      <td>0.372730</td>\n",
       "      <td>0.000364</td>\n",
       "      <td>0.000976</td>\n",
       "      <td>235473.728</td>\n",
       "      <td>5279.680</td>\n",
       "    </tr>\n",
       "    <tr>\n",
       "      <th>193</th>\n",
       "      <td>Zambia</td>\n",
       "      <td>25.0</td>\n",
       "      <td>ZM</td>\n",
       "      <td>32.1</td>\n",
       "      <td>752618.0</td>\n",
       "      <td>16000.0</td>\n",
       "      <td>36.19</td>\n",
       "      <td>260.0</td>\n",
       "      <td>Lusaka</td>\n",
       "      <td>5141.0</td>\n",
       "      <td>...</td>\n",
       "      <td>7871713.0</td>\n",
       "      <td>-13.133897</td>\n",
       "      <td>27.849332</td>\n",
       "      <td>1291.343357</td>\n",
       "      <td>0.000896</td>\n",
       "      <td>0.440720</td>\n",
       "      <td>0.000288</td>\n",
       "      <td>0.000653</td>\n",
       "      <td>241590.378</td>\n",
       "      <td>490706.936</td>\n",
       "    </tr>\n",
       "    <tr>\n",
       "      <th>194</th>\n",
       "      <td>Zimbabwe</td>\n",
       "      <td>38.0</td>\n",
       "      <td>ZW</td>\n",
       "      <td>41.9</td>\n",
       "      <td>390757.0</td>\n",
       "      <td>51000.0</td>\n",
       "      <td>30.68</td>\n",
       "      <td>263.0</td>\n",
       "      <td>Harare</td>\n",
       "      <td>10983.0</td>\n",
       "      <td>...</td>\n",
       "      <td>4717305.0</td>\n",
       "      <td>-19.015438</td>\n",
       "      <td>29.154857</td>\n",
       "      <td>1463.985910</td>\n",
       "      <td>0.003482</td>\n",
       "      <td>0.322100</td>\n",
       "      <td>0.000750</td>\n",
       "      <td>0.002328</td>\n",
       "      <td>163727.183</td>\n",
       "      <td>138718.735</td>\n",
       "    </tr>\n",
       "  </tbody>\n",
       "</table>\n",
       "<p>195 rows × 42 columns</p>\n",
       "</div>"
      ],
      "text/plain": [
       "         Country  Density\\n(P/Km2) Abbreviation  Agricultural Land( %)  \\\n",
       "0    Afghanistan              60.0           AF                   58.1   \n",
       "1        Albania             105.0           AL                   43.1   \n",
       "2        Algeria              18.0           DZ                   17.4   \n",
       "3        Andorra             164.0           AD                   40.0   \n",
       "4         Angola              26.0           AO                   47.5   \n",
       "..           ...               ...          ...                    ...   \n",
       "190    Venezuela              32.0           VE                   24.5   \n",
       "191      Vietnam             314.0           VN                   39.3   \n",
       "192        Yemen              56.0           YE                   44.6   \n",
       "193       Zambia              25.0           ZM                   32.1   \n",
       "194     Zimbabwe              38.0           ZW                   41.9   \n",
       "\n",
       "     Land Area(Km2)  Armed Forces size  Birth Rate  Calling Code  \\\n",
       "0          652230.0           323000.0       32.49          93.0   \n",
       "1           28748.0             9000.0       11.78         355.0   \n",
       "2         2381741.0           317000.0       24.28         213.0   \n",
       "3             468.0                NaN        7.20         376.0   \n",
       "4         1246700.0           117000.0       40.73         244.0   \n",
       "..              ...                ...         ...           ...   \n",
       "190        912050.0           343000.0       17.88          58.0   \n",
       "191        331210.0           522000.0       16.75          84.0   \n",
       "192        527968.0            40000.0       30.45         967.0   \n",
       "193        752618.0            16000.0       36.19         260.0   \n",
       "194        390757.0            51000.0       30.68         263.0   \n",
       "\n",
       "    Capital/Major City  Co2-Emissions  ...  Urban_population   Latitude  \\\n",
       "0                Kabul         8672.0  ...         9797273.0  33.939110   \n",
       "1               Tirana         4536.0  ...         1747593.0  41.153332   \n",
       "2              Algiers       150006.0  ...        31510100.0  28.033886   \n",
       "3     Andorra la Vella          469.0  ...           67873.0  42.506285   \n",
       "4               Luanda        34693.0  ...        21061025.0 -11.202692   \n",
       "..                 ...            ...  ...               ...        ...   \n",
       "190            Caracas       164175.0  ...        25162368.0   6.423750   \n",
       "191              Hanoi       192668.0  ...        35332140.0  14.058324   \n",
       "192              Sanaa        10609.0  ...        10869523.0  15.552727   \n",
       "193             Lusaka         5141.0  ...         7871713.0 -13.133897   \n",
       "194             Harare        10983.0  ...         4717305.0 -19.015438   \n",
       "\n",
       "      Longitude  GDP_per_capita  Armed_forces_per_capita  \\\n",
       "0     67.709953      502.115487                 0.008491   \n",
       "1     20.168331     5352.857411                 0.003153   \n",
       "2      1.659626     3948.343279                 0.007363   \n",
       "3      1.521801    40886.391162                      NaN   \n",
       "4     17.873887     2973.591160                 0.003676   \n",
       "..          ...             ...                      ...   \n",
       "190  -66.589730    16915.493453                 0.012028   \n",
       "191  108.277199     2715.276036                 0.005411   \n",
       "192   48.516388      922.929642                 0.001372   \n",
       "193   27.849332     1291.343357                 0.000896   \n",
       "194   29.154857     1463.985910                 0.003482   \n",
       "\n",
       "     Urban_population_ratio  C02_per_capita  C02_per_urban_population  \\\n",
       "0                  0.257540        0.000228                  0.000885   \n",
       "1                  0.612290        0.001589                  0.002596   \n",
       "2                  0.731890        0.003484                  0.004761   \n",
       "3                  0.879845        0.006080                  0.006910   \n",
       "4                  0.661770        0.001090                  0.001647   \n",
       "..                      ...             ...                       ...   \n",
       "190                0.882400        0.005757                  0.006525   \n",
       "191                0.366280        0.001997                  0.005453   \n",
       "192                0.372730        0.000364                  0.000976   \n",
       "193                0.440720        0.000288                  0.000653   \n",
       "194                0.322100        0.000750                  0.002328   \n",
       "\n",
       "     Agricultural Land(Km2)  Forested Area(Km2)  \n",
       "0                378945.630           13696.830  \n",
       "1                 12390.388            8078.188  \n",
       "2                414422.934           19053.928  \n",
       "3                   187.200             159.120  \n",
       "4                592182.500          577222.100  \n",
       "..                      ...                 ...  \n",
       "190              223452.250          480650.350  \n",
       "191              130165.530          159312.010  \n",
       "192              235473.728            5279.680  \n",
       "193              241590.378          490706.936  \n",
       "194              163727.183          138718.735  \n",
       "\n",
       "[195 rows x 42 columns]"
      ]
     },
     "execution_count": 45,
     "metadata": {},
     "output_type": "execute_result"
    }
   ],
   "source": [
    "df"
   ]
  },
  {
   "cell_type": "code",
   "execution_count": 46,
   "id": "6f57e83a",
   "metadata": {},
   "outputs": [],
   "source": [
    "df_lang = df[['Country', 'Official language']]\n",
    "\n",
    "# df_lang.groupby(['Country', 'Official language'], as_index=False).count()"
   ]
  },
  {
   "cell_type": "code",
   "execution_count": 47,
   "id": "592d63b5",
   "metadata": {},
   "outputs": [
    {
     "data": {
      "text/html": [
       "<div>\n",
       "<style scoped>\n",
       "    .dataframe tbody tr th:only-of-type {\n",
       "        vertical-align: middle;\n",
       "    }\n",
       "\n",
       "    .dataframe tbody tr th {\n",
       "        vertical-align: top;\n",
       "    }\n",
       "\n",
       "    .dataframe thead th {\n",
       "        text-align: right;\n",
       "    }\n",
       "</style>\n",
       "<table border=\"1\" class=\"dataframe\">\n",
       "  <thead>\n",
       "    <tr style=\"text-align: right;\">\n",
       "      <th></th>\n",
       "      <th>Country</th>\n",
       "      <th>Official language</th>\n",
       "    </tr>\n",
       "  </thead>\n",
       "  <tbody>\n",
       "    <tr>\n",
       "      <th>0</th>\n",
       "      <td>Afghanistan</td>\n",
       "      <td>Pashto</td>\n",
       "    </tr>\n",
       "    <tr>\n",
       "      <th>1</th>\n",
       "      <td>Albania</td>\n",
       "      <td>Albanian</td>\n",
       "    </tr>\n",
       "    <tr>\n",
       "      <th>2</th>\n",
       "      <td>Algeria</td>\n",
       "      <td>Arabic</td>\n",
       "    </tr>\n",
       "    <tr>\n",
       "      <th>3</th>\n",
       "      <td>Andorra</td>\n",
       "      <td>Catalan</td>\n",
       "    </tr>\n",
       "    <tr>\n",
       "      <th>4</th>\n",
       "      <td>Angola</td>\n",
       "      <td>Portuguese</td>\n",
       "    </tr>\n",
       "    <tr>\n",
       "      <th>...</th>\n",
       "      <td>...</td>\n",
       "      <td>...</td>\n",
       "    </tr>\n",
       "    <tr>\n",
       "      <th>190</th>\n",
       "      <td>Venezuela</td>\n",
       "      <td>Spanish</td>\n",
       "    </tr>\n",
       "    <tr>\n",
       "      <th>191</th>\n",
       "      <td>Vietnam</td>\n",
       "      <td>Vietnamese</td>\n",
       "    </tr>\n",
       "    <tr>\n",
       "      <th>192</th>\n",
       "      <td>Yemen</td>\n",
       "      <td>Arabic</td>\n",
       "    </tr>\n",
       "    <tr>\n",
       "      <th>193</th>\n",
       "      <td>Zambia</td>\n",
       "      <td>English</td>\n",
       "    </tr>\n",
       "    <tr>\n",
       "      <th>194</th>\n",
       "      <td>Zimbabwe</td>\n",
       "      <td>Shona</td>\n",
       "    </tr>\n",
       "  </tbody>\n",
       "</table>\n",
       "<p>195 rows × 2 columns</p>\n",
       "</div>"
      ],
      "text/plain": [
       "         Country Official language\n",
       "0    Afghanistan            Pashto\n",
       "1        Albania          Albanian\n",
       "2        Algeria            Arabic\n",
       "3        Andorra           Catalan\n",
       "4         Angola        Portuguese\n",
       "..           ...               ...\n",
       "190    Venezuela           Spanish\n",
       "191      Vietnam        Vietnamese\n",
       "192        Yemen            Arabic\n",
       "193       Zambia           English\n",
       "194     Zimbabwe             Shona\n",
       "\n",
       "[195 rows x 2 columns]"
      ]
     },
     "execution_count": 47,
     "metadata": {},
     "output_type": "execute_result"
    }
   ],
   "source": [
    "df_lang "
   ]
  },
  {
   "cell_type": "code",
   "execution_count": 48,
   "id": "7b75b42d",
   "metadata": {},
   "outputs": [],
   "source": [
    "df_lang_grp = df_lang.groupby(['Official language']).count()"
   ]
  },
  {
   "cell_type": "code",
   "execution_count": 49,
   "id": "7cb98736",
   "metadata": {},
   "outputs": [
    {
     "data": {
      "text/html": [
       "<div>\n",
       "<style scoped>\n",
       "    .dataframe tbody tr th:only-of-type {\n",
       "        vertical-align: middle;\n",
       "    }\n",
       "\n",
       "    .dataframe tbody tr th {\n",
       "        vertical-align: top;\n",
       "    }\n",
       "\n",
       "    .dataframe thead th {\n",
       "        text-align: right;\n",
       "    }\n",
       "</style>\n",
       "<table border=\"1\" class=\"dataframe\">\n",
       "  <thead>\n",
       "    <tr style=\"text-align: right;\">\n",
       "      <th></th>\n",
       "      <th>Country</th>\n",
       "    </tr>\n",
       "    <tr>\n",
       "      <th>Official language</th>\n",
       "      <th></th>\n",
       "    </tr>\n",
       "  </thead>\n",
       "  <tbody>\n",
       "    <tr>\n",
       "      <th>Afrikaans</th>\n",
       "      <td>1</td>\n",
       "    </tr>\n",
       "    <tr>\n",
       "      <th>Albanian</th>\n",
       "      <td>1</td>\n",
       "    </tr>\n",
       "    <tr>\n",
       "      <th>Amharic</th>\n",
       "      <td>1</td>\n",
       "    </tr>\n",
       "    <tr>\n",
       "      <th>Arabic</th>\n",
       "      <td>18</td>\n",
       "    </tr>\n",
       "    <tr>\n",
       "      <th>Armenian</th>\n",
       "      <td>1</td>\n",
       "    </tr>\n",
       "    <tr>\n",
       "      <th>...</th>\n",
       "      <td>...</td>\n",
       "    </tr>\n",
       "    <tr>\n",
       "      <th>Tuvaluan Language</th>\n",
       "      <td>1</td>\n",
       "    </tr>\n",
       "    <tr>\n",
       "      <th>Ukrainian</th>\n",
       "      <td>1</td>\n",
       "    </tr>\n",
       "    <tr>\n",
       "      <th>Urdu</th>\n",
       "      <td>1</td>\n",
       "    </tr>\n",
       "    <tr>\n",
       "      <th>Uzbek</th>\n",
       "      <td>1</td>\n",
       "    </tr>\n",
       "    <tr>\n",
       "      <th>Vietnamese</th>\n",
       "      <td>1</td>\n",
       "    </tr>\n",
       "  </tbody>\n",
       "</table>\n",
       "<p>77 rows × 1 columns</p>\n",
       "</div>"
      ],
      "text/plain": [
       "                   Country\n",
       "Official language         \n",
       "Afrikaans                1\n",
       "Albanian                 1\n",
       "Amharic                  1\n",
       "Arabic                  18\n",
       "Armenian                 1\n",
       "...                    ...\n",
       "Tuvaluan Language        1\n",
       "Ukrainian                1\n",
       "Urdu                     1\n",
       "Uzbek                    1\n",
       "Vietnamese               1\n",
       "\n",
       "[77 rows x 1 columns]"
      ]
     },
     "execution_count": 49,
     "metadata": {},
     "output_type": "execute_result"
    }
   ],
   "source": [
    "df_lang_grp"
   ]
  },
  {
   "cell_type": "code",
   "execution_count": 50,
   "id": "fd20d54c",
   "metadata": {},
   "outputs": [],
   "source": [
    "df_lang_grp_sorted = df_lang_grp.sort_values(by='Country', ascending=False)"
   ]
  },
  {
   "cell_type": "code",
   "execution_count": 51,
   "id": "ebb726fe",
   "metadata": {},
   "outputs": [
    {
     "data": {
      "text/html": [
       "<div>\n",
       "<style scoped>\n",
       "    .dataframe tbody tr th:only-of-type {\n",
       "        vertical-align: middle;\n",
       "    }\n",
       "\n",
       "    .dataframe tbody tr th {\n",
       "        vertical-align: top;\n",
       "    }\n",
       "\n",
       "    .dataframe thead th {\n",
       "        text-align: right;\n",
       "    }\n",
       "</style>\n",
       "<table border=\"1\" class=\"dataframe\">\n",
       "  <thead>\n",
       "    <tr style=\"text-align: right;\">\n",
       "      <th></th>\n",
       "      <th>Country</th>\n",
       "    </tr>\n",
       "    <tr>\n",
       "      <th>Official language</th>\n",
       "      <th></th>\n",
       "    </tr>\n",
       "  </thead>\n",
       "  <tbody>\n",
       "    <tr>\n",
       "      <th>English</th>\n",
       "      <td>31</td>\n",
       "    </tr>\n",
       "    <tr>\n",
       "      <th>French</th>\n",
       "      <td>25</td>\n",
       "    </tr>\n",
       "    <tr>\n",
       "      <th>Spanish</th>\n",
       "      <td>19</td>\n",
       "    </tr>\n",
       "    <tr>\n",
       "      <th>Arabic</th>\n",
       "      <td>18</td>\n",
       "    </tr>\n",
       "    <tr>\n",
       "      <th>Portuguese</th>\n",
       "      <td>7</td>\n",
       "    </tr>\n",
       "    <tr>\n",
       "      <th>...</th>\n",
       "      <td>...</td>\n",
       "    </tr>\n",
       "    <tr>\n",
       "      <th>Latvian</th>\n",
       "      <td>1</td>\n",
       "    </tr>\n",
       "    <tr>\n",
       "      <th>Lithuanian</th>\n",
       "      <td>1</td>\n",
       "    </tr>\n",
       "    <tr>\n",
       "      <th>Albanian</th>\n",
       "      <td>1</td>\n",
       "    </tr>\n",
       "    <tr>\n",
       "      <th>Macedonian</th>\n",
       "      <td>1</td>\n",
       "    </tr>\n",
       "    <tr>\n",
       "      <th>Vietnamese</th>\n",
       "      <td>1</td>\n",
       "    </tr>\n",
       "  </tbody>\n",
       "</table>\n",
       "<p>77 rows × 1 columns</p>\n",
       "</div>"
      ],
      "text/plain": [
       "                   Country\n",
       "Official language         \n",
       "English                 31\n",
       "French                  25\n",
       "Spanish                 19\n",
       "Arabic                  18\n",
       "Portuguese               7\n",
       "...                    ...\n",
       "Latvian                  1\n",
       "Lithuanian               1\n",
       "Albanian                 1\n",
       "Macedonian               1\n",
       "Vietnamese               1\n",
       "\n",
       "[77 rows x 1 columns]"
      ]
     },
     "execution_count": 51,
     "metadata": {},
     "output_type": "execute_result"
    }
   ],
   "source": [
    "df_lang_grp_sorted"
   ]
  },
  {
   "cell_type": "markdown",
   "id": "783f579a",
   "metadata": {},
   "source": [
    "### Number of Countries that Speak the Top Languages"
   ]
  },
  {
   "cell_type": "code",
   "execution_count": 52,
   "id": "3b3ec140",
   "metadata": {},
   "outputs": [],
   "source": [
    "# top10_barplot(df_lang_grp_sorted, 'Country')\n",
    "df_lang_grp_sorted = df_lang_grp_sorted.reset_index()\n",
    "\n",
    "df_lang_grp_sorted = df_lang_grp_sorted.head(10)"
   ]
  },
  {
   "cell_type": "code",
   "execution_count": 53,
   "id": "95438ff3",
   "metadata": {},
   "outputs": [
    {
     "data": {
      "application/vnd.plotly.v1+json": {
       "config": {
        "plotlyServerURL": "https://plot.ly"
       },
       "data": [
        {
         "alignmentgroup": "True",
         "hovertemplate": "x=%{x}<br>y=%{y}<br>text=%{text}<br>color=%{marker.color}<extra></extra>",
         "legendgroup": "",
         "marker": {
          "color": [
           0,
           1,
           2,
           3,
           4,
           5,
           6,
           7,
           8,
           9
          ],
          "coloraxis": "coloraxis",
          "pattern": {
           "shape": ""
          }
         },
         "name": "",
         "offsetgroup": "",
         "orientation": "v",
         "showlegend": false,
         "text": [
          31,
          25,
          19,
          18,
          7,
          4,
          4,
          4,
          4,
          3
         ],
         "textposition": "auto",
         "type": "bar",
         "x": [
          "English",
          "French",
          "Spanish",
          "Arabic",
          "Portuguese",
          "Russian",
          "German",
          "None",
          "Swahili",
          "Italian"
         ],
         "xaxis": "x",
         "y": [
          31,
          25,
          19,
          18,
          7,
          4,
          4,
          4,
          4,
          3
         ],
         "yaxis": "y"
        }
       ],
       "layout": {
        "barmode": "relative",
        "coloraxis": {
         "colorbar": {
          "title": {
           "text": "color"
          }
         },
         "colorscale": [
          [
           0,
           "#0d0887"
          ],
          [
           0.1111111111111111,
           "#46039f"
          ],
          [
           0.2222222222222222,
           "#7201a8"
          ],
          [
           0.3333333333333333,
           "#9c179e"
          ],
          [
           0.4444444444444444,
           "#bd3786"
          ],
          [
           0.5555555555555556,
           "#d8576b"
          ],
          [
           0.6666666666666666,
           "#ed7953"
          ],
          [
           0.7777777777777778,
           "#fb9f3a"
          ],
          [
           0.8888888888888888,
           "#fdca26"
          ],
          [
           1,
           "#f0f921"
          ]
         ]
        },
        "height": 600,
        "legend": {
         "title": {
          "text": "Country"
         },
         "tracegroupgap": 0
        },
        "margin": {
         "l": 80,
         "t": 100
        },
        "showlegend": true,
        "template": {
         "data": {
          "bar": [
           {
            "error_x": {
             "color": "#2a3f5f"
            },
            "error_y": {
             "color": "#2a3f5f"
            },
            "marker": {
             "line": {
              "color": "white",
              "width": 0.5
             },
             "pattern": {
              "fillmode": "overlay",
              "size": 10,
              "solidity": 0.2
             }
            },
            "type": "bar"
           }
          ],
          "barpolar": [
           {
            "marker": {
             "line": {
              "color": "white",
              "width": 0.5
             },
             "pattern": {
              "fillmode": "overlay",
              "size": 10,
              "solidity": 0.2
             }
            },
            "type": "barpolar"
           }
          ],
          "carpet": [
           {
            "aaxis": {
             "endlinecolor": "#2a3f5f",
             "gridcolor": "#C8D4E3",
             "linecolor": "#C8D4E3",
             "minorgridcolor": "#C8D4E3",
             "startlinecolor": "#2a3f5f"
            },
            "baxis": {
             "endlinecolor": "#2a3f5f",
             "gridcolor": "#C8D4E3",
             "linecolor": "#C8D4E3",
             "minorgridcolor": "#C8D4E3",
             "startlinecolor": "#2a3f5f"
            },
            "type": "carpet"
           }
          ],
          "choropleth": [
           {
            "colorbar": {
             "outlinewidth": 0,
             "ticks": ""
            },
            "type": "choropleth"
           }
          ],
          "contour": [
           {
            "colorbar": {
             "outlinewidth": 0,
             "ticks": ""
            },
            "colorscale": [
             [
              0,
              "#0d0887"
             ],
             [
              0.1111111111111111,
              "#46039f"
             ],
             [
              0.2222222222222222,
              "#7201a8"
             ],
             [
              0.3333333333333333,
              "#9c179e"
             ],
             [
              0.4444444444444444,
              "#bd3786"
             ],
             [
              0.5555555555555556,
              "#d8576b"
             ],
             [
              0.6666666666666666,
              "#ed7953"
             ],
             [
              0.7777777777777778,
              "#fb9f3a"
             ],
             [
              0.8888888888888888,
              "#fdca26"
             ],
             [
              1,
              "#f0f921"
             ]
            ],
            "type": "contour"
           }
          ],
          "contourcarpet": [
           {
            "colorbar": {
             "outlinewidth": 0,
             "ticks": ""
            },
            "type": "contourcarpet"
           }
          ],
          "heatmap": [
           {
            "colorbar": {
             "outlinewidth": 0,
             "ticks": ""
            },
            "colorscale": [
             [
              0,
              "#0d0887"
             ],
             [
              0.1111111111111111,
              "#46039f"
             ],
             [
              0.2222222222222222,
              "#7201a8"
             ],
             [
              0.3333333333333333,
              "#9c179e"
             ],
             [
              0.4444444444444444,
              "#bd3786"
             ],
             [
              0.5555555555555556,
              "#d8576b"
             ],
             [
              0.6666666666666666,
              "#ed7953"
             ],
             [
              0.7777777777777778,
              "#fb9f3a"
             ],
             [
              0.8888888888888888,
              "#fdca26"
             ],
             [
              1,
              "#f0f921"
             ]
            ],
            "type": "heatmap"
           }
          ],
          "heatmapgl": [
           {
            "colorbar": {
             "outlinewidth": 0,
             "ticks": ""
            },
            "colorscale": [
             [
              0,
              "#0d0887"
             ],
             [
              0.1111111111111111,
              "#46039f"
             ],
             [
              0.2222222222222222,
              "#7201a8"
             ],
             [
              0.3333333333333333,
              "#9c179e"
             ],
             [
              0.4444444444444444,
              "#bd3786"
             ],
             [
              0.5555555555555556,
              "#d8576b"
             ],
             [
              0.6666666666666666,
              "#ed7953"
             ],
             [
              0.7777777777777778,
              "#fb9f3a"
             ],
             [
              0.8888888888888888,
              "#fdca26"
             ],
             [
              1,
              "#f0f921"
             ]
            ],
            "type": "heatmapgl"
           }
          ],
          "histogram": [
           {
            "marker": {
             "pattern": {
              "fillmode": "overlay",
              "size": 10,
              "solidity": 0.2
             }
            },
            "type": "histogram"
           }
          ],
          "histogram2d": [
           {
            "colorbar": {
             "outlinewidth": 0,
             "ticks": ""
            },
            "colorscale": [
             [
              0,
              "#0d0887"
             ],
             [
              0.1111111111111111,
              "#46039f"
             ],
             [
              0.2222222222222222,
              "#7201a8"
             ],
             [
              0.3333333333333333,
              "#9c179e"
             ],
             [
              0.4444444444444444,
              "#bd3786"
             ],
             [
              0.5555555555555556,
              "#d8576b"
             ],
             [
              0.6666666666666666,
              "#ed7953"
             ],
             [
              0.7777777777777778,
              "#fb9f3a"
             ],
             [
              0.8888888888888888,
              "#fdca26"
             ],
             [
              1,
              "#f0f921"
             ]
            ],
            "type": "histogram2d"
           }
          ],
          "histogram2dcontour": [
           {
            "colorbar": {
             "outlinewidth": 0,
             "ticks": ""
            },
            "colorscale": [
             [
              0,
              "#0d0887"
             ],
             [
              0.1111111111111111,
              "#46039f"
             ],
             [
              0.2222222222222222,
              "#7201a8"
             ],
             [
              0.3333333333333333,
              "#9c179e"
             ],
             [
              0.4444444444444444,
              "#bd3786"
             ],
             [
              0.5555555555555556,
              "#d8576b"
             ],
             [
              0.6666666666666666,
              "#ed7953"
             ],
             [
              0.7777777777777778,
              "#fb9f3a"
             ],
             [
              0.8888888888888888,
              "#fdca26"
             ],
             [
              1,
              "#f0f921"
             ]
            ],
            "type": "histogram2dcontour"
           }
          ],
          "mesh3d": [
           {
            "colorbar": {
             "outlinewidth": 0,
             "ticks": ""
            },
            "type": "mesh3d"
           }
          ],
          "parcoords": [
           {
            "line": {
             "colorbar": {
              "outlinewidth": 0,
              "ticks": ""
             }
            },
            "type": "parcoords"
           }
          ],
          "pie": [
           {
            "automargin": true,
            "type": "pie"
           }
          ],
          "scatter": [
           {
            "fillpattern": {
             "fillmode": "overlay",
             "size": 10,
             "solidity": 0.2
            },
            "type": "scatter"
           }
          ],
          "scatter3d": [
           {
            "line": {
             "colorbar": {
              "outlinewidth": 0,
              "ticks": ""
             }
            },
            "marker": {
             "colorbar": {
              "outlinewidth": 0,
              "ticks": ""
             }
            },
            "type": "scatter3d"
           }
          ],
          "scattercarpet": [
           {
            "marker": {
             "colorbar": {
              "outlinewidth": 0,
              "ticks": ""
             }
            },
            "type": "scattercarpet"
           }
          ],
          "scattergeo": [
           {
            "marker": {
             "colorbar": {
              "outlinewidth": 0,
              "ticks": ""
             }
            },
            "type": "scattergeo"
           }
          ],
          "scattergl": [
           {
            "marker": {
             "colorbar": {
              "outlinewidth": 0,
              "ticks": ""
             }
            },
            "type": "scattergl"
           }
          ],
          "scattermapbox": [
           {
            "marker": {
             "colorbar": {
              "outlinewidth": 0,
              "ticks": ""
             }
            },
            "type": "scattermapbox"
           }
          ],
          "scatterpolar": [
           {
            "marker": {
             "colorbar": {
              "outlinewidth": 0,
              "ticks": ""
             }
            },
            "type": "scatterpolar"
           }
          ],
          "scatterpolargl": [
           {
            "marker": {
             "colorbar": {
              "outlinewidth": 0,
              "ticks": ""
             }
            },
            "type": "scatterpolargl"
           }
          ],
          "scatterternary": [
           {
            "marker": {
             "colorbar": {
              "outlinewidth": 0,
              "ticks": ""
             }
            },
            "type": "scatterternary"
           }
          ],
          "surface": [
           {
            "colorbar": {
             "outlinewidth": 0,
             "ticks": ""
            },
            "colorscale": [
             [
              0,
              "#0d0887"
             ],
             [
              0.1111111111111111,
              "#46039f"
             ],
             [
              0.2222222222222222,
              "#7201a8"
             ],
             [
              0.3333333333333333,
              "#9c179e"
             ],
             [
              0.4444444444444444,
              "#bd3786"
             ],
             [
              0.5555555555555556,
              "#d8576b"
             ],
             [
              0.6666666666666666,
              "#ed7953"
             ],
             [
              0.7777777777777778,
              "#fb9f3a"
             ],
             [
              0.8888888888888888,
              "#fdca26"
             ],
             [
              1,
              "#f0f921"
             ]
            ],
            "type": "surface"
           }
          ],
          "table": [
           {
            "cells": {
             "fill": {
              "color": "#EBF0F8"
             },
             "line": {
              "color": "white"
             }
            },
            "header": {
             "fill": {
              "color": "#C8D4E3"
             },
             "line": {
              "color": "white"
             }
            },
            "type": "table"
           }
          ]
         },
         "layout": {
          "annotationdefaults": {
           "arrowcolor": "#2a3f5f",
           "arrowhead": 0,
           "arrowwidth": 1
          },
          "autotypenumbers": "strict",
          "coloraxis": {
           "colorbar": {
            "outlinewidth": 0,
            "ticks": ""
           }
          },
          "colorscale": {
           "diverging": [
            [
             0,
             "#8e0152"
            ],
            [
             0.1,
             "#c51b7d"
            ],
            [
             0.2,
             "#de77ae"
            ],
            [
             0.3,
             "#f1b6da"
            ],
            [
             0.4,
             "#fde0ef"
            ],
            [
             0.5,
             "#f7f7f7"
            ],
            [
             0.6,
             "#e6f5d0"
            ],
            [
             0.7,
             "#b8e186"
            ],
            [
             0.8,
             "#7fbc41"
            ],
            [
             0.9,
             "#4d9221"
            ],
            [
             1,
             "#276419"
            ]
           ],
           "sequential": [
            [
             0,
             "#0d0887"
            ],
            [
             0.1111111111111111,
             "#46039f"
            ],
            [
             0.2222222222222222,
             "#7201a8"
            ],
            [
             0.3333333333333333,
             "#9c179e"
            ],
            [
             0.4444444444444444,
             "#bd3786"
            ],
            [
             0.5555555555555556,
             "#d8576b"
            ],
            [
             0.6666666666666666,
             "#ed7953"
            ],
            [
             0.7777777777777778,
             "#fb9f3a"
            ],
            [
             0.8888888888888888,
             "#fdca26"
            ],
            [
             1,
             "#f0f921"
            ]
           ],
           "sequentialminus": [
            [
             0,
             "#0d0887"
            ],
            [
             0.1111111111111111,
             "#46039f"
            ],
            [
             0.2222222222222222,
             "#7201a8"
            ],
            [
             0.3333333333333333,
             "#9c179e"
            ],
            [
             0.4444444444444444,
             "#bd3786"
            ],
            [
             0.5555555555555556,
             "#d8576b"
            ],
            [
             0.6666666666666666,
             "#ed7953"
            ],
            [
             0.7777777777777778,
             "#fb9f3a"
            ],
            [
             0.8888888888888888,
             "#fdca26"
            ],
            [
             1,
             "#f0f921"
            ]
           ]
          },
          "colorway": [
           "#636efa",
           "#EF553B",
           "#00cc96",
           "#ab63fa",
           "#FFA15A",
           "#19d3f3",
           "#FF6692",
           "#B6E880",
           "#FF97FF",
           "#FECB52"
          ],
          "font": {
           "color": "#2a3f5f"
          },
          "geo": {
           "bgcolor": "white",
           "lakecolor": "white",
           "landcolor": "white",
           "showlakes": true,
           "showland": true,
           "subunitcolor": "#C8D4E3"
          },
          "hoverlabel": {
           "align": "left"
          },
          "hovermode": "closest",
          "mapbox": {
           "style": "light"
          },
          "paper_bgcolor": "white",
          "plot_bgcolor": "white",
          "polar": {
           "angularaxis": {
            "gridcolor": "#EBF0F8",
            "linecolor": "#EBF0F8",
            "ticks": ""
           },
           "bgcolor": "white",
           "radialaxis": {
            "gridcolor": "#EBF0F8",
            "linecolor": "#EBF0F8",
            "ticks": ""
           }
          },
          "scene": {
           "xaxis": {
            "backgroundcolor": "white",
            "gridcolor": "#DFE8F3",
            "gridwidth": 2,
            "linecolor": "#EBF0F8",
            "showbackground": true,
            "ticks": "",
            "zerolinecolor": "#EBF0F8"
           },
           "yaxis": {
            "backgroundcolor": "white",
            "gridcolor": "#DFE8F3",
            "gridwidth": 2,
            "linecolor": "#EBF0F8",
            "showbackground": true,
            "ticks": "",
            "zerolinecolor": "#EBF0F8"
           },
           "zaxis": {
            "backgroundcolor": "white",
            "gridcolor": "#DFE8F3",
            "gridwidth": 2,
            "linecolor": "#EBF0F8",
            "showbackground": true,
            "ticks": "",
            "zerolinecolor": "#EBF0F8"
           }
          },
          "shapedefaults": {
           "line": {
            "color": "#2a3f5f"
           }
          },
          "ternary": {
           "aaxis": {
            "gridcolor": "#DFE8F3",
            "linecolor": "#A2B1C6",
            "ticks": ""
           },
           "baxis": {
            "gridcolor": "#DFE8F3",
            "linecolor": "#A2B1C6",
            "ticks": ""
           },
           "bgcolor": "white",
           "caxis": {
            "gridcolor": "#DFE8F3",
            "linecolor": "#A2B1C6",
            "ticks": ""
           }
          },
          "title": {
           "x": 0.05
          },
          "xaxis": {
           "automargin": true,
           "gridcolor": "#EBF0F8",
           "linecolor": "#EBF0F8",
           "ticks": "",
           "title": {
            "standoff": 15
           },
           "zerolinecolor": "#EBF0F8",
           "zerolinewidth": 2
          },
          "yaxis": {
           "automargin": true,
           "gridcolor": "#EBF0F8",
           "linecolor": "#EBF0F8",
           "ticks": "",
           "title": {
            "standoff": 15
           },
           "zerolinecolor": "#EBF0F8",
           "zerolinewidth": 2
          }
         }
        },
        "title": {
         "text": "<b>Number of countries that speak the top 10 languages"
        },
        "width": 1000,
        "xaxis": {
         "anchor": "y",
         "domain": [
          0,
          1
         ],
         "title": {
          "text": "Country"
         }
        },
        "yaxis": {
         "anchor": "x",
         "domain": [
          0,
          1
         ],
         "title": {
          "text": "Count"
         }
        }
       }
      },
      "text/html": [
       "<div>                            <div id=\"63e8c2a1-e3b5-4583-9a5c-0f60998190d9\" class=\"plotly-graph-div\" style=\"height:600px; width:1000px;\"></div>            <script type=\"text/javascript\">                require([\"plotly\"], function(Plotly) {                    window.PLOTLYENV=window.PLOTLYENV || {};                                    if (document.getElementById(\"63e8c2a1-e3b5-4583-9a5c-0f60998190d9\")) {                    Plotly.newPlot(                        \"63e8c2a1-e3b5-4583-9a5c-0f60998190d9\",                        [{\"alignmentgroup\":\"True\",\"hovertemplate\":\"x=%{x}<br>y=%{y}<br>text=%{text}<br>color=%{marker.color}<extra></extra>\",\"legendgroup\":\"\",\"marker\":{\"color\":[0,1,2,3,4,5,6,7,8,9],\"coloraxis\":\"coloraxis\",\"pattern\":{\"shape\":\"\"}},\"name\":\"\",\"offsetgroup\":\"\",\"orientation\":\"v\",\"showlegend\":false,\"text\":[31.0,25.0,19.0,18.0,7.0,4.0,4.0,4.0,4.0,3.0],\"textposition\":\"auto\",\"x\":[\"English\",\"French\",\"Spanish\",\"Arabic\",\"Portuguese\",\"Russian\",\"German\",\"None\",\"Swahili\",\"Italian\"],\"xaxis\":\"x\",\"y\":[31,25,19,18,7,4,4,4,4,3],\"yaxis\":\"y\",\"type\":\"bar\"}],                        {\"template\":{\"data\":{\"barpolar\":[{\"marker\":{\"line\":{\"color\":\"white\",\"width\":0.5},\"pattern\":{\"fillmode\":\"overlay\",\"size\":10,\"solidity\":0.2}},\"type\":\"barpolar\"}],\"bar\":[{\"error_x\":{\"color\":\"#2a3f5f\"},\"error_y\":{\"color\":\"#2a3f5f\"},\"marker\":{\"line\":{\"color\":\"white\",\"width\":0.5},\"pattern\":{\"fillmode\":\"overlay\",\"size\":10,\"solidity\":0.2}},\"type\":\"bar\"}],\"carpet\":[{\"aaxis\":{\"endlinecolor\":\"#2a3f5f\",\"gridcolor\":\"#C8D4E3\",\"linecolor\":\"#C8D4E3\",\"minorgridcolor\":\"#C8D4E3\",\"startlinecolor\":\"#2a3f5f\"},\"baxis\":{\"endlinecolor\":\"#2a3f5f\",\"gridcolor\":\"#C8D4E3\",\"linecolor\":\"#C8D4E3\",\"minorgridcolor\":\"#C8D4E3\",\"startlinecolor\":\"#2a3f5f\"},\"type\":\"carpet\"}],\"choropleth\":[{\"colorbar\":{\"outlinewidth\":0,\"ticks\":\"\"},\"type\":\"choropleth\"}],\"contourcarpet\":[{\"colorbar\":{\"outlinewidth\":0,\"ticks\":\"\"},\"type\":\"contourcarpet\"}],\"contour\":[{\"colorbar\":{\"outlinewidth\":0,\"ticks\":\"\"},\"colorscale\":[[0.0,\"#0d0887\"],[0.1111111111111111,\"#46039f\"],[0.2222222222222222,\"#7201a8\"],[0.3333333333333333,\"#9c179e\"],[0.4444444444444444,\"#bd3786\"],[0.5555555555555556,\"#d8576b\"],[0.6666666666666666,\"#ed7953\"],[0.7777777777777778,\"#fb9f3a\"],[0.8888888888888888,\"#fdca26\"],[1.0,\"#f0f921\"]],\"type\":\"contour\"}],\"heatmapgl\":[{\"colorbar\":{\"outlinewidth\":0,\"ticks\":\"\"},\"colorscale\":[[0.0,\"#0d0887\"],[0.1111111111111111,\"#46039f\"],[0.2222222222222222,\"#7201a8\"],[0.3333333333333333,\"#9c179e\"],[0.4444444444444444,\"#bd3786\"],[0.5555555555555556,\"#d8576b\"],[0.6666666666666666,\"#ed7953\"],[0.7777777777777778,\"#fb9f3a\"],[0.8888888888888888,\"#fdca26\"],[1.0,\"#f0f921\"]],\"type\":\"heatmapgl\"}],\"heatmap\":[{\"colorbar\":{\"outlinewidth\":0,\"ticks\":\"\"},\"colorscale\":[[0.0,\"#0d0887\"],[0.1111111111111111,\"#46039f\"],[0.2222222222222222,\"#7201a8\"],[0.3333333333333333,\"#9c179e\"],[0.4444444444444444,\"#bd3786\"],[0.5555555555555556,\"#d8576b\"],[0.6666666666666666,\"#ed7953\"],[0.7777777777777778,\"#fb9f3a\"],[0.8888888888888888,\"#fdca26\"],[1.0,\"#f0f921\"]],\"type\":\"heatmap\"}],\"histogram2dcontour\":[{\"colorbar\":{\"outlinewidth\":0,\"ticks\":\"\"},\"colorscale\":[[0.0,\"#0d0887\"],[0.1111111111111111,\"#46039f\"],[0.2222222222222222,\"#7201a8\"],[0.3333333333333333,\"#9c179e\"],[0.4444444444444444,\"#bd3786\"],[0.5555555555555556,\"#d8576b\"],[0.6666666666666666,\"#ed7953\"],[0.7777777777777778,\"#fb9f3a\"],[0.8888888888888888,\"#fdca26\"],[1.0,\"#f0f921\"]],\"type\":\"histogram2dcontour\"}],\"histogram2d\":[{\"colorbar\":{\"outlinewidth\":0,\"ticks\":\"\"},\"colorscale\":[[0.0,\"#0d0887\"],[0.1111111111111111,\"#46039f\"],[0.2222222222222222,\"#7201a8\"],[0.3333333333333333,\"#9c179e\"],[0.4444444444444444,\"#bd3786\"],[0.5555555555555556,\"#d8576b\"],[0.6666666666666666,\"#ed7953\"],[0.7777777777777778,\"#fb9f3a\"],[0.8888888888888888,\"#fdca26\"],[1.0,\"#f0f921\"]],\"type\":\"histogram2d\"}],\"histogram\":[{\"marker\":{\"pattern\":{\"fillmode\":\"overlay\",\"size\":10,\"solidity\":0.2}},\"type\":\"histogram\"}],\"mesh3d\":[{\"colorbar\":{\"outlinewidth\":0,\"ticks\":\"\"},\"type\":\"mesh3d\"}],\"parcoords\":[{\"line\":{\"colorbar\":{\"outlinewidth\":0,\"ticks\":\"\"}},\"type\":\"parcoords\"}],\"pie\":[{\"automargin\":true,\"type\":\"pie\"}],\"scatter3d\":[{\"line\":{\"colorbar\":{\"outlinewidth\":0,\"ticks\":\"\"}},\"marker\":{\"colorbar\":{\"outlinewidth\":0,\"ticks\":\"\"}},\"type\":\"scatter3d\"}],\"scattercarpet\":[{\"marker\":{\"colorbar\":{\"outlinewidth\":0,\"ticks\":\"\"}},\"type\":\"scattercarpet\"}],\"scattergeo\":[{\"marker\":{\"colorbar\":{\"outlinewidth\":0,\"ticks\":\"\"}},\"type\":\"scattergeo\"}],\"scattergl\":[{\"marker\":{\"colorbar\":{\"outlinewidth\":0,\"ticks\":\"\"}},\"type\":\"scattergl\"}],\"scattermapbox\":[{\"marker\":{\"colorbar\":{\"outlinewidth\":0,\"ticks\":\"\"}},\"type\":\"scattermapbox\"}],\"scatterpolargl\":[{\"marker\":{\"colorbar\":{\"outlinewidth\":0,\"ticks\":\"\"}},\"type\":\"scatterpolargl\"}],\"scatterpolar\":[{\"marker\":{\"colorbar\":{\"outlinewidth\":0,\"ticks\":\"\"}},\"type\":\"scatterpolar\"}],\"scatter\":[{\"fillpattern\":{\"fillmode\":\"overlay\",\"size\":10,\"solidity\":0.2},\"type\":\"scatter\"}],\"scatterternary\":[{\"marker\":{\"colorbar\":{\"outlinewidth\":0,\"ticks\":\"\"}},\"type\":\"scatterternary\"}],\"surface\":[{\"colorbar\":{\"outlinewidth\":0,\"ticks\":\"\"},\"colorscale\":[[0.0,\"#0d0887\"],[0.1111111111111111,\"#46039f\"],[0.2222222222222222,\"#7201a8\"],[0.3333333333333333,\"#9c179e\"],[0.4444444444444444,\"#bd3786\"],[0.5555555555555556,\"#d8576b\"],[0.6666666666666666,\"#ed7953\"],[0.7777777777777778,\"#fb9f3a\"],[0.8888888888888888,\"#fdca26\"],[1.0,\"#f0f921\"]],\"type\":\"surface\"}],\"table\":[{\"cells\":{\"fill\":{\"color\":\"#EBF0F8\"},\"line\":{\"color\":\"white\"}},\"header\":{\"fill\":{\"color\":\"#C8D4E3\"},\"line\":{\"color\":\"white\"}},\"type\":\"table\"}]},\"layout\":{\"annotationdefaults\":{\"arrowcolor\":\"#2a3f5f\",\"arrowhead\":0,\"arrowwidth\":1},\"autotypenumbers\":\"strict\",\"coloraxis\":{\"colorbar\":{\"outlinewidth\":0,\"ticks\":\"\"}},\"colorscale\":{\"diverging\":[[0,\"#8e0152\"],[0.1,\"#c51b7d\"],[0.2,\"#de77ae\"],[0.3,\"#f1b6da\"],[0.4,\"#fde0ef\"],[0.5,\"#f7f7f7\"],[0.6,\"#e6f5d0\"],[0.7,\"#b8e186\"],[0.8,\"#7fbc41\"],[0.9,\"#4d9221\"],[1,\"#276419\"]],\"sequential\":[[0.0,\"#0d0887\"],[0.1111111111111111,\"#46039f\"],[0.2222222222222222,\"#7201a8\"],[0.3333333333333333,\"#9c179e\"],[0.4444444444444444,\"#bd3786\"],[0.5555555555555556,\"#d8576b\"],[0.6666666666666666,\"#ed7953\"],[0.7777777777777778,\"#fb9f3a\"],[0.8888888888888888,\"#fdca26\"],[1.0,\"#f0f921\"]],\"sequentialminus\":[[0.0,\"#0d0887\"],[0.1111111111111111,\"#46039f\"],[0.2222222222222222,\"#7201a8\"],[0.3333333333333333,\"#9c179e\"],[0.4444444444444444,\"#bd3786\"],[0.5555555555555556,\"#d8576b\"],[0.6666666666666666,\"#ed7953\"],[0.7777777777777778,\"#fb9f3a\"],[0.8888888888888888,\"#fdca26\"],[1.0,\"#f0f921\"]]},\"colorway\":[\"#636efa\",\"#EF553B\",\"#00cc96\",\"#ab63fa\",\"#FFA15A\",\"#19d3f3\",\"#FF6692\",\"#B6E880\",\"#FF97FF\",\"#FECB52\"],\"font\":{\"color\":\"#2a3f5f\"},\"geo\":{\"bgcolor\":\"white\",\"lakecolor\":\"white\",\"landcolor\":\"white\",\"showlakes\":true,\"showland\":true,\"subunitcolor\":\"#C8D4E3\"},\"hoverlabel\":{\"align\":\"left\"},\"hovermode\":\"closest\",\"mapbox\":{\"style\":\"light\"},\"paper_bgcolor\":\"white\",\"plot_bgcolor\":\"white\",\"polar\":{\"angularaxis\":{\"gridcolor\":\"#EBF0F8\",\"linecolor\":\"#EBF0F8\",\"ticks\":\"\"},\"bgcolor\":\"white\",\"radialaxis\":{\"gridcolor\":\"#EBF0F8\",\"linecolor\":\"#EBF0F8\",\"ticks\":\"\"}},\"scene\":{\"xaxis\":{\"backgroundcolor\":\"white\",\"gridcolor\":\"#DFE8F3\",\"gridwidth\":2,\"linecolor\":\"#EBF0F8\",\"showbackground\":true,\"ticks\":\"\",\"zerolinecolor\":\"#EBF0F8\"},\"yaxis\":{\"backgroundcolor\":\"white\",\"gridcolor\":\"#DFE8F3\",\"gridwidth\":2,\"linecolor\":\"#EBF0F8\",\"showbackground\":true,\"ticks\":\"\",\"zerolinecolor\":\"#EBF0F8\"},\"zaxis\":{\"backgroundcolor\":\"white\",\"gridcolor\":\"#DFE8F3\",\"gridwidth\":2,\"linecolor\":\"#EBF0F8\",\"showbackground\":true,\"ticks\":\"\",\"zerolinecolor\":\"#EBF0F8\"}},\"shapedefaults\":{\"line\":{\"color\":\"#2a3f5f\"}},\"ternary\":{\"aaxis\":{\"gridcolor\":\"#DFE8F3\",\"linecolor\":\"#A2B1C6\",\"ticks\":\"\"},\"baxis\":{\"gridcolor\":\"#DFE8F3\",\"linecolor\":\"#A2B1C6\",\"ticks\":\"\"},\"bgcolor\":\"white\",\"caxis\":{\"gridcolor\":\"#DFE8F3\",\"linecolor\":\"#A2B1C6\",\"ticks\":\"\"}},\"title\":{\"x\":0.05},\"xaxis\":{\"automargin\":true,\"gridcolor\":\"#EBF0F8\",\"linecolor\":\"#EBF0F8\",\"ticks\":\"\",\"title\":{\"standoff\":15},\"zerolinecolor\":\"#EBF0F8\",\"zerolinewidth\":2},\"yaxis\":{\"automargin\":true,\"gridcolor\":\"#EBF0F8\",\"linecolor\":\"#EBF0F8\",\"ticks\":\"\",\"title\":{\"standoff\":15},\"zerolinecolor\":\"#EBF0F8\",\"zerolinewidth\":2}}},\"xaxis\":{\"anchor\":\"y\",\"domain\":[0.0,1.0],\"title\":{\"text\":\"Country\"}},\"yaxis\":{\"anchor\":\"x\",\"domain\":[0.0,1.0],\"title\":{\"text\":\"Count\"}},\"coloraxis\":{\"colorbar\":{\"title\":{\"text\":\"color\"}},\"colorscale\":[[0.0,\"#0d0887\"],[0.1111111111111111,\"#46039f\"],[0.2222222222222222,\"#7201a8\"],[0.3333333333333333,\"#9c179e\"],[0.4444444444444444,\"#bd3786\"],[0.5555555555555556,\"#d8576b\"],[0.6666666666666666,\"#ed7953\"],[0.7777777777777778,\"#fb9f3a\"],[0.8888888888888888,\"#fdca26\"],[1.0,\"#f0f921\"]]},\"legend\":{\"tracegroupgap\":0,\"title\":{\"text\":\"Country\"}},\"margin\":{\"t\":100,\"l\":80},\"barmode\":\"relative\",\"title\":{\"text\":\"<b>Number of countries that speak the top 10 languages\"},\"showlegend\":true,\"height\":600,\"width\":1000},                        {\"responsive\": true}                    ).then(function(){\n",
       "                            \n",
       "var gd = document.getElementById('63e8c2a1-e3b5-4583-9a5c-0f60998190d9');\n",
       "var x = new MutationObserver(function (mutations, observer) {{\n",
       "        var display = window.getComputedStyle(gd).display;\n",
       "        if (!display || display === 'none') {{\n",
       "            console.log([gd, 'removed!']);\n",
       "            Plotly.purge(gd);\n",
       "            observer.disconnect();\n",
       "        }}\n",
       "}});\n",
       "\n",
       "// Listen for the removal of the full notebook cells\n",
       "var notebookContainer = gd.closest('#notebook-container');\n",
       "if (notebookContainer) {{\n",
       "    x.observe(notebookContainer, {childList: true});\n",
       "}}\n",
       "\n",
       "// Listen for the clearing of the current output cell\n",
       "var outputEl = gd.closest('.output');\n",
       "if (outputEl) {{\n",
       "    x.observe(outputEl, {childList: true});\n",
       "}}\n",
       "\n",
       "                        })                };                });            </script>        </div>"
      ]
     },
     "metadata": {},
     "output_type": "display_data"
    }
   ],
   "source": [
    "\n",
    "fig = px.bar(y=df_lang_grp_sorted['Country'].values, \n",
    "             x=df_lang_grp_sorted['Official language'].values, \n",
    "             color = df_lang_grp_sorted.index,\n",
    "             text=df_lang_grp_sorted['Country'].values)\n",
    "\n",
    "fig.update_layout(title=f'<b>Number of countries that speak the top 10 languages',\n",
    "                  xaxis=dict(title='Country'),\n",
    "                  yaxis=dict(title='Count'),\n",
    "                  legend=dict(title='Country'),\n",
    "                  showlegend=True,\n",
    "                  height=600,\n",
    "                  width=1000,\n",
    "                  margin=dict(t=100, l=80),\n",
    "                  template='plotly_white')\n",
    "fig.show()"
   ]
  },
  {
   "cell_type": "code",
   "execution_count": 54,
   "id": "403f4872",
   "metadata": {},
   "outputs": [],
   "source": [
    "df_lang = df[['Official language', 'Population']]"
   ]
  },
  {
   "cell_type": "code",
   "execution_count": 55,
   "id": "1f38a4c7",
   "metadata": {},
   "outputs": [],
   "source": [
    "df_lang_grp = df_lang.groupby(['Official language']).sum()"
   ]
  },
  {
   "cell_type": "code",
   "execution_count": 56,
   "id": "9af7d80d",
   "metadata": {},
   "outputs": [],
   "source": [
    "df_lang_grp = df_lang_grp.sort_values(by='Population', ascending=False)"
   ]
  },
  {
   "cell_type": "code",
   "execution_count": 57,
   "id": "7d6dd4c6",
   "metadata": {},
   "outputs": [
    {
     "data": {
      "text/html": [
       "<div>\n",
       "<style scoped>\n",
       "    .dataframe tbody tr th:only-of-type {\n",
       "        vertical-align: middle;\n",
       "    }\n",
       "\n",
       "    .dataframe tbody tr th {\n",
       "        vertical-align: top;\n",
       "    }\n",
       "\n",
       "    .dataframe thead th {\n",
       "        text-align: right;\n",
       "    }\n",
       "</style>\n",
       "<table border=\"1\" class=\"dataframe\">\n",
       "  <thead>\n",
       "    <tr style=\"text-align: right;\">\n",
       "      <th></th>\n",
       "      <th>Population</th>\n",
       "    </tr>\n",
       "    <tr>\n",
       "      <th>Official language</th>\n",
       "      <th></th>\n",
       "    </tr>\n",
       "  </thead>\n",
       "  <tbody>\n",
       "    <tr>\n",
       "      <th>Standard Chinese</th>\n",
       "      <td>1.397715e+09</td>\n",
       "    </tr>\n",
       "    <tr>\n",
       "      <th>Hindi</th>\n",
       "      <td>1.366418e+09</td>\n",
       "    </tr>\n",
       "    <tr>\n",
       "      <th>None</th>\n",
       "      <td>6.062467e+08</td>\n",
       "    </tr>\n",
       "    <tr>\n",
       "      <th>English</th>\n",
       "      <td>4.870488e+08</td>\n",
       "    </tr>\n",
       "    <tr>\n",
       "      <th>French</th>\n",
       "      <td>4.361648e+08</td>\n",
       "    </tr>\n",
       "    <tr>\n",
       "      <th>...</th>\n",
       "      <td>...</td>\n",
       "    </tr>\n",
       "    <tr>\n",
       "      <th>Samoan</th>\n",
       "      <td>2.025060e+05</td>\n",
       "    </tr>\n",
       "    <tr>\n",
       "      <th>Tongan Language</th>\n",
       "      <td>1.002090e+05</td>\n",
       "    </tr>\n",
       "    <tr>\n",
       "      <th>Catalan</th>\n",
       "      <td>7.714200e+04</td>\n",
       "    </tr>\n",
       "    <tr>\n",
       "      <th>Marshallese</th>\n",
       "      <td>5.879100e+04</td>\n",
       "    </tr>\n",
       "    <tr>\n",
       "      <th>Tuvaluan Language</th>\n",
       "      <td>1.164600e+04</td>\n",
       "    </tr>\n",
       "  </tbody>\n",
       "</table>\n",
       "<p>77 rows × 1 columns</p>\n",
       "</div>"
      ],
      "text/plain": [
       "                     Population\n",
       "Official language              \n",
       "Standard Chinese   1.397715e+09\n",
       "Hindi              1.366418e+09\n",
       "None               6.062467e+08\n",
       "English            4.870488e+08\n",
       "French             4.361648e+08\n",
       "...                         ...\n",
       "Samoan             2.025060e+05\n",
       "Tongan Language    1.002090e+05\n",
       "Catalan            7.714200e+04\n",
       "Marshallese        5.879100e+04\n",
       "Tuvaluan Language  1.164600e+04\n",
       "\n",
       "[77 rows x 1 columns]"
      ]
     },
     "execution_count": 57,
     "metadata": {},
     "output_type": "execute_result"
    }
   ],
   "source": [
    "df_lang_grp"
   ]
  },
  {
   "cell_type": "markdown",
   "id": "94f99476",
   "metadata": {},
   "source": [
    "## Number of People Who speak the top languages"
   ]
  },
  {
   "cell_type": "code",
   "execution_count": 58,
   "id": "3898a4bd",
   "metadata": {},
   "outputs": [
    {
     "data": {
      "application/vnd.plotly.v1+json": {
       "config": {
        "plotlyServerURL": "https://plot.ly"
       },
       "data": [
        {
         "alignmentgroup": "True",
         "hovertemplate": "color=Standard Chinese<br>x=%{x}<br>y=%{y}<br>text=%{text}<extra></extra>",
         "legendgroup": "Standard Chinese",
         "marker": {
          "color": "#636efa",
          "pattern": {
           "shape": ""
          }
         },
         "name": "Standard Chinese",
         "offsetgroup": "Standard Chinese",
         "orientation": "v",
         "showlegend": true,
         "text": [
          1397715000
         ],
         "textposition": "auto",
         "type": "bar",
         "x": [
          "Standard Chinese"
         ],
         "xaxis": "x",
         "y": [
          1397715000
         ],
         "yaxis": "y"
        },
        {
         "alignmentgroup": "True",
         "hovertemplate": "color=Hindi<br>x=%{x}<br>y=%{y}<br>text=%{text}<extra></extra>",
         "legendgroup": "Hindi",
         "marker": {
          "color": "#EF553B",
          "pattern": {
           "shape": ""
          }
         },
         "name": "Hindi",
         "offsetgroup": "Hindi",
         "orientation": "v",
         "showlegend": true,
         "text": [
          1366417754
         ],
         "textposition": "auto",
         "type": "bar",
         "x": [
          "Hindi"
         ],
         "xaxis": "x",
         "y": [
          1366417754
         ],
         "yaxis": "y"
        },
        {
         "alignmentgroup": "True",
         "hovertemplate": "color=None<br>x=%{x}<br>y=%{y}<br>text=%{text}<extra></extra>",
         "legendgroup": "None",
         "marker": {
          "color": "#00cc96",
          "pattern": {
           "shape": ""
          }
         },
         "name": "None",
         "offsetgroup": "None",
         "orientation": "v",
         "showlegend": true,
         "text": [
          606246720
         ],
         "textposition": "auto",
         "type": "bar",
         "x": [
          "None"
         ],
         "xaxis": "x",
         "y": [
          606246720
         ],
         "yaxis": "y"
        },
        {
         "alignmentgroup": "True",
         "hovertemplate": "color=English<br>x=%{x}<br>y=%{y}<br>text=%{text}<extra></extra>",
         "legendgroup": "English",
         "marker": {
          "color": "#ab63fa",
          "pattern": {
           "shape": ""
          }
         },
         "name": "English",
         "offsetgroup": "English",
         "orientation": "v",
         "showlegend": true,
         "text": [
          487048784
         ],
         "textposition": "auto",
         "type": "bar",
         "x": [
          "English"
         ],
         "xaxis": "x",
         "y": [
          487048784
         ],
         "yaxis": "y"
        },
        {
         "alignmentgroup": "True",
         "hovertemplate": "color=French<br>x=%{x}<br>y=%{y}<br>text=%{text}<extra></extra>",
         "legendgroup": "French",
         "marker": {
          "color": "#FFA15A",
          "pattern": {
           "shape": ""
          }
         },
         "name": "French",
         "offsetgroup": "French",
         "orientation": "v",
         "showlegend": true,
         "text": [
          436164825
         ],
         "textposition": "auto",
         "type": "bar",
         "x": [
          "French"
         ],
         "xaxis": "x",
         "y": [
          436164825
         ],
         "yaxis": "y"
        },
        {
         "alignmentgroup": "True",
         "hovertemplate": "color=Spanish<br>x=%{x}<br>y=%{y}<br>text=%{text}<extra></extra>",
         "legendgroup": "Spanish",
         "marker": {
          "color": "#19d3f3",
          "pattern": {
           "shape": ""
          }
         },
         "name": "Spanish",
         "offsetgroup": "Spanish",
         "orientation": "v",
         "showlegend": true,
         "text": [
          333798013
         ],
         "textposition": "auto",
         "type": "bar",
         "x": [
          "Spanish"
         ],
         "xaxis": "x",
         "y": [
          333798013
         ],
         "yaxis": "y"
        },
        {
         "alignmentgroup": "True",
         "hovertemplate": "color=Arabic<br>x=%{x}<br>y=%{y}<br>text=%{text}<extra></extra>",
         "legendgroup": "Arabic",
         "marker": {
          "color": "#FF6692",
          "pattern": {
           "shape": ""
          }
         },
         "name": "Arabic",
         "offsetgroup": "Arabic",
         "orientation": "v",
         "showlegend": true,
         "text": [
          317356165
         ],
         "textposition": "auto",
         "type": "bar",
         "x": [
          "Arabic"
         ],
         "xaxis": "x",
         "y": [
          317356165
         ],
         "yaxis": "y"
        },
        {
         "alignmentgroup": "True",
         "hovertemplate": "color=Portuguese<br>x=%{x}<br>y=%{y}<br>text=%{text}<extra></extra>",
         "legendgroup": "Portuguese",
         "marker": {
          "color": "#B6E880",
          "pattern": {
           "shape": ""
          }
         },
         "name": "Portuguese",
         "offsetgroup": "Portuguese",
         "orientation": "v",
         "showlegend": true,
         "text": [
          290924715
         ],
         "textposition": "auto",
         "type": "bar",
         "x": [
          "Portuguese"
         ],
         "xaxis": "x",
         "y": [
          290924715
         ],
         "yaxis": "y"
        },
        {
         "alignmentgroup": "True",
         "hovertemplate": "color=Indonesian<br>x=%{x}<br>y=%{y}<br>text=%{text}<extra></extra>",
         "legendgroup": "Indonesian",
         "marker": {
          "color": "#FF97FF",
          "pattern": {
           "shape": ""
          }
         },
         "name": "Indonesian",
         "offsetgroup": "Indonesian",
         "orientation": "v",
         "showlegend": true,
         "text": [
          270203917
         ],
         "textposition": "auto",
         "type": "bar",
         "x": [
          "Indonesian"
         ],
         "xaxis": "x",
         "y": [
          270203917
         ],
         "yaxis": "y"
        },
        {
         "alignmentgroup": "True",
         "hovertemplate": "color=Urdu<br>x=%{x}<br>y=%{y}<br>text=%{text}<extra></extra>",
         "legendgroup": "Urdu",
         "marker": {
          "color": "#FECB52",
          "pattern": {
           "shape": ""
          }
         },
         "name": "Urdu",
         "offsetgroup": "Urdu",
         "orientation": "v",
         "showlegend": true,
         "text": [
          216565318
         ],
         "textposition": "auto",
         "type": "bar",
         "x": [
          "Urdu"
         ],
         "xaxis": "x",
         "y": [
          216565318
         ],
         "yaxis": "y"
        }
       ],
       "layout": {
        "barmode": "relative",
        "height": 600,
        "legend": {
         "title": {
          "text": "Population"
         },
         "tracegroupgap": 0
        },
        "margin": {
         "l": 80,
         "t": 100
        },
        "showlegend": true,
        "template": {
         "data": {
          "bar": [
           {
            "error_x": {
             "color": "#2a3f5f"
            },
            "error_y": {
             "color": "#2a3f5f"
            },
            "marker": {
             "line": {
              "color": "white",
              "width": 0.5
             },
             "pattern": {
              "fillmode": "overlay",
              "size": 10,
              "solidity": 0.2
             }
            },
            "type": "bar"
           }
          ],
          "barpolar": [
           {
            "marker": {
             "line": {
              "color": "white",
              "width": 0.5
             },
             "pattern": {
              "fillmode": "overlay",
              "size": 10,
              "solidity": 0.2
             }
            },
            "type": "barpolar"
           }
          ],
          "carpet": [
           {
            "aaxis": {
             "endlinecolor": "#2a3f5f",
             "gridcolor": "#C8D4E3",
             "linecolor": "#C8D4E3",
             "minorgridcolor": "#C8D4E3",
             "startlinecolor": "#2a3f5f"
            },
            "baxis": {
             "endlinecolor": "#2a3f5f",
             "gridcolor": "#C8D4E3",
             "linecolor": "#C8D4E3",
             "minorgridcolor": "#C8D4E3",
             "startlinecolor": "#2a3f5f"
            },
            "type": "carpet"
           }
          ],
          "choropleth": [
           {
            "colorbar": {
             "outlinewidth": 0,
             "ticks": ""
            },
            "type": "choropleth"
           }
          ],
          "contour": [
           {
            "colorbar": {
             "outlinewidth": 0,
             "ticks": ""
            },
            "colorscale": [
             [
              0,
              "#0d0887"
             ],
             [
              0.1111111111111111,
              "#46039f"
             ],
             [
              0.2222222222222222,
              "#7201a8"
             ],
             [
              0.3333333333333333,
              "#9c179e"
             ],
             [
              0.4444444444444444,
              "#bd3786"
             ],
             [
              0.5555555555555556,
              "#d8576b"
             ],
             [
              0.6666666666666666,
              "#ed7953"
             ],
             [
              0.7777777777777778,
              "#fb9f3a"
             ],
             [
              0.8888888888888888,
              "#fdca26"
             ],
             [
              1,
              "#f0f921"
             ]
            ],
            "type": "contour"
           }
          ],
          "contourcarpet": [
           {
            "colorbar": {
             "outlinewidth": 0,
             "ticks": ""
            },
            "type": "contourcarpet"
           }
          ],
          "heatmap": [
           {
            "colorbar": {
             "outlinewidth": 0,
             "ticks": ""
            },
            "colorscale": [
             [
              0,
              "#0d0887"
             ],
             [
              0.1111111111111111,
              "#46039f"
             ],
             [
              0.2222222222222222,
              "#7201a8"
             ],
             [
              0.3333333333333333,
              "#9c179e"
             ],
             [
              0.4444444444444444,
              "#bd3786"
             ],
             [
              0.5555555555555556,
              "#d8576b"
             ],
             [
              0.6666666666666666,
              "#ed7953"
             ],
             [
              0.7777777777777778,
              "#fb9f3a"
             ],
             [
              0.8888888888888888,
              "#fdca26"
             ],
             [
              1,
              "#f0f921"
             ]
            ],
            "type": "heatmap"
           }
          ],
          "heatmapgl": [
           {
            "colorbar": {
             "outlinewidth": 0,
             "ticks": ""
            },
            "colorscale": [
             [
              0,
              "#0d0887"
             ],
             [
              0.1111111111111111,
              "#46039f"
             ],
             [
              0.2222222222222222,
              "#7201a8"
             ],
             [
              0.3333333333333333,
              "#9c179e"
             ],
             [
              0.4444444444444444,
              "#bd3786"
             ],
             [
              0.5555555555555556,
              "#d8576b"
             ],
             [
              0.6666666666666666,
              "#ed7953"
             ],
             [
              0.7777777777777778,
              "#fb9f3a"
             ],
             [
              0.8888888888888888,
              "#fdca26"
             ],
             [
              1,
              "#f0f921"
             ]
            ],
            "type": "heatmapgl"
           }
          ],
          "histogram": [
           {
            "marker": {
             "pattern": {
              "fillmode": "overlay",
              "size": 10,
              "solidity": 0.2
             }
            },
            "type": "histogram"
           }
          ],
          "histogram2d": [
           {
            "colorbar": {
             "outlinewidth": 0,
             "ticks": ""
            },
            "colorscale": [
             [
              0,
              "#0d0887"
             ],
             [
              0.1111111111111111,
              "#46039f"
             ],
             [
              0.2222222222222222,
              "#7201a8"
             ],
             [
              0.3333333333333333,
              "#9c179e"
             ],
             [
              0.4444444444444444,
              "#bd3786"
             ],
             [
              0.5555555555555556,
              "#d8576b"
             ],
             [
              0.6666666666666666,
              "#ed7953"
             ],
             [
              0.7777777777777778,
              "#fb9f3a"
             ],
             [
              0.8888888888888888,
              "#fdca26"
             ],
             [
              1,
              "#f0f921"
             ]
            ],
            "type": "histogram2d"
           }
          ],
          "histogram2dcontour": [
           {
            "colorbar": {
             "outlinewidth": 0,
             "ticks": ""
            },
            "colorscale": [
             [
              0,
              "#0d0887"
             ],
             [
              0.1111111111111111,
              "#46039f"
             ],
             [
              0.2222222222222222,
              "#7201a8"
             ],
             [
              0.3333333333333333,
              "#9c179e"
             ],
             [
              0.4444444444444444,
              "#bd3786"
             ],
             [
              0.5555555555555556,
              "#d8576b"
             ],
             [
              0.6666666666666666,
              "#ed7953"
             ],
             [
              0.7777777777777778,
              "#fb9f3a"
             ],
             [
              0.8888888888888888,
              "#fdca26"
             ],
             [
              1,
              "#f0f921"
             ]
            ],
            "type": "histogram2dcontour"
           }
          ],
          "mesh3d": [
           {
            "colorbar": {
             "outlinewidth": 0,
             "ticks": ""
            },
            "type": "mesh3d"
           }
          ],
          "parcoords": [
           {
            "line": {
             "colorbar": {
              "outlinewidth": 0,
              "ticks": ""
             }
            },
            "type": "parcoords"
           }
          ],
          "pie": [
           {
            "automargin": true,
            "type": "pie"
           }
          ],
          "scatter": [
           {
            "fillpattern": {
             "fillmode": "overlay",
             "size": 10,
             "solidity": 0.2
            },
            "type": "scatter"
           }
          ],
          "scatter3d": [
           {
            "line": {
             "colorbar": {
              "outlinewidth": 0,
              "ticks": ""
             }
            },
            "marker": {
             "colorbar": {
              "outlinewidth": 0,
              "ticks": ""
             }
            },
            "type": "scatter3d"
           }
          ],
          "scattercarpet": [
           {
            "marker": {
             "colorbar": {
              "outlinewidth": 0,
              "ticks": ""
             }
            },
            "type": "scattercarpet"
           }
          ],
          "scattergeo": [
           {
            "marker": {
             "colorbar": {
              "outlinewidth": 0,
              "ticks": ""
             }
            },
            "type": "scattergeo"
           }
          ],
          "scattergl": [
           {
            "marker": {
             "colorbar": {
              "outlinewidth": 0,
              "ticks": ""
             }
            },
            "type": "scattergl"
           }
          ],
          "scattermapbox": [
           {
            "marker": {
             "colorbar": {
              "outlinewidth": 0,
              "ticks": ""
             }
            },
            "type": "scattermapbox"
           }
          ],
          "scatterpolar": [
           {
            "marker": {
             "colorbar": {
              "outlinewidth": 0,
              "ticks": ""
             }
            },
            "type": "scatterpolar"
           }
          ],
          "scatterpolargl": [
           {
            "marker": {
             "colorbar": {
              "outlinewidth": 0,
              "ticks": ""
             }
            },
            "type": "scatterpolargl"
           }
          ],
          "scatterternary": [
           {
            "marker": {
             "colorbar": {
              "outlinewidth": 0,
              "ticks": ""
             }
            },
            "type": "scatterternary"
           }
          ],
          "surface": [
           {
            "colorbar": {
             "outlinewidth": 0,
             "ticks": ""
            },
            "colorscale": [
             [
              0,
              "#0d0887"
             ],
             [
              0.1111111111111111,
              "#46039f"
             ],
             [
              0.2222222222222222,
              "#7201a8"
             ],
             [
              0.3333333333333333,
              "#9c179e"
             ],
             [
              0.4444444444444444,
              "#bd3786"
             ],
             [
              0.5555555555555556,
              "#d8576b"
             ],
             [
              0.6666666666666666,
              "#ed7953"
             ],
             [
              0.7777777777777778,
              "#fb9f3a"
             ],
             [
              0.8888888888888888,
              "#fdca26"
             ],
             [
              1,
              "#f0f921"
             ]
            ],
            "type": "surface"
           }
          ],
          "table": [
           {
            "cells": {
             "fill": {
              "color": "#EBF0F8"
             },
             "line": {
              "color": "white"
             }
            },
            "header": {
             "fill": {
              "color": "#C8D4E3"
             },
             "line": {
              "color": "white"
             }
            },
            "type": "table"
           }
          ]
         },
         "layout": {
          "annotationdefaults": {
           "arrowcolor": "#2a3f5f",
           "arrowhead": 0,
           "arrowwidth": 1
          },
          "autotypenumbers": "strict",
          "coloraxis": {
           "colorbar": {
            "outlinewidth": 0,
            "ticks": ""
           }
          },
          "colorscale": {
           "diverging": [
            [
             0,
             "#8e0152"
            ],
            [
             0.1,
             "#c51b7d"
            ],
            [
             0.2,
             "#de77ae"
            ],
            [
             0.3,
             "#f1b6da"
            ],
            [
             0.4,
             "#fde0ef"
            ],
            [
             0.5,
             "#f7f7f7"
            ],
            [
             0.6,
             "#e6f5d0"
            ],
            [
             0.7,
             "#b8e186"
            ],
            [
             0.8,
             "#7fbc41"
            ],
            [
             0.9,
             "#4d9221"
            ],
            [
             1,
             "#276419"
            ]
           ],
           "sequential": [
            [
             0,
             "#0d0887"
            ],
            [
             0.1111111111111111,
             "#46039f"
            ],
            [
             0.2222222222222222,
             "#7201a8"
            ],
            [
             0.3333333333333333,
             "#9c179e"
            ],
            [
             0.4444444444444444,
             "#bd3786"
            ],
            [
             0.5555555555555556,
             "#d8576b"
            ],
            [
             0.6666666666666666,
             "#ed7953"
            ],
            [
             0.7777777777777778,
             "#fb9f3a"
            ],
            [
             0.8888888888888888,
             "#fdca26"
            ],
            [
             1,
             "#f0f921"
            ]
           ],
           "sequentialminus": [
            [
             0,
             "#0d0887"
            ],
            [
             0.1111111111111111,
             "#46039f"
            ],
            [
             0.2222222222222222,
             "#7201a8"
            ],
            [
             0.3333333333333333,
             "#9c179e"
            ],
            [
             0.4444444444444444,
             "#bd3786"
            ],
            [
             0.5555555555555556,
             "#d8576b"
            ],
            [
             0.6666666666666666,
             "#ed7953"
            ],
            [
             0.7777777777777778,
             "#fb9f3a"
            ],
            [
             0.8888888888888888,
             "#fdca26"
            ],
            [
             1,
             "#f0f921"
            ]
           ]
          },
          "colorway": [
           "#636efa",
           "#EF553B",
           "#00cc96",
           "#ab63fa",
           "#FFA15A",
           "#19d3f3",
           "#FF6692",
           "#B6E880",
           "#FF97FF",
           "#FECB52"
          ],
          "font": {
           "color": "#2a3f5f"
          },
          "geo": {
           "bgcolor": "white",
           "lakecolor": "white",
           "landcolor": "white",
           "showlakes": true,
           "showland": true,
           "subunitcolor": "#C8D4E3"
          },
          "hoverlabel": {
           "align": "left"
          },
          "hovermode": "closest",
          "mapbox": {
           "style": "light"
          },
          "paper_bgcolor": "white",
          "plot_bgcolor": "white",
          "polar": {
           "angularaxis": {
            "gridcolor": "#EBF0F8",
            "linecolor": "#EBF0F8",
            "ticks": ""
           },
           "bgcolor": "white",
           "radialaxis": {
            "gridcolor": "#EBF0F8",
            "linecolor": "#EBF0F8",
            "ticks": ""
           }
          },
          "scene": {
           "xaxis": {
            "backgroundcolor": "white",
            "gridcolor": "#DFE8F3",
            "gridwidth": 2,
            "linecolor": "#EBF0F8",
            "showbackground": true,
            "ticks": "",
            "zerolinecolor": "#EBF0F8"
           },
           "yaxis": {
            "backgroundcolor": "white",
            "gridcolor": "#DFE8F3",
            "gridwidth": 2,
            "linecolor": "#EBF0F8",
            "showbackground": true,
            "ticks": "",
            "zerolinecolor": "#EBF0F8"
           },
           "zaxis": {
            "backgroundcolor": "white",
            "gridcolor": "#DFE8F3",
            "gridwidth": 2,
            "linecolor": "#EBF0F8",
            "showbackground": true,
            "ticks": "",
            "zerolinecolor": "#EBF0F8"
           }
          },
          "shapedefaults": {
           "line": {
            "color": "#2a3f5f"
           }
          },
          "ternary": {
           "aaxis": {
            "gridcolor": "#DFE8F3",
            "linecolor": "#A2B1C6",
            "ticks": ""
           },
           "baxis": {
            "gridcolor": "#DFE8F3",
            "linecolor": "#A2B1C6",
            "ticks": ""
           },
           "bgcolor": "white",
           "caxis": {
            "gridcolor": "#DFE8F3",
            "linecolor": "#A2B1C6",
            "ticks": ""
           }
          },
          "title": {
           "x": 0.05
          },
          "xaxis": {
           "automargin": true,
           "gridcolor": "#EBF0F8",
           "linecolor": "#EBF0F8",
           "ticks": "",
           "title": {
            "standoff": 15
           },
           "zerolinecolor": "#EBF0F8",
           "zerolinewidth": 2
          },
          "yaxis": {
           "automargin": true,
           "gridcolor": "#EBF0F8",
           "linecolor": "#EBF0F8",
           "ticks": "",
           "title": {
            "standoff": 15
           },
           "zerolinecolor": "#EBF0F8",
           "zerolinewidth": 2
          }
         }
        },
        "title": {
         "text": "<b>Top 10 highest Population<br> <sup> Barplot</sup></b>"
        },
        "width": 1000,
        "xaxis": {
         "anchor": "y",
         "domain": [
          0,
          1
         ],
         "title": {
          "text": "Population"
         }
        },
        "yaxis": {
         "anchor": "x",
         "domain": [
          0,
          1
         ],
         "title": {
          "text": "Count"
         }
        }
       }
      },
      "text/html": [
       "<div>                            <div id=\"7f273094-f7dc-4d20-a7f1-79d5d62a6a0f\" class=\"plotly-graph-div\" style=\"height:600px; width:1000px;\"></div>            <script type=\"text/javascript\">                require([\"plotly\"], function(Plotly) {                    window.PLOTLYENV=window.PLOTLYENV || {};                                    if (document.getElementById(\"7f273094-f7dc-4d20-a7f1-79d5d62a6a0f\")) {                    Plotly.newPlot(                        \"7f273094-f7dc-4d20-a7f1-79d5d62a6a0f\",                        [{\"alignmentgroup\":\"True\",\"hovertemplate\":\"color=Standard Chinese<br>x=%{x}<br>y=%{y}<br>text=%{text}<extra></extra>\",\"legendgroup\":\"Standard Chinese\",\"marker\":{\"color\":\"#636efa\",\"pattern\":{\"shape\":\"\"}},\"name\":\"Standard Chinese\",\"offsetgroup\":\"Standard Chinese\",\"orientation\":\"v\",\"showlegend\":true,\"text\":[1397715000.0],\"textposition\":\"auto\",\"x\":[\"Standard Chinese\"],\"xaxis\":\"x\",\"y\":[1397715000.0],\"yaxis\":\"y\",\"type\":\"bar\"},{\"alignmentgroup\":\"True\",\"hovertemplate\":\"color=Hindi<br>x=%{x}<br>y=%{y}<br>text=%{text}<extra></extra>\",\"legendgroup\":\"Hindi\",\"marker\":{\"color\":\"#EF553B\",\"pattern\":{\"shape\":\"\"}},\"name\":\"Hindi\",\"offsetgroup\":\"Hindi\",\"orientation\":\"v\",\"showlegend\":true,\"text\":[1366417754.0],\"textposition\":\"auto\",\"x\":[\"Hindi\"],\"xaxis\":\"x\",\"y\":[1366417754.0],\"yaxis\":\"y\",\"type\":\"bar\"},{\"alignmentgroup\":\"True\",\"hovertemplate\":\"color=None<br>x=%{x}<br>y=%{y}<br>text=%{text}<extra></extra>\",\"legendgroup\":\"None\",\"marker\":{\"color\":\"#00cc96\",\"pattern\":{\"shape\":\"\"}},\"name\":\"None\",\"offsetgroup\":\"None\",\"orientation\":\"v\",\"showlegend\":true,\"text\":[606246720.0],\"textposition\":\"auto\",\"x\":[\"None\"],\"xaxis\":\"x\",\"y\":[606246720.0],\"yaxis\":\"y\",\"type\":\"bar\"},{\"alignmentgroup\":\"True\",\"hovertemplate\":\"color=English<br>x=%{x}<br>y=%{y}<br>text=%{text}<extra></extra>\",\"legendgroup\":\"English\",\"marker\":{\"color\":\"#ab63fa\",\"pattern\":{\"shape\":\"\"}},\"name\":\"English\",\"offsetgroup\":\"English\",\"orientation\":\"v\",\"showlegend\":true,\"text\":[487048784.0],\"textposition\":\"auto\",\"x\":[\"English\"],\"xaxis\":\"x\",\"y\":[487048784.0],\"yaxis\":\"y\",\"type\":\"bar\"},{\"alignmentgroup\":\"True\",\"hovertemplate\":\"color=French<br>x=%{x}<br>y=%{y}<br>text=%{text}<extra></extra>\",\"legendgroup\":\"French\",\"marker\":{\"color\":\"#FFA15A\",\"pattern\":{\"shape\":\"\"}},\"name\":\"French\",\"offsetgroup\":\"French\",\"orientation\":\"v\",\"showlegend\":true,\"text\":[436164825.0],\"textposition\":\"auto\",\"x\":[\"French\"],\"xaxis\":\"x\",\"y\":[436164825.0],\"yaxis\":\"y\",\"type\":\"bar\"},{\"alignmentgroup\":\"True\",\"hovertemplate\":\"color=Spanish<br>x=%{x}<br>y=%{y}<br>text=%{text}<extra></extra>\",\"legendgroup\":\"Spanish\",\"marker\":{\"color\":\"#19d3f3\",\"pattern\":{\"shape\":\"\"}},\"name\":\"Spanish\",\"offsetgroup\":\"Spanish\",\"orientation\":\"v\",\"showlegend\":true,\"text\":[333798013.0],\"textposition\":\"auto\",\"x\":[\"Spanish\"],\"xaxis\":\"x\",\"y\":[333798013.0],\"yaxis\":\"y\",\"type\":\"bar\"},{\"alignmentgroup\":\"True\",\"hovertemplate\":\"color=Arabic<br>x=%{x}<br>y=%{y}<br>text=%{text}<extra></extra>\",\"legendgroup\":\"Arabic\",\"marker\":{\"color\":\"#FF6692\",\"pattern\":{\"shape\":\"\"}},\"name\":\"Arabic\",\"offsetgroup\":\"Arabic\",\"orientation\":\"v\",\"showlegend\":true,\"text\":[317356165.0],\"textposition\":\"auto\",\"x\":[\"Arabic\"],\"xaxis\":\"x\",\"y\":[317356165.0],\"yaxis\":\"y\",\"type\":\"bar\"},{\"alignmentgroup\":\"True\",\"hovertemplate\":\"color=Portuguese<br>x=%{x}<br>y=%{y}<br>text=%{text}<extra></extra>\",\"legendgroup\":\"Portuguese\",\"marker\":{\"color\":\"#B6E880\",\"pattern\":{\"shape\":\"\"}},\"name\":\"Portuguese\",\"offsetgroup\":\"Portuguese\",\"orientation\":\"v\",\"showlegend\":true,\"text\":[290924715.0],\"textposition\":\"auto\",\"x\":[\"Portuguese\"],\"xaxis\":\"x\",\"y\":[290924715.0],\"yaxis\":\"y\",\"type\":\"bar\"},{\"alignmentgroup\":\"True\",\"hovertemplate\":\"color=Indonesian<br>x=%{x}<br>y=%{y}<br>text=%{text}<extra></extra>\",\"legendgroup\":\"Indonesian\",\"marker\":{\"color\":\"#FF97FF\",\"pattern\":{\"shape\":\"\"}},\"name\":\"Indonesian\",\"offsetgroup\":\"Indonesian\",\"orientation\":\"v\",\"showlegend\":true,\"text\":[270203917.0],\"textposition\":\"auto\",\"x\":[\"Indonesian\"],\"xaxis\":\"x\",\"y\":[270203917.0],\"yaxis\":\"y\",\"type\":\"bar\"},{\"alignmentgroup\":\"True\",\"hovertemplate\":\"color=Urdu<br>x=%{x}<br>y=%{y}<br>text=%{text}<extra></extra>\",\"legendgroup\":\"Urdu\",\"marker\":{\"color\":\"#FECB52\",\"pattern\":{\"shape\":\"\"}},\"name\":\"Urdu\",\"offsetgroup\":\"Urdu\",\"orientation\":\"v\",\"showlegend\":true,\"text\":[216565318.0],\"textposition\":\"auto\",\"x\":[\"Urdu\"],\"xaxis\":\"x\",\"y\":[216565318.0],\"yaxis\":\"y\",\"type\":\"bar\"}],                        {\"template\":{\"data\":{\"barpolar\":[{\"marker\":{\"line\":{\"color\":\"white\",\"width\":0.5},\"pattern\":{\"fillmode\":\"overlay\",\"size\":10,\"solidity\":0.2}},\"type\":\"barpolar\"}],\"bar\":[{\"error_x\":{\"color\":\"#2a3f5f\"},\"error_y\":{\"color\":\"#2a3f5f\"},\"marker\":{\"line\":{\"color\":\"white\",\"width\":0.5},\"pattern\":{\"fillmode\":\"overlay\",\"size\":10,\"solidity\":0.2}},\"type\":\"bar\"}],\"carpet\":[{\"aaxis\":{\"endlinecolor\":\"#2a3f5f\",\"gridcolor\":\"#C8D4E3\",\"linecolor\":\"#C8D4E3\",\"minorgridcolor\":\"#C8D4E3\",\"startlinecolor\":\"#2a3f5f\"},\"baxis\":{\"endlinecolor\":\"#2a3f5f\",\"gridcolor\":\"#C8D4E3\",\"linecolor\":\"#C8D4E3\",\"minorgridcolor\":\"#C8D4E3\",\"startlinecolor\":\"#2a3f5f\"},\"type\":\"carpet\"}],\"choropleth\":[{\"colorbar\":{\"outlinewidth\":0,\"ticks\":\"\"},\"type\":\"choropleth\"}],\"contourcarpet\":[{\"colorbar\":{\"outlinewidth\":0,\"ticks\":\"\"},\"type\":\"contourcarpet\"}],\"contour\":[{\"colorbar\":{\"outlinewidth\":0,\"ticks\":\"\"},\"colorscale\":[[0.0,\"#0d0887\"],[0.1111111111111111,\"#46039f\"],[0.2222222222222222,\"#7201a8\"],[0.3333333333333333,\"#9c179e\"],[0.4444444444444444,\"#bd3786\"],[0.5555555555555556,\"#d8576b\"],[0.6666666666666666,\"#ed7953\"],[0.7777777777777778,\"#fb9f3a\"],[0.8888888888888888,\"#fdca26\"],[1.0,\"#f0f921\"]],\"type\":\"contour\"}],\"heatmapgl\":[{\"colorbar\":{\"outlinewidth\":0,\"ticks\":\"\"},\"colorscale\":[[0.0,\"#0d0887\"],[0.1111111111111111,\"#46039f\"],[0.2222222222222222,\"#7201a8\"],[0.3333333333333333,\"#9c179e\"],[0.4444444444444444,\"#bd3786\"],[0.5555555555555556,\"#d8576b\"],[0.6666666666666666,\"#ed7953\"],[0.7777777777777778,\"#fb9f3a\"],[0.8888888888888888,\"#fdca26\"],[1.0,\"#f0f921\"]],\"type\":\"heatmapgl\"}],\"heatmap\":[{\"colorbar\":{\"outlinewidth\":0,\"ticks\":\"\"},\"colorscale\":[[0.0,\"#0d0887\"],[0.1111111111111111,\"#46039f\"],[0.2222222222222222,\"#7201a8\"],[0.3333333333333333,\"#9c179e\"],[0.4444444444444444,\"#bd3786\"],[0.5555555555555556,\"#d8576b\"],[0.6666666666666666,\"#ed7953\"],[0.7777777777777778,\"#fb9f3a\"],[0.8888888888888888,\"#fdca26\"],[1.0,\"#f0f921\"]],\"type\":\"heatmap\"}],\"histogram2dcontour\":[{\"colorbar\":{\"outlinewidth\":0,\"ticks\":\"\"},\"colorscale\":[[0.0,\"#0d0887\"],[0.1111111111111111,\"#46039f\"],[0.2222222222222222,\"#7201a8\"],[0.3333333333333333,\"#9c179e\"],[0.4444444444444444,\"#bd3786\"],[0.5555555555555556,\"#d8576b\"],[0.6666666666666666,\"#ed7953\"],[0.7777777777777778,\"#fb9f3a\"],[0.8888888888888888,\"#fdca26\"],[1.0,\"#f0f921\"]],\"type\":\"histogram2dcontour\"}],\"histogram2d\":[{\"colorbar\":{\"outlinewidth\":0,\"ticks\":\"\"},\"colorscale\":[[0.0,\"#0d0887\"],[0.1111111111111111,\"#46039f\"],[0.2222222222222222,\"#7201a8\"],[0.3333333333333333,\"#9c179e\"],[0.4444444444444444,\"#bd3786\"],[0.5555555555555556,\"#d8576b\"],[0.6666666666666666,\"#ed7953\"],[0.7777777777777778,\"#fb9f3a\"],[0.8888888888888888,\"#fdca26\"],[1.0,\"#f0f921\"]],\"type\":\"histogram2d\"}],\"histogram\":[{\"marker\":{\"pattern\":{\"fillmode\":\"overlay\",\"size\":10,\"solidity\":0.2}},\"type\":\"histogram\"}],\"mesh3d\":[{\"colorbar\":{\"outlinewidth\":0,\"ticks\":\"\"},\"type\":\"mesh3d\"}],\"parcoords\":[{\"line\":{\"colorbar\":{\"outlinewidth\":0,\"ticks\":\"\"}},\"type\":\"parcoords\"}],\"pie\":[{\"automargin\":true,\"type\":\"pie\"}],\"scatter3d\":[{\"line\":{\"colorbar\":{\"outlinewidth\":0,\"ticks\":\"\"}},\"marker\":{\"colorbar\":{\"outlinewidth\":0,\"ticks\":\"\"}},\"type\":\"scatter3d\"}],\"scattercarpet\":[{\"marker\":{\"colorbar\":{\"outlinewidth\":0,\"ticks\":\"\"}},\"type\":\"scattercarpet\"}],\"scattergeo\":[{\"marker\":{\"colorbar\":{\"outlinewidth\":0,\"ticks\":\"\"}},\"type\":\"scattergeo\"}],\"scattergl\":[{\"marker\":{\"colorbar\":{\"outlinewidth\":0,\"ticks\":\"\"}},\"type\":\"scattergl\"}],\"scattermapbox\":[{\"marker\":{\"colorbar\":{\"outlinewidth\":0,\"ticks\":\"\"}},\"type\":\"scattermapbox\"}],\"scatterpolargl\":[{\"marker\":{\"colorbar\":{\"outlinewidth\":0,\"ticks\":\"\"}},\"type\":\"scatterpolargl\"}],\"scatterpolar\":[{\"marker\":{\"colorbar\":{\"outlinewidth\":0,\"ticks\":\"\"}},\"type\":\"scatterpolar\"}],\"scatter\":[{\"fillpattern\":{\"fillmode\":\"overlay\",\"size\":10,\"solidity\":0.2},\"type\":\"scatter\"}],\"scatterternary\":[{\"marker\":{\"colorbar\":{\"outlinewidth\":0,\"ticks\":\"\"}},\"type\":\"scatterternary\"}],\"surface\":[{\"colorbar\":{\"outlinewidth\":0,\"ticks\":\"\"},\"colorscale\":[[0.0,\"#0d0887\"],[0.1111111111111111,\"#46039f\"],[0.2222222222222222,\"#7201a8\"],[0.3333333333333333,\"#9c179e\"],[0.4444444444444444,\"#bd3786\"],[0.5555555555555556,\"#d8576b\"],[0.6666666666666666,\"#ed7953\"],[0.7777777777777778,\"#fb9f3a\"],[0.8888888888888888,\"#fdca26\"],[1.0,\"#f0f921\"]],\"type\":\"surface\"}],\"table\":[{\"cells\":{\"fill\":{\"color\":\"#EBF0F8\"},\"line\":{\"color\":\"white\"}},\"header\":{\"fill\":{\"color\":\"#C8D4E3\"},\"line\":{\"color\":\"white\"}},\"type\":\"table\"}]},\"layout\":{\"annotationdefaults\":{\"arrowcolor\":\"#2a3f5f\",\"arrowhead\":0,\"arrowwidth\":1},\"autotypenumbers\":\"strict\",\"coloraxis\":{\"colorbar\":{\"outlinewidth\":0,\"ticks\":\"\"}},\"colorscale\":{\"diverging\":[[0,\"#8e0152\"],[0.1,\"#c51b7d\"],[0.2,\"#de77ae\"],[0.3,\"#f1b6da\"],[0.4,\"#fde0ef\"],[0.5,\"#f7f7f7\"],[0.6,\"#e6f5d0\"],[0.7,\"#b8e186\"],[0.8,\"#7fbc41\"],[0.9,\"#4d9221\"],[1,\"#276419\"]],\"sequential\":[[0.0,\"#0d0887\"],[0.1111111111111111,\"#46039f\"],[0.2222222222222222,\"#7201a8\"],[0.3333333333333333,\"#9c179e\"],[0.4444444444444444,\"#bd3786\"],[0.5555555555555556,\"#d8576b\"],[0.6666666666666666,\"#ed7953\"],[0.7777777777777778,\"#fb9f3a\"],[0.8888888888888888,\"#fdca26\"],[1.0,\"#f0f921\"]],\"sequentialminus\":[[0.0,\"#0d0887\"],[0.1111111111111111,\"#46039f\"],[0.2222222222222222,\"#7201a8\"],[0.3333333333333333,\"#9c179e\"],[0.4444444444444444,\"#bd3786\"],[0.5555555555555556,\"#d8576b\"],[0.6666666666666666,\"#ed7953\"],[0.7777777777777778,\"#fb9f3a\"],[0.8888888888888888,\"#fdca26\"],[1.0,\"#f0f921\"]]},\"colorway\":[\"#636efa\",\"#EF553B\",\"#00cc96\",\"#ab63fa\",\"#FFA15A\",\"#19d3f3\",\"#FF6692\",\"#B6E880\",\"#FF97FF\",\"#FECB52\"],\"font\":{\"color\":\"#2a3f5f\"},\"geo\":{\"bgcolor\":\"white\",\"lakecolor\":\"white\",\"landcolor\":\"white\",\"showlakes\":true,\"showland\":true,\"subunitcolor\":\"#C8D4E3\"},\"hoverlabel\":{\"align\":\"left\"},\"hovermode\":\"closest\",\"mapbox\":{\"style\":\"light\"},\"paper_bgcolor\":\"white\",\"plot_bgcolor\":\"white\",\"polar\":{\"angularaxis\":{\"gridcolor\":\"#EBF0F8\",\"linecolor\":\"#EBF0F8\",\"ticks\":\"\"},\"bgcolor\":\"white\",\"radialaxis\":{\"gridcolor\":\"#EBF0F8\",\"linecolor\":\"#EBF0F8\",\"ticks\":\"\"}},\"scene\":{\"xaxis\":{\"backgroundcolor\":\"white\",\"gridcolor\":\"#DFE8F3\",\"gridwidth\":2,\"linecolor\":\"#EBF0F8\",\"showbackground\":true,\"ticks\":\"\",\"zerolinecolor\":\"#EBF0F8\"},\"yaxis\":{\"backgroundcolor\":\"white\",\"gridcolor\":\"#DFE8F3\",\"gridwidth\":2,\"linecolor\":\"#EBF0F8\",\"showbackground\":true,\"ticks\":\"\",\"zerolinecolor\":\"#EBF0F8\"},\"zaxis\":{\"backgroundcolor\":\"white\",\"gridcolor\":\"#DFE8F3\",\"gridwidth\":2,\"linecolor\":\"#EBF0F8\",\"showbackground\":true,\"ticks\":\"\",\"zerolinecolor\":\"#EBF0F8\"}},\"shapedefaults\":{\"line\":{\"color\":\"#2a3f5f\"}},\"ternary\":{\"aaxis\":{\"gridcolor\":\"#DFE8F3\",\"linecolor\":\"#A2B1C6\",\"ticks\":\"\"},\"baxis\":{\"gridcolor\":\"#DFE8F3\",\"linecolor\":\"#A2B1C6\",\"ticks\":\"\"},\"bgcolor\":\"white\",\"caxis\":{\"gridcolor\":\"#DFE8F3\",\"linecolor\":\"#A2B1C6\",\"ticks\":\"\"}},\"title\":{\"x\":0.05},\"xaxis\":{\"automargin\":true,\"gridcolor\":\"#EBF0F8\",\"linecolor\":\"#EBF0F8\",\"ticks\":\"\",\"title\":{\"standoff\":15},\"zerolinecolor\":\"#EBF0F8\",\"zerolinewidth\":2},\"yaxis\":{\"automargin\":true,\"gridcolor\":\"#EBF0F8\",\"linecolor\":\"#EBF0F8\",\"ticks\":\"\",\"title\":{\"standoff\":15},\"zerolinecolor\":\"#EBF0F8\",\"zerolinewidth\":2}}},\"xaxis\":{\"anchor\":\"y\",\"domain\":[0.0,1.0],\"title\":{\"text\":\"Population\"}},\"yaxis\":{\"anchor\":\"x\",\"domain\":[0.0,1.0],\"title\":{\"text\":\"Count\"}},\"legend\":{\"title\":{\"text\":\"Population\"},\"tracegroupgap\":0},\"margin\":{\"t\":100,\"l\":80},\"barmode\":\"relative\",\"title\":{\"text\":\"<b>Top 10 highest Population<br> <sup> Barplot</sup></b>\"},\"showlegend\":true,\"height\":600,\"width\":1000},                        {\"responsive\": true}                    ).then(function(){\n",
       "                            \n",
       "var gd = document.getElementById('7f273094-f7dc-4d20-a7f1-79d5d62a6a0f');\n",
       "var x = new MutationObserver(function (mutations, observer) {{\n",
       "        var display = window.getComputedStyle(gd).display;\n",
       "        if (!display || display === 'none') {{\n",
       "            console.log([gd, 'removed!']);\n",
       "            Plotly.purge(gd);\n",
       "            observer.disconnect();\n",
       "        }}\n",
       "}});\n",
       "\n",
       "// Listen for the removal of the full notebook cells\n",
       "var notebookContainer = gd.closest('#notebook-container');\n",
       "if (notebookContainer) {{\n",
       "    x.observe(notebookContainer, {childList: true});\n",
       "}}\n",
       "\n",
       "// Listen for the clearing of the current output cell\n",
       "var outputEl = gd.closest('.output');\n",
       "if (outputEl) {{\n",
       "    x.observe(outputEl, {childList: true});\n",
       "}}\n",
       "\n",
       "                        })                };                });            </script>        </div>"
      ]
     },
     "metadata": {},
     "output_type": "display_data"
    }
   ],
   "source": [
    "top10_barplot(df_lang_grp, 'Population')"
   ]
  },
  {
   "cell_type": "markdown",
   "id": "12a7179c",
   "metadata": {},
   "source": [
    "### Analysis\n",
    "- #### English, French, and Spanish are spoken in the most countries around the world\n",
    "- #### Chinese and Hindi are spoken by the most people around the world"
   ]
  }
 ],
 "metadata": {
  "kernelspec": {
   "display_name": "Python 3 (ipykernel)",
   "language": "python",
   "name": "python3"
  },
  "language_info": {
   "codemirror_mode": {
    "name": "ipython",
    "version": 3
   },
   "file_extension": ".py",
   "mimetype": "text/x-python",
   "name": "python",
   "nbconvert_exporter": "python",
   "pygments_lexer": "ipython3",
   "version": "3.9.13"
  }
 },
 "nbformat": 4,
 "nbformat_minor": 5
}
